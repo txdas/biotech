{
 "cells": [
  {
   "cell_type": "code",
   "execution_count": 1,
   "id": "fe689e4c",
   "metadata": {},
   "outputs": [],
   "source": [
    "from ete3 import Tree, TreeStyle, NodeStyle, AttrFace, faces, TextFace,RectFace,ImgFace\n",
    "import jsonlines\n",
    "from ete3 import NCBITaxa\n",
    "import random\n",
    "import pandas as pd\n",
    "import re\n",
    "\n",
    "tlp = \"C:\\\\Users\\\\jinya\\\\Desktop\\\\bio\\\\data\\\\fast\\\\{}\"\n",
    "info, fnwk, fpng = \"fast_human.csv\", \"fast_human.nwk\", \"fast90.png\"\n",
    "m = {}\n",
    "df = pd.read_csv(tlp.format(info))\n",
    "for i,v in df.iterrows():\n",
    "    sname = re.sub(\" \",\"_\",v[\"name\"]+\"_\"+v[\"PName\"])\n",
    "    m[sname] = v[\"name\"]\n",
    "\n",
    "\n",
    "def color_mapping(genus):\n",
    "    # 将病毒属映射到不同的颜色\n",
    "    # 这里使用一个简单的随机颜色方案，你也可以使用其他更复杂的方案\n",
    "    return \"#{:06x}\".format(random.randint(0, 0xFFFFFF))\n",
    "\n",
    "def get_genus_number(node):\n",
    "    s = set()\n",
    "    for child in node.traverse():\n",
    "        if child.is_leaf():\n",
    "            genus = m.get(child.name)\n",
    "            s.add(genus)\n",
    "    return s"
   ]
  },
  {
   "cell_type": "code",
   "execution_count": 3,
   "id": "f9338ce9",
   "metadata": {},
   "outputs": [],
   "source": [
    "# 创建病毒属与颜色的映射关系\n",
    "genus_colors = {genus: color_mapping(genus) for genus in set(m.values()) if genus}\n",
    "# 读取Newick格式的进化树文件\n",
    "tree = Tree(tlp.format(fnwk))\n",
    "# 设置树形样式\n",
    "ts = TreeStyle()\n",
    "ts.mode = \"c\"  # 环状模式\n",
    "ts.show_leaf_name = True  # 显示叶子节点名称\n",
    "ts.scale = 20\n",
    "# ts.branch_vertical_margin = 10 \n",
    "# ts.show_branch_length = True  # 显示分支长度\n",
    "# ts.show_branch_support = True  # 显示分支支持率\n",
    "# 自定义节点样式\n",
    "for node in tree.traverse():\n",
    "    if node.is_leaf():\n",
    "        genus = m.get(node.name)\n",
    "        nstyle = NodeStyle()\n",
    "        nstyle[\"size\"] = 15\n",
    "        node.set_style(nstyle)\n",
    "#         print(genus,genus_colors.get(genus,\"white\"))\n",
    "        node.img_style[\"bgcolor\"] =genus_colors.get(genus,\"white\")\n",
    "\n",
    "    else:\n",
    "        # 设置内部节点样式\n",
    "        nstyle = NodeStyle()\n",
    "#         nstyle[\"fgcolor\"] = \"black\"\n",
    "#         nstyle[\"size\"] = 15\n",
    "        node.set_style(nstyle)\n",
    "\n",
    "\n",
    "# add_legend(ts)\n",
    "\n",
    "# 绘制并显示进化树\n",
    "tree.show(tree_style=ts)\n",
    "# tree.render(fpng, w=256, units=\"mm\", tree_style=ts)"
   ]
  },
  {
   "cell_type": "code",
   "execution_count": null,
   "id": "b382fcc8",
   "metadata": {},
   "outputs": [],
   "source": []
  }
 ],
 "metadata": {
  "kernelspec": {
   "display_name": "Python 3 (ipykernel)",
   "language": "python",
   "name": "python3"
  },
  "language_info": {
   "codemirror_mode": {
    "name": "ipython",
    "version": 3
   },
   "file_extension": ".py",
   "mimetype": "text/x-python",
   "name": "python",
   "nbconvert_exporter": "python",
   "pygments_lexer": "ipython3",
   "version": "3.11.9"
  }
 },
 "nbformat": 4,
 "nbformat_minor": 5
}
