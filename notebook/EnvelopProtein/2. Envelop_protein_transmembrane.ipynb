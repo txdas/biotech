{
 "cells": [
  {
   "cell_type": "markdown",
   "id": "7597a7c7",
   "metadata": {},
   "source": [
    "# 需要用到Tmbed预估跨膜区\n",
    "目前是用colab来实现的详见：[colab tmbed](https://colab.research.google.com/drive/1FbT2rQHYT67NNHCrGw4t0WMEHCY9lqR2)"
   ]
  },
  {
   "cell_type": "code",
   "execution_count": null,
   "id": "7091d931",
   "metadata": {},
   "outputs": [],
   "source": [
    "from Bio.SeqRecord import SeqRecord\n",
    "from Bio import SeqIO\n",
    "from Bio.SeqRecord import SeqRecord\n",
    "import tqdm\n",
    "import os\n",
    "\n",
    "tlp=\"/Volumes/PortableSSD/projects/EnvelopProtein/nn_env/{}\"\n",
    "\n",
    "\n",
    "def split_fa(fn, limit=9000):\n",
    "    fn = tlp.format(fn)\n",
    "    base = os.path.dirname(fn)\n",
    "    fname = os.path.basename(fn)\n",
    "    name = fname[:fname.find(\".\")]\n",
    "    print(name)\n",
    "    lst, num = [], 0\n",
    "    for i, seq_record in enumerate(SeqIO.parse(fn, \"fasta\")):\n",
    "        if len(seq_record.seq)<=2048:\n",
    "            lst.append(seq_record)\n",
    "        if (i+1)%limit==0:\n",
    "            num = int((i+1)/limit)\n",
    "            trg = os.path.join(base,name+f\"{num}.fa\")\n",
    "            SeqIO.write(lst, trg, \"fasta\")\n",
    "            lst.clear()\n",
    "    trg = os.path.join(base, name + f\"{(num+1)}.fa\")\n",
    "    SeqIO.write(lst, trg, \"fasta\")\n",
    "    lst.clear()\n",
    "\n",
    "\n",
    "if __name__ == '__main__':\n",
    "    split_fa(fn=\"envall.fa\")"
   ]
  },
  {
   "cell_type": "code",
   "execution_count": 1,
   "id": "3b59afc9",
   "metadata": {},
   "outputs": [
    {
     "name": "stderr",
     "output_type": "stream",
     "text": [
      "29568it [00:03, 8270.14it/s] \n"
     ]
    }
   ],
   "source": [
    "import tqdm\n",
    "import jsonlines\n",
    "from Bio import SeqIO\n",
    "\n",
    "tlp=\"/Volumes/PortableSSD/projects/EnvelopProtein/nn_env/{}\"\n",
    "\n",
    "\n",
    "def tag(current, nextp=None, pre=None):\n",
    "    if current in \"hH\":\n",
    "        return \"alpha\"\n",
    "    elif current in \"Bb\":\n",
    "        return \"beta\"\n",
    "    elif current in \"sS\":\n",
    "        return \"signal\"\n",
    "    else:\n",
    "        if nextp and nextp in \"HB\":\n",
    "            return \"inside\"\n",
    "        elif nextp and  nextp in \"hb\":\n",
    "            return \"outside\"\n",
    "        elif not nextp and pre in \"HB\":\n",
    "            return \"outside\"\n",
    "        elif not nextp and pre in \"hb\":\n",
    "            return \"inside\"\n",
    "        else:\n",
    "            return \"outside\"\n",
    "\n",
    "\n",
    "def to_regions(labels):\n",
    "    regions, begin, end = [], 0, 0\n",
    "    ppre, pre, v = \"\", \"\", \"\"\n",
    "    for i, v in enumerate(labels):\n",
    "        if not begin:\n",
    "            begin = i + 1\n",
    "        if pre != v and begin <= end:\n",
    "            r = {\"begin\": begin, \"end\": end, \"loc\": tag(pre, nextp=v)}\n",
    "            begin = i + 1\n",
    "            end = i + 1\n",
    "            ppre = pre\n",
    "            regions.append(r)\n",
    "        else:\n",
    "            end = i + 1\n",
    "        pre = v\n",
    "    if begin <= end:\n",
    "        r = {\"begin\": begin, \"end\": end, \"loc\": tag(pre, pre=ppre)}\n",
    "        regions.append(r)\n",
    "    return regions\n",
    "\n",
    "\n",
    "records = []\n",
    "for seq_record in tqdm.tqdm(SeqIO.parse(tlp.format(\"envall.txt\"), \"fasta\")):\n",
    "    seq_length = int(len(seq_record) / 2)\n",
    "    sequence = seq_record.seq[:seq_length]\n",
    "    labels = str(seq_record[-seq_length:].seq)\n",
    "    seq_record = seq_record[:seq_length]\n",
    "    regions = to_regions(labels)\n",
    "    if seq_record and seq_record.id:\n",
    "        record = {\"pid\": seq_record.description.strip(), \"primaryAccession\":seq_record.id, \"regions\":regions}\n",
    "        records.append(record)\n",
    "with jsonlines.open(tlp.format(\"envall.json\"),\"w\") as wp:\n",
    "    for v in records:\n",
    "        wp.write(v)"
   ]
  },
  {
   "cell_type": "code",
   "execution_count": null,
   "id": "ef45346b",
   "metadata": {},
   "outputs": [],
   "source": []
  }
 ],
 "metadata": {
  "kernelspec": {
   "display_name": "Python 3 (ipykernel)",
   "language": "python",
   "name": "python3"
  },
  "language_info": {
   "codemirror_mode": {
    "name": "ipython",
    "version": 3
   },
   "file_extension": ".py",
   "mimetype": "text/x-python",
   "name": "python",
   "nbconvert_exporter": "python",
   "pygments_lexer": "ipython3",
   "version": "3.11.5"
  }
 },
 "nbformat": 4,
 "nbformat_minor": 5
}
