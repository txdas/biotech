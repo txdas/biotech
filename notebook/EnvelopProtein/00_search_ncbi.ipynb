{
 "cells": [
  {
   "cell_type": "code",
   "execution_count": 19,
   "id": "fb0a973e",
   "metadata": {},
   "outputs": [
    {
     "name": "stdout",
     "output_type": "stream",
     "text": [
      "Loading node names...\n",
      "2533608 names loaded.\n",
      "310365 synonyms loaded.\n",
      "Loading nodes...\n",
      "2533608 nodes loaded.\n",
      "Linking nodes...\n",
      "Tree is loaded.\n",
      "Updating database: /Users/john/.etetoolkit/taxa.sqlite ...\n",
      " 2533000 generating entries... \n",
      "Uploading to /Users/john/.etetoolkit/taxa.sqlite\n"
     ]
    },
    {
     "name": "stderr",
     "output_type": "stream",
     "text": [
      "Inserting synonyms:      25000 "
     ]
    },
    {
     "name": "stdout",
     "output_type": "stream",
     "text": [
      "\n"
     ]
    },
    {
     "name": "stderr",
     "output_type": "stream",
     "text": [
      "Inserting synonyms:      310000 "
     ]
    },
    {
     "name": "stdout",
     "output_type": "stream",
     "text": [
      "\n"
     ]
    },
    {
     "name": "stderr",
     "output_type": "stream",
     "text": [
      "Inserting taxids:       25000  "
     ]
    },
    {
     "name": "stdout",
     "output_type": "stream",
     "text": [
      "\n"
     ]
    },
    {
     "name": "stderr",
     "output_type": "stream",
     "text": [
      "Inserting taxids:       2530000      "
     ]
    },
    {
     "name": "stdout",
     "output_type": "stream",
     "text": [
      "\n"
     ]
    }
   ],
   "source": [
    "from Bio import Entrez\n",
    "from Bio import SeqIO\n",
    "from Bio.SeqRecord import SeqRecord\n",
    "import json\n",
    "import csv\n",
    "import jsonlines\n",
    "import tqdm \n",
    "import requests\n",
    "\n",
    "# 设置你的邮箱地址（NCBI要求提供一个邮箱地址）\n",
    "Entrez.email = \"ynaxd@example.com\"\n",
    "API_KEY = '73664c0b675e8450f3cf90add93e69820808'\n",
    "from ete3 import NCBITaxa\n",
    "# ncbi_texa = NCBITaxa(taxdump_file=\"/Volumes/PortableSSD/data/bio/bio/taxdump_2015-12-01.tar.gz\")\n",
    "ncbi_texa = NCBITaxa(taxdump_file=\"/Volumes/PortableSSD/data/bio/bio/taxdump.tar.gz\")\n",
    "\n",
    "\n",
    "\n",
    "def get_lineage(taxid=57483):\n",
    "    try:\n",
    "        lineage = ncbi_texa.get_lineage(int(taxid))\n",
    "        lineage = sorted(lineage)\n",
    "        names = ncbi_texa.get_taxid_translator(lineage)\n",
    "        lineages = [names[k] for k in lineage]\n",
    "        organism = [v for v in lineages if v.endswith(\"virus\")]\n",
    "        viridae = [v for v in lineages if v.endswith(\"viridae\")]\n",
    "        organism = organism [0] if organism else None\n",
    "        viridae = viridae[0] if viridae else None\n",
    "        return organism, viridae\n",
    "    except:\n",
    "        return None, None\n",
    "\n",
    "def get_protein_info(virus_name, protein_name):\n",
    "    # 在 NCBI 中搜索特定病毒的蛋白信息\n",
    "    search_query = f\"{virus_name} and {protein_name} [Protein]\"\n",
    "    handle = Entrez.esearch(db=\"protein\", term=search_query, retmax=1)\n",
    "    record = Entrez.read(handle)\n",
    "    handle.close()\n",
    "    \n",
    "    if record[\"Count\"] == \"0\":\n",
    "        return \"\", \"\"\n",
    "    # 获取 GI 号\n",
    "    gi_number = record[\"IdList\"][0]\n",
    "    # 根据 GI 号获取序列信息\n",
    "    with Entrez.efetch(db=\"protein\", id=gi_number, rettype=\"fasta\", retmode=\"text\") as handle:\n",
    "        sequence_record = SeqIO.read(handle, \"fasta\")\n",
    "    return gi_number, sequence_record\n",
    "\n",
    "def get_taxid(term):\n",
    "    url = f\"https://eutils.ncbi.nlm.nih.gov/entrez/eutils/esearch.fcgi?db=taxonomy&retmax=3&retmode=json&api_key={API_KEY}&term={term}\"\n",
    "    content = requests.get(url)\n",
    "    body = json.loads(content.text)\n",
    "    if \"esearchresult\" in body and \"idlist\" in body[\"esearchresult\"]:\n",
    "        return body[\"esearchresult\"][\"idlist\"][0] if body[\"esearchresult\"][\"idlist\"] else \"\"\n"
   ]
  },
  {
   "cell_type": "code",
   "execution_count": 4,
   "id": "9c438fd6",
   "metadata": {},
   "outputs": [
    {
     "name": "stderr",
     "output_type": "stream",
     "text": [
      "93it [04:35,  2.96s/it]\n"
     ]
    },
    {
     "data": {
      "text/plain": [
       "1"
      ]
     },
     "execution_count": 4,
     "metadata": {},
     "output_type": "execute_result"
    }
   ],
   "source": [
    "records = []\n",
    "tlp = \"/Volumes/PortableSSD/projects/EnvelopProtein/nc_zf/{}\"\n",
    "with open(tlp.format(\"env.csv\")) as fp:\n",
    "    with open(tlp.format(\"env_gi.csv\"), \"w\") as wp:\n",
    "        reader = csv.DictReader(fp)\n",
    "        writer = csv.DictWriter(wp, fieldnames=(\"ID\", \"Name\", \"Family\", \"Pid\",\"gi\", \"taxid\", \"family\", \"species\"))\n",
    "        writer.writeheader()\n",
    "        for v in tqdm.tqdm(reader):\n",
    "            gi, record = get_protein_info(v[\"Name\"], v[\"ID\"])\n",
    "            v[\"taxid\"]= get_taxid(v[\"Name\"])\n",
    "            v[\"gi\"] = gi\n",
    "            species, family = get_lineage(int(v[\"taxid\"])) if v[\"taxid\"] else (\"\", \"\")\n",
    "            v[\"family\"] = family\n",
    "            v[\"species\"] = species\n",
    "            if record:\n",
    "                records.append(record)\n",
    "            writer.writerow(v)\n",
    "SeqIO.write(records, tlp.format(\"env_gi.fasta\"), \"fasta\")\n",
    "            "
   ]
  },
  {
   "cell_type": "code",
   "execution_count": 47,
   "id": "1c8756c9",
   "metadata": {},
   "outputs": [
    {
     "data": {
      "text/plain": [
       "('Rubivirus', 'Togaviridae')"
      ]
     },
     "execution_count": 47,
     "metadata": {},
     "output_type": "execute_result"
    }
   ],
   "source": [
    "get_lineage(11041)"
   ]
  },
  {
   "cell_type": "code",
   "execution_count": 55,
   "id": "8196e6ca",
   "metadata": {},
   "outputs": [
    {
     "data": {
      "text/plain": [
       "['>sp|P17501.2|FUS_NPVAC RecName: Full=Major envelope glycoprotein; AltName: Full=gp64; Flags: Precursor\\nMVSAIVLYVLLAAAAHSAFAAEHCNAQMKTGPYKIKNLDITPPKETLQKDVEITIVETDYNENVIIGYKG\\nYYQAYAYNGGSLDPNTRVEETMKTLNVGKEDLLMWSIRQQCEVGEELIDRWGSDSDDCFRDNEGRGQWVK\\nGKELVKRQNNNHFAHHTCNKSWRCGISTSKMYSRLECQDDTDECQVYILDAEGNPINVTVDTVLHRDGVS\\nMILKQKSTFTTRQIKAACLLIKDDKNNPESVTREHCLIDNDIYDLSKNTWNCKFNRCIKRKVEHRVKKRP\\nPTWRHNVRAKYTEGDTATKGDLMHIQEELMYENDLLKMNIELMHAHINKLNNMLHDLIVSVAKVDERLIG\\nNLMNNSVSSTFLSDDTFLLMPCTNPPAHTSNCYNNSIYKEGRWVANTDSSQCIDFSNYKELAIDDDVEFW\\nIPTIGNTTYHDSWKDASGWSFIAQQKSNLITTMENTKFGGVGTSLSDITSMAEGELAAKLTSFMFGHVVN\\nFVIILIVILFLYCMIRNRNRQY\\n\\n']"
      ]
     },
     "execution_count": 55,
     "metadata": {},
     "output_type": "execute_result"
    }
   ],
   "source": [
    "records"
   ]
  },
  {
   "cell_type": "code",
   "execution_count": 14,
   "id": "4c07d90e",
   "metadata": {},
   "outputs": [
    {
     "data": {
      "text/plain": [
       "('', '')"
      ]
     },
     "execution_count": 14,
     "metadata": {},
     "output_type": "execute_result"
    }
   ],
   "source": [
    "def get_protein_info(virus_name, protein_name):\n",
    "    # 在 NCBI 中搜索特定病毒的蛋白信息\n",
    "    search_query = f\"{virus_name} AND {protein_name} [Protein]\"\n",
    "    handle = Entrez.esearch(db=\"protein\", term=search_query, retmax=1)\n",
    "    record = Entrez.read(handle)\n",
    "    handle.close()\n",
    "    \n",
    "    if record[\"Count\"] == \"0\":\n",
    "        return \"\", \"\"\n",
    "    # 获取 GI 号\n",
    "    gi_number = record[\"IdList\"][0]\n",
    "    # 根据 GI 号获取序列信息\n",
    "    with Entrez.efetch(db=\"protein\", id=gi_number, rettype=\"fasta\", retmode=\"text\") as handle:\n",
    "        sequence_record = SeqIO.read(handle, \"fasta\")\n",
    "    return gi_number, sequence_record\n",
    "\n",
    "get_protein_info(\"SARS-CoV_S\", \"Human SARS coronavirus\")"
   ]
  },
  {
   "cell_type": "code",
   "execution_count": null,
   "id": "7b9c2cca",
   "metadata": {},
   "outputs": [],
   "source": []
  }
 ],
 "metadata": {
  "kernelspec": {
   "display_name": "Python 3 (ipykernel)",
   "language": "python",
   "name": "python3"
  },
  "language_info": {
   "codemirror_mode": {
    "name": "ipython",
    "version": 3
   },
   "file_extension": ".py",
   "mimetype": "text/x-python",
   "name": "python",
   "nbconvert_exporter": "python",
   "pygments_lexer": "ipython3",
   "version": "3.11.9"
  }
 },
 "nbformat": 4,
 "nbformat_minor": 5
}
