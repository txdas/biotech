{
 "cells": [
  {
   "cell_type": "markdown",
   "id": "5113ee71",
   "metadata": {},
   "source": [
    "# 获取初始的文章IDs\n",
    "```key\n",
    "wget https://ftp.ncbi.nlm.nih.gov/entrez/entrezdirect/edirect-install.sh\n",
    "sh edirect-install.sh\n",
    "export PATH=${PATH}:${HOME}/edirect\n",
    "esearch -db pubmed -query \"Envelope Proteins\" OR \" Envelope genetics\" | efetch -format  uid\n",
    "esearch -db pubmed -query '\"Viral Fusion Proteins\"[nm]' | efetch -format  uid > pubmed_id.txt\n",
    "```"
   ]
  },
  {
   "cell_type": "code",
   "execution_count": 28,
   "id": "1e2821f7",
   "metadata": {},
   "outputs": [],
   "source": [
    "from Bio import Entrez\n",
    "import itertools\n",
    "import xml.etree.cElementTree as ET\n",
    "import tqdm\n",
    "import jsonlines\n",
    "import traceback\n",
    "Entrez.email = \"johntr@gmail.com\"\n",
    "\n",
    "\n",
    "def parserArticleidlist(articleidlist):\n",
    "\n",
    "    d = {}\n",
    "    if not articleidlist:\n",
    "        return d\n",
    "    for x in articleidlist.findall(path=\"ArticleId\"):\n",
    "        d[x.get(\"IdType\")] = x.text\n",
    "    return d\n",
    "\n",
    "def fetch(pubids):\n",
    "    handler = Entrez.efetch(db=\"pubmed\", id=\",\".join(pubids))\n",
    "    record = ET.parse(handler)\n",
    "#     xml_str = ET.tostring(record.getroot(), encoding=\"unicode\", method=\"xml\")\n",
    "#     print(xml_str)\n",
    "    ret = []\n",
    "    for v in record.findall(\"PubmedArticle\"):\n",
    "        pubid = v.find(\"MedlineCitation/PMID\").text\n",
    "        article = v.find(\"MedlineCitation/Article\")\n",
    "        title = article.find(\"ArticleTitle\").text\n",
    "        node = article.find(\"Abstract/AbstractText\")\n",
    "        abstract = node.text if node is not None else \"\"\n",
    "        node = v.find(\"PubmedData/ArticleIdList\")\n",
    "        doi = parserArticleidlist(node).get(\"doi\")\n",
    "        refers = v.find(\"PubmedData/ReferenceList\")\n",
    "        cites = []\n",
    "        if refers:\n",
    "            for r in refers.findall(\"Reference\"):\n",
    "                node = r.find(\"ArticleIdList\")\n",
    "                articleIdList = parserArticleidlist(node)\n",
    "                citation = \"\"\n",
    "                node = r.find(\"Citation\")\n",
    "                if node is not None: # may be False in leaf\n",
    "                    citation = node.text\n",
    "                cite = {\"articleIdList\":articleIdList, \"citation\":citation}\n",
    "                cites.append(cite)\n",
    "        content = {\"pubid\":pubid, \"title\":title, \"abstract\":abstract, \"doi\":doi, \"cites\":cites}\n",
    "        ret.append(content)\n",
    "    return ret\n",
    "\n",
    "\n",
    "def fetchInfo(lst, trg):\n",
    "    lst = list(set([v.strip() for v in lst if v.strip()]))\n",
    "    bar = tqdm.tqdm(total=len(lst))\n",
    "    with jsonlines.open(trg, \"w\") as wp:\n",
    "        for i in range(0, len(lst), 100):\n",
    "            if i<28200:\n",
    "                bar.update(100)\n",
    "                continue\n",
    "            try:\n",
    "                ret = fetch(lst[i:i+100])\n",
    "                for content in ret:\n",
    "                    wp.write(content)\n",
    "            except:\n",
    "                traceback.print_exc()\n",
    "                pass\n",
    "            bar.update(100)\n",
    "\n",
    "# fetch([\"37375092\"])"
   ]
  },
  {
   "cell_type": "code",
   "execution_count": 29,
   "id": "e7413933",
   "metadata": {},
   "outputs": [
    {
     "name": "stderr",
     "output_type": "stream",
     "text": [
      " 75%|████████████████████████████████████████████████████████████████████████████████████▍                           | 28200/37405 [38:10<12:27, 12.31it/s]\n",
      "37500it [11:27, 54.58it/s]                                                                                                                                 \n"
     ]
    }
   ],
   "source": [
    "def paperInfo(src, trg):\n",
    "    lst = open(src).readlines()\n",
    "    fetchInfo(lst, trg)\n",
    "\n",
    "\n",
    "def getPaperReferIds(src, trg):\n",
    "    origin, refers = set(), set()\n",
    "    with jsonlines.open(src) as fp:\n",
    "        for v in fp:\n",
    "            origin.add(v[\"pubid\"])\n",
    "            for e in v[\"cites\"]:\n",
    "                if e[\"articleIdList\"] and \"pubmed\" in e[\"articleIdList\"]:\n",
    "                    refers.add(e[\"articleIdList\"][\"pubmed\"])\n",
    "    refers = refers-origin\n",
    "    fetchInfo(refers, trg)\n",
    "    \n",
    "tlp = \"/Volumes/PortableSSD/projects/EnvelopProtein/llm_fusion/{}\"\n",
    "src = tlp.format(\"pubmed_id.txt\")\n",
    "papers_info = tlp.format(\"papers.json\")\n",
    "papers_refer = tlp.format(\"papers_refer1.json\")\n",
    "# paperInfo(src, papers_info)\n",
    "getPaperReferIds(papers_info, papers_refer)"
   ]
  },
  {
   "cell_type": "code",
   "execution_count": null,
   "id": "8ba5bfb8",
   "metadata": {},
   "outputs": [],
   "source": []
  },
  {
   "cell_type": "code",
   "execution_count": null,
   "id": "5fc7b619",
   "metadata": {},
   "outputs": [],
   "source": []
  }
 ],
 "metadata": {
  "kernelspec": {
   "display_name": "Python 3 (ipykernel)",
   "language": "python",
   "name": "python3"
  },
  "language_info": {
   "codemirror_mode": {
    "name": "ipython",
    "version": 3
   },
   "file_extension": ".py",
   "mimetype": "text/x-python",
   "name": "python",
   "nbconvert_exporter": "python",
   "pygments_lexer": "ipython3",
   "version": "3.11.5"
  }
 },
 "nbformat": 4,
 "nbformat_minor": 5
}
