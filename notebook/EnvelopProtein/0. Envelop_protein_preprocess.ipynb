{
 "cells": [
  {
   "cell_type": "markdown",
   "id": "671a8ac6",
   "metadata": {},
   "source": [
    "# 1. 获取序列信息"
   ]
  },
  {
   "cell_type": "code",
   "execution_count": 8,
   "id": "873e345c",
   "metadata": {},
   "outputs": [],
   "source": [
    "import csv\n",
    "import tqdm\n",
    "import pandas as pd\n",
    "from Bio import Entrez\n",
    "from Bio import SeqIO\n",
    "from Bio.SeqRecord import SeqRecord\n",
    "tlp=\"/Volumes/PortableSSD/projects/EnvelopProtein/dm_final/{}\"\n",
    "src,trg = tlp.format(\"env.tsv\"), tlp.format(\"env.fasta\")\n",
    "\n",
    "\n",
    "def fetch_seq(pids):\n",
    "    Entrez.email = \"john@gmail.com\"\n",
    "    lst = []\n",
    "    with Entrez.efetch(db=\"protein\", rettype=\"gb\", retmode=\"text\", id=\",\".join(pids)) as handle:\n",
    "        for i, seq_record in enumerate(SeqIO.parse(handle, \"gb\")):\n",
    "            lst.append(SeqRecord(seq_record.seq, id=seq_record.id, description=pids[i]))\n",
    "    return lst\n",
    "\n",
    "\n",
    "df = pd.read_csv(src,sep=\"\\t\") # \\t,,\n",
    "df.dropna(inplace=True)\n",
    "df[\"Gi\"] = df[\"Gi\"].astype(int).astype(str)\n",
    "df[\"TaxId\"] = df[\"TaxId\"].astype(int).astype(str)\n",
    "df.to_csv(tlp.format(\"env.csv\"),index=False)\n",
    "# batch_size = 100\n",
    "# records,lst = [], df[\"Gi\"].drop_duplicates().tolist()\n",
    "# for i in tqdm.tqdm(range(0, len(lst), batch_size)):\n",
    "#     if i<230*100:\n",
    "#         continue\n",
    "#     ret = fetch_seq(lst[i:i+batch_size])\n",
    "#     records.extend(ret)\n",
    "#     SeqIO.write(records, trg, \"fasta\")\n"
   ]
  },
  {
   "cell_type": "markdown",
   "id": "32a64930",
   "metadata": {},
   "source": [
    "# 2. 利用HmmScan进行序列标注"
   ]
  },
  {
   "cell_type": "code",
   "execution_count": null,
   "id": "057f06bb",
   "metadata": {},
   "outputs": [
    {
     "name": "stdout",
     "output_type": "stream",
     "text": [
      "hmmscan --tblout /Volumes/PortableSSD/projects/EnvelopProtein/dm_final/env_pfam.txt -o envelop.log /Volumes/PortableSSD/data/uniclust/align/db/pfam_a.hmm /Volumes/PortableSSD/projects/EnvelopProtein/dm_final/env.fasta\n"
     ]
    }
   ],
   "source": [
    "import os\n",
    "tlp=\"/Volumes/PortableSSD/projects/EnvelopProtein/dm_final/{}\"\n",
    "src, trg = tlp.format(\"env.fasta\"),tlp.format(\"env_pfam.txt\")\n",
    "hmm=\"/Volumes/PortableSSD/data/uniclust/align/db/pfam_a.hmm\"\n",
    "cmd=f\"hmmscan --tblout {trg} -o envelop.log {hmm} {src}\"\n",
    "print(cmd)\n",
    "res=os.popen(cmd)\n",
    "print(res.read())"
   ]
  },
  {
   "cell_type": "markdown",
   "id": "4d1080a0",
   "metadata": {},
   "source": [
    "# 3. 处理HmmScan后的结果"
   ]
  },
  {
   "cell_type": "code",
   "execution_count": 12,
   "id": "3144ae9a",
   "metadata": {},
   "outputs": [],
   "source": [
    "import re\n",
    "import jsonlines\n",
    "reg_header = re.compile(\"E-value\")\n",
    "fmt_line = re.compile(r\"^#-| +\")\n",
    "tlp=\"/Volumes/PortableSSD/projects/EnvelopProtein/ann_li/{}\"\n",
    "def reader_header(v):\n",
    "    multi_column_names = (\"target name\", \"query name\", \"description of target\")\n",
    "    if reg_header.search(v):\n",
    "        header = v.strip(\"#\").strip()\n",
    "        for m in multi_column_names:\n",
    "            rlp = m.replace(\" \", \"_\")\n",
    "            header = header.replace(m, rlp)\n",
    "            header = re.sub(\" +\", \" \", header)\n",
    "            columns = header.split(\" \")\n",
    "            return v, columns\n",
    "    return None, None\n",
    "\n",
    "def read_format(line):\n",
    "    lst = []\n",
    "    if fmt_line.match(line):\n",
    "        for i, v in enumerate(line):\n",
    "            if v == \" \":\n",
    "                lst.append(i)\n",
    "    return lst\n",
    "\n",
    "def read_line(line, fmt):\n",
    "    idx, values = 0, []\n",
    "    for i in range(len(fmt)):\n",
    "        values.append(line[idx:fmt[i]+1])\n",
    "        idx = fmt[i]\n",
    "    values.append(line[idx:].strip())\n",
    "    values = [v.strip() for v in values]\n",
    "    return values\n",
    "\n",
    "\n",
    "src, trg = tlp.format(\"env_pfam.txt\"),tlp.format(\"env_pfam.json\")\n",
    "columns, columns_l, fmt = None, None, None\n",
    "with open(src) as fp:\n",
    "    with jsonlines.open(trg, \"w\") as wp:\n",
    "        for v in fp:\n",
    "            if not columns:\n",
    "                columns_l, columns = reader_header(v)\n",
    "            elif not fmt:\n",
    "                fmt = read_format(v)\n",
    "                columns = read_line(columns_l, fmt)\n",
    "                columns[0] = columns[0].strip(\"#\").strip()\n",
    "            else:\n",
    "                if v.startswith(\"#\"):\n",
    "                    continue\n",
    "                cells = read_line(v, fmt)\n",
    "                row = dict(zip(columns, cells))\n",
    "                wp.write(row)"
   ]
  },
  {
   "cell_type": "markdown",
   "id": "db5a2740",
   "metadata": {},
   "source": [
    "# 4. 处理原始基本数据"
   ]
  },
  {
   "cell_type": "code",
   "execution_count": 2,
   "id": "4a244211",
   "metadata": {},
   "outputs": [],
   "source": [
    "import pandas as pd\n",
    "from ete3 import NCBITaxa\n",
    "from Bio import SeqIO\n",
    "import warnings\n",
    "warnings.filterwarnings(\"ignore\")\n",
    "ncbi_texa = NCBITaxa()\n",
    "\n",
    "\n",
    "\n",
    "def get_lineage(taxid=57483):\n",
    "    try:\n",
    "        lineage = ncbi_texa.get_lineage(int(taxid))\n",
    "        lineage = sorted(lineage)\n",
    "        names = ncbi_texa.get_taxid_translator(lineage)\n",
    "        lineages = [names[k] for k in lineage]\n",
    "        organism = [v for v in lineages if v.endswith(\"virus\")]\n",
    "        viridae = [v for v in lineages if v.endswith(\"viridae\")]\n",
    "        organism = organism [0] if organism else None\n",
    "        viridae = viridae[0] if viridae else None\n",
    "        return organism, viridae\n",
    "    except:\n",
    "        return None, None\n",
    "    \n",
    "tlp=\"/Volumes/PortableSSD/projects/EnvelopProtein/ann_li/{}\"\n",
    "# df = pd.read_csv(tlp.format(\"env.csv\"),sep=\",\") # \\t,,\n",
    "tlp=\"/Volumes/PortableSSD/projects/EnvelopProtein/nc_zf/{}\"\n",
    "df = pd.read_json(tlp.format(\"env_taxid.json\"),lines=True)\n",
    "# df.rename(columns={\"Gi\":\"rid\"},inplace=True)\n",
    "# df[\"family\"] = df[\"TaxId\"].apply(lambda x:get_lineage(x)[1])\n",
    "# df[\"species\"] = df[\"TaxId\"].apply(lambda x:get_lineage(x)[0])\n",
    "\n",
    "df[\"family\"] = df[\"taxid\"].apply(lambda x:get_lineage(x)[1])\n",
    "df[\"species\"] = df[\"taxid\"].apply(lambda x:get_lineage(x)[0])\n",
    "# df[\"flag\"] = df[\"Title\"].apply(lambda x:\"polyprotein\" not in x)\n",
    "# df = df[df[\"flag\"]]\n",
    "# records = list(SeqIO.parse(tlp.format(\"env.fasta\"), \"fasta\"))\n",
    "# pmap={v.description.split()[-1].strip():v.id for v in records}\n",
    "# df[\"rid\"] = df[\"rid\"].astype(str)\n",
    "# df[\"id\"]=df[\"rid\"].map(pmap)\n",
    "df.to_csv(tlp.format(\"env_info.csv\"),index=False)"
   ]
  },
  {
   "cell_type": "code",
   "execution_count": null,
   "id": "9a4f6016",
   "metadata": {},
   "outputs": [],
   "source": []
  }
 ],
 "metadata": {
  "kernelspec": {
   "display_name": "Python 3 (ipykernel)",
   "language": "python",
   "name": "python3"
  },
  "language_info": {
   "codemirror_mode": {
    "name": "ipython",
    "version": 3
   },
   "file_extension": ".py",
   "mimetype": "text/x-python",
   "name": "python",
   "nbconvert_exporter": "python",
   "pygments_lexer": "ipython3",
   "version": "3.11.5"
  }
 },
 "nbformat": 4,
 "nbformat_minor": 5
}
