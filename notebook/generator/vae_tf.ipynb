{
 "cells": [
  {
   "cell_type": "code",
   "execution_count": 3,
   "id": "7cb6cfc3",
   "metadata": {},
   "outputs": [
    {
     "name": "stdout",
     "output_type": "stream",
     "text": [
      "==========================================================================================\n",
      "Layer (type:depth-idx)                   Output Shape              Param #\n",
      "==========================================================================================\n",
      "VAE                                      [16, 784]                 --\n",
      "├─Linear: 1-1                            [16, 256]                 200,960\n",
      "├─Linear: 1-2                            [16, 64]                  16,448\n",
      "├─Linear: 1-3                            [16, 64]                  16,448\n",
      "├─Linear: 1-4                            [16, 256]                 16,640\n",
      "├─Linear: 1-5                            [16, 784]                 201,488\n",
      "==========================================================================================\n",
      "Total params: 451,984\n",
      "Trainable params: 451,984\n",
      "Non-trainable params: 0\n",
      "Total mult-adds (Units.MEGABYTES): 7.23\n",
      "==========================================================================================\n",
      "Input size (MB): 0.05\n",
      "Forward/backward pass size (MB): 0.18\n",
      "Params size (MB): 1.81\n",
      "Estimated Total Size (MB): 2.04\n",
      "==========================================================================================\n"
     ]
    }
   ],
   "source": [
    "import torch \n",
    "from torch import nn, optim,utils\n",
    "from torchinfo import summary\n",
    "import numpy as np\n",
    "\n",
    "class NPDataset(utils.data.Dataset):\n",
    "\n",
    "    def __init__(self, X):\n",
    "        self.X = torch.tensor(X,dtype=torch.float)\n",
    "\n",
    "    def __getitem__(self, item):\n",
    "        return self.X[item]\n",
    "\n",
    "    def __len__(self):\n",
    "        return len(self.X)\n",
    "\n",
    "def loss_function(x_hat, x, mu, log_var):\n",
    "    BCE = nn.functional.binary_cross_entropy(x_hat, x, reduction='sum')\n",
    "\n",
    "    # 2. KL-divergence\n",
    "    # D_KL(Q(z|X) || P(z)); calculate in closed form as both dist. are Gaussian\n",
    "    # here we assume that \\Sigma is a diagonal matrix, so as to simplify the computation\n",
    "    KLD = 0.5 * torch.sum(torch.exp(log_var) + torch.pow(mu, 2) - 1. - log_var)\n",
    "\n",
    "    # 3. total loss\n",
    "    loss = BCE + KLD\n",
    "    return loss, BCE, KLD\n",
    "\n",
    "class VAE(nn.Module):\n",
    "    \n",
    "    def __init__(self,input_dim, hidden_dim,z_dim):\n",
    "        super(VAE,self).__init__()\n",
    "        self.input_dim = input_dim\n",
    "        self.fc1 = nn.Linear(input_dim,hidden_dim)\n",
    "        self.fc2 = nn.Linear(hidden_dim, z_dim)\n",
    "        self.fc3 = nn.Linear(hidden_dim,z_dim)\n",
    "        \n",
    "        self.fc4 = nn.Linear(z_dim, hidden_dim)\n",
    "        self.fc5 = nn.Linear(hidden_dim,input_dim)\n",
    "    \n",
    "    def forward(self,x):\n",
    "        batch_size = x.shape[0]\n",
    "        x = x.view(batch_size,self.input_dim)\n",
    "        mu,log_var = self.encode(x)\n",
    "        z = self.reparameterization(mu,log_var)\n",
    "        x_hat = self.decode(z)\n",
    "        return x_hat, mu, log_var\n",
    "    \n",
    "    \n",
    "    def encode(self,x):\n",
    "        h = nn.functional.relu(self.fc1(x))\n",
    "        mu = self.fc2(h)\n",
    "        log_var = self.fc3(h)\n",
    "        return mu, log_var\n",
    "    \n",
    "    def reparameterization(self, mu, log_var):\n",
    "        sigma = torch.exp(log_var * 0.5)\n",
    "        eps = torch.randn_like(sigma)\n",
    "        return mu + sigma * eps  \n",
    "    \n",
    "    def decode(self,z):\n",
    "        h = nn.functional.relu(self.fc4(z))\n",
    "        return torch.sigmoid(self.fc5(h))\n",
    "\n",
    "class CVAE(nn.Module):\n",
    "    def __init__(self, input_dim=28*28, middle_dim=400, latent_dim=20, class_num=10):\n",
    "        super(CVAE, self).__init__()\n",
    "        self.fc1 = nn.Linear(input_dim + class_num, middle_dim)\n",
    "        self.fc_mu = nn.Linear(middle_dim, latent_dim)\n",
    "        self.fc_logvar = nn.Linear(middle_dim, latent_dim)\n",
    "        self.fc2 = nn.Linear(latent_dim + class_num, middle_dim)\n",
    "        self.fc3 = nn.Linear(middle_dim, input_dim)\n",
    "        self.recons_loss = nn.BCELoss(reduction='sum')\n",
    " \n",
    "    def encode(self, x, labels):\n",
    "        x = torch.cat((x, labels), dim=1)\n",
    "        x = torch.relu(self.fc1(x))\n",
    "        mu = self.fc_mu(x)\n",
    "        logvar = self.fc_logvar(x)\n",
    "        return mu, logvar\n",
    " \n",
    "    def reparametrization(self, mu, logvar):\n",
    "        # sigma = 0.5*exp(log(sigma^2))= 0.5*exp(log(var))\n",
    "        std = torch.exp(logvar / 2)\n",
    "        eps = torch.randn_like(std)\n",
    "        # N(mu, std^2) = N(0, 1) * std + mu\n",
    "        z = eps * std + mu\n",
    "        return z\n",
    " \n",
    "    def decode(self, z, labels):\n",
    "        z = torch.cat((z, labels), dim=1)\n",
    "        x = torch.relu(self.fc2(z))\n",
    "        x = nn.functional.sigmoid(self.fc3(x))\n",
    "        return x\n",
    " \n",
    "    def forward(self, x, labels):\n",
    "        mu, logvar = self.encode(x, labels)\n",
    "        z = self.reparametrization(mu, logvar)\n",
    "        x_hat = self.decode(z, labels)\n",
    "        return x_hat,mu,logvar\n",
    "        \n",
    "        \n",
    "model = VAE(28*28,256,64)\n",
    "print(summary(model, input_size=(16, 28*28)))\n",
    "# model(torch.rand((16,128)))       \n"
   ]
  },
  {
   "cell_type": "code",
   "execution_count": 29,
   "id": "60e46267",
   "metadata": {},
   "outputs": [
    {
     "name": "stderr",
     "output_type": "stream",
     "text": [
      "3750it [00:37, 99.95it/s] \n"
     ]
    },
    {
     "name": "stdout",
     "output_type": "stream",
     "text": [
      "[Epoch 0/5] [loss: 2529.106137923177]\n"
     ]
    },
    {
     "name": "stderr",
     "output_type": "stream",
     "text": [
      "3750it [00:38, 97.43it/s] \n"
     ]
    },
    {
     "name": "stdout",
     "output_type": "stream",
     "text": [
      "[Epoch 1/5] [loss: 2340.8061916992187]\n"
     ]
    },
    {
     "name": "stderr",
     "output_type": "stream",
     "text": [
      "3750it [00:45, 82.25it/s]\n"
     ]
    },
    {
     "name": "stdout",
     "output_type": "stream",
     "text": [
      "[Epoch 2/5] [loss: 2312.836791731771]\n"
     ]
    },
    {
     "name": "stderr",
     "output_type": "stream",
     "text": [
      "3750it [00:46, 81.38it/s] \n"
     ]
    },
    {
     "name": "stdout",
     "output_type": "stream",
     "text": [
      "[Epoch 3/5] [loss: 2308.734150488281]\n"
     ]
    },
    {
     "name": "stderr",
     "output_type": "stream",
     "text": [
      "3750it [00:43, 87.00it/s] "
     ]
    },
    {
     "name": "stdout",
     "output_type": "stream",
     "text": [
      "[Epoch 4/5] [loss: 2304.562936783854]\n"
     ]
    },
    {
     "name": "stderr",
     "output_type": "stream",
     "text": [
      "\n"
     ]
    }
   ],
   "source": [
    "import tqdm\n",
    "import numpy as np\n",
    "from torch.utils.data import DataLoader\n",
    "from torchvision import transforms\n",
    "from torchvision import datasets\n",
    "tlp = \"/Users/john/data/test\"\n",
    "batch_size,dim=16,28*28\n",
    "transform = transforms.Compose([transforms.ToTensor()])\n",
    "train_dataset = datasets.MNIST(root=f'{tlp}/mnist', train=True, download=True, transform=transform)  \n",
    "# values = transforms.ToTensor()(train_dataset.train_data.numpy())\n",
    "# mean,std=values.mean(),values.std()\n",
    "train_loader = DataLoader(train_dataset, batch_size=batch_size, shuffle=True)\n",
    "epochs=5\n",
    "model = VAE(28*28,256,64)\n",
    "optimizer = optim.Adam(model.parameters(), lr=0.001, betas=(0.9, 0.999), eps=1e-06)\n",
    "for epoch in range(epochs):\n",
    "    model.train()\n",
    "    train_epoch_loss=[]\n",
    "    for idx, (x,label) in tqdm.tqdm(enumerate(train_loader)):\n",
    "        x = x.view((x.shape[0],-1))\n",
    "        x_hat, mu, log_var = model(x)  # 模型的输出，在这里会自动调用model中的forward函数\n",
    "        loss, BCE, KLD = loss_function(x_hat, x, mu, log_var)\n",
    "        train_epoch_loss.append(loss.item())\n",
    "        optimizer.zero_grad()  # 梯度清零，否则上一步的梯度仍会存在\n",
    "        loss.backward()  # 后向传播计算梯度，这些梯度会保存在model.parameters里面\n",
    "        optimizer.step()\n",
    "    train_loss = np.average(train_epoch_loss)\n",
    "    print(f\"[Epoch {epoch}/{epochs}] [loss: {train_loss}]\")"
   ]
  },
  {
   "cell_type": "code",
   "execution_count": 38,
   "id": "6c46eb1c",
   "metadata": {},
   "outputs": [
    {
     "name": "stderr",
     "output_type": "stream",
     "text": [
      "3750it [00:49, 75.63it/s] \n"
     ]
    },
    {
     "name": "stdout",
     "output_type": "stream",
     "text": [
      "[Epoch 0/5] [loss: 2209.0535588541666]\n"
     ]
    },
    {
     "name": "stderr",
     "output_type": "stream",
     "text": [
      "3750it [00:48, 77.08it/s] \n"
     ]
    },
    {
     "name": "stdout",
     "output_type": "stream",
     "text": [
      "[Epoch 1/5] [loss: 1802.8241555013021]\n"
     ]
    },
    {
     "name": "stderr",
     "output_type": "stream",
     "text": [
      "3750it [00:40, 91.98it/s] \n"
     ]
    },
    {
     "name": "stdout",
     "output_type": "stream",
     "text": [
      "[Epoch 2/5] [loss: 1734.4824333984375]\n"
     ]
    },
    {
     "name": "stderr",
     "output_type": "stream",
     "text": [
      "3750it [00:37, 99.22it/s] \n"
     ]
    },
    {
     "name": "stdout",
     "output_type": "stream",
     "text": [
      "[Epoch 3/5] [loss: 1706.9995926106772]\n"
     ]
    },
    {
     "name": "stderr",
     "output_type": "stream",
     "text": [
      "3750it [00:36, 103.54it/s]"
     ]
    },
    {
     "name": "stdout",
     "output_type": "stream",
     "text": [
      "[Epoch 4/5] [loss: 1690.367350813802]\n"
     ]
    },
    {
     "name": "stderr",
     "output_type": "stream",
     "text": [
      "\n"
     ]
    }
   ],
   "source": [
    "import tqdm\n",
    "import numpy as np\n",
    "from torch.utils.data import DataLoader\n",
    "from torchvision import transforms\n",
    "from torchvision import datasets\n",
    "tlp = \"/Users/john/data/test\"\n",
    "batch_size,dim=16,28*28\n",
    "transform = transforms.Compose([transforms.ToTensor()])\n",
    "train_dataset = datasets.MNIST(root=f'{tlp}/mnist', train=True, download=True, transform=transform)  \n",
    "# values = transforms.ToTensor()(train_dataset.train_data.numpy())\n",
    "# mean,std=values.mean(),values.std()\n",
    "train_loader = DataLoader(train_dataset, batch_size=batch_size, shuffle=True)\n",
    "epochs=5\n",
    "model = CVAE(28*28,256,20)\n",
    "optimizer = optim.Adam(model.parameters(), lr=0.001, betas=(0.9, 0.999), eps=1e-06)\n",
    "for epoch in range(epochs):\n",
    "    model.train()\n",
    "    train_epoch_loss=[]\n",
    "    for idx, (x,labels) in tqdm.tqdm(enumerate(train_loader)):\n",
    "        x = x.view((x.shape[0],-1))\n",
    "        labels = nn.functional.one_hot(labels, num_classes=10)\n",
    "        x_hat, mu, log_var = model(x,labels)  # 模型的输出，在这里会自动调用model中的forward函数\n",
    "        loss, BCE, KLD = loss_function(x_hat, x, mu, log_var)\n",
    "        train_epoch_loss.append(loss.item())\n",
    "        optimizer.zero_grad()  # 梯度清零，否则上一步的梯度仍会存在\n",
    "        loss.backward()  # 后向传播计算梯度，这些梯度会保存在model.parameters里面\n",
    "        optimizer.step()\n",
    "    train_loss = np.average(train_epoch_loss)\n",
    "    print(f\"[Epoch {epoch}/{epochs}] [loss: {train_loss}]\")"
   ]
  },
  {
   "cell_type": "code",
   "execution_count": 32,
   "id": "b4527244",
   "metadata": {},
   "outputs": [
    {
     "data": {
      "image/png": "[encoded data removed]",
      "text/plain": [
       "<Figure size 640x480 with 12 Axes>"
      ]
     },
     "metadata": {},
     "output_type": "display_data"
    }
   ],
   "source": [
    "from matplotlib import pyplot as plt\n",
    "\n",
    "def to_img(x):\n",
    "    out = (x.clamp(0, 1)*256).to(torch.int32)\n",
    "    out = out.view(-1, 28, 28)\n",
    "    return out\n",
    "\n",
    "# imgs = to_img(x_hat)\n",
    "fimgs = model.decode(torch.rand(12,64))\n",
    "imgs = to_img(fimgs)\n",
    "fig = plt.figure()\n",
    "for i in range(12):\n",
    "    plt.subplot(3, 4, i+1)\n",
    "    plt.tight_layout()\n",
    "    plt.imshow(imgs[i].detach().numpy(), cmap='gray', interpolation='none')\n",
    "    plt.title(f\"Fake imgs: {i}\")\n",
    "    plt.xticks([])\n",
    "    plt.yticks([])\n",
    "plt.show()"
   ]
  },
  {
   "cell_type": "code",
   "execution_count": 55,
   "id": "8359ae63",
   "metadata": {},
   "outputs": [
    {
     "data": {
      "image/png": "[encoded data removed]",
      "text/plain": [
       "<Figure size 640x480 with 12 Axes>"
      ]
     },
     "metadata": {},
     "output_type": "display_data"
    }
   ],
   "source": [
    "from matplotlib import pyplot as plt\n",
    "\n",
    "def to_img(x):\n",
    "    out = (x.clamp(0, 1)*256).to(torch.int32)\n",
    "    out = out.view(-1, 28, 28)\n",
    "    return out\n",
    "\n",
    "# imgs = to_img(x_hat)\n",
    "label = 7\n",
    "flabels = nn.functional.one_hot(torch.tensor([label]*12),10)\n",
    "fimgs = model.decode(torch.rand(12,64),flabels)\n",
    "imgs = to_img(fimgs)\n",
    "fig = plt.figure()\n",
    "for i in range(12):\n",
    "    plt.subplot(3, 4, i+1)\n",
    "    plt.tight_layout()\n",
    "    plt.imshow(imgs[i].detach().numpy(), cmap='gray', interpolation='none')\n",
    "    plt.title(f\"Fake imgs: labels: {label}\")\n",
    "    plt.xticks([])\n",
    "    plt.yticks([])\n",
    "plt.show()"
   ]
  },
  {
   "cell_type": "code",
   "execution_count": null,
   "id": "2357a057",
   "metadata": {},
   "outputs": [],
   "source": []
  }
 ],
 "metadata": {
  "kernelspec": {
   "display_name": "Python 3 (ipykernel)",
   "language": "python",
   "name": "python3"
  },
  "language_info": {
   "codemirror_mode": {
    "name": "ipython",
    "version": 3
   },
   "file_extension": ".py",
   "mimetype": "text/x-python",
   "name": "python",
   "nbconvert_exporter": "python",
   "pygments_lexer": "ipython3",
   "version": "3.11.5"
  }
 },
 "nbformat": 4,
 "nbformat_minor": 5
}
