{
 "cells": [
  {
   "cell_type": "code",
   "execution_count": 2,
   "id": "220122b5",
   "metadata": {},
   "outputs": [
    {
     "name": "stdout",
     "output_type": "stream",
     "text": [
      "==========================================================================================\n",
      "Layer (type:depth-idx)                   Output Shape              Param #\n",
      "==========================================================================================\n",
      "Discriminator                            [16, 1]                   --\n",
      "├─Sequential: 1-1                        [16, 1]                   --\n",
      "│    └─Lambda: 2-1                       [16, 4, 26]               --\n",
      "│    └─Conv1d: 2-2                       [16, 100, 26]             500\n",
      "│    └─ResBlock: 2-3                     [16, 100, 26]             --\n",
      "│    │    └─Sequential: 3-1              [16, 100, 26]             100,200\n",
      "│    └─ResBlock: 2-4                     [16, 100, 26]             --\n",
      "│    │    └─Sequential: 3-2              [16, 100, 26]             100,200\n",
      "│    └─ResBlock: 2-5                     [16, 100, 26]             --\n",
      "│    │    └─Sequential: 3-3              [16, 100, 26]             100,200\n",
      "│    └─ResBlock: 2-6                     [16, 100, 26]             --\n",
      "│    │    └─Sequential: 3-4              [16, 100, 26]             100,200\n",
      "│    └─ResBlock: 2-7                     [16, 100, 26]             --\n",
      "│    │    └─Sequential: 3-5              [16, 100, 26]             100,200\n",
      "│    └─Lambda: 2-8                       [16, 2600]                --\n",
      "│    └─Linear: 2-9                       [16, 1]                   2,601\n",
      "│    └─Sigmoid: 2-10                     [16, 1]                   --\n",
      "==========================================================================================\n",
      "Total params: 504,101\n",
      "Trainable params: 504,101\n",
      "Non-trainable params: 0\n",
      "Total mult-adds (Units.MEGABYTES): 208.67\n",
      "==========================================================================================\n",
      "Input size (MB): 0.01\n",
      "Forward/backward pass size (MB): 3.66\n",
      "Params size (MB): 2.02\n",
      "Estimated Total Size (MB): 5.68\n",
      "==========================================================================================\n",
      "==========================================================================================\n",
      "Layer (type:depth-idx)                   Output Shape              Param #\n",
      "==========================================================================================\n",
      "Generator                                [16, 26, 4]               --\n",
      "├─Sequential: 1-1                        [16, 26, 4]               --\n",
      "│    └─Linear: 2-1                       [16, 2600]                335,400\n",
      "│    └─Lambda: 2-2                       [16, 100, 26]             --\n",
      "│    └─ResBlock: 2-3                     [16, 100, 26]             --\n",
      "│    │    └─Sequential: 3-1              [16, 100, 26]             100,200\n",
      "│    └─ResBlock: 2-4                     [16, 100, 26]             --\n",
      "│    │    └─Sequential: 3-2              [16, 100, 26]             100,200\n",
      "│    └─ResBlock: 2-5                     [16, 100, 26]             --\n",
      "│    │    └─Sequential: 3-3              [16, 100, 26]             100,200\n",
      "│    └─ResBlock: 2-6                     [16, 100, 26]             --\n",
      "│    │    └─Sequential: 3-4              [16, 100, 26]             100,200\n",
      "│    └─ResBlock: 2-7                     [16, 100, 26]             --\n",
      "│    │    └─Sequential: 3-5              [16, 100, 26]             100,200\n",
      "│    └─Conv1d: 2-8                       [16, 4, 26]               404\n",
      "│    └─Lambda: 2-9                       [16, 26, 4]               --\n",
      "==========================================================================================\n",
      "Total params: 836,804\n",
      "Trainable params: 836,804\n",
      "Non-trainable params: 0\n",
      "Total mult-adds (Units.MEGABYTES): 213.95\n",
      "==========================================================================================\n",
      "Input size (MB): 0.01\n",
      "Forward/backward pass size (MB): 3.67\n",
      "Params size (MB): 3.35\n",
      "Estimated Total Size (MB): 7.03\n",
      "==========================================================================================\n"
     ]
    }
   ],
   "source": [
    "import torch \n",
    "from torch import nn, optim,utils\n",
    "from torchinfo import summary\n",
    "import numpy as np\n",
    "\n",
    "class NPDataset(utils.data.Dataset):\n",
    "\n",
    "    def __init__(self, X):\n",
    "        self.X = torch.tensor(X,dtype=torch.float)\n",
    "\n",
    "    def __getitem__(self, item):\n",
    "        return self.X[item]\n",
    "\n",
    "    def __len__(self):\n",
    "        return len(self.X)\n",
    "\n",
    "class Lambda(nn.Module):\n",
    "    def __init__(self, func):\n",
    "        super(Lambda,self).__init__()\n",
    "        self.func = func\n",
    " \n",
    "    def forward(self, x):\n",
    "        return self.func(x)\n",
    "    \n",
    "class ResBlock(nn.Module):\n",
    "    def __init__(self,dim):\n",
    "        super(ResBlock,self).__init__()\n",
    "        self.dim = dim\n",
    "        model = nn.Sequential()\n",
    "        model.append(nn.Conv1d(in_channels=self.dim, out_channels=self.dim, kernel_size=(5,), padding=2))\n",
    "        model.append(nn.ReLU())\n",
    "        model.append(nn.Conv1d(in_channels=self.dim, out_channels=self.dim, kernel_size=(5,), padding=2))\n",
    "        model.append(nn.ReLU())\n",
    "        self.model = model\n",
    " \n",
    "    def forward(self, x):\n",
    "        output = self.model(x)\n",
    "        return x+0.3*output\n",
    "    \n",
    "class Discriminator(nn.Module):\n",
    "    def __init__(self,seq_len,dim,layers=5):\n",
    "        super(Discriminator,self).__init__()\n",
    "        self.seq_len = seq_len\n",
    "        self.dim = dim\n",
    "        model = nn.Sequential()\n",
    "        model.append(Lambda(lambda x:torch.permute(x,(0,2,1))))\n",
    "        model.append(nn.Conv1d(in_channels=4, out_channels=self.dim, kernel_size=(1,)))\n",
    "        for i in range(layers):\n",
    "            model.append(ResBlock(dim))\n",
    "        model.append(Lambda(lambda x:torch.reshape(x,(-1,seq_len*dim))))\n",
    "        model.append(nn.Linear(seq_len*dim,1))\n",
    "        model.append(nn.Sigmoid())\n",
    "        self.model = model\n",
    "    def forward(self,x):\n",
    "        return self.model(x)\n",
    "\n",
    "class Generator(nn.Module):\n",
    "    def __init__(self,seq_len,dim,layers=5):\n",
    "        super(Generator,self).__init__()\n",
    "        self.seq_len = seq_len\n",
    "        self.dim = dim\n",
    "        model = nn.Sequential()\n",
    "        model.append(nn.Linear(128,seq_len*dim))\n",
    "        model.append(Lambda(lambda x:torch.reshape(x,(-1,dim,seq_len))))\n",
    "        for i in range(layers):\n",
    "            model.append(ResBlock(dim))\n",
    "        model.append(nn.Conv1d(in_channels=dim, out_channels=4, kernel_size=(1,)))\n",
    "        model.append(Lambda(lambda x:torch.permute(x,(0,2,1))))\n",
    "        self.model = model\n",
    "    def forward(self,x):\n",
    "        return self.model(x)\n",
    "   \n",
    "\n",
    "seq_len,dim=26,100\n",
    "model = Discriminator(seq_len,dim)\n",
    "print(summary(model, input_size=(16, seq_len,4)))\n",
    "# model(torch.rand((16,seq_len, 4)))\n",
    "model = Generator(seq_len,dim)\n",
    "print(summary(model, input_size=(16, 128)))\n",
    "# model(torch.rand((16,128)))"
   ]
  },
  {
   "cell_type": "code",
   "execution_count": 7,
   "id": "c7ee8cb3",
   "metadata": {},
   "outputs": [
    {
     "name": "stderr",
     "output_type": "stream",
     "text": [
      "63it [00:12,  5.13it/s]\n"
     ]
    },
    {
     "name": "stdout",
     "output_type": "stream",
     "text": [
      "[Epoch 0/5] [D loss: -0.08176746964454651] [G loss: -0.08176746964454651]\n"
     ]
    },
    {
     "name": "stderr",
     "output_type": "stream",
     "text": [
      "63it [00:09,  6.31it/s]\n"
     ]
    },
    {
     "name": "stdout",
     "output_type": "stream",
     "text": [
      "[Epoch 1/5] [D loss: -0.5254658460617065] [G loss: -0.5254658460617065]\n"
     ]
    },
    {
     "name": "stderr",
     "output_type": "stream",
     "text": [
      "63it [00:10,  6.21it/s]\n"
     ]
    },
    {
     "name": "stdout",
     "output_type": "stream",
     "text": [
      "[Epoch 2/5] [D loss: -0.4848123788833618] [G loss: -0.4848123788833618]\n"
     ]
    },
    {
     "name": "stderr",
     "output_type": "stream",
     "text": [
      "63it [00:09,  6.37it/s]\n"
     ]
    },
    {
     "name": "stdout",
     "output_type": "stream",
     "text": [
      "[Epoch 3/5] [D loss: -0.12191459536552429] [G loss: -0.12191459536552429]\n"
     ]
    },
    {
     "name": "stderr",
     "output_type": "stream",
     "text": [
      "63it [00:09,  6.34it/s]"
     ]
    },
    {
     "name": "stdout",
     "output_type": "stream",
     "text": [
      "[Epoch 4/5] [D loss: -0.000244259019382298] [G loss: -0.000244259019382298]\n"
     ]
    },
    {
     "name": "stderr",
     "output_type": "stream",
     "text": [
      "\n"
     ]
    }
   ],
   "source": [
    "import tqdm\n",
    "\n",
    "def gradient_penalty(discriminator,fake_input,real_input):\n",
    "    # calculate probability of interpolated \n",
    "    alpha = torch.rand((fake_input.shape[0],1,1))\n",
    "    differences = fake_input - real_input\n",
    "    interpolated = real_input + (alpha*differences)\n",
    "    interpolated = torch.autograd.Variable(interpolated, requires_grad=True)\n",
    "    prob_interpolated = discriminator(interpolated)\n",
    "    # calculate gradients of probabilities \n",
    "    gradients = torch.autograd.grad(outputs=prob_interpolated, inputs=interpolated,\n",
    "                           grad_outputs=torch.ones(prob_interpolated.size()),\n",
    "                           create_graph=True, retain_graph=True)[0]\n",
    "    slopes = torch.sqrt(torch.sum(torch.square(gradients), [1,2]))\n",
    "    gradient_penalty = torch.mean((slopes-1.)**2)\n",
    "    return gradient_penalty\n",
    "\n",
    "def weight_cliping(discriminator,clip_value=0.01):\n",
    "    for p in discriminator.parameters():\n",
    "            p.data.clamp_(-clip_value, clip_value)\n",
    "    \n",
    "epochs,n_critic,clip_value=5,10,0.01\n",
    "batch_size,seq_len,dim=16,26,100\n",
    "dataset_train = NPDataset(np.random.random((1000,seq_len,4)))\n",
    "train_loader = utils.data.DataLoader(dataset_train, batch_size=batch_size,shuffle=True)\n",
    "generator = Generator(seq_len,dim)\n",
    "discriminator =Discriminator(seq_len,dim)\n",
    "optimizer_d = optim.Adam(discriminator.parameters(), lr=0.001, betas=(0.9, 0.999), eps=1e-06)\n",
    "optimizer_g = optim.Adam(generator.parameters(), lr=0.001, betas=(0.9, 0.999), eps=1e-06)\n",
    "for epoch in range(epochs):\n",
    "    model.train()\n",
    "    for idx, real_input in tqdm.tqdm(enumerate(train_loader)):\n",
    "        fake_seed = torch.rand(real_input.shape[0],128)\n",
    "        fake_input = generator(fake_seed)\n",
    "        #  Train Discriminator\n",
    "        optimizer_d.zero_grad()\n",
    "        loss_d = -torch.mean(discriminator(real_input)) + torch.mean(discriminator(fake_input))\n",
    "        loss_d.backward()\n",
    "        optimizer_d.step()\n",
    "        for p in discriminator.parameters():\n",
    "            p.data.clamp_(-clip_value, clip_value)\n",
    "        if (idx+1) % n_critic==0:\n",
    "            optimizer_g.zero_grad()\n",
    "            fake_input = generator(fake_seed)\n",
    "            loss_g = -torch.mean(discriminator(fake_input))\n",
    "            loss_g.backward()\n",
    "            optimizer_g.step()\n",
    "    print(f\"[Epoch {epoch}/{epochs}] [D loss: {loss_g.item()}] [G loss: {loss_g.item()}]\")\n"
   ]
  },
  {
   "cell_type": "code",
   "execution_count": 11,
   "id": "05fcdd27",
   "metadata": {},
   "outputs": [
    {
     "name": "stdout",
     "output_type": "stream",
     "text": [
      "==========================================================================================\n",
      "Layer (type:depth-idx)                   Output Shape              Param #\n",
      "==========================================================================================\n",
      "Discriminator                            [16, 1]                   --\n",
      "├─Sequential: 1-1                        [16, 1]                   --\n",
      "│    └─Linear: 2-1                       [16, 512]                 401,920\n",
      "│    └─BatchNorm1d: 2-2                  [16, 512]                 1,024\n",
      "│    └─LeakyReLU: 2-3                    [16, 512]                 --\n",
      "│    └─Linear: 2-4                       [16, 256]                 131,328\n",
      "│    └─BatchNorm1d: 2-5                  [16, 256]                 512\n",
      "│    └─LeakyReLU: 2-6                    [16, 256]                 --\n",
      "│    └─Linear: 2-7                       [16, 1]                   257\n",
      "│    └─Sigmoid: 2-8                      [16, 1]                   --\n",
      "==========================================================================================\n",
      "Total params: 535,041\n",
      "Trainable params: 535,041\n",
      "Non-trainable params: 0\n",
      "Total mult-adds (Units.MEGABYTES): 8.56\n",
      "==========================================================================================\n",
      "Input size (MB): 0.05\n",
      "Forward/backward pass size (MB): 0.20\n",
      "Params size (MB): 2.14\n",
      "Estimated Total Size (MB): 2.39\n",
      "==========================================================================================\n",
      "==========================================================================================\n",
      "Layer (type:depth-idx)                   Output Shape              Param #\n",
      "==========================================================================================\n",
      "Generator                                [16, 784]                 --\n",
      "├─Sequential: 1-1                        [16, 784]                 --\n",
      "│    └─Linear: 2-1                       [16, 256]                 33,024\n",
      "│    └─LeakyReLU: 2-2                    [16, 256]                 --\n",
      "│    └─Linear: 2-3                       [16, 512]                 131,584\n",
      "│    └─BatchNorm1d: 2-4                  [16, 512]                 1,024\n",
      "│    └─LeakyReLU: 2-5                    [16, 512]                 --\n",
      "│    └─Linear: 2-6                       [16, 1024]                525,312\n",
      "│    └─BatchNorm1d: 2-7                  [16, 1024]                2,048\n",
      "│    └─LeakyReLU: 2-8                    [16, 1024]                --\n",
      "│    └─Linear: 2-9                       [16, 784]                 803,600\n",
      "│    └─Tanh: 2-10                        [16, 784]                 --\n",
      "==========================================================================================\n",
      "Total params: 1,496,592\n",
      "Trainable params: 1,496,592\n",
      "Non-trainable params: 0\n",
      "Total mult-adds (Units.MEGABYTES): 23.95\n",
      "==========================================================================================\n",
      "Input size (MB): 0.01\n",
      "Forward/backward pass size (MB): 0.53\n",
      "Params size (MB): 5.99\n",
      "Estimated Total Size (MB): 6.52\n",
      "==========================================================================================\n"
     ]
    }
   ],
   "source": [
    "import torch \n",
    "from torch import nn, optim,utils\n",
    "from torchinfo import summary\n",
    "import numpy as np\n",
    "\n",
    "class NPDataset(utils.data.Dataset):\n",
    "\n",
    "    def __init__(self, X):\n",
    "        self.X = torch.tensor(X,dtype=torch.float)\n",
    "\n",
    "    def __getitem__(self, item):\n",
    "        return self.X[item]\n",
    "\n",
    "    def __len__(self):\n",
    "        return len(self.X)\n",
    "\n",
    "class Lambda(nn.Module):\n",
    "    def __init__(self, func):\n",
    "        super(Lambda,self).__init__()\n",
    "        self.func = func\n",
    " \n",
    "    def forward(self, x):\n",
    "        return self.func(x)\n",
    "    \n",
    "    \n",
    "class Discriminator(nn.Module):\n",
    "    def __init__(self,input_dim=28*28,hidden_dim=512):\n",
    "        super(Discriminator,self).__init__()\n",
    "        self.input_dim = input_dim\n",
    "        self.hidden_dim = hidden_dim\n",
    "        self.model = nn.Sequential(\n",
    "            nn.Linear(input_dim, hidden_dim),\n",
    "            nn.BatchNorm1d(hidden_dim),\n",
    "            nn.LeakyReLU(0.2),\n",
    "            nn.Linear(hidden_dim, hidden_dim//2),\n",
    "            nn.BatchNorm1d(hidden_dim//2),\n",
    "            nn.LeakyReLU(0.2),\n",
    "            nn.Linear(hidden_dim//2, 1),\n",
    "            nn.Sigmoid()\n",
    "        )\n",
    "    def forward(self,x):\n",
    "        return self.model(x)\n",
    "\n",
    "class Generator(nn.Module):\n",
    "    def __init__(self,input_dim=128,hidden_dim=256,output_dim=28*28):\n",
    "        super(Generator,self).__init__()\n",
    "        self.input_dim = input_dim\n",
    "        self.hidden_dim = hidden_dim\n",
    "        self.model = nn.Sequential(nn.Linear(input_dim, hidden_dim),\n",
    "            nn.LeakyReLU(0.2),\n",
    "            nn.Linear(hidden_dim, hidden_dim*2),\n",
    "            nn.BatchNorm1d(hidden_dim*2),\n",
    "            nn.LeakyReLU(0.2),\n",
    "            nn.Linear(hidden_dim*2, hidden_dim*4),\n",
    "            nn.BatchNorm1d(hidden_dim*4),\n",
    "            nn.LeakyReLU(0.2),\n",
    "            nn.Linear(hidden_dim*4, output_dim),\n",
    "            nn.Tanh())\n",
    "        \n",
    "    def forward(self,x):\n",
    "        return self.model(x)\n",
    "   \n",
    "\n",
    "model = Discriminator(hidden_dim=512)\n",
    "print(summary(model, input_size=(16, 28*28)))\n",
    "# model(torch.rand((16,seq_len, 4)))\n",
    "model = Generator(input_dim=128)\n",
    "print(summary(model, input_size=(16, 128)))"
   ]
  },
  {
   "cell_type": "code",
   "execution_count": 39,
   "id": "3e50fada",
   "metadata": {},
   "outputs": [
    {
     "name": "stderr",
     "output_type": "stream",
     "text": [
      "3750it [02:21, 26.43it/s]\n"
     ]
    },
    {
     "name": "stdout",
     "output_type": "stream",
     "text": [
      "[Epoch 1/3] [D loss: 0.8894182055314382] [G loss: 1.2846195940653482]\n"
     ]
    },
    {
     "name": "stderr",
     "output_type": "stream",
     "text": [
      "3750it [02:10, 28.71it/s]\n"
     ]
    },
    {
     "name": "stdout",
     "output_type": "stream",
     "text": [
      "[Epoch 2/3] [D loss: 0.4303780189335346] [G loss: 2.3248942510604858]\n"
     ]
    },
    {
     "name": "stderr",
     "output_type": "stream",
     "text": [
      "3750it [02:00, 31.07it/s]"
     ]
    },
    {
     "name": "stdout",
     "output_type": "stream",
     "text": [
      "[Epoch 3/3] [D loss: 0.2598355634500583] [G loss: 3.1936039111455283]\n"
     ]
    },
    {
     "name": "stderr",
     "output_type": "stream",
     "text": [
      "\n"
     ]
    }
   ],
   "source": [
    "from torch.utils.data import DataLoader\n",
    "from torchvision import transforms\n",
    "from torchvision import datasets\n",
    "tlp = \"/Users/john/data/test\"\n",
    "transform = transforms.Compose([transforms.ToTensor(), transforms.Normalize((0.1307,), (0.3081,))])\n",
    "train_dataset = datasets.MNIST(root=f'{tlp}/mnist', train=True, download=True, transform=transform)  \n",
    "# values = transforms.ToTensor()(train_dataset.train_data.numpy())\n",
    "# mean,std=values.mean(),values.std()\n",
    "train_loader = DataLoader(train_dataset, batch_size=batch_size, shuffle=True)\n",
    "epochs,n_critic,clip_value=3,2,0.01\n",
    "generator = Generator(input_dim=32)\n",
    "discriminator =Discriminator(hidden_dim=256)\n",
    "optimizer_d = optim.Adam(discriminator.parameters(), lr=3e-4, betas=(0.9, 0.999), eps=1e-06)\n",
    "optimizer_g = optim.Adam(generator.parameters(), lr=3e-4, betas=(0.9, 0.999), eps=1e-06)\n",
    "criterion = nn.BCELoss()\n",
    "for epoch in range(epochs):\n",
    "    model.train()\n",
    "    dloss,gloss=[],[]\n",
    "    for idx, (real_input,label) in tqdm.tqdm(enumerate(train_loader)):\n",
    "        real_input = real_input.view((real_input.shape[0],-1))\n",
    "        fake_seed = torch.rand(real_input.shape[0],32)\n",
    "        fake_input = generator(fake_seed)\n",
    "        #  Train Discriminator\n",
    "        optimizer_d.zero_grad()\n",
    "        loss_real = criterion(discriminator(real_input), torch.ones(real_input.shape[0],1))\n",
    "        loss_fake = criterion(discriminator(fake_input), torch.zeros(fake_input.shape[0],1))\n",
    "        loss_d = loss_real + loss_fake\n",
    "        dloss.append(loss_d.item())\n",
    "        loss_d.backward()\n",
    "        optimizer_d.step()\n",
    "#         for p in discriminator.parameters():\n",
    "#             p.data.clamp_(-clip_value, clip_value)\n",
    "        if (idx+1) % n_critic==0:\n",
    "            optimizer_g.zero_grad()\n",
    "            fake_input = generator(fake_seed)\n",
    "            loss_g = criterion(discriminator(fake_input), torch.ones(fake_input.shape[0],1))\n",
    "            gloss.append(loss_g.item())\n",
    "            loss_g.backward()\n",
    "            optimizer_g.step()\n",
    "    print(f\"[Epoch {epoch+1}/{epochs}] [D loss: {np.average(dloss)}] [G loss: {np.average(gloss)}]\")"
   ]
  },
  {
   "cell_type": "code",
   "execution_count": 38,
   "id": "c4989a6b",
   "metadata": {},
   "outputs": [
    {
     "data": {
      "image/png": "[encoded data removed]",
      "text/plain": [
       "<Figure size 640x480 with 12 Axes>"
      ]
     },
     "metadata": {},
     "output_type": "display_data"
    }
   ],
   "source": [
    "from matplotlib import pyplot as plt\n",
    "\n",
    "def to_img(x):\n",
    "    out = 0.5 * (x + 1)\n",
    "    out = (out.clamp(0, 1)*256).to(torch.int32)\n",
    "    out = out.view(-1, 28, 28)\n",
    "    return out\n",
    "\n",
    "imgs = to_img(fake_input)\n",
    "fig = plt.figure()\n",
    "for i in range(12):\n",
    "    plt.subplot(3, 4, i+1)\n",
    "    plt.tight_layout()\n",
    "    plt.imshow(imgs[i].detach().numpy(), cmap='gray', interpolation='none')\n",
    "    plt.title(f\"Fake imgs: {i}\")\n",
    "    plt.xticks([])\n",
    "    plt.yticks([])\n",
    "plt.show()"
   ]
  }
 ],
 "metadata": {
  "kernelspec": {
   "display_name": "Python 3 (ipykernel)",
   "language": "python",
   "name": "python3"
  },
  "language_info": {
   "codemirror_mode": {
    "name": "ipython",
    "version": 3
   },
   "file_extension": ".py",
   "mimetype": "text/x-python",
   "name": "python",
   "nbconvert_exporter": "python",
   "pygments_lexer": "ipython3",
   "version": "3.11.5"
  }
 },
 "nbformat": 4,
 "nbformat_minor": 5
}
