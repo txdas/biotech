{
 "cells": [
  {
   "cell_type": "markdown",
   "id": "f929c39b",
   "metadata": {},
   "source": [
    "# 读取基因组信息"
   ]
  },
  {
   "cell_type": "code",
   "execution_count": null,
   "id": "069ef94e",
   "metadata": {},
   "outputs": [],
   "source": [
    "import pandas as pd\n",
    "\n",
    "DATADIR=\"C:\\\\Users\\\\jinya\\\\Desktop\\\\bio\\\\env\"\n",
    "# 读取Excel文件\n",
    "# file_path = f'{DATADIR}\\Paramyxoviridae.csv'  # 替换为你的Excel文件路径\n",
    "# file_path = f'{DATADIR}\\\\Rhabdoviridae.csv' \n",
    "file_path = f'{DATADIR}\\\\Flaviviridae.csv' \n",
    "df = pd.read_csv(file_path)\n",
    "\n",
    "# 显示数据框的前五行\n",
    "df.head()"
   ]
  },
  {
   "cell_type": "markdown",
   "id": "759f8e51",
   "metadata": {},
   "source": [
    "# 从NCBI中获取序列和基因标注信息"
   ]
  },
  {
   "cell_type": "code",
   "execution_count": null,
   "id": "f0fa7e32",
   "metadata": {},
   "outputs": [],
   "source": [
    "from Bio import Entrez, SeqIO\n",
    "import time\n",
    "import tqdm\n",
    "\n",
    "Entrez.email = \"your_email@example.com\"\n",
    "\n",
    "\n",
    "def fetch_genbank_sequence(genbank_id=\"V01116\"):\n",
    "    try:\n",
    "        handle = Entrez.efetch(db=\"nucleotide\", id=genbank_id, rettype=\"gb\", retmode=\"text\")\n",
    "        record = SeqIO.read(handle, \"genbank\")\n",
    "        gid, name = record.id, record.name\n",
    "        source = [feature for feature in record.features if feature.type == \"source\"]\n",
    "        cds =[{\"start\":int(feature.location.start),\"end\":int(feature.location.end),\"qualifiers\":feature.qualifiers} \n",
    "              for feature in record.features if feature.type == \"CDS\" ]\n",
    "        mat_peptide = [{\"start\":int(feature.location.start),\"end\":int(feature.location.end),\"qualifiers\":feature.qualifiers} \n",
    "              for feature in record.features if feature.type == \"mat_peptide\" ]\n",
    "        info = {\"id\":gid,\"name\":name,\"cds\":cds, \"mat_peptide\":mat_peptide,\"organism\":source[0].qualifiers[\"organism\"], \"db_xref\":source[0].qualifiers[\"db_xref\"]}\n",
    "        handle.close()\n",
    "        return record, info\n",
    "    except Exception as e:\n",
    "        print(f\"Error fetching GenBank ID {genbank_id}: {e}\")\n",
    "        return None, None\n",
    "\n",
    "# 示例使用\n",
    "genbank_ids = df[\"Accession\"].values\n",
    "my_records, infos = [], []\n",
    "for genbank_id in tqdm.tqdm(genbank_ids):\n",
    "    record, info = fetch_genbank_sequence(genbank_id) \n",
    "    if seq and info:\n",
    "        my_records.append(record)\n",
    "        infos.append(info)\n",
    "    time.sleep(1)  # 避免过快请求，遵守API速率限制\n",
    "from Bio import SeqIO\n",
    "SeqIO.write(my_records, f\"{DATADIR}\\\\fv.fasta\", \"fasta\")\n",
    "import jsonlines\n",
    "with jsonlines.open(f\"{DATADIR}\\\\fv.json\",\"w\") as fp:\n",
    "    for v in infos:"
   ]
  },
  {
   "cell_type": "markdown",
   "id": "bdb1e6ff",
   "metadata": {},
   "source": [
    "# 获取特定基因的序列"
   ]
  },
  {
   "cell_type": "code",
   "execution_count": null,
   "id": "8d2f5f67",
   "metadata": {},
   "outputs": [],
   "source": [
    "from Bio.Seq import Seq\n",
    "from Bio import SeqIO\n",
    "from Bio.SeqRecord import SeqRecord\n",
    "import jsonlines\n",
    "\n",
    "lst, s = [], set()\n",
    "with jsonlines.open( f'{DATADIR}\\\\pv.json\") as fp:\n",
    "    for v in fp:\n",
    "        taxid = \"\"\n",
    "        for x in v[\"db_xref\"]:\n",
    "            if \"taxon:\" in x:\n",
    "                taxid = x[6:]\n",
    "        if taxid in s:\n",
    "            continue\n",
    "        for x in v[\"cds\"]:\n",
    "            if\"gene\" in x[\"qualifiers\"] and  x[\"qualifiers\"][\"gene\"][0]==\"F\":\n",
    "                record = SeqRecord( Seq(x[\"qualifiers\"][\"translation\"][0]), id=v[\"organism\"][0], description=\"\")\n",
    "                lst.append(record)\n",
    "        s.add(taxid)\n",
    "\n",
    "SeqIO.write(lst, f\"{DATADIR}\\\\pvf.fasta\", \"fasta\")"
   ]
  },
  {
   "cell_type": "code",
   "execution_count": null,
   "id": "0389eabd",
   "metadata": {},
   "outputs": [],
   "source": [
    "from Bio.Seq import Seq\n",
    "from Bio.SeqRecord import SeqRecord\n",
    "import jsonlines\n",
    "from Bio import SeqIO\n",
    "\n",
    "lst, s = [], set()\n",
    "with jsonlines.open( f'{DATADIR\\\\rv.json\") as fp:\n",
    "    for v in fp:\n",
    "        taxid = \"\"\n",
    "        for x in v[\"db_xref\"]:\n",
    "            if \"taxon:\" in x:\n",
    "                taxid = x[6:]\n",
    "        if taxid in s:\n",
    "            continue\n",
    "        for x in v[\"cds\"]:\n",
    "            if(\"gene\" in x[\"qualifiers\"] and  x[\"qualifiers\"][\"gene\"][0]==\"G\") or (\"product\" in x[\"qualifiers\"] and  x[\"qualifiers\"][\"product\"][0]==\"glycoprotein\"):\n",
    "                record = SeqRecord( Seq(x[\"qualifiers\"][\"translation\"][0]), id=v[\"organism\"][0], description=\"\")\n",
    "                lst.append(record)\n",
    "        s.add(taxid)\n",
    "\n",
    "SeqIO.write(lst[:100], f\"{DATADIR}\\\\rvg.fasta\", \"fasta\")"
   ]
  },
  {
   "cell_type": "code",
   "execution_count": null,
   "id": "01a18aac",
   "metadata": {},
   "outputs": [],
   "source": [
    "from Bio.Seq import Seq\n",
    "from Bio import SeqIO\n",
    "from Bio.SeqRecord import SeqRecord\n",
    "import jsonlines\n",
    "mseq = {}\n",
    "for seq_record in SeqIO.parse(f\"{DATADIR}\\\\fv.fasta\", \"fasta\"):\n",
    "    mseq[seq_record.id]=str(seq_record.seq)\n",
    "\n",
    "lst, s = [], set()\n",
    "with jsonlines.open( f'{DATADIR\\\\fv.json\") as fp:\n",
    "    for v in fp:\n",
    "        taxid = \"\"\n",
    "        for x in v[\"db_xref\"]:\n",
    "            if \"taxon:\" in x:\n",
    "                taxid = x[6:]\n",
    "        if taxid in s:\n",
    "            continue\n",
    "        for x in v[\"mat_peptide\"]:\n",
    "            if\"product\" in x[\"qualifiers\"] and  x[\"qualifiers\"][\"product\"][0] in(\"envelope protein E1\",\"envelope protein E\"):\n",
    "                dna_seq = Seq(mseq[v[\"id\"]][x[\"start\"]:x[\"end\"]], \"DNA\")\n",
    "#                 print(x[\"qualifiers\"][\"protein_id\"], dna_seq.translate())\n",
    "                record = SeqRecord( Seq(dna_seq.translate()), id=v[\"organism\"][0], description=\"\")\n",
    "                lst.append(record)\n",
    "        s.add(taxid)\n",
    "\n",
    "SeqIO.write(lst, f\"{DATADIR}\\\\fve.fasta\", \"fasta\")"
   ]
  },
  {
   "cell_type": "code",
   "execution_count": null,
   "id": "2eee8a53",
   "metadata": {},
   "outputs": [],
   "source": [
    "from Bio.Seq import Seq\n",
    "from Bio.SeqRecord import SeqRecord\n",
    "import jsonlines\n",
    "from Bio import SeqIO\n",
    "nmap=dict(zip(df[\"Genbank ID\"],df[\"Virus\"]))\n",
    "lst,infos, s = [],[], set()\n",
    "lengths =[]\n",
    "for name in (\"apv\", \"hpv\"):\n",
    "    with jsonlines.open( f\"{DATADIR}\\\\{name}.json\") as fp:\n",
    "        for v in fp:\n",
    "            vname = nmap[v[\"id\"].split(\".\")[0]]\n",
    "            infos.append(v)\n",
    "            for x in v[\"cds\"]:\n",
    "                if\"gene\" in x[\"qualifiers\"] and  x[\"qualifiers\"][\"gene\"][0]==\"L1\" and vname not in s:\n",
    "                    s.add(vname)\n",
    "#                     record = SeqRecord( Seq(x[\"qualifiers\"][\"translation\"][0]), id=vname, description=v[\"organism\"][0])\n",
    "                    record = SeqRecord( Seq(x[\"qualifiers\"][\"translation\"][0]), id=vname, description=\"\")\n",
    "                    lengths.append(len(x[\"qualifiers\"][\"translation\"][0]))\n",
    "                    lst.append(record)\n",
    "    s.add(taxid)\n",
    "with jsonlines.open( f\"{DATADIR}\\\\pvl1.json\",\"w\") as fp:\n",
    "    for v in infos:\n",
    "        fp.write(v)\n",
    "SeqIO.write(lst, f\"{DATADIR}\\\\pvl1.fasta\", \"fasta\")\n",
    "import matplotlib.pylab as plt\n",
    "import seaborn as sns\n",
    "print(len(lengths), max(lengths), min(lengths))\n",
    "p1=sns.kdeplot(lengths)\n",
    "plt.show()"
   ]
  }
 ],
 "metadata": {
  "kernelspec": {
   "display_name": "Python 3 (ipykernel)",
   "language": "python",
   "name": "python3"
  },
  "language_info": {
   "codemirror_mode": {
    "name": "ipython",
    "version": 3
   },
   "file_extension": ".py",
   "mimetype": "text/x-python",
   "name": "python",
   "nbconvert_exporter": "python",
   "pygments_lexer": "ipython3",
   "version": "3.11.4"
  }
 },
 "nbformat": 4,
 "nbformat_minor": 5
}
