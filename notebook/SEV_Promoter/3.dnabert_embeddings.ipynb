{
 "cells": [
  {
   "cell_type": "markdown",
   "id": "aa4d3b3b",
   "metadata": {},
   "source": [
    "# 0. 加载DNABERT模型"
   ]
  },
  {
   "cell_type": "code",
   "execution_count": null,
   "id": "0baddfa4",
   "metadata": {},
   "outputs": [],
   "source": [
    "import warnings\n",
    "warnings.filterwarnings(\"ignore\")\n",
    "\n",
    "import torch\n",
    "from transformers import AutoTokenizer, AutoModel\n",
    "\n",
    "tokenizer = AutoTokenizer.from_pretrained(\"zhihan1996/DNABERT-2-117M\", trust_remote_code=True)\n",
    "model = AutoModel.from_pretrained(\"zhihan1996/DNABERT-2-117M\", trust_remote_code=True)\n",
    "model.eval()\n",
    "\n",
    "def embeddings(dna):\n",
    "    inputs = tokenizer(dna, return_tensors = 'pt')[\"input_ids\"]\n",
    "    hidden_states = model(inputs)[0] # [1, sequence_length, 768]\n",
    "\n",
    "    # embedding with mean pooling\n",
    "    embedding_mean = torch.mean(hidden_states[0], dim=0).detach().numpy()\n",
    "#     print(embedding_mean.shape) # expect to be 768\n",
    "\n",
    "    # embedding with max pooling\n",
    "#     embedding_max = torch.max(hidden_states[0], dim=0)[0].detach().numpy()\n",
    "    return embedding_mean\n",
    "\n",
    "\n",
    "dna = \"ACGTAGCATCGGATCTATCTATCGACACTTGGTTATCGATCTACGAGCATCTCGTTAGC\"\n",
    "embeddings(dna).shape"
   ]
  },
  {
   "cell_type": "markdown",
   "id": "b6a3bd6b",
   "metadata": {},
   "source": [
    "# 0. 加载MEGADNA模型"
   ]
  },
  {
   "cell_type": "code",
   "execution_count": null,
   "id": "99800a12",
   "metadata": {},
   "outputs": [],
   "source": [
    "import torch\n",
    "import numpy as np\n",
    "model_path=\"/Volumes/PortableSSD/megaDNA_phage_145M.pt\"\n",
    "nucleotides = ['**', 'A', 'T', 'C', 'G', '#'] # vocabulary\n",
    "mnucle = {'A':1,'T':2,'C':3,'G':4}\n",
    "device = 'cpu' # use 'cuda' for GPU\n",
    "megadna = torch.load(model_path, map_location=torch.device(device))\n",
    "megadna.eval()\n",
    "\n",
    "def embeddings(seq):\n",
    "    encoded_sequence = np.array([0] +[ mnucle[c] for c in seq]+[5])\n",
    "    input_seq = torch.tensor(encoded_sequence).unsqueeze(0).to(device) \n",
    "    output = megadna(input_seq, return_value = 'embedding')\n",
    "    return output[0].reshape((1,-1)).detach().numpy()\n",
    "\n",
    "def embedding_batch(seqs):\n",
    "    encoded_sequence = np.array([np.array([0] +[ mnucle[c] for c in seq]+[5]) for seq in seqs])\n",
    "    input_seq = torch.tensor(encoded_sequence).to(device) \n",
    "    output = megadna(input_seq, return_value = 'embedding')\n",
    "    return output[0].reshape((len(seqs),-1)).detach().numpy()\n",
    "\n",
    "\n",
    "seqs=[\"ATCCCGGGTGAGGCATCCCACCATCCTC\",]\n",
    "embeddings(seqs[0]).shape # (1, 1024)"
   ]
  },
  {
   "cell_type": "markdown",
   "id": "140878c7",
   "metadata": {},
   "source": [
    "# 1. 加载训练数据"
   ]
  },
  {
   "cell_type": "code",
   "execution_count": 2,
   "id": "56621843",
   "metadata": {},
   "outputs": [
    {
     "name": "stdout",
     "output_type": "stream",
     "text": [
      "(2090, 9) (110, 9)\n",
      "huggingface/tokenizers: The current process just got forked, after parallelism has already been used. Disabling parallelism to avoid deadlocks...\n",
      "To disable this warning, you can either:\n",
      "\t- Avoid using `tokenizers` before the fork if possible\n",
      "\t- Explicitly set the environment variable TOKENIZERS_PARALLELISM=(true | false)\n"
     ]
    },
    {
     "name": "stderr",
     "output_type": "stream",
     "text": [
      "100%|████████████████████████████████████████████████████████████████████████████████████████████████████████████████████| 110/110 [00:23<00:00,  4.65it/s]\n",
      "100%|██████████████████████████████████████████████████████████████████████████████████████████████████████████████████| 2090/2090 [07:24<00:00,  4.70it/s]\n"
     ]
    }
   ],
   "source": [
    "import pandas as pd\n",
    "import numpy as np\n",
    "from sklearn.model_selection import StratifiedShuffleSplit\n",
    "from sklearn import preprocessing\n",
    "import tqdm\n",
    "df = pd.read_csv(\"/Users/john/Desktop/sev/DNA_RNA_DAY5.csv\")\n",
    "seq_len=118\n",
    "df[\"seq\"] =df[\"dna_seq\"]\n",
    "# df[\"seq\"] = df[\"seq\"].apply(lambda x:x[-seq_len:])\n",
    "df[\"abs_score\"] = df[\"rna_counts\"]/df[\"plasmid_counts\"]\n",
    "df[\"score\"] = np.log(df[\"abs_score\"])\n",
    "df[\"length\"] = df[\"seq\"].apply(lambda x:len(x))\n",
    "df=df[(df[\"plasmid_counts\"]>=30)]\n",
    "split = StratifiedShuffleSplit(n_splits=1, test_size=0.05, random_state=42)\n",
    "for train_idx, test_idx in split.split(df, df[\"length\"]):\n",
    "    e_train = df.iloc[train_idx].reset_index(drop=True)\n",
    "    e_test = df.iloc[test_idx].reset_index(drop=True)\n",
    "print(e_train.shape, e_test.shape)\n",
    "\n",
    "seq_e_test = np.concatenate([ embeddings(s) for s in tqdm.tqdm(e_test[\"seq\"])])\n",
    "seq_e_train = np.concatenate([ embeddings(s) for s in tqdm.tqdm(e_train[\"seq\"])])\n",
    "seq_e_test=seq_e_test.reshape((-1,768))\n",
    "seq_e_train=seq_e_train.reshape((-1,768))"
   ]
  },
  {
   "cell_type": "markdown",
   "id": "6591f774",
   "metadata": {},
   "source": [
    "# 2. 构建DNN模型"
   ]
  },
  {
   "cell_type": "code",
   "execution_count": 13,
   "id": "01031411",
   "metadata": {},
   "outputs": [
    {
     "data": {
      "text/html": [
       "<pre style=\"white-space:pre;overflow-x:auto;line-height:normal;font-family:Menlo,'DejaVu Sans Mono',consolas,'Courier New',monospace\"><span style=\"font-weight: bold\">Model: \"sequential_1\"</span>\n",
       "</pre>\n"
      ],
      "text/plain": [
       "\u001b[1mModel: \"sequential_1\"\u001b[0m\n"
      ]
     },
     "metadata": {},
     "output_type": "display_data"
    },
    {
     "data": {
      "text/html": [
       "<pre style=\"white-space:pre;overflow-x:auto;line-height:normal;font-family:Menlo,'DejaVu Sans Mono',consolas,'Courier New',monospace\">┏━━━━━━━━━━━━━━━━━━━━━━━━━━━━━━━━━┳━━━━━━━━━━━━━━━━━━━━━━━━┳━━━━━━━━━━━━━━━┓\n",
       "┃<span style=\"font-weight: bold\"> Layer (type)                    </span>┃<span style=\"font-weight: bold\"> Output Shape           </span>┃<span style=\"font-weight: bold\">       Param # </span>┃\n",
       "┡━━━━━━━━━━━━━━━━━━━━━━━━━━━━━━━━━╇━━━━━━━━━━━━━━━━━━━━━━━━╇━━━━━━━━━━━━━━━┩\n",
       "│ dense_3 (<span style=\"color: #0087ff; text-decoration-color: #0087ff\">Dense</span>)                 │ (<span style=\"color: #00d7ff; text-decoration-color: #00d7ff\">None</span>, <span style=\"color: #00af00; text-decoration-color: #00af00\">128</span>)            │        <span style=\"color: #00af00; text-decoration-color: #00af00\">98,432</span> │\n",
       "├─────────────────────────────────┼────────────────────────┼───────────────┤\n",
       "│ dense_4 (<span style=\"color: #0087ff; text-decoration-color: #0087ff\">Dense</span>)                 │ (<span style=\"color: #00d7ff; text-decoration-color: #00d7ff\">None</span>, <span style=\"color: #00af00; text-decoration-color: #00af00\">128</span>)            │        <span style=\"color: #00af00; text-decoration-color: #00af00\">16,512</span> │\n",
       "├─────────────────────────────────┼────────────────────────┼───────────────┤\n",
       "│ activation_2 (<span style=\"color: #0087ff; text-decoration-color: #0087ff\">Activation</span>)       │ (<span style=\"color: #00d7ff; text-decoration-color: #00d7ff\">None</span>, <span style=\"color: #00af00; text-decoration-color: #00af00\">128</span>)            │             <span style=\"color: #00af00; text-decoration-color: #00af00\">0</span> │\n",
       "├─────────────────────────────────┼────────────────────────┼───────────────┤\n",
       "│ dense_5 (<span style=\"color: #0087ff; text-decoration-color: #0087ff\">Dense</span>)                 │ (<span style=\"color: #00d7ff; text-decoration-color: #00d7ff\">None</span>, <span style=\"color: #00af00; text-decoration-color: #00af00\">1</span>)              │           <span style=\"color: #00af00; text-decoration-color: #00af00\">129</span> │\n",
       "├─────────────────────────────────┼────────────────────────┼───────────────┤\n",
       "│ activation_3 (<span style=\"color: #0087ff; text-decoration-color: #0087ff\">Activation</span>)       │ (<span style=\"color: #00d7ff; text-decoration-color: #00d7ff\">None</span>, <span style=\"color: #00af00; text-decoration-color: #00af00\">1</span>)              │             <span style=\"color: #00af00; text-decoration-color: #00af00\">0</span> │\n",
       "└─────────────────────────────────┴────────────────────────┴───────────────┘\n",
       "</pre>\n"
      ],
      "text/plain": [
       "┏━━━━━━━━━━━━━━━━━━━━━━━━━━━━━━━━━┳━━━━━━━━━━━━━━━━━━━━━━━━┳━━━━━━━━━━━━━━━┓\n",
       "┃\u001b[1m \u001b[0m\u001b[1mLayer (type)                   \u001b[0m\u001b[1m \u001b[0m┃\u001b[1m \u001b[0m\u001b[1mOutput Shape          \u001b[0m\u001b[1m \u001b[0m┃\u001b[1m \u001b[0m\u001b[1m      Param #\u001b[0m\u001b[1m \u001b[0m┃\n",
       "┡━━━━━━━━━━━━━━━━━━━━━━━━━━━━━━━━━╇━━━━━━━━━━━━━━━━━━━━━━━━╇━━━━━━━━━━━━━━━┩\n",
       "│ dense_3 (\u001b[38;5;33mDense\u001b[0m)                 │ (\u001b[38;5;45mNone\u001b[0m, \u001b[38;5;34m128\u001b[0m)            │        \u001b[38;5;34m98,432\u001b[0m │\n",
       "├─────────────────────────────────┼────────────────────────┼───────────────┤\n",
       "│ dense_4 (\u001b[38;5;33mDense\u001b[0m)                 │ (\u001b[38;5;45mNone\u001b[0m, \u001b[38;5;34m128\u001b[0m)            │        \u001b[38;5;34m16,512\u001b[0m │\n",
       "├─────────────────────────────────┼────────────────────────┼───────────────┤\n",
       "│ activation_2 (\u001b[38;5;33mActivation\u001b[0m)       │ (\u001b[38;5;45mNone\u001b[0m, \u001b[38;5;34m128\u001b[0m)            │             \u001b[38;5;34m0\u001b[0m │\n",
       "├─────────────────────────────────┼────────────────────────┼───────────────┤\n",
       "│ dense_5 (\u001b[38;5;33mDense\u001b[0m)                 │ (\u001b[38;5;45mNone\u001b[0m, \u001b[38;5;34m1\u001b[0m)              │           \u001b[38;5;34m129\u001b[0m │\n",
       "├─────────────────────────────────┼────────────────────────┼───────────────┤\n",
       "│ activation_3 (\u001b[38;5;33mActivation\u001b[0m)       │ (\u001b[38;5;45mNone\u001b[0m, \u001b[38;5;34m1\u001b[0m)              │             \u001b[38;5;34m0\u001b[0m │\n",
       "└─────────────────────────────────┴────────────────────────┴───────────────┘\n"
      ]
     },
     "metadata": {},
     "output_type": "display_data"
    },
    {
     "data": {
      "text/html": [
       "<pre style=\"white-space:pre;overflow-x:auto;line-height:normal;font-family:Menlo,'DejaVu Sans Mono',consolas,'Courier New',monospace\"><span style=\"font-weight: bold\"> Total params: </span><span style=\"color: #00af00; text-decoration-color: #00af00\">115,073</span> (449.50 KB)\n",
       "</pre>\n"
      ],
      "text/plain": [
       "\u001b[1m Total params: \u001b[0m\u001b[38;5;34m115,073\u001b[0m (449.50 KB)\n"
      ]
     },
     "metadata": {},
     "output_type": "display_data"
    },
    {
     "data": {
      "text/html": [
       "<pre style=\"white-space:pre;overflow-x:auto;line-height:normal;font-family:Menlo,'DejaVu Sans Mono',consolas,'Courier New',monospace\"><span style=\"font-weight: bold\"> Trainable params: </span><span style=\"color: #00af00; text-decoration-color: #00af00\">115,073</span> (449.50 KB)\n",
       "</pre>\n"
      ],
      "text/plain": [
       "\u001b[1m Trainable params: \u001b[0m\u001b[38;5;34m115,073\u001b[0m (449.50 KB)\n"
      ]
     },
     "metadata": {},
     "output_type": "display_data"
    },
    {
     "data": {
      "text/html": [
       "<pre style=\"white-space:pre;overflow-x:auto;line-height:normal;font-family:Menlo,'DejaVu Sans Mono',consolas,'Courier New',monospace\"><span style=\"font-weight: bold\"> Non-trainable params: </span><span style=\"color: #00af00; text-decoration-color: #00af00\">0</span> (0.00 B)\n",
       "</pre>\n"
      ],
      "text/plain": [
       "\u001b[1m Non-trainable params: \u001b[0m\u001b[38;5;34m0\u001b[0m (0.00 B)\n"
      ]
     },
     "metadata": {},
     "output_type": "display_data"
    }
   ],
   "source": [
    "from tensorflow.keras.optimizers import RMSprop,Adam\n",
    "from tensorflow.keras.regularizers import l2\n",
    "from tensorflow.keras.models import Sequential, Model\n",
    "from tensorflow.keras.callbacks import EarlyStopping\n",
    "from tensorflow.keras.layers import Dense,Dropout,Activation,InputLayer,BatchNormalization\n",
    "import numpy as np\n",
    "import tensorflow as tf\n",
    "import random\n",
    "import warnings\n",
    "\n",
    "\n",
    "dim,UNITS,REG=768,128,1e-4\n",
    "model = Sequential()\n",
    "model.add(InputLayer(batch_input_shape=(None,dim)))\n",
    "model.add(Dense(units=UNITS, kernel_initializer='glorot_normal',bias_initializer='zeros'))\n",
    "# model.add(Dropout(0.3))\n",
    "model.add(Dense(units=UNITS,kernel_initializer='glorot_normal',bias_initializer='zeros'))\n",
    "# model.add(BatchNormalization())\n",
    "model.add(Activation('relu'))\n",
    "model.add(Dense(units=1))\n",
    "model.add(Activation('linear'))\n",
    "#compile the model\n",
    "adam = Adam(learning_rate=0.001, beta_1=0.9, beta_2=0.999, epsilon=1e-08)\n",
    "model.compile(loss=\"mean_squared_error\", optimizer=adam)\n",
    "# model.fit(x, y, batch_size=128, epochs=nb_epoch, verbose=1)\n",
    "model.summary()"
   ]
  },
  {
   "cell_type": "markdown",
   "id": "e26ec8dd",
   "metadata": {},
   "source": [
    "# 3. 训练DNN模型"
   ]
  },
  {
   "cell_type": "code",
   "execution_count": 14,
   "id": "524ff31e",
   "metadata": {},
   "outputs": [
    {
     "name": "stdout",
     "output_type": "stream",
     "text": [
      "Epoch 1/15\n",
      "\u001b[1m33/33\u001b[0m \u001b[32m━━━━━━━━━━━━━━━━━━━━\u001b[0m\u001b[37m\u001b[0m \u001b[1m2s\u001b[0m 9ms/step - loss: 1.1024 - val_loss: 0.9834\n",
      "Epoch 2/15\n",
      "\u001b[1m33/33\u001b[0m \u001b[32m━━━━━━━━━━━━━━━━━━━━\u001b[0m\u001b[37m\u001b[0m \u001b[1m0s\u001b[0m 7ms/step - loss: 1.0147 - val_loss: 0.9754\n",
      "Epoch 3/15\n",
      "\u001b[1m33/33\u001b[0m \u001b[32m━━━━━━━━━━━━━━━━━━━━\u001b[0m\u001b[37m\u001b[0m \u001b[1m0s\u001b[0m 5ms/step - loss: 1.0016 - val_loss: 0.9687\n",
      "Epoch 4/15\n",
      "\u001b[1m33/33\u001b[0m \u001b[32m━━━━━━━━━━━━━━━━━━━━\u001b[0m\u001b[37m\u001b[0m \u001b[1m0s\u001b[0m 6ms/step - loss: 0.9872 - val_loss: 0.9602\n",
      "Epoch 5/15\n",
      "\u001b[1m33/33\u001b[0m \u001b[32m━━━━━━━━━━━━━━━━━━━━\u001b[0m\u001b[37m\u001b[0m \u001b[1m0s\u001b[0m 5ms/step - loss: 0.9722 - val_loss: 0.9591\n",
      "Epoch 6/15\n",
      "\u001b[1m33/33\u001b[0m \u001b[32m━━━━━━━━━━━━━━━━━━━━\u001b[0m\u001b[37m\u001b[0m \u001b[1m0s\u001b[0m 6ms/step - loss: 0.9628 - val_loss: 0.9613\n",
      "Epoch 7/15\n",
      "\u001b[1m33/33\u001b[0m \u001b[32m━━━━━━━━━━━━━━━━━━━━\u001b[0m\u001b[37m\u001b[0m \u001b[1m0s\u001b[0m 5ms/step - loss: 0.9622 - val_loss: 0.9602\n",
      "Epoch 8/15\n",
      "\u001b[1m33/33\u001b[0m \u001b[32m━━━━━━━━━━━━━━━━━━━━\u001b[0m\u001b[37m\u001b[0m \u001b[1m0s\u001b[0m 5ms/step - loss: 0.9517 - val_loss: 0.9624\n",
      "Epoch 9/15\n",
      "\u001b[1m33/33\u001b[0m \u001b[32m━━━━━━━━━━━━━━━━━━━━\u001b[0m\u001b[37m\u001b[0m \u001b[1m0s\u001b[0m 5ms/step - loss: 0.9556 - val_loss: 0.9624\n",
      "Epoch 10/15\n",
      "\u001b[1m33/33\u001b[0m \u001b[32m━━━━━━━━━━━━━━━━━━━━\u001b[0m\u001b[37m\u001b[0m \u001b[1m0s\u001b[0m 5ms/step - loss: 0.9440 - val_loss: 0.9620\n",
      "Epoch 10: early stopping\n",
      "Restoring model weights from the end of the best epoch: 5.\n"
     ]
    }
   ],
   "source": [
    "import scipy.stats as stats\n",
    "from sklearn import preprocessing\n",
    "import tensorflow as tf\n",
    "import os\n",
    "import numpy as np\n",
    "import random\n",
    "\n",
    "def set_seed(seed):\n",
    "    random.seed(seed)\n",
    "    np.random.seed(seed)\n",
    "    tf.random.set_seed(seed)\n",
    "    os.environ['PYTHONHASHSEED'] = str(seed)\n",
    "    tf.config.experimental.enable_op_determinism()\n",
    "    \n",
    "set_seed(42) \n",
    "col_label='score'\n",
    "# Scale the training mean ribosome load values\n",
    "e_test.loc[:,'scaled_rl'] =preprocessing.StandardScaler().fit_transform(e_test.loc[:,col_label].values.reshape(-1,1))\n",
    "e_train.loc[:,'scaled_rl']=preprocessing.StandardScaler().fit_transform(e_train.loc[:,col_label].values.reshape(-1,1))\n",
    "validation_data=(seq_e_test,e_test[\"scaled_rl\"])\n",
    "restore_best_weights=True\n",
    "earlyStop = EarlyStopping(monitor='val_loss', min_delta=0, patience=5, mode='min', \n",
    "                          verbose=1, restore_best_weights=True)\n",
    "history = model.fit(seq_e_train, e_train['scaled_rl'], batch_size=64, epochs=15,callbacks=[earlyStop], \n",
    "                    verbose=1,validation_data=validation_data, shuffle=True)\n"
   ]
  },
  {
   "cell_type": "markdown",
   "id": "4ff58b39",
   "metadata": {},
   "source": [
    "# 4. 评估模型效果"
   ]
  },
  {
   "cell_type": "code",
   "execution_count": 15,
   "id": "e510d88a",
   "metadata": {},
   "outputs": [
    {
     "name": "stdout",
     "output_type": "stream",
     "text": [
      "\u001b[1m4/4\u001b[0m \u001b[32m━━━━━━━━━━━━━━━━━━━━\u001b[0m\u001b[37m\u001b[0m \u001b[1m0s\u001b[0m 22ms/step\n",
      "test r-squared =  0.0299338973892717 pearsonR =  0.17301415372527104\n"
     ]
    }
   ],
   "source": [
    "import scipy.stats as stats\n",
    "\n",
    "def test_data(df, model, test_seq, obs_col, output_col='pred'):\n",
    "    '''Predict mean ribosome load using model and test set UTRs'''\n",
    "    \n",
    "    # Scale the test set mean ribosome load\n",
    "    scaler = preprocessing.StandardScaler()\n",
    "    scaler.fit(df[obs_col].values.reshape(-1,1))\n",
    "    \n",
    "    # Make predictions\n",
    "    predictions = model.predict(test_seq).reshape(-1,1)\n",
    "    \n",
    "    # Inverse scaled predicted mean ribosome load and return in a column labeled 'pred'\n",
    "    df.loc[:,output_col] = scaler.inverse_transform(predictions)\n",
    "    return df\n",
    "\n",
    "\n",
    "def r2(x,y):\n",
    "    slope, intercept, r_value, p_value, std_err = stats.linregress(x,y)\n",
    "    return r_value**2\n",
    "\n",
    "e_test = test_data(df=e_test, model=model, obs_col=col_label,test_seq=seq_e_test)\n",
    "r = r2(e_test[col_label], e_test['pred'])\n",
    "pr =  stats.pearsonr(e_test[col_label], e_test['pred'])\n",
    "print('test r-squared = ', r, \"pearsonR = \", pr[0])"
   ]
  },
  {
   "cell_type": "code",
   "execution_count": 16,
   "id": "a8976b70",
   "metadata": {},
   "outputs": [
    {
     "data": {
      "image/png": "[encoded data removed]",
      "text/plain": [
       "<Figure size 640x480 with 1 Axes>"
      ]
     },
     "metadata": {},
     "output_type": "display_data"
    }
   ],
   "source": [
    "import seaborn as sns\n",
    "import matplotlib.pyplot as plt\n",
    "\n",
    "plt.plot(history.history['loss'])\n",
    "plt.plot(history.history['val_loss'])\n",
    "plt.title('Model loss')\n",
    "plt.ylabel('Loss')\n",
    "plt.xlabel('Epoch')\n",
    "plt.legend(['Train', 'Test'], loc='upper left')\n",
    "plt.show()"
   ]
  },
  {
   "cell_type": "code",
   "execution_count": null,
   "id": "be2861dc",
   "metadata": {},
   "outputs": [],
   "source": []
  }
 ],
 "metadata": {
  "kernelspec": {
   "display_name": "Python 3 (ipykernel)",
   "language": "python",
   "name": "python3"
  },
  "language_info": {
   "codemirror_mode": {
    "name": "ipython",
    "version": 3
   },
   "file_extension": ".py",
   "mimetype": "text/x-python",
   "name": "python",
   "nbconvert_exporter": "python",
   "pygments_lexer": "ipython3",
   "version": "3.11.5"
  }
 },
 "nbformat": 4,
 "nbformat_minor": 5
}
