{
 "cells": [
  {
   "cell_type": "code",
   "execution_count": 2,
   "id": "bfae1881",
   "metadata": {},
   "outputs": [
    {
     "data": {
      "text/plain": [
       "((1, 1024), array(1.6882224, dtype=float32))"
      ]
     },
     "execution_count": 2,
     "metadata": {},
     "output_type": "execute_result"
    }
   ],
   "source": [
    "import warnings\n",
    "warnings.filterwarnings(\"ignore\")\n",
    "import torch\n",
    "import numpy as np\n",
    "import pandas as pd\n",
    "model_path=\"/Volumes/PortableSSD/megaDNA_phage_145M.pt\"\n",
    "nucleotides = ['**', 'A', 'T', 'C', 'G', '#'] # vocabulary\n",
    "mnucle = {'A':1,'T':2,'C':3,'G':4}\n",
    "device = 'cuda' if torch.cuda.is_available() else 'cpu'\n",
    "megadna = torch.load(model_path, map_location=torch.device(device))\n",
    "megadna.eval()\n",
    "\n",
    "def embeddings(seq):\n",
    "    encoded_sequence = np.array([0] +[ mnucle[c] for c in seq]+[5])\n",
    "    input_seq = torch.tensor(encoded_sequence).unsqueeze(0).to(device) \n",
    "    output = megadna(input_seq, return_value = 'embedding')\n",
    "    return output[0].reshape((1,-1)).cpu().detach().numpy()\n",
    "\n",
    "def embedding_batch(seqs):\n",
    "    encoded_sequence = np.array([np.array([0] +[ mnucle[c] for c in seq]+[5]) for seq in seqs])\n",
    "    input_seq = torch.tensor(encoded_sequence).to(device) \n",
    "    output = megadna(input_seq, return_value = 'embedding')\n",
    "    return output[0].reshape((len(seqs),-1)).cpu().detach().numpy()\n",
    "\n",
    "def get_loss_for_sequence(sequence):\n",
    "    \"\"\"Get model loss for a given sequence.\"\"\"\n",
    "    encoded_sequence = np.array([0] +[ mnucle[c] for c in sequence]+[5])\n",
    "    input_seq = torch.tensor(encoded_sequence).unsqueeze(0).to(device) \n",
    "    with torch.no_grad():\n",
    "        loss = megadna(input_seq, return_value='loss')\n",
    "    return loss.cpu().numpy()\n",
    "\n",
    "\n",
    "seqs=[\"ATCCCGGGTGAGGCATCCCACCATCCTC\",]\n",
    "embeddings(seqs[0]).shape, get_loss_for_sequence(seqs[0]) # (1, 1024)"
   ]
  },
  {
   "cell_type": "code",
   "execution_count": null,
   "id": "f5a4511b",
   "metadata": {},
   "outputs": [],
   "source": [
    "import tqdm\n",
    "import pandas as pd\n",
    "import scipy.stats as stats\n",
    "\n",
    "df = pd.read_csv(\"./DNA_RNA_Day8.csv\")\n",
    "df[\"seq\"] =df[\"dna_seq\"]\n",
    "df[\"abs_score\"] = df[\"rna_counts\"]/df[\"plasmid_counts\"]\n",
    "df[\"score\"] = np.log(df[\"abs_score\"])\n",
    "df[\"length\"] = df[\"seq\"].apply(lambda x:len(x))\n",
    "df[\"ttype\"] = df[\"seq\"].apply(lambda x:len(x)==118)\n",
    "df[\"loss\"] = [get_loss_for_sequence(x).tolist() for x in tqdm.tqdm(df[\"seq\"].values)]\n",
    "\n",
    "\n",
    "def r2(x,y):\n",
    "    slope, intercept, r_value, p_value, std_err = stats.linregress(x,y)\n",
    "    return r_value**2\n",
    "\n",
    "s1, s2 = df[\"loss\"],df[\"score\"]\n",
    "r = r2(s1,s2)\n",
    "pr =  stats.pearsonr(s1,s2)\n",
    "print('loss vs score: r-squared = ', r, \"pearsonR = \", pr[0])"
   ]
  },
  {
   "cell_type": "code",
   "execution_count": null,
   "id": "0a8df1f0",
   "metadata": {},
   "outputs": [],
   "source": [
    "import matplotlib.pyplot as plt\n",
    "tdf = df\n",
    "plt.figure(figsize=(8, 8))\n",
    "plt.scatter(np.log(tdf[\"loss\"]), np.log(tdf[\"score\"]), marker='o')\n",
    "plt.xlabel(\"loss\")\n",
    "plt.ylabel(\"score\")\n",
    "plt.show()"
   ]
  },
  {
   "cell_type": "code",
   "execution_count": null,
   "id": "c33c2ad1",
   "metadata": {},
   "outputs": [],
   "source": [
    "import scipy.stats as stats\n",
    "from sklearn import preprocessing\n",
    "\n",
    "def r2(x,y):\n",
    "    slope, intercept, r_value, p_value, std_err = stats.linregress(x,y)\n",
    "    return r_value**2\n",
    "\n",
    "datadir=\"./data\"\n",
    "day5 = pd.read_csv(f\"{datadir}/DNA_RNA_Day5.csv\")\n",
    "day8 = pd.read_csv(f\"{datadir}/DNA_RNA_Day8.csv\")\n",
    "day5[\"seq\"]=day5[\"dna_seq\"]\n",
    "day8[\"seq\"]=day8[\"dna_seq\"]\n",
    "day5[\"abs_score\"] = day5[\"rna_counts\"]/day5[\"plasmid_counts\"]\n",
    "day5[\"score\"] = np.log(day5[\"abs_score\"])\n",
    "day8[\"abs_score\"] = day8[\"rna_counts\"]/day8[\"plasmid_counts\"]\n",
    "day8[\"score\"] = np.log(day8[\"abs_score\"])\n",
    "day5=day5[[\"seq\",\"score\"]].rename(columns={\"score\":\"score_day5\"})\n",
    "day8=day8[[\"seq\",\"score\"]].rename(columns={\"score\":\"score_day8\"})\n",
    "df = pd.merge(day5,day8,on=\"seq\")\n",
    "\n",
    "r = r2(df[\"score_day8\"],df[\"score_day5\"])\n",
    "pr =  stats.pearsonr(df[\"score_day8\"],df[\"score_day5\"])\n",
    "print('test day5, day8 r-squared = ', r, \"pearsonR = \", pr[0])\n",
    "\n",
    "df = pd.read_csv(f\"{datadir}/DNA_RNA_Day8.csv\")\n",
    "df=df[df[\"plasmid_counts\"]>20]\n",
    "df = df[(df[\"rna1\"]>0)&(df[\"rna2\"]>0)]\n",
    "rna1, rna2 = np.log(df[\"rna1\"]),np.log(df[\"rna2\"])\n",
    "r = r2(rna1, rna2)\n",
    "pr =  stats.pearsonr(rna1, rna2)\n",
    "print('test day5 rna1&2 r-squared = ', r, \"pearsonR = \", pr[0])"
   ]
  },
  {
   "cell_type": "code",
   "execution_count": null,
   "id": "7d577477",
   "metadata": {},
   "outputs": [],
   "source": [
    "import matplotlib.pyplot as plt\n",
    "tdf = df\n",
    "\n",
    "plt.figure(figsize=(8, 8))\n",
    "plt.scatter(np.log(tdf[\"rna1\"]), np.log(tdf[\"rna2\"]), marker='o')\n",
    "plt.xlabel(\"rna1\")\n",
    "plt.ylabel(\"rna2\")\n",
    "plt.show()"
   ]
  }
 ],
 "metadata": {
  "kernelspec": {
   "display_name": "Python 3 (ipykernel)",
   "language": "python",
   "name": "python3"
  },
  "language_info": {
   "codemirror_mode": {
    "name": "ipython",
    "version": 3
   },
   "file_extension": ".py",
   "mimetype": "text/x-python",
   "name": "python",
   "nbconvert_exporter": "python",
   "pygments_lexer": "ipython3",
   "version": "3.11.5"
  }
 },
 "nbformat": 4,
 "nbformat_minor": 5
}
