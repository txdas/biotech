{
 "cells": [
  {
   "cell_type": "code",
   "execution_count": 2,
   "id": "fb9090fc",
   "metadata": {},
   "outputs": [],
   "source": [
    "from src.structure_data import StructureData\n",
    "from src.split_entities import splitEntities\n",
    "from src import cleanProtein,cleanDNA,processDNA\n",
    "structure=StructureData(\"./data/3dfx.pdb\")\n",
    "# split complex into protein and DNA\n",
    "protein, dna = splitEntities(structure)\n",
    "protein, _  = cleanProtein(protein, add_charge_radius=True)\n",
    "dna = cleanDNA(dna,  fix_modified_nucleotide_hetflags=True)\n",
    "# dna_data = processDNA(dna, quiet=False)"
   ]
  },
  {
   "cell_type": "code",
   "execution_count": 3,
   "id": "6197a669",
   "metadata": {},
   "outputs": [
    {
     "data": {
      "text/plain": [
       "<src.structure_data.StructureData at 0x1b09b70c690>"
      ]
     },
     "execution_count": 3,
     "metadata": {},
     "output_type": "execute_result"
    }
   ],
   "source": [
    "dna"
   ]
  },
  {
   "cell_type": "code",
   "execution_count": 7,
   "id": "66d9aa72",
   "metadata": {},
   "outputs": [],
   "source": []
  },
  {
   "cell_type": "code",
   "execution_count": null,
   "id": "747eb63a",
   "metadata": {},
   "outputs": [],
   "source": []
  }
 ],
 "metadata": {
  "kernelspec": {
   "display_name": "Python 3 (ipykernel)",
   "language": "python",
   "name": "python3"
  },
  "language_info": {
   "codemirror_mode": {
    "name": "ipython",
    "version": 3
   },
   "file_extension": ".py",
   "mimetype": "text/x-python",
   "name": "python",
   "nbconvert_exporter": "python",
   "pygments_lexer": "ipython3",
   "version": "3.11.9"
  }
 },
 "nbformat": 4,
 "nbformat_minor": 5
}
