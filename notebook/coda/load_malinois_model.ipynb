{
 "cells": [
  {
   "cell_type": "code",
   "execution_count": 1,
   "id": "81c0091b-760c-489a-91f2-b1f639e83e57",
   "metadata": {},
   "outputs": [],
   "source": [
    "import shutil\n",
    "import os\n",
    "\n",
    "import torch\n",
    "import torch.nn as nn\n",
    "\n",
    "import boda"
   ]
  },
  {
   "cell_type": "markdown",
   "id": "9b654760-ed12-4729-86c1-ac2705f9d004",
   "metadata": {},
   "source": [
    "# Load models interactively\n",
    "\n",
    "This notebook describes how to load Malinois and use it for inference. It's important to remember that Malinois processes `(bsz, 4, 600)` tensors but was trained on 200-mers. Therefore you need to pad input sequences with 200 nucleotides on each side from the MPRA vector used to generate the data. This is done using the `FlankBuilder`."
   ]
  },
  {
   "cell_type": "markdown",
   "id": "7abcf9b1-4de4-4a7d-9f9f-5e1541e6ce65",
   "metadata": {},
   "source": [
    "# Get Malinois\n",
    "\n",
    "Can download directly from a Google Storage bucket you can access."
   ]
  },
  {
   "cell_type": "code",
   "execution_count": 2,
   "id": "d04f82f1-8cca-4c4d-b5e0-24ca18d4a039",
   "metadata": {},
   "outputs": [
    {
     "name": "stderr",
     "output_type": "stream",
     "text": [
      "Copying gs://tewhey-public-data/CODA_resources/malinois_artifacts__20211113_021200__287348.tar.gz...\n",
      "\\ [1 files][ 49.3 MiB/ 49.3 MiB]                                                \n",
      "Operation completed over 1 objects/49.3 MiB.                                     \n",
      "archive unpacked in ./\n"
     ]
    },
    {
     "name": "stdout",
     "output_type": "stream",
     "text": [
      "Loaded model from 20211113_021200 in eval mode\n"
     ]
    }
   ],
   "source": [
    "malinois_path = 'gs://tewhey-public-data/CODA_resources/malinois_artifacts__20211113_021200__287348.tar.gz'\n",
    "my_model = boda.common.utils.load_model(malinois_path)"
   ]
  },
  {
   "cell_type": "code",
   "execution_count": 3,
   "id": "d7b07fed-3442-4edf-a633-9fbc91f61972",
   "metadata": {
    "scrolled": true,
    "tags": []
   },
   "outputs": [],
   "source": [
    "input_len = torch.load('./artifacts/torch_checkpoint.pt')['model_hparams'].input_len\n"
   ]
  },
  {
   "cell_type": "markdown",
   "id": "0bbd2b0f-2e0e-4bfc-9860-d978e3a6c2e4",
   "metadata": {},
   "source": [
    "# Set flanks\n",
    "\n",
    "MPRA flanks are saved as constants in the `boda` repo. These need to be sized to (1, 4, 200) each and used to init `FlankBuilder`."
   ]
  },
  {
   "cell_type": "code",
   "execution_count": 4,
   "id": "79e324c2-8c15-4ef7-ac2f-1d50c05abaa9",
   "metadata": {},
   "outputs": [
    {
     "name": "stdout",
     "output_type": "stream",
     "text": [
      "left flank shape: torch.Size([1, 4, 200])\n",
      "right flank shape: torch.Size([1, 4, 200])\n"
     ]
    },
    {
     "data": {
      "text/plain": [
       "FlankBuilder()"
      ]
     },
     "execution_count": 4,
     "metadata": {},
     "output_type": "execute_result"
    }
   ],
   "source": [
    "left_pad_len = (input_len - 200) // 2\n",
    "right_pad_len= (input_len - 200) - left_pad_len\n",
    "\n",
    "left_flank = boda.common.utils.dna2tensor( \n",
    "    boda.common.constants.MPRA_UPSTREAM[-left_pad_len:] \n",
    ").unsqueeze(0)\n",
    "print(f'left flank shape: {left_flank.shape}')\n",
    "\n",
    "right_flank= boda.common.utils.dna2tensor( \n",
    "    boda.common.constants.MPRA_DOWNSTREAM[:right_pad_len] \n",
    ").unsqueeze(0)\n",
    "right_flank.shape\n",
    "print(f'right flank shape: {right_flank.shape}')\n",
    "\n",
    "flank_builder = boda.common.utils.FlankBuilder(\n",
    "    left_flank=left_flank,\n",
    "    right_flank=right_flank,\n",
    ")\n",
    "\n",
    "flank_builder.cuda()"
   ]
  },
  {
   "cell_type": "markdown",
   "id": "9041c756-f6f2-464c-b690-909c33af6d1a",
   "metadata": {},
   "source": [
    "# Example call\n",
    "\n",
    "Using `torch.no_grad()` so the computation graph isn't saved to memory. Since sequences are passed to the model as onehots in `torch.float32` format, we can use `torch.randn` to validate the model setup. Here a batch of 10 variable 200 nt (fake) sequences are being padded to 600 nt, then being passed to the model. Note, `my_model` and `flank_builder` have been set on the GPU using `.cuda()` calls. Therefore, the fake sequence also needs to be sent to `cuda`.\n",
    "\n",
    "Note: this fake sequence will result in pathological predictions, it's only an illustrative example."
   ]
  },
  {
   "cell_type": "code",
   "execution_count": 5,
   "id": "b7cc54ec-8709-478d-b804-bd0c58983a39",
   "metadata": {},
   "outputs": [
    {
     "name": "stdout",
     "output_type": "stream",
     "text": [
      "tensor([[-2.2126, -1.8508,  5.1186],\n",
      "        [-1.4284, -1.2446,  1.8232],\n",
      "        [ 0.7822,  0.1400,  5.8496],\n",
      "        [ 1.6264,  0.2242, 11.8879],\n",
      "        [-0.5781, -1.3709,  4.5894],\n",
      "        [ 0.1255, -0.0334, 10.9916],\n",
      "        [-2.8357, -1.0953,  3.6760],\n",
      "        [ 3.3309,  0.2382,  8.7414],\n",
      "        [ 1.3750, -0.0471,  7.9200],\n",
      "        [ 0.6532, -0.5759,  8.4386]], device='cuda:0')\n"
     ]
    }
   ],
   "source": [
    "placeholder = torch.randn((10,4,200)).cuda() # Simulate a batch_size x 4 nucleotide x 200 nt long sequence\n",
    "prepped_seq = flank_builder( placeholder )   # Need to add MPRA flanks\n",
    "\n",
    "with torch.no_grad():\n",
    "    print( my_model( prepped_seq ) )\n"
   ]
  },
  {
   "cell_type": "markdown",
   "id": "7352a969-29a1-46ba-a902-3033d7a361f2",
   "metadata": {},
   "source": [
    "# Run on MPRA data set\n",
    "\n",
    "We're focusing on sequences that are 200 nt long for simplicity. In the paper we padded smaller sequences with additional nucleotides from the flanks."
   ]
  },
  {
   "cell_type": "code",
   "execution_count": 6,
   "id": "1f08d4dc-0edf-41f6-ac99-0b9f1e1ddb2c",
   "metadata": {},
   "outputs": [],
   "source": [
    "import pandas as pd\n",
    "import numpy as np\n",
    "import csv\n",
    "from scipy.stats import pearsonr, spearmanr\n",
    "import tqdm.notebook as tqdm\n",
    "import matplotlib.pyplot as plt"
   ]
  },
  {
   "cell_type": "code",
   "execution_count": 7,
   "id": "f6e44b4b-fb30-41eb-86bd-b0c481ad8285",
   "metadata": {},
   "outputs": [
    {
     "name": "stdout",
     "output_type": "stream",
     "text": [
      "Copying gs://tewhey-public-data/CODA_resources/Table_S2__MPRA_dataset.txt...\n",
      "\\ [1 files][267.2 MiB/267.2 MiB]                                                \n",
      "Operation completed over 1 objects/267.2 MiB.                                    \n"
     ]
    },
    {
     "name": "stderr",
     "output_type": "stream",
     "text": [
      "/opt/conda/lib/python3.7/site-packages/IPython/core/interactiveshell.py:3553: DtypeWarning: Columns (3) have mixed types.Specify dtype option on import or set low_memory=False.\n",
      "  exec(code_obj, self.user_global_ns, self.user_ns)\n"
     ]
    }
   ],
   "source": [
    "!gsutil cp gs://tewhey-public-data/CODA_resources/Table_S2__MPRA_dataset.txt ./\n",
    "mpra_19 = pd.read_table('Table_S2__MPRA_dataset.txt', sep='\\t', header=0)\n",
    "\n",
    "mpra_19 = mpra_19.loc[ mpra_19.loc[:, ['K562_lfcSE', 'HepG2_lfcSE', 'SKNSH_lfcSE']].max(axis=1) < 1.0 ]"
   ]
  },
  {
   "cell_type": "code",
   "execution_count": 8,
   "id": "a29c2452-e65f-406f-bb39-31cc72cd5d1c",
   "metadata": {},
   "outputs": [
    {
     "data": {
      "application/vnd.jupyter.widget-view+json": {
       "model_id": "dfea56733cac45fb93ac1ee92b638a95",
       "version_major": 2,
       "version_minor": 0
      },
      "text/plain": [
       "  0%|          | 0/717741 [00:00<?, ?it/s]"
      ]
     },
     "metadata": {},
     "output_type": "display_data"
    }
   ],
   "source": [
    "pass_seq = mpra_19.loc[ mpra_19['sequence'].str.len() == 200 ].reset_index(drop=True)\n",
    "\n",
    "seq_tensor  = torch.stack([ boda.common.utils.dna2tensor(x['sequence']) for i, x in tqdm.tqdm(pass_seq.iterrows(), total=pass_seq.shape[0]) ], dim=0)\n",
    "seq_dataset = torch.utils.data.TensorDataset(seq_tensor)\n",
    "seq_loader  = torch.utils.data.DataLoader(seq_dataset, batch_size=128)"
   ]
  },
  {
   "cell_type": "code",
   "execution_count": 9,
   "id": "c1a73482-8afb-4aa2-a145-5448a0e9681a",
   "metadata": {},
   "outputs": [
    {
     "data": {
      "application/vnd.jupyter.widget-view+json": {
       "model_id": "f40179ad4e454e2c977b13f9685b0e1d",
       "version_major": 2,
       "version_minor": 0
      },
      "text/plain": [
       "  0%|          | 0/5608 [00:00<?, ?it/s]"
      ]
     },
     "metadata": {},
     "output_type": "display_data"
    }
   ],
   "source": [
    "results = []\n",
    "\n",
    "with torch.no_grad():\n",
    "    for i, batch in enumerate(tqdm.tqdm(seq_loader)):\n",
    "        prepped_seq = flank_builder( batch[0].cuda() )\n",
    "        predictions = my_model( prepped_seq ) + \\\n",
    "                      my_model( prepped_seq.flip(dims=[1,2]) ) # Also\n",
    "        predictions = predictions.div(2.)\n",
    "        results.append(predictions.detach().cpu())\n",
    "                \n",
    "predictions = torch.cat(results, dim=0)"
   ]
  },
  {
   "cell_type": "code",
   "execution_count": 10,
   "id": "e0ea21a3-099a-49b7-bf25-d4e4cfe0f14e",
   "metadata": {},
   "outputs": [
    {
     "data": {
      "text/html": [
       "<div>\n",
       "<style scoped>\n",
       "    .dataframe tbody tr th:only-of-type {\n",
       "        vertical-align: middle;\n",
       "    }\n",
       "\n",
       "    .dataframe tbody tr th {\n",
       "        vertical-align: top;\n",
       "    }\n",
       "\n",
       "    .dataframe thead th {\n",
       "        text-align: right;\n",
       "    }\n",
       "</style>\n",
       "<table border=\"1\" class=\"dataframe\">\n",
       "  <thead>\n",
       "    <tr style=\"text-align: right;\">\n",
       "      <th></th>\n",
       "      <th>IDs</th>\n",
       "      <th>chr</th>\n",
       "      <th>data_project</th>\n",
       "      <th>OL</th>\n",
       "      <th>class</th>\n",
       "      <th>K562_log2FC</th>\n",
       "      <th>HepG2_log2FC</th>\n",
       "      <th>SKNSH_log2FC</th>\n",
       "      <th>K562_lfcSE</th>\n",
       "      <th>HepG2_lfcSE</th>\n",
       "      <th>SKNSH_lfcSE</th>\n",
       "      <th>sequence</th>\n",
       "      <th>K562_preds</th>\n",
       "      <th>HepG2_preds</th>\n",
       "      <th>SKNSH_preds</th>\n",
       "    </tr>\n",
       "  </thead>\n",
       "  <tbody>\n",
       "    <tr>\n",
       "      <th>0</th>\n",
       "      <td>7:70038969:G:T:A:wC</td>\n",
       "      <td>7</td>\n",
       "      <td>UKBB</td>\n",
       "      <td>29</td>\n",
       "      <td>BMI,BFP</td>\n",
       "      <td>0.060779</td>\n",
       "      <td>0.233601</td>\n",
       "      <td>0.047194</td>\n",
       "      <td>0.098795</td>\n",
       "      <td>0.118254</td>\n",
       "      <td>0.130671</td>\n",
       "      <td>CCTGGTCTTTCTTGCTAAATAAACATATCGTGCATCATCCAGATCT...</td>\n",
       "      <td>0.022539</td>\n",
       "      <td>0.491981</td>\n",
       "      <td>0.470595</td>\n",
       "    </tr>\n",
       "    <tr>\n",
       "      <th>1</th>\n",
       "      <td>1:192696196:C:T:A:wC</td>\n",
       "      <td>1</td>\n",
       "      <td>UKBB</td>\n",
       "      <td>33</td>\n",
       "      <td>Depression_GP</td>\n",
       "      <td>0.379639</td>\n",
       "      <td>0.004565</td>\n",
       "      <td>-0.244395</td>\n",
       "      <td>0.162169</td>\n",
       "      <td>0.186394</td>\n",
       "      <td>0.118952</td>\n",
       "      <td>CATAAAGATGAGGCTTGGCAAAGAACATCTCTCGGTGCCTCCCATT...</td>\n",
       "      <td>-0.147521</td>\n",
       "      <td>-0.183192</td>\n",
       "      <td>-0.356858</td>\n",
       "    </tr>\n",
       "    <tr>\n",
       "      <th>2</th>\n",
       "      <td>1:211209457:C:T:A:wC</td>\n",
       "      <td>1</td>\n",
       "      <td>UKBB</td>\n",
       "      <td>33</td>\n",
       "      <td>CAD</td>\n",
       "      <td>0.036707</td>\n",
       "      <td>0.384537</td>\n",
       "      <td>-0.004578</td>\n",
       "      <td>0.098391</td>\n",
       "      <td>0.121640</td>\n",
       "      <td>0.087458</td>\n",
       "      <td>CATAAAGCCAATCACTGAGATGACAAGTACTGCCAGGAAAGAAGGC...</td>\n",
       "      <td>-0.171176</td>\n",
       "      <td>0.195917</td>\n",
       "      <td>-0.020640</td>\n",
       "    </tr>\n",
       "    <tr>\n",
       "      <th>3</th>\n",
       "      <td>15:89574440:GT:G:R:wC</td>\n",
       "      <td>15</td>\n",
       "      <td>UKBB</td>\n",
       "      <td>33</td>\n",
       "      <td>CAD</td>\n",
       "      <td>4.508784</td>\n",
       "      <td>4.116494</td>\n",
       "      <td>3.040183</td>\n",
       "      <td>0.157035</td>\n",
       "      <td>0.209049</td>\n",
       "      <td>0.195014</td>\n",
       "      <td>CATAAAGGCAGTGTAGACCCAAACAGTGAGCAGTAGCAAGATTTAT...</td>\n",
       "      <td>4.552554</td>\n",
       "      <td>3.782228</td>\n",
       "      <td>4.054496</td>\n",
       "    </tr>\n",
       "    <tr>\n",
       "      <th>4</th>\n",
       "      <td>12:63513920:G:A:A:wC</td>\n",
       "      <td>12</td>\n",
       "      <td>UKBB</td>\n",
       "      <td>32</td>\n",
       "      <td>Morning_Person</td>\n",
       "      <td>1.616602</td>\n",
       "      <td>1.423444</td>\n",
       "      <td>1.335892</td>\n",
       "      <td>0.159670</td>\n",
       "      <td>0.148307</td>\n",
       "      <td>0.224775</td>\n",
       "      <td>CATAAAGGGCTGAACATGCTGTTGAAAAAATGTAGATATAAAAGTT...</td>\n",
       "      <td>1.276844</td>\n",
       "      <td>1.127613</td>\n",
       "      <td>1.073648</td>\n",
       "    </tr>\n",
       "    <tr>\n",
       "      <th>...</th>\n",
       "      <td>...</td>\n",
       "      <td>...</td>\n",
       "      <td>...</td>\n",
       "      <td>...</td>\n",
       "      <td>...</td>\n",
       "      <td>...</td>\n",
       "      <td>...</td>\n",
       "      <td>...</td>\n",
       "      <td>...</td>\n",
       "      <td>...</td>\n",
       "      <td>...</td>\n",
       "      <td>...</td>\n",
       "      <td>...</td>\n",
       "      <td>...</td>\n",
       "      <td>...</td>\n",
       "    </tr>\n",
       "    <tr>\n",
       "      <th>717736</th>\n",
       "      <td>4:44680358:NA:NA</td>\n",
       "      <td>4</td>\n",
       "      <td>CRE</td>\n",
       "      <td>15</td>\n",
       "      <td>K27_All</td>\n",
       "      <td>7.443810</td>\n",
       "      <td>5.344297</td>\n",
       "      <td>6.585129</td>\n",
       "      <td>0.097905</td>\n",
       "      <td>0.069708</td>\n",
       "      <td>0.140760</td>\n",
       "      <td>CAGTAGTAAGAAAGAGACAATGCAAAGGAATTGGCACAGCACTCAG...</td>\n",
       "      <td>4.823985</td>\n",
       "      <td>4.611618</td>\n",
       "      <td>5.402607</td>\n",
       "    </tr>\n",
       "    <tr>\n",
       "      <th>717737</th>\n",
       "      <td>18:9125893:NA:NA</td>\n",
       "      <td>18</td>\n",
       "      <td>CRE</td>\n",
       "      <td>15</td>\n",
       "      <td>K27_Uniq</td>\n",
       "      <td>-0.204913</td>\n",
       "      <td>-0.156933</td>\n",
       "      <td>-0.209358</td>\n",
       "      <td>0.133052</td>\n",
       "      <td>0.157279</td>\n",
       "      <td>0.185115</td>\n",
       "      <td>CAGTACTGCTGGCCCCAGAAAAGCCCCTCTCCTTATACCCTAGGCC...</td>\n",
       "      <td>-0.096624</td>\n",
       "      <td>0.147689</td>\n",
       "      <td>-0.033426</td>\n",
       "    </tr>\n",
       "    <tr>\n",
       "      <th>717738</th>\n",
       "      <td>12:33905808:NA:NA</td>\n",
       "      <td>12</td>\n",
       "      <td>CRE</td>\n",
       "      <td>15</td>\n",
       "      <td>K27_Uniq</td>\n",
       "      <td>1.218233</td>\n",
       "      <td>0.613623</td>\n",
       "      <td>0.569894</td>\n",
       "      <td>0.127132</td>\n",
       "      <td>0.167222</td>\n",
       "      <td>0.190639</td>\n",
       "      <td>CAGTACCTTGTCCCCACTTCCCATTTGGCCTCTGGCAGAGGAGGAG...</td>\n",
       "      <td>1.395628</td>\n",
       "      <td>0.742739</td>\n",
       "      <td>0.536832</td>\n",
       "    </tr>\n",
       "    <tr>\n",
       "      <th>717739</th>\n",
       "      <td>3:128145854:NA:NA</td>\n",
       "      <td>3</td>\n",
       "      <td>CRE</td>\n",
       "      <td>15</td>\n",
       "      <td>K27_Uniq</td>\n",
       "      <td>-0.222234</td>\n",
       "      <td>-0.338764</td>\n",
       "      <td>-0.817852</td>\n",
       "      <td>0.159002</td>\n",
       "      <td>0.198187</td>\n",
       "      <td>0.238637</td>\n",
       "      <td>CAGTACACCCCAGCTTCCAAAGGCCTTCTGTGACAAAGAGAGACTA...</td>\n",
       "      <td>-0.097387</td>\n",
       "      <td>-0.072233</td>\n",
       "      <td>-0.320700</td>\n",
       "    </tr>\n",
       "    <tr>\n",
       "      <th>717740</th>\n",
       "      <td>2:42731164:NA:NA</td>\n",
       "      <td>2</td>\n",
       "      <td>CRE</td>\n",
       "      <td>15</td>\n",
       "      <td>K27_Uniq</td>\n",
       "      <td>1.064113</td>\n",
       "      <td>0.099737</td>\n",
       "      <td>0.525217</td>\n",
       "      <td>0.118288</td>\n",
       "      <td>0.161234</td>\n",
       "      <td>0.171828</td>\n",
       "      <td>TTTTTTTTTTTTTTTTGAGATGGAGTTTCCCTCTTGTCACCCAGGC...</td>\n",
       "      <td>0.732538</td>\n",
       "      <td>0.516058</td>\n",
       "      <td>0.661904</td>\n",
       "    </tr>\n",
       "  </tbody>\n",
       "</table>\n",
       "<p>717741 rows × 15 columns</p>\n",
       "</div>"
      ],
      "text/plain": [
       "                          IDs chr data_project  OL           class  \\\n",
       "0         7:70038969:G:T:A:wC   7         UKBB  29         BMI,BFP   \n",
       "1        1:192696196:C:T:A:wC   1         UKBB  33   Depression_GP   \n",
       "2        1:211209457:C:T:A:wC   1         UKBB  33             CAD   \n",
       "3       15:89574440:GT:G:R:wC  15         UKBB  33             CAD   \n",
       "4        12:63513920:G:A:A:wC  12         UKBB  32  Morning_Person   \n",
       "...                       ...  ..          ...  ..             ...   \n",
       "717736       4:44680358:NA:NA   4          CRE  15         K27_All   \n",
       "717737       18:9125893:NA:NA  18          CRE  15        K27_Uniq   \n",
       "717738      12:33905808:NA:NA  12          CRE  15        K27_Uniq   \n",
       "717739      3:128145854:NA:NA   3          CRE  15        K27_Uniq   \n",
       "717740       2:42731164:NA:NA   2          CRE  15        K27_Uniq   \n",
       "\n",
       "        K562_log2FC  HepG2_log2FC  SKNSH_log2FC  K562_lfcSE  HepG2_lfcSE  \\\n",
       "0          0.060779      0.233601      0.047194    0.098795     0.118254   \n",
       "1          0.379639      0.004565     -0.244395    0.162169     0.186394   \n",
       "2          0.036707      0.384537     -0.004578    0.098391     0.121640   \n",
       "3          4.508784      4.116494      3.040183    0.157035     0.209049   \n",
       "4          1.616602      1.423444      1.335892    0.159670     0.148307   \n",
       "...             ...           ...           ...         ...          ...   \n",
       "717736     7.443810      5.344297      6.585129    0.097905     0.069708   \n",
       "717737    -0.204913     -0.156933     -0.209358    0.133052     0.157279   \n",
       "717738     1.218233      0.613623      0.569894    0.127132     0.167222   \n",
       "717739    -0.222234     -0.338764     -0.817852    0.159002     0.198187   \n",
       "717740     1.064113      0.099737      0.525217    0.118288     0.161234   \n",
       "\n",
       "        SKNSH_lfcSE                                           sequence  \\\n",
       "0          0.130671  CCTGGTCTTTCTTGCTAAATAAACATATCGTGCATCATCCAGATCT...   \n",
       "1          0.118952  CATAAAGATGAGGCTTGGCAAAGAACATCTCTCGGTGCCTCCCATT...   \n",
       "2          0.087458  CATAAAGCCAATCACTGAGATGACAAGTACTGCCAGGAAAGAAGGC...   \n",
       "3          0.195014  CATAAAGGCAGTGTAGACCCAAACAGTGAGCAGTAGCAAGATTTAT...   \n",
       "4          0.224775  CATAAAGGGCTGAACATGCTGTTGAAAAAATGTAGATATAAAAGTT...   \n",
       "...             ...                                                ...   \n",
       "717736     0.140760  CAGTAGTAAGAAAGAGACAATGCAAAGGAATTGGCACAGCACTCAG...   \n",
       "717737     0.185115  CAGTACTGCTGGCCCCAGAAAAGCCCCTCTCCTTATACCCTAGGCC...   \n",
       "717738     0.190639  CAGTACCTTGTCCCCACTTCCCATTTGGCCTCTGGCAGAGGAGGAG...   \n",
       "717739     0.238637  CAGTACACCCCAGCTTCCAAAGGCCTTCTGTGACAAAGAGAGACTA...   \n",
       "717740     0.171828  TTTTTTTTTTTTTTTTGAGATGGAGTTTCCCTCTTGTCACCCAGGC...   \n",
       "\n",
       "        K562_preds  HepG2_preds  SKNSH_preds  \n",
       "0         0.022539     0.491981     0.470595  \n",
       "1        -0.147521    -0.183192    -0.356858  \n",
       "2        -0.171176     0.195917    -0.020640  \n",
       "3         4.552554     3.782228     4.054496  \n",
       "4         1.276844     1.127613     1.073648  \n",
       "...            ...          ...          ...  \n",
       "717736    4.823985     4.611618     5.402607  \n",
       "717737   -0.096624     0.147689    -0.033426  \n",
       "717738    1.395628     0.742739     0.536832  \n",
       "717739   -0.097387    -0.072233    -0.320700  \n",
       "717740    0.732538     0.516058     0.661904  \n",
       "\n",
       "[717741 rows x 15 columns]"
      ]
     },
     "execution_count": 10,
     "metadata": {},
     "output_type": "execute_result"
    }
   ],
   "source": [
    "pred_df     = pd.DataFrame( predictions.numpy(), columns=['K562_preds', 'HepG2_preds', 'SKNSH_preds'] )\n",
    "all_results = pd.concat([pass_seq, pred_df], axis=1)\n",
    "all_results"
   ]
  },
  {
   "cell_type": "markdown",
   "id": "5dc2b256-bc0c-4387-bf6f-5732d1330f2e",
   "metadata": {},
   "source": [
    "# Validation set performance\n",
    "Check performance on chromosomes 19, 21, and X (held-out for validation during hparam selection)."
   ]
  },
  {
   "cell_type": "code",
   "execution_count": 11,
   "id": "6482e844-48dd-4704-b4c6-9037e75d91e0",
   "metadata": {},
   "outputs": [],
   "source": [
    "chr_filter = (all_results['chr'] == 19) | \\\n",
    "             (all_results['chr'] == 21) | \\\n",
    "             (all_results['chr'] == '19') | \\\n",
    "             (all_results['chr'] == '21') | \\\n",
    "             (all_results['chr'] == 'X')\n",
    "\n",
    "val_results = all_results.loc[ chr_filter ]"
   ]
  },
  {
   "cell_type": "markdown",
   "id": "bcdbf374-5baf-41fc-8609-cd9eed570bbc",
   "metadata": {},
   "source": [
    "## Pearson's r"
   ]
  },
  {
   "cell_type": "code",
   "execution_count": 12,
   "id": "b59cea9d-dfa5-46d8-b871-7ba09db473b4",
   "metadata": {},
   "outputs": [
    {
     "name": "stdout",
     "output_type": "stream",
     "text": [
      "K562\n",
      "stat: 0.9131, pvalue: 0.0\n",
      "HepG2\n",
      "stat: 0.9110, pvalue: 0.0\n",
      "SKNSH\n",
      "stat: 0.9073, pvalue: 0.0\n"
     ]
    }
   ],
   "source": [
    "for cell in ['K562', 'HepG2', 'SKNSH']:\n",
    "    corr = pearsonr(val_results[f'{cell}_log2FC'], val_results[f'{cell}_preds'])\n",
    "    print(cell)\n",
    "    print(f'stat: {corr[0]:.4f}, pvalue: {corr[1]}')"
   ]
  },
  {
   "cell_type": "markdown",
   "id": "5df3e87d-1f39-4f3c-a9b0-92174faf98f2",
   "metadata": {},
   "source": [
    "## Spearman's rho"
   ]
  },
  {
   "cell_type": "code",
   "execution_count": 13,
   "id": "4641ddc2-5e3e-4d82-8278-2af16aca7a2b",
   "metadata": {},
   "outputs": [
    {
     "name": "stdout",
     "output_type": "stream",
     "text": [
      "K562\n",
      "stat: 0.8405, pvalue: 0.0\n",
      "HepG2\n",
      "stat: 0.8615, pvalue: 0.0\n",
      "SKNSH\n",
      "stat: 0.8588, pvalue: 0.0\n"
     ]
    }
   ],
   "source": [
    "for cell in ['K562', 'HepG2', 'SKNSH']:\n",
    "    corr = spearmanr(val_results[f'{cell}_log2FC'], val_results[f'{cell}_preds'])\n",
    "    print(cell)\n",
    "    print(f'stat: {corr[0]:.4f}, pvalue: {corr[1]}')"
   ]
  },
  {
   "cell_type": "markdown",
   "id": "0995d807-03c3-4dbc-b8f0-ed4e7c43281e",
   "metadata": {},
   "source": [
    "# Test set performance\n",
    "Check performance on chromosomes 7 and 13 (held-out for final testing, not used for model selection)."
   ]
  },
  {
   "cell_type": "code",
   "execution_count": 14,
   "id": "cb49832b-346f-49e6-80a1-fc16857d7ab3",
   "metadata": {},
   "outputs": [],
   "source": [
    "chr_filter = (all_results['chr'] == 7) | \\\n",
    "             (all_results['chr'] == 13) | \\\n",
    "             (all_results['chr'] == '7') | \\\n",
    "             (all_results['chr'] == '13')\n",
    "\n",
    "test_results = all_results.loc[ chr_filter ]"
   ]
  },
  {
   "cell_type": "markdown",
   "id": "433fb2ac-341d-459d-afb6-0aeb4a33cfb1",
   "metadata": {},
   "source": [
    "## Pearson's r"
   ]
  },
  {
   "cell_type": "code",
   "execution_count": 15,
   "id": "f06c671d-9258-47d4-87d7-fa7730574e8d",
   "metadata": {},
   "outputs": [
    {
     "name": "stdout",
     "output_type": "stream",
     "text": [
      "K562\n",
      "stat: 0.8842, pvalue: 0.0\n",
      "HepG2\n",
      "stat: 0.8880, pvalue: 0.0\n",
      "SKNSH\n",
      "stat: 0.8785, pvalue: 0.0\n"
     ]
    }
   ],
   "source": [
    "for cell in ['K562', 'HepG2', 'SKNSH']:\n",
    "    corr = pearsonr(test_results[f'{cell}_log2FC'], test_results[f'{cell}_preds'])\n",
    "    print(cell)\n",
    "    print(f'stat: {corr[0]:.4f}, pvalue: {corr[1]}')"
   ]
  },
  {
   "cell_type": "markdown",
   "id": "a26ce3a4-7080-487a-ba89-85ad91317a05",
   "metadata": {},
   "source": [
    "## Spearman's rho"
   ]
  },
  {
   "cell_type": "code",
   "execution_count": 16,
   "id": "f307e090-9688-42ac-aebb-4e9d20bf3dab",
   "metadata": {},
   "outputs": [
    {
     "name": "stdout",
     "output_type": "stream",
     "text": [
      "K562\n",
      "stat: 0.8104, pvalue: 0.0\n",
      "HepG2\n",
      "stat: 0.8334, pvalue: 0.0\n",
      "SKNSH\n",
      "stat: 0.8306, pvalue: 0.0\n"
     ]
    }
   ],
   "source": [
    "test_results = all_results.loc[ chr_filter ]\n",
    "\n",
    "for cell in ['K562', 'HepG2', 'SKNSH']:\n",
    "    corr = spearmanr(test_results[f'{cell}_log2FC'], test_results[f'{cell}_preds'])\n",
    "    print(cell)\n",
    "    print(f'stat: {corr[0]:.4f}, pvalue: {corr[1]}')"
   ]
  }
 ],
 "metadata": {
  "kernelspec": {
   "display_name": "Python [conda env:root] *",
   "language": "python",
   "name": "conda-root-py"
  },
  "language_info": {
   "codemirror_mode": {
    "name": "ipython",
    "version": 3
   },
   "file_extension": ".py",
   "mimetype": "text/x-python",
   "name": "python",
   "nbconvert_exporter": "python",
   "pygments_lexer": "ipython3",
   "version": "3.7.12"
  }
 },
 "nbformat": 4,
 "nbformat_minor": 5
}
