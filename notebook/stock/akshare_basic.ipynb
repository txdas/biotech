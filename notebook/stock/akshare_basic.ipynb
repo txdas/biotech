{
 "cells": [
  {
   "cell_type": "code",
   "id": "initial_id",
   "metadata": {
    "collapsed": true,
    "ExecuteTime": {
     "end_time": "2025-01-06T03:51:28.062747Z",
     "start_time": "2025-01-06T03:42:18.055205Z"
    }
   },
   "source": [
    "import akshare as ak\n",
    "import pandas as pd\n",
    "import tqdm\n",
    "sdf = pd.read_csv(\"stock_today.csv\")\n",
    "lst = []\n",
    "for k in tqdm.tqdm(sdf[\"code\"]):\n",
    "    r = ak.stock_individual_info_em(symbol=k[2:])\n",
    "    r = dict(zip(r[\"item\"],r[\"value\"]))\n",
    "    r[\"股票代码\"] = k\n",
    "    lst.append(r)\n",
    "df = pd.DataFrame(lst)\n",
    "df = df.rename(columns={\"总市值\":\"total_amount\", \"流通市值\":\"market_amount\", \"行业\":\"industry\",\n",
    "                   \"上市时间\":\"create_time\", \"股票代码\":\"code\", \"股票简称\":\"name\",\n",
    "                   \"总股本\":\"total_volume\", \"流通股\":\"market_volume\"})\n",
    "df.to_csv(\"stock_basic.csv\",index=False)"
   ],
   "outputs": [
    {
     "name": "stderr",
     "output_type": "stream",
     "text": [
      "100%|██████████| 4549/4549 [09:09<00:00,  8.27it/s]\n"
     ]
    }
   ],
   "execution_count": 19
  },
  {
   "metadata": {
    "ExecuteTime": {
     "end_time": "2025-01-06T03:40:05.138349Z",
     "start_time": "2025-01-06T03:40:05.125684Z"
    }
   },
   "cell_type": "code",
   "source": [
    "df = df.rename(columns={\"总市值\":\"total_amount\", \"流通市值\":\"market_amount\", \"行业\":\"industry\",\n",
    "                   \"上市时间\":\"create_time\", \"股票代码\":\"code\", \"股票简称\":\"name\",\n",
    "                   \"总股本\":\"total_volume\", \"流通股\":\"market_volume\"})"
   ],
   "id": "1ce9c071f208f359",
   "outputs": [],
   "execution_count": 16
  },
  {
   "metadata": {
    "ExecuteTime": {
     "end_time": "2025-01-06T04:11:06.576305Z",
     "start_time": "2025-01-06T04:11:06.566202Z"
    }
   },
   "cell_type": "code",
   "source": "df[\"industry\"].drop_duplicates().reindex().to_csv(\"industry.csv\")",
   "id": "d800e5679d478455",
   "outputs": [],
   "execution_count": 23
  }
 ],
 "metadata": {
  "kernelspec": {
   "display_name": "Python 3",
   "language": "python",
   "name": "python3"
  },
  "language_info": {
   "codemirror_mode": {
    "name": "ipython",
    "version": 2
   },
   "file_extension": ".py",
   "mimetype": "text/x-python",
   "name": "python",
   "nbconvert_exporter": "python",
   "pygments_lexer": "ipython2",
   "version": "2.7.6"
  }
 },
 "nbformat": 4,
 "nbformat_minor": 5
}
