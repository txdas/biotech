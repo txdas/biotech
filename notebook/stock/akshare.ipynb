{
 "cells": [
  {
   "cell_type": "code",
   "id": "d31e7457-528b-4b0c-93e1-36b7b685bf02",
   "metadata": {
    "scrolled": true,
    "ExecuteTime": {
     "end_time": "2024-12-30T02:39:52.999839Z",
     "start_time": "2024-12-30T02:39:47.827702Z"
    }
   },
   "source": [
    "import tqdm \n",
    "import pandas as pd\n",
    "import akshare as ak\n",
    "\n",
    "def filter_shsz(v):\n",
    "    code,name = v[\"code\"],v[\"name\"]\n",
    "    if code.startswith(\"68\") or code.startswith(\"8\")or code.startswith(\"4\"):\n",
    "        return False\n",
    "    elif \"ST\" in name or \"退市\" in name or \"C\" in name:\n",
    "        return False\n",
    "    elif code[0] not in (\"0\",\"3\",\"6\"):\n",
    "        return False\n",
    "    return True\n",
    "\n",
    "def reform_shsz(code):\n",
    "    if code.startswith(\"3\") or code.startswith(\"00\"):\n",
    "        return \"sz\"+code\n",
    "    elif code.startswith(\"6\"):\n",
    "        return \"sh\"+code\n",
    "    return code\n",
    "    \n",
    "    \n",
    "    \n",
    "df = ak.stock_zh_a_spot_em()\n",
    "df = df.rename(columns={\"代码\":\"code\",\"名称\":\"name\"})\n",
    "df = df[df.apply(filter_shsz,axis=1)]\n",
    "df[\"code\"] = df[\"code\"].apply(reform_shsz)\n",
    "cdf = df[[\"code\",\"name\"]]\n",
    "lst = []\n",
    "hdf = pd.read_csv(\"stock_hist.csv\")\n",
    "hs = set(hdf[\"code\"].drop_duplicates())\n",
    "cdf = cdf[~cdf.code.isin(hs)]\n",
    "lst = [hdf]\n",
    "bar = tqdm.tqdm(total =cdf.shape[0])\n",
    "\n",
    "for i,(idx,v)in enumerate(cdf.iterrows()):\n",
    "    bar.update()\n",
    "    if i>1000:\n",
    "        break\n",
    "    try:\n",
    "        tdf = ak.stock_zh_a_cdr_daily(symbol=v[\"code\"], start_date=\"20241116\")[[\"date\",\"open\",\"high\",\"low\",\"close\",\"volume\",\"amount\"]]\n",
    "        tdf[[\"code\",\"name\"]]=(v[\"code\"],v[\"name\"])\n",
    "        lst.append(tdf)\n",
    "    except:\n",
    "        print(v)\n",
    "if len(lst)>1:\n",
    "    hdf = pd.concat(lst)\n",
    "    hdf['code'] = hdf['code'].astype(str)\n",
    "    hdf.to_csv(\"stock_hist.csv\",index=False)\n"
   ],
   "outputs": [
    {
     "name": "stderr",
     "output_type": "stream",
     "text": [
      "/Users/john/anaconda3/lib/python3.11/site-packages/akshare/__init__.py:2977: UserWarning: 为了支持更多特性，请将 Pandas 升级到 2.2.0 及以上版本！\n",
      "  warnings.warn(\n"
     ]
    },
    {
     "ename": "FileNotFoundError",
     "evalue": "[Errno 2] No such file or directory: 'stock_hist.csv'",
     "output_type": "error",
     "traceback": [
      "\u001B[0;31m---------------------------------------------------------------------------\u001B[0m",
      "\u001B[0;31mFileNotFoundError\u001B[0m                         Traceback (most recent call last)",
      "Cell \u001B[0;32mIn[1], line 30\u001B[0m\n\u001B[1;32m     28\u001B[0m cdf \u001B[38;5;241m=\u001B[39m df[[\u001B[38;5;124m\"\u001B[39m\u001B[38;5;124mcode\u001B[39m\u001B[38;5;124m\"\u001B[39m,\u001B[38;5;124m\"\u001B[39m\u001B[38;5;124mname\u001B[39m\u001B[38;5;124m\"\u001B[39m]]\n\u001B[1;32m     29\u001B[0m lst \u001B[38;5;241m=\u001B[39m []\n\u001B[0;32m---> 30\u001B[0m hdf \u001B[38;5;241m=\u001B[39m pd\u001B[38;5;241m.\u001B[39mread_csv(\u001B[38;5;124m\"\u001B[39m\u001B[38;5;124mstock_hist.csv\u001B[39m\u001B[38;5;124m\"\u001B[39m)\n\u001B[1;32m     31\u001B[0m hs \u001B[38;5;241m=\u001B[39m \u001B[38;5;28mset\u001B[39m(hdf[\u001B[38;5;124m\"\u001B[39m\u001B[38;5;124mcode\u001B[39m\u001B[38;5;124m\"\u001B[39m]\u001B[38;5;241m.\u001B[39mdrop_duplicates())\n\u001B[1;32m     32\u001B[0m cdf \u001B[38;5;241m=\u001B[39m cdf[\u001B[38;5;241m~\u001B[39mcdf\u001B[38;5;241m.\u001B[39mcode\u001B[38;5;241m.\u001B[39misin(hs)]\n",
      "File \u001B[0;32m~/anaconda3/lib/python3.11/site-packages/pandas/util/_decorators.py:211\u001B[0m, in \u001B[0;36mdeprecate_kwarg.<locals>._deprecate_kwarg.<locals>.wrapper\u001B[0;34m(*args, **kwargs)\u001B[0m\n\u001B[1;32m    209\u001B[0m     \u001B[38;5;28;01melse\u001B[39;00m:\n\u001B[1;32m    210\u001B[0m         kwargs[new_arg_name] \u001B[38;5;241m=\u001B[39m new_arg_value\n\u001B[0;32m--> 211\u001B[0m \u001B[38;5;28;01mreturn\u001B[39;00m func(\u001B[38;5;241m*\u001B[39margs, \u001B[38;5;241m*\u001B[39m\u001B[38;5;241m*\u001B[39mkwargs)\n",
      "File \u001B[0;32m~/anaconda3/lib/python3.11/site-packages/pandas/util/_decorators.py:331\u001B[0m, in \u001B[0;36mdeprecate_nonkeyword_arguments.<locals>.decorate.<locals>.wrapper\u001B[0;34m(*args, **kwargs)\u001B[0m\n\u001B[1;32m    325\u001B[0m \u001B[38;5;28;01mif\u001B[39;00m \u001B[38;5;28mlen\u001B[39m(args) \u001B[38;5;241m>\u001B[39m num_allow_args:\n\u001B[1;32m    326\u001B[0m     warnings\u001B[38;5;241m.\u001B[39mwarn(\n\u001B[1;32m    327\u001B[0m         msg\u001B[38;5;241m.\u001B[39mformat(arguments\u001B[38;5;241m=\u001B[39m_format_argument_list(allow_args)),\n\u001B[1;32m    328\u001B[0m         \u001B[38;5;167;01mFutureWarning\u001B[39;00m,\n\u001B[1;32m    329\u001B[0m         stacklevel\u001B[38;5;241m=\u001B[39mfind_stack_level(),\n\u001B[1;32m    330\u001B[0m     )\n\u001B[0;32m--> 331\u001B[0m \u001B[38;5;28;01mreturn\u001B[39;00m func(\u001B[38;5;241m*\u001B[39margs, \u001B[38;5;241m*\u001B[39m\u001B[38;5;241m*\u001B[39mkwargs)\n",
      "File \u001B[0;32m~/anaconda3/lib/python3.11/site-packages/pandas/io/parsers/readers.py:950\u001B[0m, in \u001B[0;36mread_csv\u001B[0;34m(filepath_or_buffer, sep, delimiter, header, names, index_col, usecols, squeeze, prefix, mangle_dupe_cols, dtype, engine, converters, true_values, false_values, skipinitialspace, skiprows, skipfooter, nrows, na_values, keep_default_na, na_filter, verbose, skip_blank_lines, parse_dates, infer_datetime_format, keep_date_col, date_parser, dayfirst, cache_dates, iterator, chunksize, compression, thousands, decimal, lineterminator, quotechar, quoting, doublequote, escapechar, comment, encoding, encoding_errors, dialect, error_bad_lines, warn_bad_lines, on_bad_lines, delim_whitespace, low_memory, memory_map, float_precision, storage_options)\u001B[0m\n\u001B[1;32m    935\u001B[0m kwds_defaults \u001B[38;5;241m=\u001B[39m _refine_defaults_read(\n\u001B[1;32m    936\u001B[0m     dialect,\n\u001B[1;32m    937\u001B[0m     delimiter,\n\u001B[0;32m   (...)\u001B[0m\n\u001B[1;32m    946\u001B[0m     defaults\u001B[38;5;241m=\u001B[39m{\u001B[38;5;124m\"\u001B[39m\u001B[38;5;124mdelimiter\u001B[39m\u001B[38;5;124m\"\u001B[39m: \u001B[38;5;124m\"\u001B[39m\u001B[38;5;124m,\u001B[39m\u001B[38;5;124m\"\u001B[39m},\n\u001B[1;32m    947\u001B[0m )\n\u001B[1;32m    948\u001B[0m kwds\u001B[38;5;241m.\u001B[39mupdate(kwds_defaults)\n\u001B[0;32m--> 950\u001B[0m \u001B[38;5;28;01mreturn\u001B[39;00m _read(filepath_or_buffer, kwds)\n",
      "File \u001B[0;32m~/anaconda3/lib/python3.11/site-packages/pandas/io/parsers/readers.py:605\u001B[0m, in \u001B[0;36m_read\u001B[0;34m(filepath_or_buffer, kwds)\u001B[0m\n\u001B[1;32m    602\u001B[0m _validate_names(kwds\u001B[38;5;241m.\u001B[39mget(\u001B[38;5;124m\"\u001B[39m\u001B[38;5;124mnames\u001B[39m\u001B[38;5;124m\"\u001B[39m, \u001B[38;5;28;01mNone\u001B[39;00m))\n\u001B[1;32m    604\u001B[0m \u001B[38;5;66;03m# Create the parser.\u001B[39;00m\n\u001B[0;32m--> 605\u001B[0m parser \u001B[38;5;241m=\u001B[39m TextFileReader(filepath_or_buffer, \u001B[38;5;241m*\u001B[39m\u001B[38;5;241m*\u001B[39mkwds)\n\u001B[1;32m    607\u001B[0m \u001B[38;5;28;01mif\u001B[39;00m chunksize \u001B[38;5;129;01mor\u001B[39;00m iterator:\n\u001B[1;32m    608\u001B[0m     \u001B[38;5;28;01mreturn\u001B[39;00m parser\n",
      "File \u001B[0;32m~/anaconda3/lib/python3.11/site-packages/pandas/io/parsers/readers.py:1442\u001B[0m, in \u001B[0;36mTextFileReader.__init__\u001B[0;34m(self, f, engine, **kwds)\u001B[0m\n\u001B[1;32m   1439\u001B[0m     \u001B[38;5;28mself\u001B[39m\u001B[38;5;241m.\u001B[39moptions[\u001B[38;5;124m\"\u001B[39m\u001B[38;5;124mhas_index_names\u001B[39m\u001B[38;5;124m\"\u001B[39m] \u001B[38;5;241m=\u001B[39m kwds[\u001B[38;5;124m\"\u001B[39m\u001B[38;5;124mhas_index_names\u001B[39m\u001B[38;5;124m\"\u001B[39m]\n\u001B[1;32m   1441\u001B[0m \u001B[38;5;28mself\u001B[39m\u001B[38;5;241m.\u001B[39mhandles: IOHandles \u001B[38;5;241m|\u001B[39m \u001B[38;5;28;01mNone\u001B[39;00m \u001B[38;5;241m=\u001B[39m \u001B[38;5;28;01mNone\u001B[39;00m\n\u001B[0;32m-> 1442\u001B[0m \u001B[38;5;28mself\u001B[39m\u001B[38;5;241m.\u001B[39m_engine \u001B[38;5;241m=\u001B[39m \u001B[38;5;28mself\u001B[39m\u001B[38;5;241m.\u001B[39m_make_engine(f, \u001B[38;5;28mself\u001B[39m\u001B[38;5;241m.\u001B[39mengine)\n",
      "File \u001B[0;32m~/anaconda3/lib/python3.11/site-packages/pandas/io/parsers/readers.py:1735\u001B[0m, in \u001B[0;36mTextFileReader._make_engine\u001B[0;34m(self, f, engine)\u001B[0m\n\u001B[1;32m   1733\u001B[0m     \u001B[38;5;28;01mif\u001B[39;00m \u001B[38;5;124m\"\u001B[39m\u001B[38;5;124mb\u001B[39m\u001B[38;5;124m\"\u001B[39m \u001B[38;5;129;01mnot\u001B[39;00m \u001B[38;5;129;01min\u001B[39;00m mode:\n\u001B[1;32m   1734\u001B[0m         mode \u001B[38;5;241m+\u001B[39m\u001B[38;5;241m=\u001B[39m \u001B[38;5;124m\"\u001B[39m\u001B[38;5;124mb\u001B[39m\u001B[38;5;124m\"\u001B[39m\n\u001B[0;32m-> 1735\u001B[0m \u001B[38;5;28mself\u001B[39m\u001B[38;5;241m.\u001B[39mhandles \u001B[38;5;241m=\u001B[39m get_handle(\n\u001B[1;32m   1736\u001B[0m     f,\n\u001B[1;32m   1737\u001B[0m     mode,\n\u001B[1;32m   1738\u001B[0m     encoding\u001B[38;5;241m=\u001B[39m\u001B[38;5;28mself\u001B[39m\u001B[38;5;241m.\u001B[39moptions\u001B[38;5;241m.\u001B[39mget(\u001B[38;5;124m\"\u001B[39m\u001B[38;5;124mencoding\u001B[39m\u001B[38;5;124m\"\u001B[39m, \u001B[38;5;28;01mNone\u001B[39;00m),\n\u001B[1;32m   1739\u001B[0m     compression\u001B[38;5;241m=\u001B[39m\u001B[38;5;28mself\u001B[39m\u001B[38;5;241m.\u001B[39moptions\u001B[38;5;241m.\u001B[39mget(\u001B[38;5;124m\"\u001B[39m\u001B[38;5;124mcompression\u001B[39m\u001B[38;5;124m\"\u001B[39m, \u001B[38;5;28;01mNone\u001B[39;00m),\n\u001B[1;32m   1740\u001B[0m     memory_map\u001B[38;5;241m=\u001B[39m\u001B[38;5;28mself\u001B[39m\u001B[38;5;241m.\u001B[39moptions\u001B[38;5;241m.\u001B[39mget(\u001B[38;5;124m\"\u001B[39m\u001B[38;5;124mmemory_map\u001B[39m\u001B[38;5;124m\"\u001B[39m, \u001B[38;5;28;01mFalse\u001B[39;00m),\n\u001B[1;32m   1741\u001B[0m     is_text\u001B[38;5;241m=\u001B[39mis_text,\n\u001B[1;32m   1742\u001B[0m     errors\u001B[38;5;241m=\u001B[39m\u001B[38;5;28mself\u001B[39m\u001B[38;5;241m.\u001B[39moptions\u001B[38;5;241m.\u001B[39mget(\u001B[38;5;124m\"\u001B[39m\u001B[38;5;124mencoding_errors\u001B[39m\u001B[38;5;124m\"\u001B[39m, \u001B[38;5;124m\"\u001B[39m\u001B[38;5;124mstrict\u001B[39m\u001B[38;5;124m\"\u001B[39m),\n\u001B[1;32m   1743\u001B[0m     storage_options\u001B[38;5;241m=\u001B[39m\u001B[38;5;28mself\u001B[39m\u001B[38;5;241m.\u001B[39moptions\u001B[38;5;241m.\u001B[39mget(\u001B[38;5;124m\"\u001B[39m\u001B[38;5;124mstorage_options\u001B[39m\u001B[38;5;124m\"\u001B[39m, \u001B[38;5;28;01mNone\u001B[39;00m),\n\u001B[1;32m   1744\u001B[0m )\n\u001B[1;32m   1745\u001B[0m \u001B[38;5;28;01massert\u001B[39;00m \u001B[38;5;28mself\u001B[39m\u001B[38;5;241m.\u001B[39mhandles \u001B[38;5;129;01mis\u001B[39;00m \u001B[38;5;129;01mnot\u001B[39;00m \u001B[38;5;28;01mNone\u001B[39;00m\n\u001B[1;32m   1746\u001B[0m f \u001B[38;5;241m=\u001B[39m \u001B[38;5;28mself\u001B[39m\u001B[38;5;241m.\u001B[39mhandles\u001B[38;5;241m.\u001B[39mhandle\n",
      "File \u001B[0;32m~/anaconda3/lib/python3.11/site-packages/pandas/io/common.py:856\u001B[0m, in \u001B[0;36mget_handle\u001B[0;34m(path_or_buf, mode, encoding, compression, memory_map, is_text, errors, storage_options)\u001B[0m\n\u001B[1;32m    851\u001B[0m \u001B[38;5;28;01melif\u001B[39;00m \u001B[38;5;28misinstance\u001B[39m(handle, \u001B[38;5;28mstr\u001B[39m):\n\u001B[1;32m    852\u001B[0m     \u001B[38;5;66;03m# Check whether the filename is to be opened in binary mode.\u001B[39;00m\n\u001B[1;32m    853\u001B[0m     \u001B[38;5;66;03m# Binary mode does not support 'encoding' and 'newline'.\u001B[39;00m\n\u001B[1;32m    854\u001B[0m     \u001B[38;5;28;01mif\u001B[39;00m ioargs\u001B[38;5;241m.\u001B[39mencoding \u001B[38;5;129;01mand\u001B[39;00m \u001B[38;5;124m\"\u001B[39m\u001B[38;5;124mb\u001B[39m\u001B[38;5;124m\"\u001B[39m \u001B[38;5;129;01mnot\u001B[39;00m \u001B[38;5;129;01min\u001B[39;00m ioargs\u001B[38;5;241m.\u001B[39mmode:\n\u001B[1;32m    855\u001B[0m         \u001B[38;5;66;03m# Encoding\u001B[39;00m\n\u001B[0;32m--> 856\u001B[0m         handle \u001B[38;5;241m=\u001B[39m \u001B[38;5;28mopen\u001B[39m(\n\u001B[1;32m    857\u001B[0m             handle,\n\u001B[1;32m    858\u001B[0m             ioargs\u001B[38;5;241m.\u001B[39mmode,\n\u001B[1;32m    859\u001B[0m             encoding\u001B[38;5;241m=\u001B[39mioargs\u001B[38;5;241m.\u001B[39mencoding,\n\u001B[1;32m    860\u001B[0m             errors\u001B[38;5;241m=\u001B[39merrors,\n\u001B[1;32m    861\u001B[0m             newline\u001B[38;5;241m=\u001B[39m\u001B[38;5;124m\"\u001B[39m\u001B[38;5;124m\"\u001B[39m,\n\u001B[1;32m    862\u001B[0m         )\n\u001B[1;32m    863\u001B[0m     \u001B[38;5;28;01melse\u001B[39;00m:\n\u001B[1;32m    864\u001B[0m         \u001B[38;5;66;03m# Binary mode\u001B[39;00m\n\u001B[1;32m    865\u001B[0m         handle \u001B[38;5;241m=\u001B[39m \u001B[38;5;28mopen\u001B[39m(handle, ioargs\u001B[38;5;241m.\u001B[39mmode)\n",
      "\u001B[0;31mFileNotFoundError\u001B[0m: [Errno 2] No such file or directory: 'stock_hist.csv'"
     ]
    }
   ],
   "execution_count": 1
  },
  {
   "cell_type": "code",
   "id": "2bf7a69a-64b5-4f93-8783-f54ddb6ad222",
   "metadata": {
    "ExecuteTime": {
     "end_time": "2025-01-03T12:54:49.855950Z",
     "start_time": "2025-01-03T12:54:48.903891Z"
    }
   },
   "source": [
    "import akshare as ak\n",
    "import datetime\n",
    "\n",
    "def filter_shsz(v):\n",
    "    code,name = v[\"code\"],v[\"name\"]\n",
    "    if code.startswith(\"68\") or code.startswith(\"8\")or code.startswith(\"4\"):\n",
    "        return False\n",
    "    elif \"ST\" in name or \"退市\" in name or \"C\" in name:\n",
    "        return False\n",
    "    elif code[0] not in (\"0\",\"3\",\"6\"):\n",
    "        return False\n",
    "    return True\n",
    "\n",
    "\n",
    "def reform_shsz(code):\n",
    "    if code.startswith(\"3\") or code.startswith(\"00\"):\n",
    "        return \"sz\"+code\n",
    "    elif code.startswith(\"6\"):\n",
    "        return \"sh\"+code\n",
    "    return code\n",
    "    \n",
    "today, bias = datetime.datetime.now(), 0\n",
    "cdate = today+datetime.timedelta(days=-bias)\n",
    "cdate = cdate.strftime('%Y-%m-%d')\n",
    "cdf = ak.stock_zh_a_spot_em()\n",
    "cdf = cdf.rename(columns={\"代码\":\"code\",\"名称\":\"name\"})\n",
    "cdf = cdf[cdf.apply(filter_shsz,axis=1)]\n",
    "cdf[\"code\"] = cdf[\"code\"].apply(reform_shsz)\n",
    "cdf = cdf.rename(columns={\"今开\":\"open\",\"最低\":\"low\",\"最高\":\"high\",\"最新价\":\"close\",\n",
    "                         \"成交量\":\"volume\",\"成交额\":\"amount\"})\n",
    "cdf[\"date\"]=cdate\n",
    "frac = 1\n",
    "cdf[\"volume\"] = cdf[\"volume\"]*100*frac\n",
    "cdf[\"amount\"] = cdf[\"amount\"]*frac\n",
    "cdf = cdf[[\"date\",\"code\",\"name\",\"open\",\"low\",\"high\",\"close\",\"volume\",\"amount\"]]\n",
    "# hdf = pd.read_csv(\"stock_hist.csv\")\n",
    "# df = pd.concat([hdf,cdf])\n",
    "# cdf.to_csv(\"stock_today.csv\",index=False)\n",
    "cdf.to_csv(\"stock_today.csv\",index=False)\n",
    "cdf.head()"
   ],
   "outputs": [
    {
     "data": {
      "text/plain": [
       "         date      code  name   open    low    high  close      volume  \\\n",
       "0  2025-01-03  sh603072   N天和  40.00  38.01  100.00  48.00  50782000.0   \n",
       "1  2025-01-03  sz301581  N黄山谷  80.00  69.10   99.99  70.01  15753400.0   \n",
       "4  2025-01-03  sz300615  欣天科技  15.27  14.33   16.55  16.55  48571000.0   \n",
       "5  2025-01-03  sz301568   思泰克  34.20  34.20   40.32  40.32  19704500.0   \n",
       "8  2025-01-03  sz300630  普利制药   6.81   6.55    7.87   7.72  69824800.0   \n",
       "\n",
       "         amount  \n",
       "0  2.549723e+09  \n",
       "1  1.301801e+09  \n",
       "4  7.560458e+08  \n",
       "5  7.788002e+08  \n",
       "8  5.126802e+08  "
      ],
      "text/html": [
       "<div>\n",
       "<style scoped>\n",
       "    .dataframe tbody tr th:only-of-type {\n",
       "        vertical-align: middle;\n",
       "    }\n",
       "\n",
       "    .dataframe tbody tr th {\n",
       "        vertical-align: top;\n",
       "    }\n",
       "\n",
       "    .dataframe thead th {\n",
       "        text-align: right;\n",
       "    }\n",
       "</style>\n",
       "<table border=\"1\" class=\"dataframe\">\n",
       "  <thead>\n",
       "    <tr style=\"text-align: right;\">\n",
       "      <th></th>\n",
       "      <th>date</th>\n",
       "      <th>code</th>\n",
       "      <th>name</th>\n",
       "      <th>open</th>\n",
       "      <th>low</th>\n",
       "      <th>high</th>\n",
       "      <th>close</th>\n",
       "      <th>volume</th>\n",
       "      <th>amount</th>\n",
       "    </tr>\n",
       "  </thead>\n",
       "  <tbody>\n",
       "    <tr>\n",
       "      <th>0</th>\n",
       "      <td>2025-01-03</td>\n",
       "      <td>sh603072</td>\n",
       "      <td>N天和</td>\n",
       "      <td>40.00</td>\n",
       "      <td>38.01</td>\n",
       "      <td>100.00</td>\n",
       "      <td>48.00</td>\n",
       "      <td>50782000.0</td>\n",
       "      <td>2.549723e+09</td>\n",
       "    </tr>\n",
       "    <tr>\n",
       "      <th>1</th>\n",
       "      <td>2025-01-03</td>\n",
       "      <td>sz301581</td>\n",
       "      <td>N黄山谷</td>\n",
       "      <td>80.00</td>\n",
       "      <td>69.10</td>\n",
       "      <td>99.99</td>\n",
       "      <td>70.01</td>\n",
       "      <td>15753400.0</td>\n",
       "      <td>1.301801e+09</td>\n",
       "    </tr>\n",
       "    <tr>\n",
       "      <th>4</th>\n",
       "      <td>2025-01-03</td>\n",
       "      <td>sz300615</td>\n",
       "      <td>欣天科技</td>\n",
       "      <td>15.27</td>\n",
       "      <td>14.33</td>\n",
       "      <td>16.55</td>\n",
       "      <td>16.55</td>\n",
       "      <td>48571000.0</td>\n",
       "      <td>7.560458e+08</td>\n",
       "    </tr>\n",
       "    <tr>\n",
       "      <th>5</th>\n",
       "      <td>2025-01-03</td>\n",
       "      <td>sz301568</td>\n",
       "      <td>思泰克</td>\n",
       "      <td>34.20</td>\n",
       "      <td>34.20</td>\n",
       "      <td>40.32</td>\n",
       "      <td>40.32</td>\n",
       "      <td>19704500.0</td>\n",
       "      <td>7.788002e+08</td>\n",
       "    </tr>\n",
       "    <tr>\n",
       "      <th>8</th>\n",
       "      <td>2025-01-03</td>\n",
       "      <td>sz300630</td>\n",
       "      <td>普利制药</td>\n",
       "      <td>6.81</td>\n",
       "      <td>6.55</td>\n",
       "      <td>7.87</td>\n",
       "      <td>7.72</td>\n",
       "      <td>69824800.0</td>\n",
       "      <td>5.126802e+08</td>\n",
       "    </tr>\n",
       "  </tbody>\n",
       "</table>\n",
       "</div>"
      ]
     },
     "execution_count": 12,
     "metadata": {},
     "output_type": "execute_result"
    }
   ],
   "execution_count": 12
  },
  {
   "cell_type": "code",
   "id": "4918f7e3-a222-442d-aa51-c91028df8f59",
   "metadata": {
    "ExecuteTime": {
     "end_time": "2025-01-03T12:54:55.428927Z",
     "start_time": "2025-01-03T12:54:54.598264Z"
    }
   },
   "source": [
    "import pandas as pd\n",
    "\n",
    "def save_dt():\n",
    "    def get_weekday(cdate):\n",
    "        holidays = set([\"2025-01-01\"])\n",
    "        for i in range(1,5):\n",
    "            ttm = today+datetime.timedelta(days=-bias-i)\n",
    "            if ttm.weekday() <5 and ttm.strftime(\"%Y-%m-%d\") not in holidays:\n",
    "                return ttm\n",
    "\n",
    "    today = datetime.datetime.now()\n",
    "    cdate = today+datetime.timedelta(days=-bias)\n",
    "    pdate = get_weekday(cdate)\n",
    "    cdate,pdate = cdate.strftime('%Y-%m-%d'),pdate.strftime('%Y-%m-%d')\n",
    "    df = pd.read_csv(f\"daily/stock_{pdate}.csv\")\n",
    "    cdf = pd.read_csv(\"stock_today.csv\")\n",
    "    df = pd.concat([df,cdf])\n",
    "    df.to_csv(f\"daily/stock_{cdate}.csv\",index=False)\n",
    "    cdf.to_csv(f\"daily/stock_daily_{cdate}.csv\",index=False)\n",
    "\n",
    "def clean_data(pattern=\"stock_\\d{4}-\\d{2}-\\d{2}.csv\"):\n",
    "    import os, re\n",
    "    lst = []\n",
    "    for r,d, files in os.walk(\"./daily\"):\n",
    "        for f in files:\n",
    "            if re.match(pattern,f):\n",
    "                lst.append(os.path.join(r,f))\n",
    "    for f in sorted(lst)[:-2]:\n",
    "        os.remove(f)\n",
    "\n",
    "save_dt()\n",
    "clean_data()"
   ],
   "outputs": [],
   "execution_count": 13
  },
  {
   "metadata": {
    "ExecuteTime": {
     "end_time": "2025-01-03T13:45:27.295817Z",
     "start_time": "2025-01-03T13:45:25.971165Z"
    }
   },
   "cell_type": "code",
   "source": [
    "import akshare as ak\n",
    "sh = ak.stock_zh_index_daily(symbol=\"sh000001\")[-100:]\n",
    "sz = ak.stock_zh_index_daily(symbol=\"sz399001\")[-100:]\n",
    "def reprocess(df):\n",
    "    df = df.sort_values(by=\"date\",ascending=True).reset_index(drop=True)\n",
    "    changes = []\n",
    "    for i, r in df.iterrows():\n",
    "        change = (df.iloc[i][\"close\"] - df.iloc[i-1][\"close\"])/df.iloc[i-1][\"close\"] if i else 0.0\n",
    "        changes.append(change*100)\n",
    "    df[\"change\"] = changes\n",
    "    return df\n",
    "sh = reprocess(sh)\n",
    "sz = reprocess(sz)\n",
    "sh[\"code\"] = \"sh000001\"\n",
    "sz[\"code\"] = \"sz399001\""
   ],
   "id": "6995ec17d8b2e700",
   "outputs": [],
   "execution_count": 46
  },
  {
   "metadata": {
    "ExecuteTime": {
     "end_time": "2025-01-03T13:53:07.761926Z",
     "start_time": "2025-01-03T13:53:07.456057Z"
    }
   },
   "cell_type": "code",
   "source": [
    "import tqdm\n",
    "import numpy as np\n",
    "from scipy.stats import pearsonr\n",
    "from sklearn.linear_model import LinearRegression\n",
    "cdate = \"2025-01-02\"\n",
    "dz = {\"sh\":sh[\"change\"].values.reshape((-1,1)), \"sz\":sz[\"change\"].values.reshape((-1,1))}\n",
    "df = pd.read_csv(f\"./daily/stock_{cdate}.csv\")\n",
    "for k,g in tqdm.tqdm(df.sort_values(by=\"date\", ascending=False).groupby(\"code\"),\n",
    "                         desc=f\"processing date[{cdate}]\"):\n",
    "    changes = []\n",
    "    values = dz.get(k[:2],dz[\"sh\"])[-len(g):]\n",
    "    g = g.sort_values(by=\"date\",ascending=True).reset_index(drop=True)\n",
    "    for i, r in g.iterrows():\n",
    "        change = (g.iloc[i][\"close\"] - g.iloc[i-1][\"close\"])/g.iloc[i-1][\"close\"] if i else 0.0\n",
    "        changes.append(change*100)\n",
    "    y = np.array(changes).reshape((-1,1))\n",
    "    reg = LinearRegression()\n",
    "    reg.fit(values,y)\n",
    "    preds = reg.predict(values)\n",
    "    print(k,reg.coef_[0][0], reg.intercept_[0],pr)\n",
    "    pr = pearsonr(preds.flatten(),y.flatten())[0]\n",
    "    break"
   ],
   "id": "ab10073ff3629d11",
   "outputs": [
    {
     "name": "stderr",
     "output_type": "stream",
     "text": [
      "processing date[2025-01-02]:   0%|          | 0/4676 [00:00<?, ?it/s]"
     ]
    },
    {
     "name": "stdout",
     "output_type": "stream",
     "text": [
      "sh600000 0.06379983975877893 0.10628887187969888 0.050312362286398175\n"
     ]
    },
    {
     "name": "stderr",
     "output_type": "stream",
     "text": [
      "\n"
     ]
    }
   ],
   "execution_count": 60
  }
 ],
 "metadata": {
  "kernelspec": {
   "display_name": "Python 3 (ipykernel)",
   "language": "python",
   "name": "python3"
  },
  "language_info": {
   "codemirror_mode": {
    "name": "ipython",
    "version": 3
   },
   "file_extension": ".py",
   "mimetype": "text/x-python",
   "name": "python",
   "nbconvert_exporter": "python",
   "pygments_lexer": "ipython3",
   "version": "3.11.5"
  }
 },
 "nbformat": 4,
 "nbformat_minor": 5
}
