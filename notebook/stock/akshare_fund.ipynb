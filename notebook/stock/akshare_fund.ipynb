{
 "cells": [
  {
   "cell_type": "code",
   "execution_count": 31,
   "id": "0d64598d-18d2-4731-9d3a-e69ddabcb5df",
   "metadata": {},
   "outputs": [
    {
     "name": "stderr",
     "output_type": "stream",
     "text": [
      "Fetch stock fund data:: 100%|██████████████████████████████████████████████████████████████████████████████████████████| 1546/1546 [08:59<00:00,  2.87it/s]\n",
      "Traceback (most recent call last):\n",
      "  File \"/var/folders/g3/9kgyg0z54nv7fpxy0pgwx0y80000gn/T/ipykernel_5382/3562407005.py\", line 19, in <module>\n",
      "    tdf = ak.stock_individual_fund_flow(stock=sc, market=sm)\n",
      "          ^^^^^^^^^^^^^^^^^^^^^^^^^^^^^^^^^^^^^^^^^^^^^^^^^^\n",
      "  File \"/Users/john/anaconda3/lib/python3.11/site-packages/akshare/stock/stock_fund_em.py\", line 47, in stock_individual_fund_flow\n",
      "    content_list = json_data[\"data\"][\"klines\"]\n",
      "                   ~~~~~~~~~~~~~~~~~^^^^^^^^^^\n",
      "TypeError: 'NoneType' object is not subscriptable\n",
      "Fetch stock fund data::   1%|█▎                                                                                            | 2/138 [00:00<00:22,  5.94it/s]"
     ]
    },
    {
     "name": "stdout",
     "output_type": "stream",
     "text": [
      "date      2024-12-24\n",
      "code        sh603072\n",
      "name            天和磁材\n",
      "open             NaN\n",
      "low              NaN\n",
      "high             NaN\n",
      "close            NaN\n",
      "volume           NaN\n",
      "amount           NaN\n",
      "Name: 3251, dtype: object\n"
     ]
    },
    {
     "name": "stderr",
     "output_type": "stream",
     "text": [
      "Fetch stock fund data::   3%|██▋                                                                                           | 4/138 [00:00<00:28,  4.62it/s]Traceback (most recent call last):\n",
      "  File \"/var/folders/g3/9kgyg0z54nv7fpxy0pgwx0y80000gn/T/ipykernel_5382/3562407005.py\", line 19, in <module>\n",
      "    tdf = ak.stock_individual_fund_flow(stock=sc, market=sm)\n",
      "          ^^^^^^^^^^^^^^^^^^^^^^^^^^^^^^^^^^^^^^^^^^^^^^^^^^\n",
      "  File \"/Users/john/anaconda3/lib/python3.11/site-packages/akshare/stock/stock_fund_em.py\", line 47, in stock_individual_fund_flow\n",
      "    content_list = json_data[\"data\"][\"klines\"]\n",
      "                   ~~~~~~~~~~~~~~~~~^^^^^^^^^^\n",
      "TypeError: 'NoneType' object is not subscriptable\n",
      "Fetch stock fund data::   4%|███▍                                                                                          | 5/138 [00:01<00:27,  4.83it/s]"
     ]
    },
    {
     "name": "stdout",
     "output_type": "stream",
     "text": [
      "date      2024-12-24\n",
      "code        sh600849\n",
      "name            上药转换\n",
      "open             NaN\n",
      "low              NaN\n",
      "high             NaN\n",
      "close            NaN\n",
      "volume           NaN\n",
      "amount           NaN\n",
      "Name: 3264, dtype: object\n"
     ]
    },
    {
     "name": "stderr",
     "output_type": "stream",
     "text": [
      "Traceback (most recent call last):\n",
      "  File \"/var/folders/g3/9kgyg0z54nv7fpxy0pgwx0y80000gn/T/ipykernel_5382/3562407005.py\", line 19, in <module>\n",
      "    tdf = ak.stock_individual_fund_flow(stock=sc, market=sm)\n",
      "          ^^^^^^^^^^^^^^^^^^^^^^^^^^^^^^^^^^^^^^^^^^^^^^^^^^\n",
      "  File \"/Users/john/anaconda3/lib/python3.11/site-packages/akshare/stock/stock_fund_em.py\", line 47, in stock_individual_fund_flow\n",
      "    content_list = json_data[\"data\"][\"klines\"]\n",
      "                   ~~~~~~~~~~~~~~~~~^^^^^^^^^^\n",
      "TypeError: 'NoneType' object is not subscriptable\n",
      "Fetch stock fund data::   4%|████                                                                                          | 6/138 [00:01<00:28,  4.67it/s]"
     ]
    },
    {
     "name": "stdout",
     "output_type": "stream",
     "text": [
      "date      2024-12-24\n",
      "code        sh600842\n",
      "name            中西药业\n",
      "open             NaN\n",
      "low              NaN\n",
      "high             NaN\n",
      "close            NaN\n",
      "volume           NaN\n",
      "amount           NaN\n",
      "Name: 3265, dtype: object\n"
     ]
    },
    {
     "name": "stderr",
     "output_type": "stream",
     "text": [
      "Traceback (most recent call last):\n",
      "  File \"/var/folders/g3/9kgyg0z54nv7fpxy0pgwx0y80000gn/T/ipykernel_5382/3562407005.py\", line 19, in <module>\n",
      "    tdf = ak.stock_individual_fund_flow(stock=sc, market=sm)\n",
      "          ^^^^^^^^^^^^^^^^^^^^^^^^^^^^^^^^^^^^^^^^^^^^^^^^^^\n",
      "  File \"/Users/john/anaconda3/lib/python3.11/site-packages/akshare/stock/stock_fund_em.py\", line 47, in stock_individual_fund_flow\n",
      "    content_list = json_data[\"data\"][\"klines\"]\n",
      "                   ~~~~~~~~~~~~~~~~~^^^^^^^^^^\n",
      "TypeError: 'NoneType' object is not subscriptable\n",
      "Fetch stock fund data::   5%|████▊                                                                                         | 7/138 [00:01<00:28,  4.58it/s]"
     ]
    },
    {
     "name": "stdout",
     "output_type": "stream",
     "text": [
      "date      2024-12-24\n",
      "code        sh600840\n",
      "name            新湖创业\n",
      "open             NaN\n",
      "low              NaN\n",
      "high             NaN\n",
      "close            NaN\n",
      "volume           NaN\n",
      "amount           NaN\n",
      "Name: 3266, dtype: object\n"
     ]
    },
    {
     "name": "stderr",
     "output_type": "stream",
     "text": [
      "Fetch stock fund data::   6%|█████▍                                                                                        | 8/138 [00:01<00:30,  4.33it/s]Traceback (most recent call last):\n",
      "  File \"/var/folders/g3/9kgyg0z54nv7fpxy0pgwx0y80000gn/T/ipykernel_5382/3562407005.py\", line 19, in <module>\n",
      "    tdf = ak.stock_individual_fund_flow(stock=sc, market=sm)\n",
      "          ^^^^^^^^^^^^^^^^^^^^^^^^^^^^^^^^^^^^^^^^^^^^^^^^^^\n",
      "  File \"/Users/john/anaconda3/lib/python3.11/site-packages/akshare/stock/stock_fund_em.py\", line 47, in stock_individual_fund_flow\n",
      "    content_list = json_data[\"data\"][\"klines\"]\n",
      "                   ~~~~~~~~~~~~~~~~~^^^^^^^^^^\n",
      "TypeError: 'NoneType' object is not subscriptable\n",
      "Fetch stock fund data::   7%|██████▏                                                                                       | 9/138 [00:01<00:29,  4.37it/s]"
     ]
    },
    {
     "name": "stdout",
     "output_type": "stream",
     "text": [
      "date      2024-12-24\n",
      "code        sh600786\n",
      "name            东方锅炉\n",
      "open             NaN\n",
      "low              NaN\n",
      "high             NaN\n",
      "close            NaN\n",
      "volume           NaN\n",
      "amount           NaN\n",
      "Name: 3268, dtype: object\n"
     ]
    },
    {
     "name": "stderr",
     "output_type": "stream",
     "text": [
      "Fetch stock fund data::   7%|██████▋                                                                                      | 10/138 [00:02<00:30,  4.14it/s]Traceback (most recent call last):\n",
      "  File \"/var/folders/g3/9kgyg0z54nv7fpxy0pgwx0y80000gn/T/ipykernel_5382/3562407005.py\", line 19, in <module>\n",
      "    tdf = ak.stock_individual_fund_flow(stock=sc, market=sm)\n",
      "          ^^^^^^^^^^^^^^^^^^^^^^^^^^^^^^^^^^^^^^^^^^^^^^^^^^\n",
      "  File \"/Users/john/anaconda3/lib/python3.11/site-packages/akshare/stock/stock_fund_em.py\", line 47, in stock_individual_fund_flow\n",
      "    content_list = json_data[\"data\"][\"klines\"]\n",
      "                   ~~~~~~~~~~~~~~~~~^^^^^^^^^^\n",
      "TypeError: 'NoneType' object is not subscriptable\n",
      "Fetch stock fund data::   8%|███████▍                                                                                     | 11/138 [00:02<00:30,  4.11it/s]Traceback (most recent call last):\n",
      "  File \"/var/folders/g3/9kgyg0z54nv7fpxy0pgwx0y80000gn/T/ipykernel_5382/3562407005.py\", line 19, in <module>\n",
      "    tdf = ak.stock_individual_fund_flow(stock=sc, market=sm)\n",
      "          ^^^^^^^^^^^^^^^^^^^^^^^^^^^^^^^^^^^^^^^^^^^^^^^^^^\n",
      "  File \"/Users/john/anaconda3/lib/python3.11/site-packages/akshare/stock/stock_fund_em.py\", line 47, in stock_individual_fund_flow\n",
      "    content_list = json_data[\"data\"][\"klines\"]\n",
      "                   ~~~~~~~~~~~~~~~~~^^^^^^^^^^\n",
      "TypeError: 'NoneType' object is not subscriptable\n"
     ]
    },
    {
     "name": "stdout",
     "output_type": "stream",
     "text": [
      "date      2024-12-24\n",
      "code        sh600632\n",
      "name            华联商厦\n",
      "open             NaN\n",
      "low              NaN\n",
      "high             NaN\n",
      "close            NaN\n",
      "volume           NaN\n",
      "amount           NaN\n",
      "Name: 3275, dtype: object\n",
      "date      2024-12-24\n",
      "code        sh600631\n",
      "name            百联股份\n",
      "open             NaN\n",
      "low              NaN\n",
      "high             NaN\n",
      "close            NaN\n",
      "volume           NaN\n",
      "amount           NaN\n",
      "Name: 3276, dtype: object\n"
     ]
    },
    {
     "name": "stderr",
     "output_type": "stream",
     "text": [
      "Fetch stock fund data::   9%|████████                                                                                     | 12/138 [00:02<00:29,  4.32it/s]Traceback (most recent call last):\n",
      "  File \"/var/folders/g3/9kgyg0z54nv7fpxy0pgwx0y80000gn/T/ipykernel_5382/3562407005.py\", line 19, in <module>\n",
      "    tdf = ak.stock_individual_fund_flow(stock=sc, market=sm)\n",
      "          ^^^^^^^^^^^^^^^^^^^^^^^^^^^^^^^^^^^^^^^^^^^^^^^^^^\n",
      "  File \"/Users/john/anaconda3/lib/python3.11/site-packages/akshare/stock/stock_fund_em.py\", line 47, in stock_individual_fund_flow\n",
      "    content_list = json_data[\"data\"][\"klines\"]\n",
      "                   ~~~~~~~~~~~~~~~~~^^^^^^^^^^\n",
      "TypeError: 'NoneType' object is not subscriptable\n",
      "Fetch stock fund data::   9%|████████▊                                                                                    | 13/138 [00:02<00:29,  4.31it/s]"
     ]
    },
    {
     "name": "stdout",
     "output_type": "stream",
     "text": [
      "date      2024-12-24\n",
      "code        sh600627\n",
      "name            上电股份\n",
      "open             NaN\n",
      "low              NaN\n",
      "high             NaN\n",
      "close            NaN\n",
      "volume           NaN\n",
      "amount           NaN\n",
      "Name: 3277, dtype: object\n"
     ]
    },
    {
     "name": "stderr",
     "output_type": "stream",
     "text": [
      "Traceback (most recent call last):\n",
      "  File \"/var/folders/g3/9kgyg0z54nv7fpxy0pgwx0y80000gn/T/ipykernel_5382/3562407005.py\", line 19, in <module>\n",
      "    tdf = ak.stock_individual_fund_flow(stock=sc, market=sm)\n",
      "          ^^^^^^^^^^^^^^^^^^^^^^^^^^^^^^^^^^^^^^^^^^^^^^^^^^\n",
      "  File \"/Users/john/anaconda3/lib/python3.11/site-packages/akshare/stock/stock_fund_em.py\", line 47, in stock_individual_fund_flow\n",
      "    content_list = json_data[\"data\"][\"klines\"]\n",
      "                   ~~~~~~~~~~~~~~~~~^^^^^^^^^^\n",
      "TypeError: 'NoneType' object is not subscriptable\n",
      "Fetch stock fund data::  10%|█████████▍                                                                                   | 14/138 [00:03<00:28,  4.40it/s]Traceback (most recent call last):\n"
     ]
    },
    {
     "name": "stdout",
     "output_type": "stream",
     "text": [
      "date      2024-12-24\n",
      "code        sh600625\n",
      "name            PT水仙\n",
      "open             NaN\n",
      "low              NaN\n",
      "high             NaN\n",
      "close            NaN\n",
      "volume           NaN\n",
      "amount           NaN\n",
      "Name: 3278, dtype: object\n",
      "date      2024-12-24\n",
      "code        sh600607\n",
      "name            上实医药\n",
      "open             NaN\n",
      "low              NaN\n",
      "high             NaN\n",
      "close            NaN\n",
      "volume           NaN\n",
      "amount           NaN\n",
      "Name: 3280, dtype: object\n"
     ]
    },
    {
     "name": "stderr",
     "output_type": "stream",
     "text": [
      "  File \"/var/folders/g3/9kgyg0z54nv7fpxy0pgwx0y80000gn/T/ipykernel_5382/3562407005.py\", line 19, in <module>\n",
      "    tdf = ak.stock_individual_fund_flow(stock=sc, market=sm)\n",
      "          ^^^^^^^^^^^^^^^^^^^^^^^^^^^^^^^^^^^^^^^^^^^^^^^^^^\n",
      "  File \"/Users/john/anaconda3/lib/python3.11/site-packages/akshare/stock/stock_fund_em.py\", line 47, in stock_individual_fund_flow\n",
      "    content_list = json_data[\"data\"][\"klines\"]\n",
      "                   ~~~~~~~~~~~~~~~~~^^^^^^^^^^\n",
      "TypeError: 'NoneType' object is not subscriptable\n",
      "Fetch stock fund data::  11%|██████████                                                                                   | 15/138 [00:03<00:27,  4.55it/s]Traceback (most recent call last):\n",
      "  File \"/var/folders/g3/9kgyg0z54nv7fpxy0pgwx0y80000gn/T/ipykernel_5382/3562407005.py\", line 19, in <module>\n",
      "    tdf = ak.stock_individual_fund_flow(stock=sc, market=sm)\n",
      "          ^^^^^^^^^^^^^^^^^^^^^^^^^^^^^^^^^^^^^^^^^^^^^^^^^^\n",
      "  File \"/Users/john/anaconda3/lib/python3.11/site-packages/akshare/stock/stock_fund_em.py\", line 47, in stock_individual_fund_flow\n",
      "    content_list = json_data[\"data\"][\"klines\"]\n",
      "                   ~~~~~~~~~~~~~~~~~^^^^^^^^^^\n",
      "TypeError: 'NoneType' object is not subscriptable\n",
      "Fetch stock fund data::  12%|██████████▊                                                                                  | 16/138 [00:03<00:26,  4.55it/s]"
     ]
    },
    {
     "name": "stdout",
     "output_type": "stream",
     "text": [
      "date      2024-12-24\n",
      "code        sh600553\n",
      "name            太行水泥\n",
      "open             NaN\n",
      "low              NaN\n",
      "high             NaN\n",
      "close            NaN\n",
      "volume           NaN\n",
      "amount           NaN\n",
      "Name: 3283, dtype: object\n"
     ]
    },
    {
     "name": "stderr",
     "output_type": "stream",
     "text": [
      "Traceback (most recent call last):\n",
      "  File \"/var/folders/g3/9kgyg0z54nv7fpxy0pgwx0y80000gn/T/ipykernel_5382/3562407005.py\", line 19, in <module>\n",
      "    tdf = ak.stock_individual_fund_flow(stock=sc, market=sm)\n",
      "          ^^^^^^^^^^^^^^^^^^^^^^^^^^^^^^^^^^^^^^^^^^^^^^^^^^\n",
      "  File \"/Users/john/anaconda3/lib/python3.11/site-packages/akshare/stock/stock_fund_em.py\", line 47, in stock_individual_fund_flow\n",
      "    content_list = json_data[\"data\"][\"klines\"]\n",
      "                   ~~~~~~~~~~~~~~~~~^^^^^^^^^^\n",
      "TypeError: 'NoneType' object is not subscriptable\n",
      "Fetch stock fund data::  12%|███████████▍                                                                                 | 17/138 [00:03<00:26,  4.64it/s]"
     ]
    },
    {
     "name": "stdout",
     "output_type": "stream",
     "text": [
      "date      2024-12-24\n",
      "code        sh600472\n",
      "name            包头铝业\n",
      "open             NaN\n",
      "low              NaN\n",
      "high             NaN\n",
      "close            NaN\n",
      "volume           NaN\n",
      "amount           NaN\n",
      "Name: 3285, dtype: object\n"
     ]
    },
    {
     "name": "stderr",
     "output_type": "stream",
     "text": [
      "Traceback (most recent call last):\n",
      "  File \"/var/folders/g3/9kgyg0z54nv7fpxy0pgwx0y80000gn/T/ipykernel_5382/3562407005.py\", line 19, in <module>\n",
      "    tdf = ak.stock_individual_fund_flow(stock=sc, market=sm)\n",
      "          ^^^^^^^^^^^^^^^^^^^^^^^^^^^^^^^^^^^^^^^^^^^^^^^^^^\n",
      "  File \"/Users/john/anaconda3/lib/python3.11/site-packages/akshare/stock/stock_fund_em.py\", line 47, in stock_individual_fund_flow\n",
      "    content_list = json_data[\"data\"][\"klines\"]\n",
      "                   ~~~~~~~~~~~~~~~~~^^^^^^^^^^\n",
      "TypeError: 'NoneType' object is not subscriptable\n",
      "Fetch stock fund data::  13%|████████████▏                                                                                | 18/138 [00:03<00:26,  4.57it/s]"
     ]
    },
    {
     "name": "stdout",
     "output_type": "stream",
     "text": [
      "date      2024-12-24\n",
      "code        sh600357\n",
      "name            承德钒钛\n",
      "open             NaN\n",
      "low              NaN\n",
      "high             NaN\n",
      "close            NaN\n",
      "volume           NaN\n",
      "amount           NaN\n",
      "Name: 3287, dtype: object\n"
     ]
    },
    {
     "name": "stderr",
     "output_type": "stream",
     "text": [
      "Fetch stock fund data::  15%|██████████████▏                                                                              | 21/138 [00:04<00:27,  4.31it/s]Traceback (most recent call last):\n",
      "  File \"/var/folders/g3/9kgyg0z54nv7fpxy0pgwx0y80000gn/T/ipykernel_5382/3562407005.py\", line 19, in <module>\n",
      "    tdf = ak.stock_individual_fund_flow(stock=sc, market=sm)\n",
      "          ^^^^^^^^^^^^^^^^^^^^^^^^^^^^^^^^^^^^^^^^^^^^^^^^^^\n",
      "  File \"/Users/john/anaconda3/lib/python3.11/site-packages/akshare/stock/stock_fund_em.py\", line 47, in stock_individual_fund_flow\n",
      "    content_list = json_data[\"data\"][\"klines\"]\n",
      "                   ~~~~~~~~~~~~~~~~~^^^^^^^^^^\n",
      "TypeError: 'NoneType' object is not subscriptable\n",
      "Fetch stock fund data::  16%|██████████████▊                                                                              | 22/138 [00:04<00:26,  4.42it/s]"
     ]
    },
    {
     "name": "stdout",
     "output_type": "stream",
     "text": [
      "date      2024-12-24\n",
      "code        sh600296\n",
      "name             S兰铝\n",
      "open             NaN\n",
      "low              NaN\n",
      "high             NaN\n",
      "close            NaN\n",
      "volume           NaN\n",
      "amount           NaN\n",
      "Name: 3293, dtype: object\n"
     ]
    },
    {
     "name": "stderr",
     "output_type": "stream",
     "text": [
      "Fetch stock fund data::  18%|████████████████▊                                                                            | 25/138 [00:05<00:25,  4.50it/s]Traceback (most recent call last):\n",
      "  File \"/var/folders/g3/9kgyg0z54nv7fpxy0pgwx0y80000gn/T/ipykernel_5382/3562407005.py\", line 19, in <module>\n",
      "    tdf = ak.stock_individual_fund_flow(stock=sc, market=sm)\n",
      "          ^^^^^^^^^^^^^^^^^^^^^^^^^^^^^^^^^^^^^^^^^^^^^^^^^^\n",
      "  File \"/Users/john/anaconda3/lib/python3.11/site-packages/akshare/stock/stock_fund_em.py\", line 47, in stock_individual_fund_flow\n",
      "    content_list = json_data[\"data\"][\"klines\"]\n",
      "                   ~~~~~~~~~~~~~~~~~^^^^^^^^^^\n",
      "TypeError: 'NoneType' object is not subscriptable\n",
      "Fetch stock fund data::  19%|█████████████████▌                                                                           | 26/138 [00:05<00:24,  4.58it/s]"
     ]
    },
    {
     "name": "stdout",
     "output_type": "stream",
     "text": [
      "date      2024-12-24\n",
      "code        sh600205\n",
      "name            S山东铝\n",
      "open             NaN\n",
      "low              NaN\n",
      "high             NaN\n",
      "close            NaN\n",
      "volume           NaN\n",
      "amount           NaN\n",
      "Name: 3298, dtype: object\n"
     ]
    },
    {
     "name": "stderr",
     "output_type": "stream",
     "text": [
      "Fetch stock fund data::  21%|███████████████████▌                                                                         | 29/138 [00:06<00:24,  4.52it/s]Traceback (most recent call last):\n",
      "  File \"/var/folders/g3/9kgyg0z54nv7fpxy0pgwx0y80000gn/T/ipykernel_5382/3562407005.py\", line 19, in <module>\n",
      "    tdf = ak.stock_individual_fund_flow(stock=sc, market=sm)\n",
      "          ^^^^^^^^^^^^^^^^^^^^^^^^^^^^^^^^^^^^^^^^^^^^^^^^^^\n",
      "  File \"/Users/john/anaconda3/lib/python3.11/site-packages/akshare/stock/stock_fund_em.py\", line 47, in stock_individual_fund_flow\n",
      "    content_list = json_data[\"data\"][\"klines\"]\n",
      "                   ~~~~~~~~~~~~~~~~~^^^^^^^^^^\n",
      "TypeError: 'NoneType' object is not subscriptable\n",
      "Fetch stock fund data::  22%|████████████████████▏                                                                        | 30/138 [00:06<00:23,  4.51it/s]Traceback (most recent call last):\n",
      "  File \"/var/folders/g3/9kgyg0z54nv7fpxy0pgwx0y80000gn/T/ipykernel_5382/3562407005.py\", line 19, in <module>\n",
      "    tdf = ak.stock_individual_fund_flow(stock=sc, market=sm)\n",
      "          ^^^^^^^^^^^^^^^^^^^^^^^^^^^^^^^^^^^^^^^^^^^^^^^^^^\n",
      "  File \"/Users/john/anaconda3/lib/python3.11/site-packages/akshare/stock/stock_fund_em.py\", line 47, in stock_individual_fund_flow\n",
      "    content_list = json_data[\"data\"][\"klines\"]\n",
      "                   ~~~~~~~~~~~~~~~~~^^^^^^^^^^\n",
      "TypeError: 'NoneType' object is not subscriptable\n",
      "Fetch stock fund data::  22%|████████████████████▉                                                                        | 31/138 [00:06<00:23,  4.62it/s]"
     ]
    },
    {
     "name": "stdout",
     "output_type": "stream",
     "text": [
      "date      2024-12-24\n",
      "code        sh600002\n",
      "name            齐鲁石化\n",
      "open             NaN\n",
      "low              NaN\n",
      "high             NaN\n",
      "close            NaN\n",
      "volume           NaN\n",
      "amount           NaN\n",
      "Name: 3305, dtype: object\n",
      "date      2024-12-24\n",
      "code        sh600001\n",
      "name            邯郸钢铁\n",
      "open             NaN\n",
      "low              NaN\n",
      "high             NaN\n",
      "close            NaN\n",
      "volume           NaN\n",
      "amount           NaN\n",
      "Name: 3306, dtype: object\n"
     ]
    },
    {
     "name": "stderr",
     "output_type": "stream",
     "text": [
      "Traceback (most recent call last):\n",
      "  File \"/var/folders/g3/9kgyg0z54nv7fpxy0pgwx0y80000gn/T/ipykernel_5382/3562407005.py\", line 19, in <module>\n",
      "    tdf = ak.stock_individual_fund_flow(stock=sc, market=sm)\n",
      "          ^^^^^^^^^^^^^^^^^^^^^^^^^^^^^^^^^^^^^^^^^^^^^^^^^^\n",
      "  File \"/Users/john/anaconda3/lib/python3.11/site-packages/akshare/stock/stock_fund_em.py\", line 47, in stock_individual_fund_flow\n",
      "    content_list = json_data[\"data\"][\"klines\"]\n",
      "                   ~~~~~~~~~~~~~~~~~^^^^^^^^^^\n",
      "TypeError: 'NoneType' object is not subscriptable\n",
      "Fetch stock fund data::  23%|█████████████████████▌                                                                       | 32/138 [00:07<00:22,  4.70it/s]"
     ]
    },
    {
     "name": "stdout",
     "output_type": "stream",
     "text": [
      "date      2024-12-24\n",
      "code        sz301581\n",
      "name            黄山谷捷\n",
      "open             NaN\n",
      "low              NaN\n",
      "high             NaN\n",
      "close            NaN\n",
      "volume           NaN\n",
      "amount           NaN\n",
      "Name: 3307, dtype: object\n"
     ]
    },
    {
     "name": "stderr",
     "output_type": "stream",
     "text": [
      "Traceback (most recent call last):\n",
      "  File \"/var/folders/g3/9kgyg0z54nv7fpxy0pgwx0y80000gn/T/ipykernel_5382/3562407005.py\", line 19, in <module>\n",
      "    tdf = ak.stock_individual_fund_flow(stock=sc, market=sm)\n",
      "          ^^^^^^^^^^^^^^^^^^^^^^^^^^^^^^^^^^^^^^^^^^^^^^^^^^\n",
      "  File \"/Users/john/anaconda3/lib/python3.11/site-packages/akshare/stock/stock_fund_em.py\", line 47, in stock_individual_fund_flow\n",
      "    content_list = json_data[\"data\"][\"klines\"]\n",
      "                   ~~~~~~~~~~~~~~~~~^^^^^^^^^^\n",
      "TypeError: 'NoneType' object is not subscriptable\n",
      "Fetch stock fund data::  24%|██████████████████████▏                                                                      | 33/138 [00:07<00:22,  4.75it/s]"
     ]
    },
    {
     "name": "stdout",
     "output_type": "stream",
     "text": [
      "date      2024-12-24\n",
      "code        sz301458\n",
      "name            钧崴电子\n",
      "open             NaN\n",
      "low              NaN\n",
      "high             NaN\n",
      "close            NaN\n",
      "volume           NaN\n",
      "amount           NaN\n",
      "Name: 3308, dtype: object\n"
     ]
    },
    {
     "name": "stderr",
     "output_type": "stream",
     "text": [
      "Fetch stock fund data::  67%|██████████████████████████████████████████████████████████████                               | 92/138 [00:21<00:10,  4.35it/s]Traceback (most recent call last):\n",
      "  File \"/var/folders/g3/9kgyg0z54nv7fpxy0pgwx0y80000gn/T/ipykernel_5382/3562407005.py\", line 19, in <module>\n",
      "    tdf = ak.stock_individual_fund_flow(stock=sc, market=sm)\n",
      "          ^^^^^^^^^^^^^^^^^^^^^^^^^^^^^^^^^^^^^^^^^^^^^^^^^^\n",
      "  File \"/Users/john/anaconda3/lib/python3.11/site-packages/akshare/stock/stock_fund_em.py\", line 47, in stock_individual_fund_flow\n",
      "    content_list = json_data[\"data\"][\"klines\"]\n",
      "                   ~~~~~~~~~~~~~~~~~^^^^^^^^^^\n",
      "TypeError: 'NoneType' object is not subscriptable\n",
      "Fetch stock fund data::  67%|██████████████████████████████████████████████████████████████▋                              | 93/138 [00:21<00:09,  4.54it/s]"
     ]
    },
    {
     "name": "stdout",
     "output_type": "stream",
     "text": [
      "date      2024-12-24\n",
      "code        sz001391\n",
      "name             国货航\n",
      "open             NaN\n",
      "low              NaN\n",
      "high             NaN\n",
      "close            NaN\n",
      "volume           NaN\n",
      "amount           NaN\n",
      "Name: 3424, dtype: object\n"
     ]
    },
    {
     "name": "stderr",
     "output_type": "stream",
     "text": [
      "Fetch stock fund data::  70%|████████████████████████████████████████████████████████████████▋                            | 96/138 [00:21<00:09,  4.29it/s]Traceback (most recent call last):\n",
      "  File \"/var/folders/g3/9kgyg0z54nv7fpxy0pgwx0y80000gn/T/ipykernel_5382/3562407005.py\", line 19, in <module>\n",
      "    tdf = ak.stock_individual_fund_flow(stock=sc, market=sm)\n",
      "          ^^^^^^^^^^^^^^^^^^^^^^^^^^^^^^^^^^^^^^^^^^^^^^^^^^\n",
      "  File \"/Users/john/anaconda3/lib/python3.11/site-packages/akshare/stock/stock_fund_em.py\", line 47, in stock_individual_fund_flow\n",
      "    content_list = json_data[\"data\"][\"klines\"]\n",
      "                   ~~~~~~~~~~~~~~~~~^^^^^^^^^^\n",
      "TypeError: 'NoneType' object is not subscriptable\n",
      "Fetch stock fund data::  70%|█████████████████████████████████████████████████████████████████▎                           | 97/138 [00:22<00:09,  4.50it/s]"
     ]
    },
    {
     "name": "stdout",
     "output_type": "stream",
     "text": [
      "date      2024-12-24\n",
      "code        sz000956\n",
      "name            中原油气\n",
      "open             NaN\n",
      "low              NaN\n",
      "high             NaN\n",
      "close            NaN\n",
      "volume           NaN\n",
      "amount           NaN\n",
      "Name: 3429, dtype: object\n"
     ]
    },
    {
     "name": "stderr",
     "output_type": "stream",
     "text": [
      "Fetch stock fund data::  72%|██████████████████████████████████████████████████████████████████▋                          | 99/138 [00:22<00:08,  4.52it/s]Traceback (most recent call last):\n",
      "  File \"/var/folders/g3/9kgyg0z54nv7fpxy0pgwx0y80000gn/T/ipykernel_5382/3562407005.py\", line 19, in <module>\n",
      "    tdf = ak.stock_individual_fund_flow(stock=sc, market=sm)\n",
      "          ^^^^^^^^^^^^^^^^^^^^^^^^^^^^^^^^^^^^^^^^^^^^^^^^^^\n",
      "  File \"/Users/john/anaconda3/lib/python3.11/site-packages/akshare/stock/stock_fund_em.py\", line 47, in stock_individual_fund_flow\n",
      "    content_list = json_data[\"data\"][\"klines\"]\n",
      "                   ~~~~~~~~~~~~~~~~~^^^^^^^^^^\n",
      "TypeError: 'NoneType' object is not subscriptable\n",
      "Fetch stock fund data::  72%|██████████████████████████████████████████████████████████████████▋                         | 100/138 [00:22<00:08,  4.55it/s]"
     ]
    },
    {
     "name": "stdout",
     "output_type": "stream",
     "text": [
      "date      2024-12-24\n",
      "code        sz000866\n",
      "name            扬子石化\n",
      "open             NaN\n",
      "low              NaN\n",
      "high             NaN\n",
      "close            NaN\n",
      "volume           NaN\n",
      "amount           NaN\n",
      "Name: 3432, dtype: object\n"
     ]
    },
    {
     "name": "stderr",
     "output_type": "stream",
     "text": [
      "Fetch stock fund data::  74%|████████████████████████████████████████████████████████████████████                        | 102/138 [00:23<00:07,  4.51it/s]Traceback (most recent call last):\n",
      "  File \"/var/folders/g3/9kgyg0z54nv7fpxy0pgwx0y80000gn/T/ipykernel_5382/3562407005.py\", line 19, in <module>\n",
      "    tdf = ak.stock_individual_fund_flow(stock=sc, market=sm)\n",
      "          ^^^^^^^^^^^^^^^^^^^^^^^^^^^^^^^^^^^^^^^^^^^^^^^^^^\n",
      "  File \"/Users/john/anaconda3/lib/python3.11/site-packages/akshare/stock/stock_fund_em.py\", line 47, in stock_individual_fund_flow\n",
      "    content_list = json_data[\"data\"][\"klines\"]\n",
      "                   ~~~~~~~~~~~~~~~~~^^^^^^^^^^\n",
      "TypeError: 'NoneType' object is not subscriptable\n",
      "Fetch stock fund data::  75%|████████████████████████████████████████████████████████████████████▋                       | 103/138 [00:23<00:07,  4.59it/s]"
     ]
    },
    {
     "name": "stdout",
     "output_type": "stream",
     "text": [
      "date      2024-12-24\n",
      "code        sz000817\n",
      "name            辽河油田\n",
      "open             NaN\n",
      "low              NaN\n",
      "high             NaN\n",
      "close            NaN\n",
      "volume           NaN\n",
      "amount           NaN\n",
      "Name: 3435, dtype: object\n"
     ]
    },
    {
     "name": "stderr",
     "output_type": "stream",
     "text": [
      "Fetch stock fund data::  75%|█████████████████████████████████████████████████████████████████████▎                      | 104/138 [00:23<00:07,  4.44it/s]Traceback (most recent call last):\n",
      "  File \"/var/folders/g3/9kgyg0z54nv7fpxy0pgwx0y80000gn/T/ipykernel_5382/3562407005.py\", line 19, in <module>\n",
      "    tdf = ak.stock_individual_fund_flow(stock=sc, market=sm)\n",
      "          ^^^^^^^^^^^^^^^^^^^^^^^^^^^^^^^^^^^^^^^^^^^^^^^^^^\n",
      "  File \"/Users/john/anaconda3/lib/python3.11/site-packages/akshare/stock/stock_fund_em.py\", line 47, in stock_individual_fund_flow\n",
      "    content_list = json_data[\"data\"][\"klines\"]\n",
      "                   ~~~~~~~~~~~~~~~~~^^^^^^^^^^\n",
      "TypeError: 'NoneType' object is not subscriptable\n",
      "Fetch stock fund data::  76%|██████████████████████████████████████████████████████████████████████                      | 105/138 [00:23<00:07,  4.47it/s]"
     ]
    },
    {
     "name": "stdout",
     "output_type": "stream",
     "text": [
      "date      2024-12-24\n",
      "code        sz000763\n",
      "name            锦州石化\n",
      "open             NaN\n",
      "low              NaN\n",
      "high             NaN\n",
      "close            NaN\n",
      "volume           NaN\n",
      "amount           NaN\n",
      "Name: 3439, dtype: object\n"
     ]
    },
    {
     "name": "stderr",
     "output_type": "stream",
     "text": [
      "Fetch stock fund data::  81%|██████████████████████████████████████████████████████████████████████████▋                 | 112/138 [00:25<00:05,  4.35it/s]Traceback (most recent call last):\n",
      "  File \"/var/folders/g3/9kgyg0z54nv7fpxy0pgwx0y80000gn/T/ipykernel_5382/3562407005.py\", line 19, in <module>\n",
      "    tdf = ak.stock_individual_fund_flow(stock=sc, market=sm)\n",
      "          ^^^^^^^^^^^^^^^^^^^^^^^^^^^^^^^^^^^^^^^^^^^^^^^^^^\n",
      "  File \"/Users/john/anaconda3/lib/python3.11/site-packages/akshare/stock/stock_fund_em.py\", line 47, in stock_individual_fund_flow\n",
      "    content_list = json_data[\"data\"][\"klines\"]\n",
      "                   ~~~~~~~~~~~~~~~~~^^^^^^^^^^\n",
      "TypeError: 'NoneType' object is not subscriptable\n",
      "Fetch stock fund data::  82%|███████████████████████████████████████████████████████████████████████████▎                | 113/138 [00:25<00:05,  4.56it/s]"
     ]
    },
    {
     "name": "stdout",
     "output_type": "stream",
     "text": [
      "date      2024-12-24\n",
      "code        sz000618\n",
      "name            吉林化工\n",
      "open             NaN\n",
      "low              NaN\n",
      "high             NaN\n",
      "close            NaN\n",
      "volume           NaN\n",
      "amount           NaN\n",
      "Name: 3448, dtype: object\n"
     ]
    },
    {
     "name": "stderr",
     "output_type": "stream",
     "text": [
      "Fetch stock fund data::  86%|██████████████████████████████████████████████████████████████████████████████▋             | 118/138 [00:27<00:04,  4.06it/s]Traceback (most recent call last):\n",
      "  File \"/var/folders/g3/9kgyg0z54nv7fpxy0pgwx0y80000gn/T/ipykernel_5382/3562407005.py\", line 19, in <module>\n",
      "    tdf = ak.stock_individual_fund_flow(stock=sc, market=sm)\n",
      "          ^^^^^^^^^^^^^^^^^^^^^^^^^^^^^^^^^^^^^^^^^^^^^^^^^^\n",
      "  File \"/Users/john/anaconda3/lib/python3.11/site-packages/akshare/stock/stock_fund_em.py\", line 47, in stock_individual_fund_flow\n",
      "    content_list = json_data[\"data\"][\"klines\"]\n",
      "                   ~~~~~~~~~~~~~~~~~^^^^^^^^^^\n",
      "TypeError: 'NoneType' object is not subscriptable\n",
      "Fetch stock fund data::  86%|███████████████████████████████████████████████████████████████████████████████▎            | 119/138 [00:27<00:04,  4.17it/s]"
     ]
    },
    {
     "name": "stdout",
     "output_type": "stream",
     "text": [
      "date      2024-12-24\n",
      "code        sz000588\n",
      "name           PT粤金曼\n",
      "open             NaN\n",
      "low              NaN\n",
      "high             NaN\n",
      "close            NaN\n",
      "volume           NaN\n",
      "amount           NaN\n",
      "Name: 3454, dtype: object\n"
     ]
    },
    {
     "name": "stderr",
     "output_type": "stream",
     "text": [
      "Fetch stock fund data::  87%|████████████████████████████████████████████████████████████████████████████████            | 120/138 [00:27<00:04,  4.22it/s]Traceback (most recent call last):\n",
      "  File \"/var/folders/g3/9kgyg0z54nv7fpxy0pgwx0y80000gn/T/ipykernel_5382/3562407005.py\", line 19, in <module>\n",
      "    tdf = ak.stock_individual_fund_flow(stock=sc, market=sm)\n",
      "          ^^^^^^^^^^^^^^^^^^^^^^^^^^^^^^^^^^^^^^^^^^^^^^^^^^\n",
      "  File \"/Users/john/anaconda3/lib/python3.11/site-packages/akshare/stock/stock_fund_em.py\", line 47, in stock_individual_fund_flow\n",
      "    content_list = json_data[\"data\"][\"klines\"]\n",
      "                   ~~~~~~~~~~~~~~~~~^^^^^^^^^^\n",
      "TypeError: 'NoneType' object is not subscriptable\n",
      "Fetch stock fund data::  88%|████████████████████████████████████████████████████████████████████████████████▋           | 121/138 [00:27<00:04,  4.15it/s]"
     ]
    },
    {
     "name": "stdout",
     "output_type": "stream",
     "text": [
      "date      2024-12-24\n",
      "code        sz000578\n",
      "name            盐湖集团\n",
      "open             NaN\n",
      "low              NaN\n",
      "high             NaN\n",
      "close            NaN\n",
      "volume           NaN\n",
      "amount           NaN\n",
      "Name: 3456, dtype: object\n"
     ]
    },
    {
     "name": "stderr",
     "output_type": "stream",
     "text": [
      "Traceback (most recent call last):\n",
      "  File \"/var/folders/g3/9kgyg0z54nv7fpxy0pgwx0y80000gn/T/ipykernel_5382/3562407005.py\", line 19, in <module>\n",
      "    tdf = ak.stock_individual_fund_flow(stock=sc, market=sm)\n",
      "          ^^^^^^^^^^^^^^^^^^^^^^^^^^^^^^^^^^^^^^^^^^^^^^^^^^\n",
      "  File \"/Users/john/anaconda3/lib/python3.11/site-packages/akshare/stock/stock_fund_em.py\", line 47, in stock_individual_fund_flow\n",
      "    content_list = json_data[\"data\"][\"klines\"]\n",
      "                   ~~~~~~~~~~~~~~~~~^^^^^^^^^^\n",
      "TypeError: 'NoneType' object is not subscriptable\n",
      "Fetch stock fund data::  88%|█████████████████████████████████████████████████████████████████████████████████▎          | 122/138 [00:28<00:04,  3.72it/s]"
     ]
    },
    {
     "name": "stdout",
     "output_type": "stream",
     "text": [
      "date      2024-12-24\n",
      "code        sz000569\n",
      "name            长城股份\n",
      "open             NaN\n",
      "low              NaN\n",
      "high             NaN\n",
      "close            NaN\n",
      "volume           NaN\n",
      "amount           NaN\n",
      "Name: 3458, dtype: object\n"
     ]
    },
    {
     "name": "stderr",
     "output_type": "stream",
     "text": [
      "Fetch stock fund data::  89%|██████████████████████████████████████████████████████████████████████████████████          | 123/138 [00:28<00:03,  3.93it/s]Traceback (most recent call last):\n",
      "  File \"/var/folders/g3/9kgyg0z54nv7fpxy0pgwx0y80000gn/T/ipykernel_5382/3562407005.py\", line 19, in <module>\n",
      "    tdf = ak.stock_individual_fund_flow(stock=sc, market=sm)\n",
      "          ^^^^^^^^^^^^^^^^^^^^^^^^^^^^^^^^^^^^^^^^^^^^^^^^^^\n",
      "  File \"/Users/john/anaconda3/lib/python3.11/site-packages/akshare/stock/stock_fund_em.py\", line 47, in stock_individual_fund_flow\n",
      "    content_list = json_data[\"data\"][\"klines\"]\n",
      "                   ~~~~~~~~~~~~~~~~~^^^^^^^^^^\n",
      "TypeError: 'NoneType' object is not subscriptable\n",
      "Fetch stock fund data::  90%|██████████████████████████████████████████████████████████████████████████████████▋         | 124/138 [00:28<00:03,  4.14it/s]"
     ]
    },
    {
     "name": "stdout",
     "output_type": "stream",
     "text": [
      "date      2024-12-24\n",
      "code        sz000556\n",
      "name            PT南洋\n",
      "open             NaN\n",
      "low              NaN\n",
      "high             NaN\n",
      "close            NaN\n",
      "volume           NaN\n",
      "amount           NaN\n",
      "Name: 3460, dtype: object\n"
     ]
    },
    {
     "name": "stderr",
     "output_type": "stream",
     "text": [
      "Traceback (most recent call last):\n",
      "  File \"/var/folders/g3/9kgyg0z54nv7fpxy0pgwx0y80000gn/T/ipykernel_5382/3562407005.py\", line 19, in <module>\n",
      "    tdf = ak.stock_individual_fund_flow(stock=sc, market=sm)\n",
      "          ^^^^^^^^^^^^^^^^^^^^^^^^^^^^^^^^^^^^^^^^^^^^^^^^^^\n",
      "  File \"/Users/john/anaconda3/lib/python3.11/site-packages/akshare/stock/stock_fund_em.py\", line 47, in stock_individual_fund_flow\n",
      "    content_list = json_data[\"data\"][\"klines\"]\n",
      "                   ~~~~~~~~~~~~~~~~~^^^^^^^^^^\n",
      "TypeError: 'NoneType' object is not subscriptable\n",
      "Fetch stock fund data::  91%|███████████████████████████████████████████████████████████████████████████████████▎        | 125/138 [00:28<00:03,  4.32it/s]"
     ]
    },
    {
     "name": "stdout",
     "output_type": "stream",
     "text": [
      "date      2024-12-24\n",
      "code        sz000549\n",
      "name            S湘火炬\n",
      "open             NaN\n",
      "low              NaN\n",
      "high             NaN\n",
      "close            NaN\n",
      "volume           NaN\n",
      "amount           NaN\n",
      "Name: 3461, dtype: object\n"
     ]
    },
    {
     "name": "stderr",
     "output_type": "stream",
     "text": [
      "Fetch stock fund data::  92%|████████████████████████████████████████████████████████████████████████████████████▋       | 127/138 [00:29<00:02,  4.39it/s]Traceback (most recent call last):\n",
      "  File \"/var/folders/g3/9kgyg0z54nv7fpxy0pgwx0y80000gn/T/ipykernel_5382/3562407005.py\", line 19, in <module>\n",
      "    tdf = ak.stock_individual_fund_flow(stock=sc, market=sm)\n",
      "          ^^^^^^^^^^^^^^^^^^^^^^^^^^^^^^^^^^^^^^^^^^^^^^^^^^\n",
      "  File \"/Users/john/anaconda3/lib/python3.11/site-packages/akshare/stock/stock_fund_em.py\", line 47, in stock_individual_fund_flow\n",
      "    content_list = json_data[\"data\"][\"klines\"]\n",
      "                   ~~~~~~~~~~~~~~~~~^^^^^^^^^^\n",
      "TypeError: 'NoneType' object is not subscriptable\n",
      "Fetch stock fund data::  93%|█████████████████████████████████████████████████████████████████████████████████████▎      | 128/138 [00:29<00:02,  4.54it/s]"
     ]
    },
    {
     "name": "stdout",
     "output_type": "stream",
     "text": [
      "date      2024-12-24\n",
      "code        sz000515\n",
      "name            攀渝钛业\n",
      "open             NaN\n",
      "low              NaN\n",
      "high             NaN\n",
      "close            NaN\n",
      "volume           NaN\n",
      "amount           NaN\n",
      "Name: 3464, dtype: object\n"
     ]
    },
    {
     "name": "stderr",
     "output_type": "stream",
     "text": [
      "Fetch stock fund data::  93%|██████████████████████████████████████████████████████████████████████████████████████      | 129/138 [00:29<00:02,  4.34it/s]Traceback (most recent call last):\n",
      "  File \"/var/folders/g3/9kgyg0z54nv7fpxy0pgwx0y80000gn/T/ipykernel_5382/3562407005.py\", line 19, in <module>\n",
      "    tdf = ak.stock_individual_fund_flow(stock=sc, market=sm)\n",
      "          ^^^^^^^^^^^^^^^^^^^^^^^^^^^^^^^^^^^^^^^^^^^^^^^^^^\n",
      "  File \"/Users/john/anaconda3/lib/python3.11/site-packages/akshare/stock/stock_fund_em.py\", line 47, in stock_individual_fund_flow\n",
      "    content_list = json_data[\"data\"][\"klines\"]\n",
      "                   ~~~~~~~~~~~~~~~~~^^^^^^^^^^\n",
      "TypeError: 'NoneType' object is not subscriptable\n",
      "Fetch stock fund data::  94%|██████████████████████████████████████████████████████████████████████████████████████▋     | 130/138 [00:29<00:01,  4.43it/s]"
     ]
    },
    {
     "name": "stdout",
     "output_type": "stream",
     "text": [
      "date      2024-12-24\n",
      "code        sz000508\n",
      "name            琼民源A\n",
      "open             NaN\n",
      "low              NaN\n",
      "high             NaN\n",
      "close            NaN\n",
      "volume           NaN\n",
      "amount           NaN\n",
      "Name: 3466, dtype: object\n"
     ]
    },
    {
     "name": "stderr",
     "output_type": "stream",
     "text": [
      "Fetch stock fund data::  96%|████████████████████████████████████████████████████████████████████████████████████████    | 132/138 [00:30<00:01,  4.37it/s]Traceback (most recent call last):\n",
      "  File \"/var/folders/g3/9kgyg0z54nv7fpxy0pgwx0y80000gn/T/ipykernel_5382/3562407005.py\", line 19, in <module>\n",
      "    tdf = ak.stock_individual_fund_flow(stock=sc, market=sm)\n",
      "          ^^^^^^^^^^^^^^^^^^^^^^^^^^^^^^^^^^^^^^^^^^^^^^^^^^\n",
      "  File \"/Users/john/anaconda3/lib/python3.11/site-packages/akshare/stock/stock_fund_em.py\", line 47, in stock_individual_fund_flow\n",
      "    content_list = json_data[\"data\"][\"klines\"]\n",
      "                   ~~~~~~~~~~~~~~~~~^^^^^^^^^^\n",
      "TypeError: 'NoneType' object is not subscriptable\n",
      "Fetch stock fund data::  96%|████████████████████████████████████████████████████████████████████████████████████████▋   | 133/138 [00:30<00:01,  4.43it/s]"
     ]
    },
    {
     "name": "stdout",
     "output_type": "stream",
     "text": [
      "date      2024-12-24\n",
      "code        sz000406\n",
      "name            石油大明\n",
      "open             NaN\n",
      "low              NaN\n",
      "high             NaN\n",
      "close            NaN\n",
      "volume           NaN\n",
      "amount           NaN\n",
      "Name: 3470, dtype: object\n"
     ]
    },
    {
     "name": "stderr",
     "output_type": "stream",
     "text": [
      "Fetch stock fund data::  99%|███████████████████████████████████████████████████████████████████████████████████████████▎| 137/138 [00:31<00:00,  4.47it/s]Traceback (most recent call last):\n",
      "  File \"/var/folders/g3/9kgyg0z54nv7fpxy0pgwx0y80000gn/T/ipykernel_5382/3562407005.py\", line 19, in <module>\n",
      "    tdf = ak.stock_individual_fund_flow(stock=sc, market=sm)\n",
      "          ^^^^^^^^^^^^^^^^^^^^^^^^^^^^^^^^^^^^^^^^^^^^^^^^^^\n",
      "  File \"/Users/john/anaconda3/lib/python3.11/site-packages/akshare/stock/stock_fund_em.py\", line 47, in stock_individual_fund_flow\n",
      "    content_list = json_data[\"data\"][\"klines\"]\n",
      "                   ~~~~~~~~~~~~~~~~~^^^^^^^^^^\n",
      "TypeError: 'NoneType' object is not subscriptable\n",
      "Fetch stock fund data:: 100%|████████████████████████████████████████████████████████████████████████████████████████████| 138/138 [00:31<00:00,  4.46it/s]"
     ]
    },
    {
     "name": "stdout",
     "output_type": "stream",
     "text": [
      "date      2024-12-24\n",
      "code        sz000015\n",
      "name           PT中浩A\n",
      "open             NaN\n",
      "low              NaN\n",
      "high             NaN\n",
      "close            NaN\n",
      "volume           NaN\n",
      "amount           NaN\n",
      "Name: 3477, dtype: object\n"
     ]
    },
    {
     "name": "stderr",
     "output_type": "stream",
     "text": [
      "Traceback (most recent call last):\n",
      "  File \"/var/folders/g3/9kgyg0z54nv7fpxy0pgwx0y80000gn/T/ipykernel_5382/3562407005.py\", line 19, in <module>\n",
      "    tdf = ak.stock_individual_fund_flow(stock=sc, market=sm)\n",
      "          ^^^^^^^^^^^^^^^^^^^^^^^^^^^^^^^^^^^^^^^^^^^^^^^^^^\n",
      "  File \"/Users/john/anaconda3/lib/python3.11/site-packages/akshare/stock/stock_fund_em.py\", line 47, in stock_individual_fund_flow\n",
      "    content_list = json_data[\"data\"][\"klines\"]\n",
      "                   ~~~~~~~~~~~~~~~~~^^^^^^^^^^\n",
      "TypeError: 'NoneType' object is not subscriptable\n"
     ]
    },
    {
     "name": "stdout",
     "output_type": "stream",
     "text": [
      "date      2024-12-24\n",
      "code        sz000003\n",
      "name           PT金田A\n",
      "open             NaN\n",
      "low              NaN\n",
      "high             NaN\n",
      "close            NaN\n",
      "volume           NaN\n",
      "amount           NaN\n",
      "Name: 3478, dtype: object\n"
     ]
    }
   ],
   "source": [
    "import akshare as ak\n",
    "import tqdm\n",
    "import pandas as pd\n",
    "import datetime\n",
    "cdf = pd.read_csv(\"./stock_today.csv\")\n",
    "lst = []\n",
    "hdf = pd.read_csv(\"stock_fund.csv\")\n",
    "hs = set(hdf[\"code\"].drop_duplicates())\n",
    "cdf = cdf[~cdf.code.isin(hs)]\n",
    "lst.append(hdf)\n",
    "bar = tqdm.tqdm(total=cdf.shape[0],desc=\"Fetch stock fund data:\")\n",
    "for i,v in cdf.iterrows():\n",
    "    if i>5000:\n",
    "        break\n",
    "    code = v[\"code\"]\n",
    "    sc,sm = code[2:],code[:2]\n",
    "    bar.update()\n",
    "    try:\n",
    "        tdf = ak.stock_individual_fund_flow(stock=sc, market=sm)\n",
    "        tdf[[\"code\",\"name\"]]=(v[\"code\"],v[\"name\"])\n",
    "        tdf = tdf.rename(columns={\"日期\":\"date\",\"主力净流入-净额\":\"main_amount\",\"主力净流入-净占比\":\"main_percent\"})\n",
    "        tdf = tdf[[\"date\",\"code\",\"main_amount\",\"main_percent\"]]\n",
    "        tdf = tdf[tdf[\"date\"]>=datetime.datetime.strptime(\"2024-11-15\",'%Y-%m-%d').date()]\n",
    "        lst.append(tdf)\n",
    "    except:\n",
    "        import traceback\n",
    "        traceback.print_exc()\n",
    "        print(v)\n",
    "if len(lst)>1:\n",
    "    df = pd.concat(lst)\n",
    "    df.to_csv(\"stock_fund.csv\",index=False)\n",
    "# stock_individual_fund_flow_df = ak.stock_individual_fund_flow(stock=\"600094\", market=\"sh\")\n",
    "# stock_individual_fund_flow_df"
   ]
  },
  {
   "cell_type": "code",
   "id": "0e615e0e-b149-4be7-9648-2953440fbaba",
   "metadata": {
    "ExecuteTime": {
     "end_time": "2024-12-31T05:38:03.936687Z",
     "start_time": "2024-12-31T05:38:03.189345Z"
    }
   },
   "source": [
    "import akshare as ak\n",
    "import datetime\n",
    "import pandas as pd\n",
    "\n",
    "def filter_shsz(v):\n",
    "    code,name = v[\"code\"],v[\"name\"]\n",
    "    if code.startswith(\"68\") or code.startswith(\"8\")or code.startswith(\"4\"):\n",
    "        return False\n",
    "    elif \"ST\" in name or \"退市\" in name or \"C\" in name:\n",
    "        return False\n",
    "    elif code[0] not in (\"0\",\"3\",\"6\"):\n",
    "        return False\n",
    "    return True\n",
    "\n",
    "\n",
    "def reform_shsz(code):\n",
    "    if code.startswith(\"3\") or code.startswith(\"00\"):\n",
    "        return \"sz\"+code\n",
    "    elif code.startswith(\"6\"):\n",
    "        return \"sh\"+code\n",
    "    return code\n",
    "\n",
    "def reform_main(v):\n",
    "    if v==\"-\":\n",
    "        return 0.0\n",
    "    else:\n",
    "        return float(v)\n",
    "    \n",
    "    \n",
    "today = datetime.datetime.now()\n",
    "bias = 0\n",
    "cdate, pdate = today+datetime.timedelta(days=-bias),today+datetime.timedelta(days=-bias-1)\n",
    "cdate= cdate.strftime('%Y-%m-%d')\n",
    "cfund_df = ak.stock_individual_fund_flow_rank(indicator=\"今日\")\n",
    "cdf = cfund_df.rename(columns={\"代码\":\"code\",\"名称\":\"name\",\"今日主力净流入-净额\":\"main_amount\",\"今日主力净流入-净占比\":\"main_percent\"})\n",
    "cdf = cdf[cdf.apply(filter_shsz,axis=1)]\n",
    "cdf[\"code\"] = cdf[\"code\"].apply(reform_shsz)\n",
    "cdf[\"date\"]=cdate\n",
    "cdf = cdf[[\"date\",\"code\",\"main_amount\",\"main_percent\"]]\n",
    "cdf[\"main_amount\"] = cdf[\"main_amount\"].apply(reform_main)\n",
    "cdf[\"main_percent\"] = cdf[\"main_percent\"].apply(reform_main)\n",
    "cdf.to_csv(\"stock_fund_today.csv\",index=False)\n",
    "cdf"
   ],
   "outputs": [
    {
     "data": {
      "text/plain": [
       "            date      code   main_amount  main_percent\n",
       "0     2024-12-31  sh600745  6.320167e+08         35.67\n",
       "1     2024-12-31  sz002265  5.531271e+08         24.05\n",
       "2     2024-12-31  sh600519  4.348864e+08         11.04\n",
       "3     2024-12-31  sz002449  3.444805e+08         14.34\n",
       "4     2024-12-31  sz300383  2.694505e+08          8.38\n",
       "...          ...       ...           ...           ...\n",
       "5203  2024-12-31  sz300474 -4.759343e+08        -24.46\n",
       "5204  2024-12-31  sz002281 -4.791876e+08        -17.10\n",
       "5205  2024-12-31  sz002156 -4.841503e+08        -20.62\n",
       "5206  2024-12-31  sz300308 -7.447223e+08        -18.80\n",
       "5208  2024-12-31  sz300059 -2.139036e+09        -19.75\n",
       "\n",
       "[4414 rows x 4 columns]"
      ],
      "text/html": [
       "<div>\n",
       "<style scoped>\n",
       "    .dataframe tbody tr th:only-of-type {\n",
       "        vertical-align: middle;\n",
       "    }\n",
       "\n",
       "    .dataframe tbody tr th {\n",
       "        vertical-align: top;\n",
       "    }\n",
       "\n",
       "    .dataframe thead th {\n",
       "        text-align: right;\n",
       "    }\n",
       "</style>\n",
       "<table border=\"1\" class=\"dataframe\">\n",
       "  <thead>\n",
       "    <tr style=\"text-align: right;\">\n",
       "      <th></th>\n",
       "      <th>date</th>\n",
       "      <th>code</th>\n",
       "      <th>main_amount</th>\n",
       "      <th>main_percent</th>\n",
       "    </tr>\n",
       "  </thead>\n",
       "  <tbody>\n",
       "    <tr>\n",
       "      <th>0</th>\n",
       "      <td>2024-12-31</td>\n",
       "      <td>sh600745</td>\n",
       "      <td>6.320167e+08</td>\n",
       "      <td>35.67</td>\n",
       "    </tr>\n",
       "    <tr>\n",
       "      <th>1</th>\n",
       "      <td>2024-12-31</td>\n",
       "      <td>sz002265</td>\n",
       "      <td>5.531271e+08</td>\n",
       "      <td>24.05</td>\n",
       "    </tr>\n",
       "    <tr>\n",
       "      <th>2</th>\n",
       "      <td>2024-12-31</td>\n",
       "      <td>sh600519</td>\n",
       "      <td>4.348864e+08</td>\n",
       "      <td>11.04</td>\n",
       "    </tr>\n",
       "    <tr>\n",
       "      <th>3</th>\n",
       "      <td>2024-12-31</td>\n",
       "      <td>sz002449</td>\n",
       "      <td>3.444805e+08</td>\n",
       "      <td>14.34</td>\n",
       "    </tr>\n",
       "    <tr>\n",
       "      <th>4</th>\n",
       "      <td>2024-12-31</td>\n",
       "      <td>sz300383</td>\n",
       "      <td>2.694505e+08</td>\n",
       "      <td>8.38</td>\n",
       "    </tr>\n",
       "    <tr>\n",
       "      <th>...</th>\n",
       "      <td>...</td>\n",
       "      <td>...</td>\n",
       "      <td>...</td>\n",
       "      <td>...</td>\n",
       "    </tr>\n",
       "    <tr>\n",
       "      <th>5203</th>\n",
       "      <td>2024-12-31</td>\n",
       "      <td>sz300474</td>\n",
       "      <td>-4.759343e+08</td>\n",
       "      <td>-24.46</td>\n",
       "    </tr>\n",
       "    <tr>\n",
       "      <th>5204</th>\n",
       "      <td>2024-12-31</td>\n",
       "      <td>sz002281</td>\n",
       "      <td>-4.791876e+08</td>\n",
       "      <td>-17.10</td>\n",
       "    </tr>\n",
       "    <tr>\n",
       "      <th>5205</th>\n",
       "      <td>2024-12-31</td>\n",
       "      <td>sz002156</td>\n",
       "      <td>-4.841503e+08</td>\n",
       "      <td>-20.62</td>\n",
       "    </tr>\n",
       "    <tr>\n",
       "      <th>5206</th>\n",
       "      <td>2024-12-31</td>\n",
       "      <td>sz300308</td>\n",
       "      <td>-7.447223e+08</td>\n",
       "      <td>-18.80</td>\n",
       "    </tr>\n",
       "    <tr>\n",
       "      <th>5208</th>\n",
       "      <td>2024-12-31</td>\n",
       "      <td>sz300059</td>\n",
       "      <td>-2.139036e+09</td>\n",
       "      <td>-19.75</td>\n",
       "    </tr>\n",
       "  </tbody>\n",
       "</table>\n",
       "<p>4414 rows × 4 columns</p>\n",
       "</div>"
      ]
     },
     "execution_count": 2,
     "metadata": {},
     "output_type": "execute_result"
    }
   ],
   "execution_count": 2
  },
  {
   "metadata": {
    "ExecuteTime": {
     "end_time": "2024-12-30T14:52:48.617440Z",
     "start_time": "2024-12-30T14:52:48.495763Z"
    }
   },
   "cell_type": "code",
   "source": [
    "import pandas as pd\n",
    "\n",
    "def save_dt():\n",
    "    def get_weekday(cdate):\n",
    "        for i in range(1,5):\n",
    "            ttm = today+datetime.timedelta(days=-bias-i)\n",
    "            if ttm.weekday() <5:\n",
    "                return ttm\n",
    "\n",
    "    today = datetime.datetime.now()\n",
    "    bias = 0\n",
    "    cdate = today+datetime.timedelta(days=-bias)\n",
    "    pdate = get_weekday(cdate)\n",
    "    cdate,pdate = cdate.strftime('%Y-%m-%d'),pdate.strftime('%Y-%m-%d')\n",
    "    df = pd.read_csv(f\"daily/stock_fund_{pdate}.csv\")\n",
    "    df=pd.concat([df,cdf])\n",
    "    df[\"main_amount\"] = df[\"main_amount\"].apply(reform_main)\n",
    "    df[\"main_percent\"] = df[\"main_percent\"].apply(reform_main)\n",
    "    df.to_csv(f\"daily/stock_fund_{cdate}.csv\",index=False)\n",
    "    cdf.to_csv(f\"daily/stock_fund_daily_{cdate}.csv\",index=False)\n",
    "\n",
    "def clean_data(pattern=\"stock_fund_\\d{4}-\\d{2}-\\d{2}.csv\"):\n",
    "    import os, re\n",
    "    lst = []\n",
    "    for r,d, files in os.walk(\"./daily\"):\n",
    "        for f in files:\n",
    "            if re.match(pattern,f):\n",
    "                lst.append(os.path.join(r,f))\n",
    "    for f in sorted(lst)[:-2]:\n",
    "        os.remove(f)\n",
    "\n",
    "# save_dt()\n",
    "clean_data()"
   ],
   "id": "84f96ac56bf79003",
   "outputs": [],
   "execution_count": 10
  },
  {
   "metadata": {},
   "cell_type": "code",
   "outputs": [],
   "execution_count": null,
   "source": "",
   "id": "b03eb9c4ad687724"
  }
 ],
 "metadata": {
  "kernelspec": {
   "display_name": "Python 3 (ipykernel)",
   "language": "python",
   "name": "python3"
  },
  "language_info": {
   "codemirror_mode": {
    "name": "ipython",
    "version": 3
   },
   "file_extension": ".py",
   "mimetype": "text/x-python",
   "name": "python",
   "nbconvert_exporter": "python",
   "pygments_lexer": "ipython3",
   "version": "3.11.5"
  }
 },
 "nbformat": 4,
 "nbformat_minor": 5
}
