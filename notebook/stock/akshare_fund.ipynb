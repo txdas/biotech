{
 "cells": [
  {
   "cell_type": "code",
   "id": "0d64598d-18d2-4731-9d3a-e69ddabcb5df",
   "metadata": {
    "ExecuteTime": {
     "end_time": "2025-01-02T05:40:01.843830Z",
     "start_time": "2025-01-02T05:40:01.647244Z"
    }
   },
   "source": [
    "import akshare as ak\n",
    "import tqdm\n",
    "import pandas as pd\n",
    "import datetime\n",
    "cdf = pd.read_csv(\"./daily/stock_hist.csv\")\n",
    "lst = []\n",
    "hdf = pd.read_csv(\"./daily/stock_fund_hist.csv\")\n",
    "hs = set(hdf[\"code\"].drop_duplicates())\n",
    "cdf = cdf[~cdf.code.isin(hs)]\n",
    "lst.append(hdf)\n",
    "\n",
    "def fetch_stock_fund():\n",
    "    bar = tqdm.tqdm(total=cdf.shape[0],desc=\"Fetch stock fund data:\")\n",
    "    for i,v in cdf.iterrows():\n",
    "        if i>5000:\n",
    "            break\n",
    "        code = v[\"code\"]\n",
    "        sc,sm = code[2:],code[:2]\n",
    "        bar.update()\n",
    "        try:\n",
    "            tdf = ak.stock_individual_fund_flow(stock=sc, market=sm)\n",
    "            tdf[[\"code\",\"name\"]]=(v[\"code\"],v[\"name\"])\n",
    "            tdf = tdf.rename(columns={\"日期\":\"date\",\"主力净流入-净额\":\"main_amount\",\"主力净流入-净占比\":\"main_percent\"})\n",
    "            tdf = tdf[[\"date\",\"code\",\"main_amount\",\"main_percent\"]]\n",
    "            tdf = tdf[tdf[\"date\"]>=datetime.datetime.strptime(\"2024-11-15\",'%Y-%m-%d').date()]\n",
    "            lst.append(tdf)\n",
    "        except:\n",
    "            import traceback\n",
    "            traceback.print_exc()\n",
    "            print(v)\n",
    "    if len(lst)>1:\n",
    "        df = pd.concat(lst)\n",
    "        df.to_csv(\"stock_fund.csv\",index=False)\n",
    "# fetch_stock_fund()"
   ],
   "outputs": [],
   "execution_count": 5
  },
  {
   "cell_type": "code",
   "id": "0e615e0e-b149-4be7-9648-2953440fbaba",
   "metadata": {
    "jupyter": {
     "is_executing": true
    },
    "ExecuteTime": {
     "start_time": "2025-01-06T04:15:00.741014Z"
    }
   },
   "source": [
    "import akshare as ak\n",
    "import datetime\n",
    "import pandas as pd\n",
    "\n",
    "def filter_shsz(v):\n",
    "    code,name = v[\"code\"],v[\"name\"]\n",
    "    if code.startswith(\"68\") or code.startswith(\"8\")or code.startswith(\"4\"):\n",
    "        return False\n",
    "    elif \"ST\" in name or \"退市\" in name or \"C\" in name:\n",
    "        return False\n",
    "    elif code[0] not in (\"0\",\"3\",\"6\"):\n",
    "        return False\n",
    "    return True\n",
    "\n",
    "\n",
    "def reform_shsz(code):\n",
    "    if code.startswith(\"3\") or code.startswith(\"00\"):\n",
    "        return \"sz\"+code\n",
    "    elif code.startswith(\"6\"):\n",
    "        return \"sh\"+code\n",
    "    return code\n",
    "\n",
    "def reform_main(v):\n",
    "    if v==\"-\":\n",
    "        return 0.0\n",
    "    else:\n",
    "        return float(v)\n",
    "    \n",
    "    \n",
    "today,bias = datetime.datetime.now(),1\n",
    "cdate, pdate = today+datetime.timedelta(days=-bias),today+datetime.timedelta(days=-bias-1)\n",
    "cdate= cdate.strftime('%Y-%m-%d')\n",
    "cfund_df = ak.stock_individual_fund_flow_rank(indicator=\"今日\")\n",
    "cdf = cfund_df.rename(columns={\"代码\":\"code\",\"名称\":\"name\",\"今日主力净流入-净额\":\"main_amount\",\"今日主力净流入-净占比\":\"main_percent\"})\n",
    "columns = [\"date\",\"code\",\"main_amount\",\"main_percent\"]\n",
    "cdf = cdf[cdf.apply(filter_shsz,axis=1)]\n",
    "cdf[\"code\"] = cdf[\"code\"].apply(reform_shsz)\n",
    "cdf[\"date\"]=cdate\n",
    "cdf = cdf[columns+[\"name\"]]\n",
    "cdf[\"main_amount\"] = cdf[\"main_amount\"].apply(reform_main)\n",
    "cdf[\"main_percent\"] = cdf[\"main_percent\"].apply(reform_main)\n",
    "cdf[columns].to_csv(\"stock_fund_today.csv\",index=False)\n",
    "cdf.sort_values(\"main_amount\",ascending=False)"
   ],
   "outputs": [
    {
     "name": "stderr",
     "output_type": "stream",
     "text": [
      "/Users/john/anaconda3/lib/python3.11/site-packages/akshare/__init__.py:2977: UserWarning: 为了支持更多特性，请将 Pandas 升级到 2.2.0 及以上版本！\n",
      "  warnings.warn(\n"
     ]
    }
   ],
   "execution_count": null
  },
  {
   "metadata": {
    "ExecuteTime": {
     "end_time": "2025-01-04T13:27:17.262580Z",
     "start_time": "2025-01-04T13:27:15.542054Z"
    }
   },
   "cell_type": "code",
   "source": [
    "import pandas as pd\n",
    "\n",
    "def save_dt():\n",
    "    def get_weekday(cdate):\n",
    "        holidays = set([\"2025-01-01\"])\n",
    "        for i in range(1,5):\n",
    "            ttm = today+datetime.timedelta(days=-bias-i)\n",
    "            if ttm.weekday() <5 and ttm.strftime(\"%Y-%m-%d\") not in holidays:\n",
    "                return ttm\n",
    "\n",
    "    today = datetime.datetime.now()\n",
    "    cdate = today+datetime.timedelta(days=-bias)\n",
    "    pdate = get_weekday(cdate)\n",
    "    cdate,pdate = cdate.strftime('%Y-%m-%d'),pdate.strftime('%Y-%m-%d')\n",
    "    df = pd.read_csv(f\"daily/stock_fund_{pdate}.csv\")\n",
    "    df=pd.concat([df,cdf])\n",
    "    df[\"main_amount\"] = df[\"main_amount\"].apply(reform_main)\n",
    "    df[\"main_percent\"] = df[\"main_percent\"].apply(reform_main)\n",
    "    df[columns].to_csv(f\"daily/stock_fund_{cdate}.csv\",index=False)\n",
    "    cdf[columns].to_csv(f\"daily/stock_fund_daily_{cdate}.csv\",index=False)\n",
    "\n",
    "def clean_data(pattern=\"stock_fund_\\d{4}-\\d{2}-\\d{2}.csv\"):\n",
    "    import os, re\n",
    "    lst = []\n",
    "    for r,d, files in os.walk(\"./daily\"):\n",
    "        for f in files:\n",
    "            if re.match(pattern,f):\n",
    "                lst.append(os.path.join(r,f))\n",
    "    for f in sorted(lst)[:-2]:\n",
    "        os.remove(f)\n",
    "\n",
    "save_dt()\n",
    "clean_data()"
   ],
   "id": "84f96ac56bf79003",
   "outputs": [],
   "execution_count": 3
  },
  {
   "metadata": {},
   "cell_type": "code",
   "outputs": [],
   "execution_count": null,
   "source": "",
   "id": "b03eb9c4ad687724"
  }
 ],
 "metadata": {
  "kernelspec": {
   "display_name": "Python 3 (ipykernel)",
   "language": "python",
   "name": "python3"
  },
  "language_info": {
   "codemirror_mode": {
    "name": "ipython",
    "version": 3
   },
   "file_extension": ".py",
   "mimetype": "text/x-python",
   "name": "python",
   "nbconvert_exporter": "python",
   "pygments_lexer": "ipython3",
   "version": "3.11.5"
  }
 },
 "nbformat": 4,
 "nbformat_minor": 5
}
