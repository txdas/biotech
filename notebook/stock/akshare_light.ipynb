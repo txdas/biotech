{
 "cells": [
  {
   "metadata": {
    "jupyter": {
     "is_executing": true
    },
    "ExecuteTime": {
     "start_time": "2024-12-28T10:35:31.123574Z"
    }
   },
   "cell_type": "code",
   "source": [
    "from stock.transformer import StdNormalize, AmountVocab\n",
    "\n",
    "import pandas as pd\n",
    "import numpy as np\n",
    "import tqdm\n",
    "\n",
    "\n",
    "df = pd.read_csv(\"./daily/stock_2024-12-26.csv\")\n",
    "cdf = pd.read_csv(\"stock_today.csv\")\n",
    "fdf = pd.read_csv(\"./daily/stock_fund_2024-12-26.csv\")\n",
    "cfdf = pd.read_csv(\"stock_fund_today.csv\")\n",
    "fdf = pd.concat([fdf,cfdf])\n",
    "df = pd.concat([df,cdf])\n",
    "df = df.merge(fdf)\n",
    "df.dropna(inplace=True)\n",
    "vnor, snor, mnor= StdNormalize(gap=5.0),StdNormalize(gap=10.0),StdNormalize(gap=25.0)\n",
    "avocab = AmountVocab(df[\"amount\"].values)\n",
    "mvocab = AmountVocab(df[\"main_amount\"].values)\n",
    "\n",
    "def nor_feature(r,p,pg):\n",
    "    amount, price  = pg[\"amount\"].mean(), pg[\"close\"].mean()\n",
    "    price_max, price_min = pg[\"close\"].max(), pg[\"close\"].min()\n",
    "    amount_max, amount_min = pg[\"amount\"].max(), pg[\"amount\"].min()\n",
    "    close = snor((r.close - p.close)*100/p.close)\n",
    "    _open = snor((r.open - p.close)*100/p.close)\n",
    "    high = snor((r.high - p.close)*100/p.close)\n",
    "    low = snor((r.low - p.close)*100/p.close)\n",
    "    plow =snor((r.low - price_min)*100/price)\n",
    "    phigh =snor((r.high - price_max)*100/price)\n",
    "    pclose =snor((r.close - price)*100/price)\n",
    "    volume = vnor(np.log2(r.amount/amount))\n",
    "    vhigh = vnor(np.log2(r.amount/amount_max))\n",
    "    vlow = vnor(np.log2(r.amount/amount_max))\n",
    "    amount = avocab(r.amount)/10\n",
    "    mamount = mvocab(r.main_amount)/10\n",
    "    mpercent =mnor(r.main_percent)\n",
    "    # [close,_open,high,low,volume,amount,plow,phigh, pclose,vhigh,vlow]\n",
    "\n",
    "    return [close,_open,high,low,volume,amount,mamount, mpercent]\n",
    "\n",
    "def make_data(df, cdate, cnum):\n",
    "    codes, names, targets, features = [], [], [],[]\n",
    "    for k,g in tqdm.tqdm(df.sort_values(by=\"date\", ascending=False).groupby(\"code\"),\n",
    "                         desc=f\"processing date[{cdate}]\"):\n",
    "        cur = g[g.date==cdate]\n",
    "        g = g[g.date<cdate]\n",
    "        cg, pg = g[:cnum],g[cnum:]\n",
    "        row = np.zeros((cnum,8),dtype=float)\n",
    "        if cg.shape[0]==cnum and pg.shape[0]>0 and cur.shape[0]>0:\n",
    "            cr,pr = cur.iloc[0],cg.iloc[0]\n",
    "            codes.append(cr[\"code\"])\n",
    "            names.append(cr[\"name\"])\n",
    "            change = (cr.close-pr.close)*100/pr.close\n",
    "            if change>10:\n",
    "                change = 10\n",
    "            elif change<-10:\n",
    "                change = -10\n",
    "            targets.append(change/10.0)\n",
    "            for i in range(cg.shape[0]):\n",
    "                r, p= g.iloc[i],g.iloc[i+1]\n",
    "                row[i,:] = nor_feature(r,p,pg)\n",
    "            features.append(row)\n",
    "        # break\n",
    "    return pd.DataFrame({\"date\":cdate, \"code\":codes,\"name\":names,\"feature\":features, \"target\": targets})\n",
    "\n",
    "pdf = make_data(df, \"2024-12-25\", 10)\n",
    "cdf = make_data(df, \"2024-12-26\", 10)\n",
    "pdf.head()"
   ],
   "id": "417c43d7a621a751",
   "outputs": [
    {
     "name": "stderr",
     "output_type": "stream",
     "text": [
      "\n",
      "processing date[2024-12-25]:   0%|          | 0/4410 [00:00<?, ?it/s]\u001B[A\n",
      "processing date[2024-12-25]:   0%|          | 3/4410 [00:00<02:53, 25.41it/s]\u001B[A\n",
      "processing date[2024-12-25]:   0%|          | 7/4410 [00:00<02:18, 31.87it/s]\u001B[A\n",
      "processing date[2024-12-25]:   0%|          | 13/4410 [00:00<01:41, 43.15it/s]\u001B[A\n",
      "processing date[2024-12-25]:   0%|          | 20/4410 [00:00<01:25, 51.07it/s]\u001B[A\n",
      "processing date[2024-12-25]:   1%|          | 26/4410 [00:00<01:28, 49.63it/s]\u001B[A\n",
      "processing date[2024-12-25]:   1%|          | 31/4410 [00:00<01:41, 43.21it/s]\u001B[A\n",
      "processing date[2024-12-25]:   1%|          | 36/4410 [00:00<01:46, 40.95it/s]\u001B[A\n",
      "processing date[2024-12-25]:   1%|          | 41/4410 [00:01<01:53, 38.44it/s]\u001B[A\n",
      "processing date[2024-12-25]:   1%|          | 45/4410 [00:01<01:56, 37.44it/s]\u001B[A\n",
      "processing date[2024-12-25]:   1%|          | 49/4410 [00:01<02:00, 36.20it/s]\u001B[A\n",
      "processing date[2024-12-25]:   1%|          | 53/4410 [00:01<02:04, 35.07it/s]\u001B[A\n",
      "processing date[2024-12-25]:   1%|▏         | 57/4410 [00:01<02:02, 35.56it/s]\u001B[A\n",
      "processing date[2024-12-25]:   1%|▏         | 61/4410 [00:01<02:03, 35.20it/s]\u001B[A\n",
      "processing date[2024-12-25]:   1%|▏         | 65/4410 [00:01<02:04, 34.85it/s]\u001B[A\n",
      "processing date[2024-12-25]:   2%|▏         | 69/4410 [00:01<02:13, 32.62it/s]\u001B[A\n",
      "processing date[2024-12-25]:   2%|▏         | 73/4410 [00:01<02:13, 32.50it/s]\u001B[A\n",
      "processing date[2024-12-25]:   2%|▏         | 77/4410 [00:02<02:13, 32.49it/s]\u001B[A\n",
      "processing date[2024-12-25]:   2%|▏         | 81/4410 [00:02<02:14, 32.12it/s]\u001B[A\n",
      "processing date[2024-12-25]:   2%|▏         | 85/4410 [00:02<02:24, 29.94it/s]\u001B[A\n",
      "processing date[2024-12-25]:   2%|▏         | 89/4410 [00:02<02:19, 31.08it/s]\u001B[A\n",
      "processing date[2024-12-25]:   2%|▏         | 94/4410 [00:02<02:10, 33.15it/s]\u001B[A\n",
      "processing date[2024-12-25]:   2%|▏         | 98/4410 [00:02<02:11, 32.79it/s]\u001B[A\n",
      "processing date[2024-12-25]:   2%|▏         | 102/4410 [00:02<02:12, 32.51it/s]\u001B[A\n",
      "processing date[2024-12-25]:   2%|▏         | 106/4410 [00:02<02:08, 33.55it/s]\u001B[A\n",
      "processing date[2024-12-25]:   3%|▎         | 111/4410 [00:03<02:02, 34.96it/s]\u001B[A\n",
      "processing date[2024-12-25]:   3%|▎         | 115/4410 [00:03<02:01, 35.41it/s]\u001B[A\n",
      "processing date[2024-12-25]:   3%|▎         | 120/4410 [00:03<01:53, 37.71it/s]\u001B[A\n",
      "processing date[2024-12-25]:   3%|▎         | 125/4410 [00:03<01:51, 38.28it/s]\u001B[A\n",
      "processing date[2024-12-25]:   3%|▎         | 129/4410 [00:03<01:50, 38.61it/s]\u001B[A\n",
      "processing date[2024-12-25]:   3%|▎         | 134/4410 [00:03<01:50, 38.70it/s]\u001B[A\n",
      "processing date[2024-12-25]:   3%|▎         | 139/4410 [00:03<01:48, 39.47it/s]\u001B[A\n",
      "processing date[2024-12-25]:   3%|▎         | 143/4410 [00:03<01:47, 39.59it/s]\u001B[A\n",
      "processing date[2024-12-25]:   3%|▎         | 148/4410 [00:04<01:52, 38.00it/s]\u001B[A\n",
      "processing date[2024-12-25]:   3%|▎         | 153/4410 [00:04<01:44, 40.81it/s]\u001B[A\n",
      "processing date[2024-12-25]:   4%|▎         | 158/4410 [00:04<01:44, 40.81it/s]\u001B[A\n",
      "processing date[2024-12-25]:   4%|▎         | 165/4410 [00:04<01:32, 45.73it/s]\u001B[A\n",
      "processing date[2024-12-25]:   4%|▍         | 170/4410 [00:04<01:32, 45.75it/s]\u001B[A\n",
      "processing date[2024-12-25]:   4%|▍         | 176/4410 [00:04<01:26, 48.91it/s]\u001B[A\n",
      "processing date[2024-12-25]:   4%|▍         | 182/4410 [00:04<01:23, 50.75it/s]\u001B[A\n",
      "processing date[2024-12-25]:   4%|▍         | 188/4410 [00:04<01:23, 50.36it/s]\u001B[A\n",
      "processing date[2024-12-25]:   4%|▍         | 194/4410 [00:04<01:23, 50.75it/s]\u001B[A\n"
     ]
    }
   ],
   "execution_count": null
  },
  {
   "metadata": {
    "ExecuteTime": {
     "end_time": "2024-12-28T10:33:02.900103Z",
     "start_time": "2024-12-28T10:32:38.301748Z"
    }
   },
   "cell_type": "code",
   "source": [
    "import warnings\n",
    "warnings.filterwarnings(\"ignore\")\n",
    "import torch\n",
    "from torch import nn\n",
    "from torch.nn import functional as F\n",
    "import lightning as L\n",
    "from lightning.pytorch.callbacks.early_stopping import EarlyStopping\n",
    "from torch.utils.data import DataLoader, random_split, Dataset\n",
    "from lightning.pytorch.loggers import CSVLogger\n",
    "logger = CSVLogger(\"logs\", name=\"my_exp_name\")\n",
    "\n",
    "\n",
    "\n",
    "class StockDataset(Dataset):\n",
    "    def __init__(self, df):\n",
    "        self.df = df\n",
    "    def __len__(self):\n",
    "        return self.df.shape[0]\n",
    "    def __getitem__(self, idx):\n",
    "        row = self.df.iloc[idx]\n",
    "        return (torch.tensor(row[\"feature\"], dtype=torch.float32),\n",
    "                torch.tensor([row[\"target\"]],dtype=torch.float32))\n",
    "\n",
    "class DailyGRU(L.LightningModule):\n",
    "    def __init__(self):\n",
    "        super().__init__()\n",
    "        self.rnn = nn.GRU(8, 64,num_layers=2, batch_first=True, bidirectional=False)\n",
    "        self.linear = nn.Linear(2*64, 1)\n",
    "\n",
    "    def forward(self, x):\n",
    "        bs,length  = x.shape[0], x.shape[1]\n",
    "        x = x.view((bs,length,-1))\n",
    "        output, hn= self.rnn(x)\n",
    "        y = hn.view((bs,-1))\n",
    "        y = torch.relu(y)\n",
    "        ouputs = self.linear(y)\n",
    "        ouputs = torch.tanh(ouputs)\n",
    "        return ouputs\n",
    "\n",
    "    def predict_step(self, batch, batch_idx, dataloader_idx=0):\n",
    "        x, y = batch\n",
    "        return self.forward(x)\n",
    "\n",
    "    def training_step(self, batch, batch_idx):\n",
    "        x, y = batch\n",
    "        x_hat = self.forward(x)\n",
    "        # print(x_hat.shape,y.shape)\n",
    "        loss = F.mse_loss(x_hat, y)\n",
    "        self.log(\"train_loss\", loss)\n",
    "\n",
    "    def validation_step(self, batch, batch_idx):\n",
    "        x, y = batch\n",
    "        x_hat = self.forward(x)\n",
    "        loss = F.mse_loss(x_hat, y)\n",
    "        self.log(\"val_loss\", loss,prog_bar=True)\n",
    "        return loss\n",
    "\n",
    "    def test_step(self, batch, batch_idx):\n",
    "        x, y = batch\n",
    "        x_hat = self.forward(x)\n",
    "        loss = F.mse_loss(x_hat, y)\n",
    "        self.log(\"test_loss\", loss)\n",
    "\n",
    "    def configure_optimizers(self):\n",
    "        optimizer = torch.optim.Adam(self.parameters(), lr=1e-3)\n",
    "        return optimizer\n",
    "\n",
    "model = DailyGRU()\n",
    "valid_len = int(pdf.shape[0]*0.1)\n",
    "train_dataset, valid_dataset = random_split(StockDataset(pdf), [len(pdf)-valid_len,valid_len])\n",
    "train_loader = DataLoader(train_dataset,batch_size=32,shuffle=True)\n",
    "valid_loader = DataLoader(valid_dataset,batch_size=32,shuffle=False)\n",
    "test_loader = DataLoader(StockDataset(cdf),batch_size=32,shuffle=False)\n",
    "callbacks=[EarlyStopping(monitor=\"val_loss\", mode=\"min\",patience=3)]\n",
    "trainer = L.Trainer(limit_train_batches=100, max_epochs=5, callbacks=callbacks, logger=logger)\n",
    "trainer.fit(model=model, train_dataloaders=train_loader, val_dataloaders=valid_loader)\n",
    "trainer.test(model=model, dataloaders = test_loader)"
   ],
   "id": "82a170876fa9ee0d",
   "outputs": [
    {
     "name": "stderr",
     "output_type": "stream",
     "text": [
      "GPU available: False, used: False\n",
      "TPU available: False, using: 0 TPU cores\n",
      "IPU available: False, using: 0 IPUs\n",
      "HPU available: False, using: 0 HPUs\n",
      "Missing logger folder: logs/my_exp_name\n",
      "\n",
      "  | Name   | Type   | Params\n",
      "----------------------------------\n",
      "0 | rnn    | GRU    | 39.2 K\n",
      "1 | linear | Linear | 129   \n",
      "----------------------------------\n",
      "39.3 K    Trainable params\n",
      "0         Non-trainable params\n",
      "39.3 K    Total params\n",
      "0.157     Total estimated model params size (MB)\n"
     ]
    },
    {
     "data": {
      "text/plain": [
       "Sanity Checking: |          | 0/? [00:00<?, ?it/s]"
      ],
      "application/vnd.jupyter.widget-view+json": {
       "version_major": 2,
       "version_minor": 0,
       "model_id": "9a2a80a2261d43899e99fd0fc35758d9"
      }
     },
     "metadata": {},
     "output_type": "display_data"
    },
    {
     "data": {
      "text/plain": [
       "Training: |          | 0/? [00:00<?, ?it/s]"
      ],
      "application/vnd.jupyter.widget-view+json": {
       "version_major": 2,
       "version_minor": 0,
       "model_id": "d510e19b79cd494fa2562f7971993b9c"
      }
     },
     "metadata": {},
     "output_type": "display_data"
    },
    {
     "data": {
      "text/plain": [
       "Validation: |          | 0/? [00:00<?, ?it/s]"
      ],
      "application/vnd.jupyter.widget-view+json": {
       "version_major": 2,
       "version_minor": 0,
       "model_id": "4fd1b4a873f34763ab3c8a0361f742a3"
      }
     },
     "metadata": {},
     "output_type": "display_data"
    },
    {
     "data": {
      "text/plain": [
       "Validation: |          | 0/? [00:00<?, ?it/s]"
      ],
      "application/vnd.jupyter.widget-view+json": {
       "version_major": 2,
       "version_minor": 0,
       "model_id": "f43b7132584444a28cb6d9b0847c790c"
      }
     },
     "metadata": {},
     "output_type": "display_data"
    },
    {
     "data": {
      "text/plain": [
       "Validation: |          | 0/? [00:00<?, ?it/s]"
      ],
      "application/vnd.jupyter.widget-view+json": {
       "version_major": 2,
       "version_minor": 0,
       "model_id": "29426de3cb6a486d8b9dab76d40663e1"
      }
     },
     "metadata": {},
     "output_type": "display_data"
    },
    {
     "data": {
      "text/plain": [
       "Validation: |          | 0/? [00:00<?, ?it/s]"
      ],
      "application/vnd.jupyter.widget-view+json": {
       "version_major": 2,
       "version_minor": 0,
       "model_id": "8fab2a0cb9aa4d7a96c6795f74d19f81"
      }
     },
     "metadata": {},
     "output_type": "display_data"
    },
    {
     "data": {
      "text/plain": [
       "Testing: |          | 0/? [00:00<?, ?it/s]"
      ],
      "application/vnd.jupyter.widget-view+json": {
       "version_major": 2,
       "version_minor": 0,
       "model_id": "7422fc56900c4b97bb96cf97e40612f3"
      }
     },
     "metadata": {},
     "output_type": "display_data"
    },
    {
     "data": {
      "text/plain": [
       "┏━━━━━━━━━━━━━━━━━━━━━━━━━━━┳━━━━━━━━━━━━━━━━━━━━━━━━━━━┓\n",
       "┃\u001B[1m \u001B[0m\u001B[1m       Test metric       \u001B[0m\u001B[1m \u001B[0m┃\u001B[1m \u001B[0m\u001B[1m      DataLoader 0       \u001B[0m\u001B[1m \u001B[0m┃\n",
       "┡━━━━━━━━━━━━━━━━━━━━━━━━━━━╇━━━━━━━━━━━━━━━━━━━━━━━━━━━┩\n",
       "│\u001B[36m \u001B[0m\u001B[36m        test_loss        \u001B[0m\u001B[36m \u001B[0m│\u001B[35m \u001B[0m\u001B[35m   0.10081607103347778   \u001B[0m\u001B[35m \u001B[0m│\n",
       "└───────────────────────────┴───────────────────────────┘\n"
      ],
      "text/html": [
       "<pre style=\"white-space:pre;overflow-x:auto;line-height:normal;font-family:Menlo,'DejaVu Sans Mono',consolas,'Courier New',monospace\">┏━━━━━━━━━━━━━━━━━━━━━━━━━━━┳━━━━━━━━━━━━━━━━━━━━━━━━━━━┓\n",
       "┃<span style=\"font-weight: bold\">        Test metric        </span>┃<span style=\"font-weight: bold\">       DataLoader 0        </span>┃\n",
       "┡━━━━━━━━━━━━━━━━━━━━━━━━━━━╇━━━━━━━━━━━━━━━━━━━━━━━━━━━┩\n",
       "│<span style=\"color: #008080; text-decoration-color: #008080\">         test_loss         </span>│<span style=\"color: #800080; text-decoration-color: #800080\">    0.10081607103347778    </span>│\n",
       "└───────────────────────────┴───────────────────────────┘\n",
       "</pre>\n"
      ]
     },
     "metadata": {},
     "output_type": "display_data"
    },
    {
     "data": {
      "text/plain": [
       "[{'test_loss': 0.10081607103347778}]"
      ]
     },
     "execution_count": 30,
     "metadata": {},
     "output_type": "execute_result"
    }
   ],
   "execution_count": 30
  },
  {
   "metadata": {
    "ExecuteTime": {
     "end_time": "2024-12-28T10:34:53.531814Z",
     "start_time": "2024-12-28T10:34:49.294316Z"
    }
   },
   "cell_type": "code",
   "source": [
    "predictions = trainer.predict(model, test_loader)\n",
    "cdf[\"prediction\"] = torch.concat(predictions)*10\n",
    "cdf.sort_values(by=\"prediction\",ascending=False)[:20]"
   ],
   "id": "3fed9981c09c0c7c",
   "outputs": [
    {
     "data": {
      "text/plain": [
       "Predicting: |          | 0/? [00:00<?, ?it/s]"
      ],
      "application/vnd.jupyter.widget-view+json": {
       "version_major": 2,
       "version_minor": 0,
       "model_id": "002d0c5937b04056bf992783b3043676"
      }
     },
     "metadata": {},
     "output_type": "display_data"
    },
    {
     "data": {
      "text/plain": [
       "            date      code  name  \\\n",
       "66    2024-12-26  sh600096   云天化   \n",
       "1419  2024-12-26  sh603790  雅运股份   \n",
       "261   2024-12-26  sh600359  新农开发   \n",
       "2793  2024-12-26  sz002736  国信证券   \n",
       "65    2024-12-26  sh600095  湘财股份   \n",
       "1351  2024-12-26  sh603662  柯力传感   \n",
       "3566  2024-12-26  sz300561  汇金科技   \n",
       "196   2024-12-26  sh600266  城建发展   \n",
       "2724  2024-12-26  sz002655  共达电声   \n",
       "1124  2024-12-26  sh603208  江山欧派   \n",
       "3719  2024-12-26  sz300719  安达维尔   \n",
       "590   2024-12-26  sh600795  国电电力   \n",
       "4267  2024-12-26  sz301330  熵基科技   \n",
       "1125  2024-12-26  sh603209  兴通股份   \n",
       "4303  2024-12-26  sz301381  赛维时代   \n",
       "2703  2024-12-26  sz002633  申科股份   \n",
       "98    2024-12-26  sh600132  重庆啤酒   \n",
       "1453  2024-12-26  sh603861  白云电器   \n",
       "1741  2024-12-26  sz000513  丽珠集团   \n",
       "426   2024-12-26  sh600590  泰豪科技   \n",
       "\n",
       "                                                feature    target      pred  \\\n",
       "66    [[0.0, -0.0044033465433736515, 0.0572435050638... -0.092470  0.019165   \n",
       "1419  [[-0.35744680851063826, -0.08510638297872311, ...  0.167696  0.020689   \n",
       "261   [[-0.27863777089783237, 0.0, 0.046439628482972...  0.222930 -0.006478   \n",
       "2793  [[-0.09590235396687115, -0.017436791630341196,...  0.008803 -0.020718   \n",
       "65    [[-0.13037809647979093, -0.026075619295957725,...  0.052840  0.026440   \n",
       "1351  [[-0.473653901526057, -0.08206161819752278, 0....  0.352123  0.021117   \n",
       "3566  [[-0.5257689110556929, -0.36990856192851085, 0...  0.094319  0.012131   \n",
       "196   [[0.08064516129032265, 0.020161290322580218, 0...  0.000000 -0.015505   \n",
       "2724  [[-0.08988764044943762, -0.07490636704119824, ...  0.355253  0.005231   \n",
       "1124  [[-0.02157497303128325, 0.02157497303128325, 0...  0.048649 -0.014847   \n",
       "3719  [[0.3003823047515023, -0.005461496450026222, 0...  0.090138  0.013990   \n",
       "590   [[0.02136752136752281, 0.02136752136752281, 0.... -0.234542 -0.013021   \n",
       "4267  [[-0.10726643598615873, -0.013840830449826697,...  0.129416  0.014950   \n",
       "1125  [[-0.025046963055730072, -0.0751408891671891, ... -0.006277  0.003605   \n",
       "4303  [[-0.04290004290004199, 0.0, 0.021450021450021...  0.193882  0.014691   \n",
       "2703  [[-0.25352112676056293, -0.018779342723004293,...  0.192678 -0.000473   \n",
       "98    [[-0.056100981767180834, -0.043634096930029787...  0.061119  0.033344   \n",
       "1453  [[-0.5687693898655644, -0.07238883143743566, -...  0.065789  0.033367   \n",
       "1741  [[0.0717131474103594, 0.08764940239043781, 0.1... -0.036920  0.019997   \n",
       "426   [[0.9940357852882704, 0.13916500994035666, 0.9...  0.994575  0.009337   \n",
       "\n",
       "      prediction  \n",
       "66     -0.430112  \n",
       "1419   -0.447726  \n",
       "261    -0.464758  \n",
       "2793   -0.468437  \n",
       "65     -0.473566  \n",
       "1351   -0.490198  \n",
       "3566   -0.516282  \n",
       "196    -0.517456  \n",
       "2724   -0.523733  \n",
       "1124   -0.526385  \n",
       "3719   -0.526589  \n",
       "590    -0.527773  \n",
       "4267   -0.528590  \n",
       "1125   -0.530395  \n",
       "4303   -0.531542  \n",
       "2703   -0.535000  \n",
       "98     -0.535595  \n",
       "1453   -0.536770  \n",
       "1741   -0.537321  \n",
       "426    -0.538759  "
      ],
      "text/html": [
       "<div>\n",
       "<style scoped>\n",
       "    .dataframe tbody tr th:only-of-type {\n",
       "        vertical-align: middle;\n",
       "    }\n",
       "\n",
       "    .dataframe tbody tr th {\n",
       "        vertical-align: top;\n",
       "    }\n",
       "\n",
       "    .dataframe thead th {\n",
       "        text-align: right;\n",
       "    }\n",
       "</style>\n",
       "<table border=\"1\" class=\"dataframe\">\n",
       "  <thead>\n",
       "    <tr style=\"text-align: right;\">\n",
       "      <th></th>\n",
       "      <th>date</th>\n",
       "      <th>code</th>\n",
       "      <th>name</th>\n",
       "      <th>feature</th>\n",
       "      <th>target</th>\n",
       "      <th>pred</th>\n",
       "      <th>prediction</th>\n",
       "    </tr>\n",
       "  </thead>\n",
       "  <tbody>\n",
       "    <tr>\n",
       "      <th>66</th>\n",
       "      <td>2024-12-26</td>\n",
       "      <td>sh600096</td>\n",
       "      <td>云天化</td>\n",
       "      <td>[[0.0, -0.0044033465433736515, 0.0572435050638...</td>\n",
       "      <td>-0.092470</td>\n",
       "      <td>0.019165</td>\n",
       "      <td>-0.430112</td>\n",
       "    </tr>\n",
       "    <tr>\n",
       "      <th>1419</th>\n",
       "      <td>2024-12-26</td>\n",
       "      <td>sh603790</td>\n",
       "      <td>雅运股份</td>\n",
       "      <td>[[-0.35744680851063826, -0.08510638297872311, ...</td>\n",
       "      <td>0.167696</td>\n",
       "      <td>0.020689</td>\n",
       "      <td>-0.447726</td>\n",
       "    </tr>\n",
       "    <tr>\n",
       "      <th>261</th>\n",
       "      <td>2024-12-26</td>\n",
       "      <td>sh600359</td>\n",
       "      <td>新农开发</td>\n",
       "      <td>[[-0.27863777089783237, 0.0, 0.046439628482972...</td>\n",
       "      <td>0.222930</td>\n",
       "      <td>-0.006478</td>\n",
       "      <td>-0.464758</td>\n",
       "    </tr>\n",
       "    <tr>\n",
       "      <th>2793</th>\n",
       "      <td>2024-12-26</td>\n",
       "      <td>sz002736</td>\n",
       "      <td>国信证券</td>\n",
       "      <td>[[-0.09590235396687115, -0.017436791630341196,...</td>\n",
       "      <td>0.008803</td>\n",
       "      <td>-0.020718</td>\n",
       "      <td>-0.468437</td>\n",
       "    </tr>\n",
       "    <tr>\n",
       "      <th>65</th>\n",
       "      <td>2024-12-26</td>\n",
       "      <td>sh600095</td>\n",
       "      <td>湘财股份</td>\n",
       "      <td>[[-0.13037809647979093, -0.026075619295957725,...</td>\n",
       "      <td>0.052840</td>\n",
       "      <td>0.026440</td>\n",
       "      <td>-0.473566</td>\n",
       "    </tr>\n",
       "    <tr>\n",
       "      <th>1351</th>\n",
       "      <td>2024-12-26</td>\n",
       "      <td>sh603662</td>\n",
       "      <td>柯力传感</td>\n",
       "      <td>[[-0.473653901526057, -0.08206161819752278, 0....</td>\n",
       "      <td>0.352123</td>\n",
       "      <td>0.021117</td>\n",
       "      <td>-0.490198</td>\n",
       "    </tr>\n",
       "    <tr>\n",
       "      <th>3566</th>\n",
       "      <td>2024-12-26</td>\n",
       "      <td>sz300561</td>\n",
       "      <td>汇金科技</td>\n",
       "      <td>[[-0.5257689110556929, -0.36990856192851085, 0...</td>\n",
       "      <td>0.094319</td>\n",
       "      <td>0.012131</td>\n",
       "      <td>-0.516282</td>\n",
       "    </tr>\n",
       "    <tr>\n",
       "      <th>196</th>\n",
       "      <td>2024-12-26</td>\n",
       "      <td>sh600266</td>\n",
       "      <td>城建发展</td>\n",
       "      <td>[[0.08064516129032265, 0.020161290322580218, 0...</td>\n",
       "      <td>0.000000</td>\n",
       "      <td>-0.015505</td>\n",
       "      <td>-0.517456</td>\n",
       "    </tr>\n",
       "    <tr>\n",
       "      <th>2724</th>\n",
       "      <td>2024-12-26</td>\n",
       "      <td>sz002655</td>\n",
       "      <td>共达电声</td>\n",
       "      <td>[[-0.08988764044943762, -0.07490636704119824, ...</td>\n",
       "      <td>0.355253</td>\n",
       "      <td>0.005231</td>\n",
       "      <td>-0.523733</td>\n",
       "    </tr>\n",
       "    <tr>\n",
       "      <th>1124</th>\n",
       "      <td>2024-12-26</td>\n",
       "      <td>sh603208</td>\n",
       "      <td>江山欧派</td>\n",
       "      <td>[[-0.02157497303128325, 0.02157497303128325, 0...</td>\n",
       "      <td>0.048649</td>\n",
       "      <td>-0.014847</td>\n",
       "      <td>-0.526385</td>\n",
       "    </tr>\n",
       "    <tr>\n",
       "      <th>3719</th>\n",
       "      <td>2024-12-26</td>\n",
       "      <td>sz300719</td>\n",
       "      <td>安达维尔</td>\n",
       "      <td>[[0.3003823047515023, -0.005461496450026222, 0...</td>\n",
       "      <td>0.090138</td>\n",
       "      <td>0.013990</td>\n",
       "      <td>-0.526589</td>\n",
       "    </tr>\n",
       "    <tr>\n",
       "      <th>590</th>\n",
       "      <td>2024-12-26</td>\n",
       "      <td>sh600795</td>\n",
       "      <td>国电电力</td>\n",
       "      <td>[[0.02136752136752281, 0.02136752136752281, 0....</td>\n",
       "      <td>-0.234542</td>\n",
       "      <td>-0.013021</td>\n",
       "      <td>-0.527773</td>\n",
       "    </tr>\n",
       "    <tr>\n",
       "      <th>4267</th>\n",
       "      <td>2024-12-26</td>\n",
       "      <td>sz301330</td>\n",
       "      <td>熵基科技</td>\n",
       "      <td>[[-0.10726643598615873, -0.013840830449826697,...</td>\n",
       "      <td>0.129416</td>\n",
       "      <td>0.014950</td>\n",
       "      <td>-0.528590</td>\n",
       "    </tr>\n",
       "    <tr>\n",
       "      <th>1125</th>\n",
       "      <td>2024-12-26</td>\n",
       "      <td>sh603209</td>\n",
       "      <td>兴通股份</td>\n",
       "      <td>[[-0.025046963055730072, -0.0751408891671891, ...</td>\n",
       "      <td>-0.006277</td>\n",
       "      <td>0.003605</td>\n",
       "      <td>-0.530395</td>\n",
       "    </tr>\n",
       "    <tr>\n",
       "      <th>4303</th>\n",
       "      <td>2024-12-26</td>\n",
       "      <td>sz301381</td>\n",
       "      <td>赛维时代</td>\n",
       "      <td>[[-0.04290004290004199, 0.0, 0.021450021450021...</td>\n",
       "      <td>0.193882</td>\n",
       "      <td>0.014691</td>\n",
       "      <td>-0.531542</td>\n",
       "    </tr>\n",
       "    <tr>\n",
       "      <th>2703</th>\n",
       "      <td>2024-12-26</td>\n",
       "      <td>sz002633</td>\n",
       "      <td>申科股份</td>\n",
       "      <td>[[-0.25352112676056293, -0.018779342723004293,...</td>\n",
       "      <td>0.192678</td>\n",
       "      <td>-0.000473</td>\n",
       "      <td>-0.535000</td>\n",
       "    </tr>\n",
       "    <tr>\n",
       "      <th>98</th>\n",
       "      <td>2024-12-26</td>\n",
       "      <td>sh600132</td>\n",
       "      <td>重庆啤酒</td>\n",
       "      <td>[[-0.056100981767180834, -0.043634096930029787...</td>\n",
       "      <td>0.061119</td>\n",
       "      <td>0.033344</td>\n",
       "      <td>-0.535595</td>\n",
       "    </tr>\n",
       "    <tr>\n",
       "      <th>1453</th>\n",
       "      <td>2024-12-26</td>\n",
       "      <td>sh603861</td>\n",
       "      <td>白云电器</td>\n",
       "      <td>[[-0.5687693898655644, -0.07238883143743566, -...</td>\n",
       "      <td>0.065789</td>\n",
       "      <td>0.033367</td>\n",
       "      <td>-0.536770</td>\n",
       "    </tr>\n",
       "    <tr>\n",
       "      <th>1741</th>\n",
       "      <td>2024-12-26</td>\n",
       "      <td>sz000513</td>\n",
       "      <td>丽珠集团</td>\n",
       "      <td>[[0.0717131474103594, 0.08764940239043781, 0.1...</td>\n",
       "      <td>-0.036920</td>\n",
       "      <td>0.019997</td>\n",
       "      <td>-0.537321</td>\n",
       "    </tr>\n",
       "    <tr>\n",
       "      <th>426</th>\n",
       "      <td>2024-12-26</td>\n",
       "      <td>sh600590</td>\n",
       "      <td>泰豪科技</td>\n",
       "      <td>[[0.9940357852882704, 0.13916500994035666, 0.9...</td>\n",
       "      <td>0.994575</td>\n",
       "      <td>0.009337</td>\n",
       "      <td>-0.538759</td>\n",
       "    </tr>\n",
       "  </tbody>\n",
       "</table>\n",
       "</div>"
      ]
     },
     "execution_count": 31,
     "metadata": {},
     "output_type": "execute_result"
    }
   ],
   "execution_count": 31
  },
  {
   "metadata": {
    "ExecuteTime": {
     "end_time": "2024-12-28T10:35:11.256375Z",
     "start_time": "2024-12-28T10:35:10.832180Z"
    }
   },
   "cell_type": "code",
   "source": [
    "import matplotlib.pyplot as plt\n",
    "import numpy as np\n",
    "from scipy.stats import pearsonr\n",
    "from sklearn.metrics import mean_squared_error\n",
    "\n",
    "smse = mean_squared_error(cdf[\"prediction\"], cdf[\"target\"]*10)\n",
    "print(f\"MSE is: {smse:.2f}\")\n",
    "pr = pearsonr(cdf[\"prediction\"], cdf[\"target\"]*10)[0]\n",
    "print(f\"The Pearson Correlation Coefficient is:{pr:.2f}\")\n",
    "plt.scatter(cdf[\"prediction\"], cdf[\"target\"]*10)\n",
    "plt.show()"
   ],
   "id": "8d2f100c3f294954",
   "outputs": [
    {
     "name": "stdout",
     "output_type": "stream",
     "text": [
      "MSE is: 10.08\n",
      "The Pearson Correlation Coefficient is:0.03\n"
     ]
    },
    {
     "data": {
      "text/plain": [
       "<Figure size 640x480 with 1 Axes>"
      ],
      "image/png": "[encoded data removed]"
     },
     "metadata": {},
     "output_type": "display_data"
    }
   ],
   "execution_count": 32
  },
  {
   "metadata": {
    "ExecuteTime": {
     "end_time": "2024-12-28T10:17:26.487396Z",
     "start_time": "2024-12-28T10:17:26.451649Z"
    }
   },
   "cell_type": "code",
   "source": "L.__version__",
   "id": "7bde72a8037c61d8",
   "outputs": [
    {
     "data": {
      "text/plain": [
       "'2.1.3'"
      ]
     },
     "execution_count": 24,
     "metadata": {},
     "output_type": "execute_result"
    }
   ],
   "execution_count": 24
  },
  {
   "metadata": {},
   "cell_type": "code",
   "outputs": [],
   "execution_count": null,
   "source": "",
   "id": "b0bbaa201eefe754"
  }
 ],
 "metadata": {
  "kernelspec": {
   "name": "python3",
   "language": "python",
   "display_name": "Python 3 (ipykernel)"
  }
 },
 "nbformat": 5,
 "nbformat_minor": 9
}
