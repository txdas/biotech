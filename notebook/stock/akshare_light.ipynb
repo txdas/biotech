{
 "cells": [
  {
   "metadata": {
    "ExecuteTime": {
     "end_time": "2024-12-31T05:39:32.819062Z",
     "start_time": "2024-12-31T05:38:21.123236Z"
    }
   },
   "cell_type": "code",
   "source": [
    "from stock.transformer import StdNormalize, AmountVocab\n",
    "import datetime\n",
    "import pandas as pd\n",
    "import numpy as np\n",
    "import tqdm\n",
    "\n",
    "\n",
    "df = pd.read_csv(\"./daily/stock_2024-12-30.csv\")\n",
    "cdf = pd.read_csv(\"stock_today.csv\")\n",
    "fdf = pd.read_csv(\"./daily/stock_fund_2024-12-30.csv\")\n",
    "cfdf = pd.read_csv(\"stock_fund_today.csv\")\n",
    "fdf = pd.concat([fdf,cfdf])\n",
    "df = pd.concat([df,cdf])\n",
    "df = df.merge(fdf)\n",
    "df.dropna(inplace=True)\n",
    "vnor, snor, mnor= StdNormalize(gap=5.0),StdNormalize(gap=10.0),StdNormalize(gap=25.0)\n",
    "avocab = AmountVocab(df[\"amount\"].values)\n",
    "mvocab = AmountVocab(df[\"main_amount\"].values)\n",
    "\n",
    "def nor_feature(r,p,pg):\n",
    "    amount, price  = pg[\"amount\"].mean(), pg[\"close\"].mean()\n",
    "    price_max, price_min = pg[\"close\"].max(), pg[\"close\"].min()\n",
    "    amount_max, amount_min = pg[\"amount\"].max(), pg[\"amount\"].min()\n",
    "    close = snor((r.close - p.close)*100/p.close)\n",
    "    _open = snor((r.open - p.close)*100/p.close)\n",
    "    high = snor((r.high - p.close)*100/p.close)\n",
    "    low = snor((r.low - p.close)*100/p.close)\n",
    "    plow =snor((r.low - price_min)*100/price)\n",
    "    phigh =snor((r.high - price_max)*100/price)\n",
    "    pclose =snor((r.close - price)*100/price)\n",
    "    volume = vnor(np.log2(r.amount/amount))\n",
    "    vhigh = vnor(np.log2(r.amount/amount_max))\n",
    "    vlow = vnor(np.log2(r.amount/amount_max))\n",
    "    amount = avocab(r.amount)/10\n",
    "    mamount = mvocab(r.main_amount)/10\n",
    "    mpercent =mnor(r.main_percent)\n",
    "    # [close,_open,high,low,volume,amount,plow,phigh, pclose,vhigh,vlow]\n",
    "\n",
    "    return [close,_open,high,low,volume,amount,mamount, mpercent]\n",
    "\n",
    "def make_data(df, cdate, cnum):\n",
    "    codes, names, targets, features = [], [], [],[]\n",
    "    for k,g in tqdm.tqdm(df.sort_values(by=\"date\", ascending=False).groupby(\"code\"),\n",
    "                         desc=f\"processing date[{cdate}]\"):\n",
    "        cur = g[g.date==cdate]\n",
    "        g = g[g.date<cdate]\n",
    "        cg, pg = g[:cnum],g[cnum:]\n",
    "        row = np.zeros((cnum,8),dtype=float)\n",
    "        if cg.shape[0]==cnum and pg.shape[0]>0:\n",
    "            pr = cg.iloc[0]\n",
    "            codes.append(pr[\"code\"])\n",
    "            names.append(pr[\"name\"])\n",
    "            if cur.shape[0]>0:\n",
    "                cr = cur.iloc[0]\n",
    "                change = snor((cr.close-pr.close)*100/pr.close)\n",
    "            else:\n",
    "                change = 0\n",
    "            targets.append(change)\n",
    "            for i in range(cg.shape[0]):\n",
    "                r, p= g.iloc[i],g.iloc[i+1]\n",
    "                row[i,:] = nor_feature(r,p,pg)\n",
    "            features.append(row)\n",
    "        # break\n",
    "    return pd.DataFrame({\"date\":cdate, \"code\":codes,\"name\":names,\"feature\":features, \"target\": targets})\n",
    "\n",
    "def get_dates(cdt, days=3):\n",
    "    ctm = datetime.datetime.strptime(cdt,\"%Y-%m-%d\")\n",
    "    dts = []\n",
    "    for i in range(1, days+3):\n",
    "        delta = datetime.timedelta(days=-i)\n",
    "        ttm = ctm+delta\n",
    "        if ttm.weekday() <5:\n",
    "            dts.append(ttm.strftime(\"%Y-%m-%d\"))\n",
    "    return dts[:days]\n",
    "cdate, lst,hdays = \"2025-01-01\", [], 10\n",
    "# for dt in get_dates(cdate,5):\n",
    "#     lst.append(make_data(df,dt, hdays))\n",
    "# pdf = pd.concat(lst)\n",
    "cdf = make_data(df, cdate, hdays)\n",
    "pdf.head()"
   ],
   "id": "417c43d7a621a751",
   "outputs": [
    {
     "name": "stderr",
     "output_type": "stream",
     "text": [
      "processing date[2025-01-01]: 100%|██████████| 4411/4411 [01:09<00:00, 63.80it/s] \n"
     ]
    },
    {
     "data": {
      "text/plain": [
       "         date      code  name  \\\n",
       "0  2025-01-01  sh600000  浦发银行   \n",
       "1  2025-01-01  sh600004  白云机场   \n",
       "2  2025-01-01  sh600006  东风股份   \n",
       "3  2025-01-01  sh600007  中国国贸   \n",
       "4  2025-01-01  sh600008  首创环保   \n",
       "\n",
       "                                             feature  target  prediction  \n",
       "0  [[0.028653295128939216, -0.03820439350525399, ...       0    1.806837  \n",
       "1  [[-0.04094165813715368, -0.01023541453428842, ...       0    2.539865  \n",
       "2  [[-0.30808729139923, -0.012836970474967634, 0....       0   -1.832355  \n",
       "3  [[0.10326311441553078, -0.020652622883106448, ...       0    0.809127  \n",
       "4  [[-0.029850746268657406, -0.029850746268657406...       0   -1.077808  "
      ],
      "text/html": [
       "<div>\n",
       "<style scoped>\n",
       "    .dataframe tbody tr th:only-of-type {\n",
       "        vertical-align: middle;\n",
       "    }\n",
       "\n",
       "    .dataframe tbody tr th {\n",
       "        vertical-align: top;\n",
       "    }\n",
       "\n",
       "    .dataframe thead th {\n",
       "        text-align: right;\n",
       "    }\n",
       "</style>\n",
       "<table border=\"1\" class=\"dataframe\">\n",
       "  <thead>\n",
       "    <tr style=\"text-align: right;\">\n",
       "      <th></th>\n",
       "      <th>date</th>\n",
       "      <th>code</th>\n",
       "      <th>name</th>\n",
       "      <th>feature</th>\n",
       "      <th>target</th>\n",
       "      <th>prediction</th>\n",
       "    </tr>\n",
       "  </thead>\n",
       "  <tbody>\n",
       "    <tr>\n",
       "      <th>0</th>\n",
       "      <td>2025-01-01</td>\n",
       "      <td>sh600000</td>\n",
       "      <td>浦发银行</td>\n",
       "      <td>[[0.028653295128939216, -0.03820439350525399, ...</td>\n",
       "      <td>0</td>\n",
       "      <td>1.806837</td>\n",
       "    </tr>\n",
       "    <tr>\n",
       "      <th>1</th>\n",
       "      <td>2025-01-01</td>\n",
       "      <td>sh600004</td>\n",
       "      <td>白云机场</td>\n",
       "      <td>[[-0.04094165813715368, -0.01023541453428842, ...</td>\n",
       "      <td>0</td>\n",
       "      <td>2.539865</td>\n",
       "    </tr>\n",
       "    <tr>\n",
       "      <th>2</th>\n",
       "      <td>2025-01-01</td>\n",
       "      <td>sh600006</td>\n",
       "      <td>东风股份</td>\n",
       "      <td>[[-0.30808729139923, -0.012836970474967634, 0....</td>\n",
       "      <td>0</td>\n",
       "      <td>-1.832355</td>\n",
       "    </tr>\n",
       "    <tr>\n",
       "      <th>3</th>\n",
       "      <td>2025-01-01</td>\n",
       "      <td>sh600007</td>\n",
       "      <td>中国国贸</td>\n",
       "      <td>[[0.10326311441553078, -0.020652622883106448, ...</td>\n",
       "      <td>0</td>\n",
       "      <td>0.809127</td>\n",
       "    </tr>\n",
       "    <tr>\n",
       "      <th>4</th>\n",
       "      <td>2025-01-01</td>\n",
       "      <td>sh600008</td>\n",
       "      <td>首创环保</td>\n",
       "      <td>[[-0.029850746268657406, -0.029850746268657406...</td>\n",
       "      <td>0</td>\n",
       "      <td>-1.077808</td>\n",
       "    </tr>\n",
       "  </tbody>\n",
       "</table>\n",
       "</div>"
      ]
     },
     "execution_count": 10,
     "metadata": {},
     "output_type": "execute_result"
    }
   ],
   "execution_count": 10
  },
  {
   "metadata": {
    "ExecuteTime": {
     "end_time": "2024-12-31T03:09:01.581225Z",
     "start_time": "2024-12-31T03:07:38.968895Z"
    }
   },
   "cell_type": "code",
   "source": [
    "import warnings\n",
    "warnings.filterwarnings(\"ignore\")\n",
    "import torch\n",
    "from stock.base import BaseModel\n",
    "from stock.models import ConvBERT\n",
    "from torch import nn\n",
    "import lightning as L\n",
    "from lightning.pytorch.callbacks.early_stopping import EarlyStopping\n",
    "from torch.utils.data import DataLoader, random_split, Dataset\n",
    "from lightning.pytorch.loggers import CSVLogger\n",
    "logger = CSVLogger(\"logs\", name=\"my_exp_name\")\n",
    "\n",
    "\n",
    "class StockDataset(Dataset):\n",
    "    def __init__(self, df):\n",
    "        self.df = df\n",
    "    def __len__(self):\n",
    "        return self.df.shape[0]\n",
    "    def __getitem__(self, idx):\n",
    "        row = self.df.iloc[idx]\n",
    "        return (torch.tensor(row[\"feature\"], dtype=torch.float32),\n",
    "                torch.tensor([row[\"target\"]],dtype=torch.float32))\n",
    "\n",
    "\n",
    "class DailyGRU(BaseModel):\n",
    "    def __init__(self):\n",
    "        super().__init__()\n",
    "        self.rnn = nn.GRU(8, 64,num_layers=2, batch_first=True, bidirectional=False)\n",
    "        self.linear = nn.Linear(2*64, 1)\n",
    "    def forward(self, x):\n",
    "        bs,length  = x.shape[0], x.shape[1]\n",
    "        x = x.view((bs,length,-1))\n",
    "        output, hn= self.rnn(x)\n",
    "        y = hn.view((bs,-1))\n",
    "        ouputs = self.linear(torch.relu(y))\n",
    "        return torch.tanh(ouputs)\n",
    "\n",
    "class TranConv(BaseModel):\n",
    "    def __init__(self):\n",
    "        super().__init__()\n",
    "        self.model = ConvBERT(32,8,0.2,hdays)\n",
    "\n",
    "    def forward(self, x):\n",
    "        bs,length = x.shape[0], x.shape[1]\n",
    "        x = x.view((bs,length,-1))\n",
    "        x = self.model(x)\n",
    "        ouputs = torch.tanh(x)\n",
    "        return ouputs\n",
    "\n",
    "\n",
    "model = TranConv()\n",
    "valid_len = int(pdf.shape[0]*0.1)\n",
    "train_dataset, valid_dataset = random_split(StockDataset(pdf), [len(pdf)-valid_len,valid_len])\n",
    "train_loader = DataLoader(train_dataset,batch_size=32,shuffle=True)\n",
    "valid_loader = DataLoader(valid_dataset,batch_size=32,shuffle=False)\n",
    "test_loader = DataLoader(StockDataset(cdf),batch_size=32,shuffle=False)\n",
    "callbacks=[EarlyStopping(monitor=\"val_loss\", mode=\"min\",patience=10)]\n",
    "trainer = L.Trainer(limit_train_batches=100, max_epochs=50, callbacks=callbacks, logger=logger)\n",
    "trainer.fit(model=model, train_dataloaders=train_loader, val_dataloaders=valid_loader)\n",
    "trainer.test(model=model, dataloaders = test_loader)"
   ],
   "id": "82a170876fa9ee0d",
   "outputs": [
    {
     "name": "stderr",
     "output_type": "stream",
     "text": [
      "GPU available: False, used: False\n",
      "TPU available: False, using: 0 TPU cores\n",
      "HPU available: False, using: 0 HPUs\n",
      "\n",
      "  | Name  | Type     | Params | Mode \n",
      "-------------------------------------------\n",
      "0 | model | ConvBERT | 51.7 K | train\n",
      "-------------------------------------------\n",
      "51.7 K    Trainable params\n",
      "0         Non-trainable params\n",
      "51.7 K    Total params\n",
      "0.207     Total estimated model params size (MB)\n",
      "49        Modules in train mode\n",
      "0         Modules in eval mode\n"
     ]
    },
    {
     "data": {
      "text/plain": [
       "Sanity Checking: |          | 0/? [00:00<?, ?it/s]"
      ],
      "application/vnd.jupyter.widget-view+json": {
       "version_major": 2,
       "version_minor": 0,
       "model_id": "661e50215106476ebb2a3be732198dc0"
      }
     },
     "metadata": {},
     "output_type": "display_data"
    },
    {
     "data": {
      "text/plain": [
       "Training: |          | 0/? [00:00<?, ?it/s]"
      ],
      "application/vnd.jupyter.widget-view+json": {
       "version_major": 2,
       "version_minor": 0,
       "model_id": "6c897db7beea4bcaac3a1c944e70159a"
      }
     },
     "metadata": {},
     "output_type": "display_data"
    },
    {
     "data": {
      "text/plain": [
       "Validation: |          | 0/? [00:00<?, ?it/s]"
      ],
      "application/vnd.jupyter.widget-view+json": {
       "version_major": 2,
       "version_minor": 0,
       "model_id": "14e8b412af3b426c87430db96358eb99"
      }
     },
     "metadata": {},
     "output_type": "display_data"
    },
    {
     "data": {
      "text/plain": [
       "Validation: |          | 0/? [00:00<?, ?it/s]"
      ],
      "application/vnd.jupyter.widget-view+json": {
       "version_major": 2,
       "version_minor": 0,
       "model_id": "f41e6f2d3327426292e9868592d7f776"
      }
     },
     "metadata": {},
     "output_type": "display_data"
    },
    {
     "data": {
      "text/plain": [
       "Validation: |          | 0/? [00:00<?, ?it/s]"
      ],
      "application/vnd.jupyter.widget-view+json": {
       "version_major": 2,
       "version_minor": 0,
       "model_id": "016244d5aa2b44ecacbf01c2aaba53a4"
      }
     },
     "metadata": {},
     "output_type": "display_data"
    },
    {
     "data": {
      "text/plain": [
       "Validation: |          | 0/? [00:00<?, ?it/s]"
      ],
      "application/vnd.jupyter.widget-view+json": {
       "version_major": 2,
       "version_minor": 0,
       "model_id": "bc32d1c6e5a54da3ae8a9924c9395666"
      }
     },
     "metadata": {},
     "output_type": "display_data"
    },
    {
     "data": {
      "text/plain": [
       "Validation: |          | 0/? [00:00<?, ?it/s]"
      ],
      "application/vnd.jupyter.widget-view+json": {
       "version_major": 2,
       "version_minor": 0,
       "model_id": "c180d6469c614b13bb41fe4366f3c1b3"
      }
     },
     "metadata": {},
     "output_type": "display_data"
    },
    {
     "data": {
      "text/plain": [
       "Validation: |          | 0/? [00:00<?, ?it/s]"
      ],
      "application/vnd.jupyter.widget-view+json": {
       "version_major": 2,
       "version_minor": 0,
       "model_id": "e2d246f0c1a94b54a6483ae3eee1925b"
      }
     },
     "metadata": {},
     "output_type": "display_data"
    },
    {
     "data": {
      "text/plain": [
       "Validation: |          | 0/? [00:00<?, ?it/s]"
      ],
      "application/vnd.jupyter.widget-view+json": {
       "version_major": 2,
       "version_minor": 0,
       "model_id": "09452fb8bc6e4a6388edbb28b695ef4a"
      }
     },
     "metadata": {},
     "output_type": "display_data"
    },
    {
     "data": {
      "text/plain": [
       "Validation: |          | 0/? [00:00<?, ?it/s]"
      ],
      "application/vnd.jupyter.widget-view+json": {
       "version_major": 2,
       "version_minor": 0,
       "model_id": "278edcd78cfd43a4b80bd728e988b96d"
      }
     },
     "metadata": {},
     "output_type": "display_data"
    },
    {
     "data": {
      "text/plain": [
       "Validation: |          | 0/? [00:00<?, ?it/s]"
      ],
      "application/vnd.jupyter.widget-view+json": {
       "version_major": 2,
       "version_minor": 0,
       "model_id": "b28d92f952074c00977f3f97408fbba9"
      }
     },
     "metadata": {},
     "output_type": "display_data"
    },
    {
     "data": {
      "text/plain": [
       "Validation: |          | 0/? [00:00<?, ?it/s]"
      ],
      "application/vnd.jupyter.widget-view+json": {
       "version_major": 2,
       "version_minor": 0,
       "model_id": "7817fbe38c04423d9bb606b8b4e90260"
      }
     },
     "metadata": {},
     "output_type": "display_data"
    },
    {
     "data": {
      "text/plain": [
       "Validation: |          | 0/? [00:00<?, ?it/s]"
      ],
      "application/vnd.jupyter.widget-view+json": {
       "version_major": 2,
       "version_minor": 0,
       "model_id": "88e619ffc11146b5adeee130b4f03ba2"
      }
     },
     "metadata": {},
     "output_type": "display_data"
    },
    {
     "data": {
      "text/plain": [
       "Testing: |          | 0/? [00:00<?, ?it/s]"
      ],
      "application/vnd.jupyter.widget-view+json": {
       "version_major": 2,
       "version_minor": 0,
       "model_id": "4fd2e69bed234b5fafef4822be399421"
      }
     },
     "metadata": {},
     "output_type": "display_data"
    },
    {
     "data": {
      "text/plain": [
       "┏━━━━━━━━━━━━━━━━━━━━━━━━━━━┳━━━━━━━━━━━━━━━━━━━━━━━━━━━┓\n",
       "┃\u001B[1m \u001B[0m\u001B[1m       Test metric       \u001B[0m\u001B[1m \u001B[0m┃\u001B[1m \u001B[0m\u001B[1m      DataLoader 0       \u001B[0m\u001B[1m \u001B[0m┃\n",
       "┡━━━━━━━━━━━━━━━━━━━━━━━━━━━╇━━━━━━━━━━━━━━━━━━━━━━━━━━━┩\n",
       "│\u001B[36m \u001B[0m\u001B[36m        test_loss        \u001B[0m\u001B[36m \u001B[0m│\u001B[35m \u001B[0m\u001B[35m   0.04839020222425461   \u001B[0m\u001B[35m \u001B[0m│\n",
       "└───────────────────────────┴───────────────────────────┘\n"
      ],
      "text/html": [
       "<pre style=\"white-space:pre;overflow-x:auto;line-height:normal;font-family:Menlo,'DejaVu Sans Mono',consolas,'Courier New',monospace\">┏━━━━━━━━━━━━━━━━━━━━━━━━━━━┳━━━━━━━━━━━━━━━━━━━━━━━━━━━┓\n",
       "┃<span style=\"font-weight: bold\">        Test metric        </span>┃<span style=\"font-weight: bold\">       DataLoader 0        </span>┃\n",
       "┡━━━━━━━━━━━━━━━━━━━━━━━━━━━╇━━━━━━━━━━━━━━━━━━━━━━━━━━━┩\n",
       "│<span style=\"color: #008080; text-decoration-color: #008080\">         test_loss         </span>│<span style=\"color: #800080; text-decoration-color: #800080\">    0.04839020222425461    </span>│\n",
       "└───────────────────────────┴───────────────────────────┘\n",
       "</pre>\n"
      ]
     },
     "metadata": {},
     "output_type": "display_data"
    },
    {
     "data": {
      "text/plain": [
       "[{'test_loss': 0.04839020222425461}]"
      ]
     },
     "execution_count": 8,
     "metadata": {},
     "output_type": "execute_result"
    }
   ],
   "execution_count": 8
  },
  {
   "metadata": {
    "ExecuteTime": {
     "end_time": "2024-12-31T05:50:34.819997Z",
     "start_time": "2024-12-31T05:50:28.529273Z"
    }
   },
   "cell_type": "code",
   "source": [
    "predictions = trainer.predict(model, test_loader)\n",
    "pdf = cdf.copy()\n",
    "pdf[\"target\"] = pdf[\"target\"]*10\n",
    "pdf[\"prediction\"] = torch.concat(predictions)*10\n",
    "pdf.sort_values(by=\"prediction\",ascending=False)[:200]"
   ],
   "id": "3fed9981c09c0c7c",
   "outputs": [
    {
     "data": {
      "text/plain": [
       "Predicting: |          | 0/? [00:00<?, ?it/s]"
      ],
      "application/vnd.jupyter.widget-view+json": {
       "version_major": 2,
       "version_minor": 0,
       "model_id": "a8f45e3e463945a9805c4d8ef92e180a"
      }
     },
     "metadata": {},
     "output_type": "display_data"
    },
    {
     "data": {
      "text/plain": [
       "            date      code  name  \\\n",
       "4124  2025-01-01  sz301153  中科江南   \n",
       "1179  2025-01-01  sh603285  键邦股份   \n",
       "3994  2025-01-01  sz301004  嘉益股份   \n",
       "3418  2025-01-01  sz300398  飞凯材料   \n",
       "3807  2025-01-01  sz300809  华辰装备   \n",
       "...          ...       ...   ...   \n",
       "1402  2025-01-01  sh603730  岱美股份   \n",
       "1851  2025-01-01  sz000680  山推股份   \n",
       "2550  2025-01-01  sz002451  摩恩电气   \n",
       "1677  2025-01-01  sz000036  华联控股   \n",
       "4219  2025-01-01  sz301269  华大九天   \n",
       "\n",
       "                                                feature  target  prediction  \n",
       "4124  [[-0.30523759972251097, 0.0173430454387793, 0....       0    6.173225  \n",
       "1179  [[-0.21992238033635253, 0.03880983182406203, 0...       0    6.111165  \n",
       "3994  [[-0.04090157514576616, 0.0, 0.120964232877904...       0    5.991809  \n",
       "3418  [[-0.3496081977094625, 0.006027727546715831, 0...       0    5.875249  \n",
       "3807  [[-0.2721712538226312, 0.05504587155963293, 0....       0    5.708161  \n",
       "...                                                 ...     ...         ...  \n",
       "1402  [[-0.13086150490730558, 0.08724100327153769, 0...       0    3.382575  \n",
       "1851  [[-0.061728395061728905, -0.020576131687244186...       0    3.381528  \n",
       "2550  [[-0.24767801857585164, 0.030959752321982136, ...       0    3.379337  \n",
       "1677  [[-0.16826923076923145, 0.0, 0.120192307692307...       0    3.371985  \n",
       "4219  [[-0.40691759918616494, 0.061820173722513985, ...       0    3.366710  \n",
       "\n",
       "[200 rows x 6 columns]"
      ],
      "text/html": [
       "<div>\n",
       "<style scoped>\n",
       "    .dataframe tbody tr th:only-of-type {\n",
       "        vertical-align: middle;\n",
       "    }\n",
       "\n",
       "    .dataframe tbody tr th {\n",
       "        vertical-align: top;\n",
       "    }\n",
       "\n",
       "    .dataframe thead th {\n",
       "        text-align: right;\n",
       "    }\n",
       "</style>\n",
       "<table border=\"1\" class=\"dataframe\">\n",
       "  <thead>\n",
       "    <tr style=\"text-align: right;\">\n",
       "      <th></th>\n",
       "      <th>date</th>\n",
       "      <th>code</th>\n",
       "      <th>name</th>\n",
       "      <th>feature</th>\n",
       "      <th>target</th>\n",
       "      <th>prediction</th>\n",
       "    </tr>\n",
       "  </thead>\n",
       "  <tbody>\n",
       "    <tr>\n",
       "      <th>4124</th>\n",
       "      <td>2025-01-01</td>\n",
       "      <td>sz301153</td>\n",
       "      <td>中科江南</td>\n",
       "      <td>[[-0.30523759972251097, 0.0173430454387793, 0....</td>\n",
       "      <td>0</td>\n",
       "      <td>6.173225</td>\n",
       "    </tr>\n",
       "    <tr>\n",
       "      <th>1179</th>\n",
       "      <td>2025-01-01</td>\n",
       "      <td>sh603285</td>\n",
       "      <td>键邦股份</td>\n",
       "      <td>[[-0.21992238033635253, 0.03880983182406203, 0...</td>\n",
       "      <td>0</td>\n",
       "      <td>6.111165</td>\n",
       "    </tr>\n",
       "    <tr>\n",
       "      <th>3994</th>\n",
       "      <td>2025-01-01</td>\n",
       "      <td>sz301004</td>\n",
       "      <td>嘉益股份</td>\n",
       "      <td>[[-0.04090157514576616, 0.0, 0.120964232877904...</td>\n",
       "      <td>0</td>\n",
       "      <td>5.991809</td>\n",
       "    </tr>\n",
       "    <tr>\n",
       "      <th>3418</th>\n",
       "      <td>2025-01-01</td>\n",
       "      <td>sz300398</td>\n",
       "      <td>飞凯材料</td>\n",
       "      <td>[[-0.3496081977094625, 0.006027727546715831, 0...</td>\n",
       "      <td>0</td>\n",
       "      <td>5.875249</td>\n",
       "    </tr>\n",
       "    <tr>\n",
       "      <th>3807</th>\n",
       "      <td>2025-01-01</td>\n",
       "      <td>sz300809</td>\n",
       "      <td>华辰装备</td>\n",
       "      <td>[[-0.2721712538226312, 0.05504587155963293, 0....</td>\n",
       "      <td>0</td>\n",
       "      <td>5.708161</td>\n",
       "    </tr>\n",
       "    <tr>\n",
       "      <th>...</th>\n",
       "      <td>...</td>\n",
       "      <td>...</td>\n",
       "      <td>...</td>\n",
       "      <td>...</td>\n",
       "      <td>...</td>\n",
       "      <td>...</td>\n",
       "    </tr>\n",
       "    <tr>\n",
       "      <th>1402</th>\n",
       "      <td>2025-01-01</td>\n",
       "      <td>sh603730</td>\n",
       "      <td>岱美股份</td>\n",
       "      <td>[[-0.13086150490730558, 0.08724100327153769, 0...</td>\n",
       "      <td>0</td>\n",
       "      <td>3.382575</td>\n",
       "    </tr>\n",
       "    <tr>\n",
       "      <th>1851</th>\n",
       "      <td>2025-01-01</td>\n",
       "      <td>sz000680</td>\n",
       "      <td>山推股份</td>\n",
       "      <td>[[-0.061728395061728905, -0.020576131687244186...</td>\n",
       "      <td>0</td>\n",
       "      <td>3.381528</td>\n",
       "    </tr>\n",
       "    <tr>\n",
       "      <th>2550</th>\n",
       "      <td>2025-01-01</td>\n",
       "      <td>sz002451</td>\n",
       "      <td>摩恩电气</td>\n",
       "      <td>[[-0.24767801857585164, 0.030959752321982136, ...</td>\n",
       "      <td>0</td>\n",
       "      <td>3.379337</td>\n",
       "    </tr>\n",
       "    <tr>\n",
       "      <th>1677</th>\n",
       "      <td>2025-01-01</td>\n",
       "      <td>sz000036</td>\n",
       "      <td>华联控股</td>\n",
       "      <td>[[-0.16826923076923145, 0.0, 0.120192307692307...</td>\n",
       "      <td>0</td>\n",
       "      <td>3.371985</td>\n",
       "    </tr>\n",
       "    <tr>\n",
       "      <th>4219</th>\n",
       "      <td>2025-01-01</td>\n",
       "      <td>sz301269</td>\n",
       "      <td>华大九天</td>\n",
       "      <td>[[-0.40691759918616494, 0.061820173722513985, ...</td>\n",
       "      <td>0</td>\n",
       "      <td>3.366710</td>\n",
       "    </tr>\n",
       "  </tbody>\n",
       "</table>\n",
       "<p>200 rows × 6 columns</p>\n",
       "</div>"
      ]
     },
     "execution_count": 11,
     "metadata": {},
     "output_type": "execute_result"
    }
   ],
   "execution_count": 11
  },
  {
   "metadata": {
    "ExecuteTime": {
     "end_time": "2024-12-31T01:18:47.342696Z",
     "start_time": "2024-12-31T01:18:46.816062Z"
    }
   },
   "cell_type": "code",
   "source": [
    "import matplotlib.pyplot as plt\n",
    "import numpy as np\n",
    "from scipy.stats import pearsonr\n",
    "from sklearn.metrics import mean_squared_error\n",
    "\n",
    "smse = mean_squared_error(pdf[\"prediction\"], pdf[\"target\"])\n",
    "print(f\"MSE is: {smse:.2f}\")\n",
    "pr = pearsonr(pdf[\"prediction\"], pdf[\"target\"])[0]\n",
    "print(f\"The Pearson Correlation Coefficient is:{pr:.2f}\")\n",
    "plt.scatter(pdf[\"prediction\"], pdf[\"target\"])\n",
    "plt.show()"
   ],
   "id": "8d2f100c3f294954",
   "outputs": [
    {
     "name": "stdout",
     "output_type": "stream",
     "text": [
      "MSE is: 14.36\n",
      "The Pearson Correlation Coefficient is:nan\n"
     ]
    },
    {
     "data": {
      "text/plain": [
       "<Figure size 640x480 with 1 Axes>"
      ],
      "image/png": "[encoded data removed]"
     },
     "metadata": {},
     "output_type": "display_data"
    }
   ],
   "execution_count": 4
  },
  {
   "metadata": {
    "ExecuteTime": {
     "end_time": "2024-12-31T05:51:45.738428Z",
     "start_time": "2024-12-31T05:51:45.061306Z"
    }
   },
   "cell_type": "code",
   "source": [
    "plt.hist(pdf[\"prediction\"], bins=50)\n",
    "plt.show()"
   ],
   "id": "b0bbaa201eefe754",
   "outputs": [
    {
     "data": {
      "text/plain": [
       "<Figure size 640x480 with 1 Axes>"
      ],
      "image/png": "[encoded data removed]"
     },
     "metadata": {},
     "output_type": "display_data"
    }
   ],
   "execution_count": 12
  },
  {
   "metadata": {},
   "cell_type": "code",
   "outputs": [],
   "execution_count": null,
   "source": "",
   "id": "66e6e159b3668c03"
  }
 ],
 "metadata": {
  "kernelspec": {
   "name": "python3",
   "language": "python",
   "display_name": "Python 3 (ipykernel)"
  }
 },
 "nbformat": 5,
 "nbformat_minor": 9
}
