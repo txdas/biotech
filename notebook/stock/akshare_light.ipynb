{
 "cells": [
  {
   "metadata": {
    "ExecuteTime": {
     "end_time": "2025-01-02T06:44:23.768403Z",
     "start_time": "2025-01-02T06:44:12.279234Z"
    }
   },
   "cell_type": "code",
   "source": [
    "from stock.transformer import StdNormalize, AmountVocab\n",
    "import datetime\n",
    "import pandas as pd\n",
    "import numpy as np\n",
    "import tqdm\n",
    "\n",
    "\n",
    "df = pd.read_csv(\"./daily/stock_2024-12-30.csv\")\n",
    "cdf = pd.read_csv(\"stock_today.csv\")\n",
    "fdf = pd.read_csv(\"./daily/stock_fund_2024-12-30.csv\")\n",
    "cfdf = pd.read_csv(\"stock_fund_today.csv\")\n",
    "fdf = pd.concat([fdf,cfdf])\n",
    "df = pd.concat([df,cdf])\n",
    "df = df.merge(fdf)\n",
    "df.dropna(inplace=True)\n",
    "vnor, snor, mnor= StdNormalize(gap=5.0),StdNormalize(gap=10.0),StdNormalize(gap=25.0)\n",
    "avocab = AmountVocab(df[\"amount\"].values)\n",
    "mvocab = AmountVocab(df[\"main_amount\"].values)\n",
    "\n",
    "def nor_feature(r,p,pg):\n",
    "    amount, price  = pg[\"amount\"].mean(), pg[\"close\"].mean()\n",
    "    price_max, price_min = pg[\"close\"].max(), pg[\"close\"].min()\n",
    "    amount_max, amount_min = pg[\"amount\"].max(), pg[\"amount\"].min()\n",
    "    close = snor((r.close - p.close)*100/p.close)\n",
    "    _open = snor((r.open - p.close)*100/p.close)\n",
    "    high = snor((r.high - p.close)*100/p.close)\n",
    "    low = snor((r.low - p.close)*100/p.close)\n",
    "    plow =snor((r.low - price_min)*100/price)\n",
    "    phigh =snor((r.high - price_max)*100/price)\n",
    "    pclose =snor((r.close - price)*100/price)\n",
    "    volume = vnor(np.log2(r.amount/amount))\n",
    "    vhigh = vnor(np.log2(r.amount/amount_max))\n",
    "    vlow = vnor(np.log2(r.amount/amount_max))\n",
    "    amount = avocab(r.amount)/10\n",
    "    mamount = mvocab(r.main_amount)/10\n",
    "    mpercent =mnor(r.main_percent)\n",
    "    # [close,_open,high,low,volume,amount,plow,phigh, pclose,vhigh,vlow]\n",
    "\n",
    "    return [close,_open,high,low,volume,amount,mamount, mpercent]\n",
    "\n",
    "def make_data(df, cdate, cnum):\n",
    "    codes, names, targets, features = [], [], [],[]\n",
    "    for k,g in tqdm.tqdm(df.sort_values(by=\"date\", ascending=False).groupby(\"code\"),\n",
    "                         desc=f\"processing date[{cdate}]\"):\n",
    "        cur = g[g.date==cdate]\n",
    "        g = g[g.date<cdate]\n",
    "        cg, pg = g[:cnum],g[cnum:]\n",
    "        row = np.zeros((cnum,8),dtype=float)\n",
    "        if cg.shape[0]==cnum and pg.shape[0]>0:\n",
    "            pr = cg.iloc[0]\n",
    "            codes.append(pr[\"code\"])\n",
    "            names.append(pr[\"name\"])\n",
    "            if cur.shape[0]>0:\n",
    "                cr = cur.iloc[0]\n",
    "                change = snor((cr.close-pr.close)*100/pr.close)\n",
    "            else:\n",
    "                change = 0\n",
    "            targets.append(change)\n",
    "            for i in range(cg.shape[0]):\n",
    "                r, p= g.iloc[i],g.iloc[i+1]\n",
    "                row[i,:] = nor_feature(r,p,pg)\n",
    "            features.append(row)\n",
    "        # break\n",
    "    return pd.DataFrame({\"date\":cdate, \"code\":codes,\"name\":names,\"feature\":features, \"target\": targets})\n",
    "\n",
    "def get_dates(cdt, days=3):\n",
    "    ctm = datetime.datetime.strptime(cdt,\"%Y-%m-%d\")\n",
    "    holidays = set([\"2025-01-01\"])\n",
    "    dts = []\n",
    "    for i in range(1, days+3):\n",
    "        delta = datetime.timedelta(days=-i)\n",
    "        ttm = ctm+delta\n",
    "        if ttm.weekday() <5 and ttm.strftime(\"%Y-%m-%d\") not in holidays:\n",
    "            dts.append(ttm.strftime(\"%Y-%m-%d\"))\n",
    "    return dts[:days]\n",
    "cdate, lst,hdays = \"2025-01-03\", [], 10\n",
    "# for dt in get_dates(cdate,5):\n",
    "#     lst.append(make_data(df,dt, hdays))\n",
    "# pdf = pd.concat(lst)\n",
    "cdf = make_data(df, cdate, hdays)\n",
    "cdf.head()"
   ],
   "id": "c2da738f0c779b93",
   "outputs": [
    {
     "name": "stderr",
     "output_type": "stream",
     "text": [
      "processing date[2025-01-03]: 100%|██████████| 4411/4411 [00:11<00:00, 400.26it/s]\n"
     ]
    },
    {
     "data": {
      "text/plain": [
       "         date      code  name  \\\n",
       "0  2025-01-03  sh600000  浦发银行   \n",
       "1  2025-01-03  sh600004  白云机场   \n",
       "2  2025-01-03  sh600006  东风股份   \n",
       "3  2025-01-03  sh600007  中国国贸   \n",
       "4  2025-01-03  sh600008  首创环保   \n",
       "\n",
       "                                             feature  target  prediction  \n",
       "0  [[-0.296084049665712, -0.1623686723973256, -0....       0    1.611983  \n",
       "1  [[-0.358239508700102, -0.16376663254861837, -0...       0   -0.550771  \n",
       "2  [[-0.269576379974326, -0.5519897304236197, 0.0...       0   -5.237739  \n",
       "3  [[0.06195786864931787, 0.10326311441553078, 0....       0   -3.792608  \n",
       "4  [[-0.388059701492537, -0.20895522388059784, -0...       0   -2.378687  "
      ],
      "text/html": [
       "<div>\n",
       "<style scoped>\n",
       "    .dataframe tbody tr th:only-of-type {\n",
       "        vertical-align: middle;\n",
       "    }\n",
       "\n",
       "    .dataframe tbody tr th {\n",
       "        vertical-align: top;\n",
       "    }\n",
       "\n",
       "    .dataframe thead th {\n",
       "        text-align: right;\n",
       "    }\n",
       "</style>\n",
       "<table border=\"1\" class=\"dataframe\">\n",
       "  <thead>\n",
       "    <tr style=\"text-align: right;\">\n",
       "      <th></th>\n",
       "      <th>date</th>\n",
       "      <th>code</th>\n",
       "      <th>name</th>\n",
       "      <th>feature</th>\n",
       "      <th>target</th>\n",
       "      <th>prediction</th>\n",
       "    </tr>\n",
       "  </thead>\n",
       "  <tbody>\n",
       "    <tr>\n",
       "      <th>0</th>\n",
       "      <td>2025-01-03</td>\n",
       "      <td>sh600000</td>\n",
       "      <td>浦发银行</td>\n",
       "      <td>[[-0.296084049665712, -0.1623686723973256, -0....</td>\n",
       "      <td>0</td>\n",
       "      <td>1.611983</td>\n",
       "    </tr>\n",
       "    <tr>\n",
       "      <th>1</th>\n",
       "      <td>2025-01-03</td>\n",
       "      <td>sh600004</td>\n",
       "      <td>白云机场</td>\n",
       "      <td>[[-0.358239508700102, -0.16376663254861837, -0...</td>\n",
       "      <td>0</td>\n",
       "      <td>-0.550771</td>\n",
       "    </tr>\n",
       "    <tr>\n",
       "      <th>2</th>\n",
       "      <td>2025-01-03</td>\n",
       "      <td>sh600006</td>\n",
       "      <td>东风股份</td>\n",
       "      <td>[[-0.269576379974326, -0.5519897304236197, 0.0...</td>\n",
       "      <td>0</td>\n",
       "      <td>-5.237739</td>\n",
       "    </tr>\n",
       "    <tr>\n",
       "      <th>3</th>\n",
       "      <td>2025-01-03</td>\n",
       "      <td>sh600007</td>\n",
       "      <td>中国国贸</td>\n",
       "      <td>[[0.06195786864931787, 0.10326311441553078, 0....</td>\n",
       "      <td>0</td>\n",
       "      <td>-3.792608</td>\n",
       "    </tr>\n",
       "    <tr>\n",
       "      <th>4</th>\n",
       "      <td>2025-01-03</td>\n",
       "      <td>sh600008</td>\n",
       "      <td>首创环保</td>\n",
       "      <td>[[-0.388059701492537, -0.20895522388059784, -0...</td>\n",
       "      <td>0</td>\n",
       "      <td>-2.378687</td>\n",
       "    </tr>\n",
       "  </tbody>\n",
       "</table>\n",
       "</div>"
      ]
     },
     "execution_count": 7,
     "metadata": {},
     "output_type": "execute_result"
    }
   ],
   "execution_count": 7
  },
  {
   "metadata": {
    "ExecuteTime": {
     "end_time": "2025-01-02T05:42:25.641114Z",
     "start_time": "2025-01-02T05:42:16.768128Z"
    }
   },
   "cell_type": "code",
   "source": [
    "import warnings\n",
    "warnings.filterwarnings(\"ignore\")\n",
    "import torch\n",
    "from stock.base import BaseModel\n",
    "from stock.models import ConvBERT\n",
    "from torch import nn\n",
    "import lightning as L\n",
    "from lightning.pytorch.callbacks.early_stopping import EarlyStopping\n",
    "from torch.utils.data import DataLoader, random_split, Dataset\n",
    "from lightning.pytorch.loggers import CSVLogger\n",
    "logger = CSVLogger(\"logs\", name=\"my_exp_name\")\n",
    "\n",
    "\n",
    "class StockDataset(Dataset):\n",
    "    def __init__(self, df):\n",
    "        self.df = df\n",
    "    def __len__(self):\n",
    "        return self.df.shape[0]\n",
    "    def __getitem__(self, idx):\n",
    "        row = self.df.iloc[idx]\n",
    "        return (torch.tensor(row[\"feature\"], dtype=torch.float32),\n",
    "                torch.tensor([row[\"target\"]],dtype=torch.float32))\n",
    "\n",
    "\n",
    "class DailyGRU(BaseModel):\n",
    "    def __init__(self):\n",
    "        super().__init__()\n",
    "        self.rnn = nn.GRU(8, 64,num_layers=2, batch_first=True, bidirectional=False)\n",
    "        self.linear = nn.Linear(2*64, 1)\n",
    "    def forward(self, x):\n",
    "        bs,length  = x.shape[0], x.shape[1]\n",
    "        x = x.view((bs,length,-1))\n",
    "        output, hn= self.rnn(x)\n",
    "        y = hn.view((bs,-1))\n",
    "        ouputs = self.linear(torch.relu(y))\n",
    "        return torch.tanh(ouputs)\n",
    "\n",
    "class TranConv(BaseModel):\n",
    "    def __init__(self):\n",
    "        super().__init__()\n",
    "        self.model = ConvBERT(32,8,0.2,hdays)\n",
    "\n",
    "    def forward(self, x):\n",
    "        bs,length = x.shape[0], x.shape[1]\n",
    "        x = x.view((bs,length,-1))\n",
    "        x = self.model(x)\n",
    "        ouputs = torch.tanh(x)\n",
    "        return ouputs\n",
    "\n",
    "\n",
    "model = TranConv()\n",
    "valid_len = int(pdf.shape[0]*0.1)\n",
    "train_dataset, valid_dataset = random_split(StockDataset(pdf), [len(pdf)-valid_len,valid_len])\n",
    "train_loader = DataLoader(train_dataset,batch_size=32,shuffle=True)\n",
    "valid_loader = DataLoader(valid_dataset,batch_size=32,shuffle=False)\n",
    "test_loader = DataLoader(StockDataset(cdf),batch_size=32,shuffle=False)\n",
    "callbacks=[EarlyStopping(monitor=\"val_loss\", mode=\"min\",patience=3)]\n",
    "trainer = L.Trainer(limit_train_batches=100, max_epochs=10, callbacks=callbacks, logger=logger)\n",
    "trainer.fit(model=model, train_dataloaders=train_loader, val_dataloaders=valid_loader)\n",
    "trainer.test(model=model, dataloaders = test_loader)"
   ],
   "id": "7cfbf89820a527c6",
   "outputs": [
    {
     "name": "stderr",
     "output_type": "stream",
     "text": [
      "GPU available: False, used: False\n",
      "TPU available: False, using: 0 TPU cores\n",
      "HPU available: False, using: 0 HPUs\n",
      "\n",
      "  | Name  | Type     | Params | Mode \n",
      "-------------------------------------------\n",
      "0 | model | ConvBERT | 51.7 K | train\n",
      "-------------------------------------------\n",
      "51.7 K    Trainable params\n",
      "0         Non-trainable params\n",
      "51.7 K    Total params\n",
      "0.207     Total estimated model params size (MB)\n",
      "49        Modules in train mode\n",
      "0         Modules in eval mode\n"
     ]
    },
    {
     "data": {
      "text/plain": [
       "Sanity Checking: |          | 0/? [00:00<?, ?it/s]"
      ],
      "application/vnd.jupyter.widget-view+json": {
       "version_major": 2,
       "version_minor": 0,
       "model_id": "bea8807abdac425ab1c35a97dd65d8cd"
      }
     },
     "metadata": {},
     "output_type": "display_data"
    },
    {
     "data": {
      "text/plain": [
       "Training: |          | 0/? [00:00<?, ?it/s]"
      ],
      "application/vnd.jupyter.widget-view+json": {
       "version_major": 2,
       "version_minor": 0,
       "model_id": "f9af70234fa44dc78b70e860cdf2ea71"
      }
     },
     "metadata": {},
     "output_type": "display_data"
    },
    {
     "data": {
      "text/plain": [
       "Validation: |          | 0/? [00:00<?, ?it/s]"
      ],
      "application/vnd.jupyter.widget-view+json": {
       "version_major": 2,
       "version_minor": 0,
       "model_id": "a0ec84b46fab447a9fe539c838d0add6"
      }
     },
     "metadata": {},
     "output_type": "display_data"
    },
    {
     "data": {
      "text/plain": [
       "Validation: |          | 0/? [00:00<?, ?it/s]"
      ],
      "application/vnd.jupyter.widget-view+json": {
       "version_major": 2,
       "version_minor": 0,
       "model_id": "2c4cfb4b088541b1a23bd18023aac8c4"
      }
     },
     "metadata": {},
     "output_type": "display_data"
    },
    {
     "data": {
      "text/plain": [
       "Validation: |          | 0/? [00:00<?, ?it/s]"
      ],
      "application/vnd.jupyter.widget-view+json": {
       "version_major": 2,
       "version_minor": 0,
       "model_id": "f9510c54cce840d6925bd4732fb066a9"
      }
     },
     "metadata": {},
     "output_type": "display_data"
    },
    {
     "data": {
      "text/plain": [
       "Validation: |          | 0/? [00:00<?, ?it/s]"
      ],
      "application/vnd.jupyter.widget-view+json": {
       "version_major": 2,
       "version_minor": 0,
       "model_id": "f53c7fee1ca24071a694dfd79210e9ca"
      }
     },
     "metadata": {},
     "output_type": "display_data"
    },
    {
     "data": {
      "text/plain": [
       "Testing: |          | 0/? [00:00<?, ?it/s]"
      ],
      "application/vnd.jupyter.widget-view+json": {
       "version_major": 2,
       "version_minor": 0,
       "model_id": "0a7240ddda9147b88474a74d72603f9b"
      }
     },
     "metadata": {},
     "output_type": "display_data"
    },
    {
     "data": {
      "text/plain": [
       "┏━━━━━━━━━━━━━━━━━━━━━━━━━━━┳━━━━━━━━━━━━━━━━━━━━━━━━━━━┓\n",
       "┃\u001B[1m \u001B[0m\u001B[1m       Test metric       \u001B[0m\u001B[1m \u001B[0m┃\u001B[1m \u001B[0m\u001B[1m      DataLoader 0       \u001B[0m\u001B[1m \u001B[0m┃\n",
       "┡━━━━━━━━━━━━━━━━━━━━━━━━━━━╇━━━━━━━━━━━━━━━━━━━━━━━━━━━┩\n",
       "│\u001B[36m \u001B[0m\u001B[36m        test_loss        \u001B[0m\u001B[36m \u001B[0m│\u001B[35m \u001B[0m\u001B[35m   0.11178842931985855   \u001B[0m\u001B[35m \u001B[0m│\n",
       "└───────────────────────────┴───────────────────────────┘\n"
      ],
      "text/html": [
       "<pre style=\"white-space:pre;overflow-x:auto;line-height:normal;font-family:Menlo,'DejaVu Sans Mono',consolas,'Courier New',monospace\">┏━━━━━━━━━━━━━━━━━━━━━━━━━━━┳━━━━━━━━━━━━━━━━━━━━━━━━━━━┓\n",
       "┃<span style=\"font-weight: bold\">        Test metric        </span>┃<span style=\"font-weight: bold\">       DataLoader 0        </span>┃\n",
       "┡━━━━━━━━━━━━━━━━━━━━━━━━━━━╇━━━━━━━━━━━━━━━━━━━━━━━━━━━┩\n",
       "│<span style=\"color: #008080; text-decoration-color: #008080\">         test_loss         </span>│<span style=\"color: #800080; text-decoration-color: #800080\">    0.11178842931985855    </span>│\n",
       "└───────────────────────────┴───────────────────────────┘\n",
       "</pre>\n"
      ]
     },
     "metadata": {},
     "output_type": "display_data"
    },
    {
     "data": {
      "text/plain": [
       "[{'test_loss': 0.11178842931985855}]"
      ]
     },
     "execution_count": 2,
     "metadata": {},
     "output_type": "execute_result"
    }
   ],
   "execution_count": 2
  },
  {
   "metadata": {
    "ExecuteTime": {
     "end_time": "2025-01-02T06:44:36.476810Z",
     "start_time": "2025-01-02T06:44:35.524359Z"
    }
   },
   "cell_type": "code",
   "source": [
    "predictions = trainer.predict(model, test_loader)\n",
    "pdf = cdf.copy()\n",
    "pdf[\"target\"] = pdf[\"target\"]*10\n",
    "pdf[\"prediction\"] = torch.concat(predictions)*10\n",
    "pdf.sort_values(by=\"prediction\",ascending=False)[:200]"
   ],
   "id": "3fed9981c09c0c7c",
   "outputs": [
    {
     "data": {
      "text/plain": [
       "Predicting: |          | 0/? [00:00<?, ?it/s]"
      ],
      "application/vnd.jupyter.widget-view+json": {
       "version_major": 2,
       "version_minor": 0,
       "model_id": "4f5387c21cba42329017627f41426bd6"
      }
     },
     "metadata": {},
     "output_type": "display_data"
    },
    {
     "data": {
      "text/plain": [
       "            date      code  name  \\\n",
       "2102  2025-01-03  sz001299  美能能源   \n",
       "4214  2025-01-03  sz301263   泰恩康   \n",
       "1588  2025-01-03  sh605177  东亚药业   \n",
       "4213  2025-01-03  sz301262  海看股份   \n",
       "1142  2025-01-03  sh603223  恒通股份   \n",
       "...          ...       ...   ...   \n",
       "1461  2025-01-03  sh603868  飞科电器   \n",
       "769   2025-01-03  sh601086  国芳集团   \n",
       "389   2025-01-03  sh600543  莫高股份   \n",
       "1493  2025-01-03  sh603919   金徽酒   \n",
       "3864  2025-01-03  sz300866  安克创新   \n",
       "\n",
       "                                                feature  target  prediction  \n",
       "2102  [[-0.06462035541195482, -0.01615508885298978, ...       0    7.654004  \n",
       "4214  [[-0.3004572175048993, -0.21554539516655785, 0...       0    7.272449  \n",
       "1588  [[-0.24390243902439046, -0.07113821138211411, ...       0    7.119693  \n",
       "4213  [[-0.7371671169432651, -0.3666538016209955, -0...       0    6.715772  \n",
       "1142  [[-0.038461538461539345, -0.028846153846154937...       0    6.681245  \n",
       "...                                                 ...     ...         ...  \n",
       "1461  [[-0.3876852907639687, -0.5838084378563289, -0...       0    3.443802  \n",
       "769   [[0.5217391304347823, 0.0, 0.9565217391304346,...       0    3.441817  \n",
       "389   [[-0.10638297872340388, -0.21276595744680962, ...       0    3.438082  \n",
       "1493  [[-0.34395548811330284, -0.17703591299949312, ...       0    3.434642  \n",
       "3864  [[-0.666262258618947, -0.11323425336164092, -0...       0    3.430601  \n",
       "\n",
       "[200 rows x 6 columns]"
      ],
      "text/html": [
       "<div>\n",
       "<style scoped>\n",
       "    .dataframe tbody tr th:only-of-type {\n",
       "        vertical-align: middle;\n",
       "    }\n",
       "\n",
       "    .dataframe tbody tr th {\n",
       "        vertical-align: top;\n",
       "    }\n",
       "\n",
       "    .dataframe thead th {\n",
       "        text-align: right;\n",
       "    }\n",
       "</style>\n",
       "<table border=\"1\" class=\"dataframe\">\n",
       "  <thead>\n",
       "    <tr style=\"text-align: right;\">\n",
       "      <th></th>\n",
       "      <th>date</th>\n",
       "      <th>code</th>\n",
       "      <th>name</th>\n",
       "      <th>feature</th>\n",
       "      <th>target</th>\n",
       "      <th>prediction</th>\n",
       "    </tr>\n",
       "  </thead>\n",
       "  <tbody>\n",
       "    <tr>\n",
       "      <th>2102</th>\n",
       "      <td>2025-01-03</td>\n",
       "      <td>sz001299</td>\n",
       "      <td>美能能源</td>\n",
       "      <td>[[-0.06462035541195482, -0.01615508885298978, ...</td>\n",
       "      <td>0</td>\n",
       "      <td>7.654004</td>\n",
       "    </tr>\n",
       "    <tr>\n",
       "      <th>4214</th>\n",
       "      <td>2025-01-03</td>\n",
       "      <td>sz301263</td>\n",
       "      <td>泰恩康</td>\n",
       "      <td>[[-0.3004572175048993, -0.21554539516655785, 0...</td>\n",
       "      <td>0</td>\n",
       "      <td>7.272449</td>\n",
       "    </tr>\n",
       "    <tr>\n",
       "      <th>1588</th>\n",
       "      <td>2025-01-03</td>\n",
       "      <td>sh605177</td>\n",
       "      <td>东亚药业</td>\n",
       "      <td>[[-0.24390243902439046, -0.07113821138211411, ...</td>\n",
       "      <td>0</td>\n",
       "      <td>7.119693</td>\n",
       "    </tr>\n",
       "    <tr>\n",
       "      <th>4213</th>\n",
       "      <td>2025-01-03</td>\n",
       "      <td>sz301262</td>\n",
       "      <td>海看股份</td>\n",
       "      <td>[[-0.7371671169432651, -0.3666538016209955, -0...</td>\n",
       "      <td>0</td>\n",
       "      <td>6.715772</td>\n",
       "    </tr>\n",
       "    <tr>\n",
       "      <th>1142</th>\n",
       "      <td>2025-01-03</td>\n",
       "      <td>sh603223</td>\n",
       "      <td>恒通股份</td>\n",
       "      <td>[[-0.038461538461539345, -0.028846153846154937...</td>\n",
       "      <td>0</td>\n",
       "      <td>6.681245</td>\n",
       "    </tr>\n",
       "    <tr>\n",
       "      <th>...</th>\n",
       "      <td>...</td>\n",
       "      <td>...</td>\n",
       "      <td>...</td>\n",
       "      <td>...</td>\n",
       "      <td>...</td>\n",
       "      <td>...</td>\n",
       "    </tr>\n",
       "    <tr>\n",
       "      <th>1461</th>\n",
       "      <td>2025-01-03</td>\n",
       "      <td>sh603868</td>\n",
       "      <td>飞科电器</td>\n",
       "      <td>[[-0.3876852907639687, -0.5838084378563289, -0...</td>\n",
       "      <td>0</td>\n",
       "      <td>3.443802</td>\n",
       "    </tr>\n",
       "    <tr>\n",
       "      <th>769</th>\n",
       "      <td>2025-01-03</td>\n",
       "      <td>sh601086</td>\n",
       "      <td>国芳集团</td>\n",
       "      <td>[[0.5217391304347823, 0.0, 0.9565217391304346,...</td>\n",
       "      <td>0</td>\n",
       "      <td>3.441817</td>\n",
       "    </tr>\n",
       "    <tr>\n",
       "      <th>389</th>\n",
       "      <td>2025-01-03</td>\n",
       "      <td>sh600543</td>\n",
       "      <td>莫高股份</td>\n",
       "      <td>[[-0.10638297872340388, -0.21276595744680962, ...</td>\n",
       "      <td>0</td>\n",
       "      <td>3.438082</td>\n",
       "    </tr>\n",
       "    <tr>\n",
       "      <th>1493</th>\n",
       "      <td>2025-01-03</td>\n",
       "      <td>sh603919</td>\n",
       "      <td>金徽酒</td>\n",
       "      <td>[[-0.34395548811330284, -0.17703591299949312, ...</td>\n",
       "      <td>0</td>\n",
       "      <td>3.434642</td>\n",
       "    </tr>\n",
       "    <tr>\n",
       "      <th>3864</th>\n",
       "      <td>2025-01-03</td>\n",
       "      <td>sz300866</td>\n",
       "      <td>安克创新</td>\n",
       "      <td>[[-0.666262258618947, -0.11323425336164092, -0...</td>\n",
       "      <td>0</td>\n",
       "      <td>3.430601</td>\n",
       "    </tr>\n",
       "  </tbody>\n",
       "</table>\n",
       "<p>200 rows × 6 columns</p>\n",
       "</div>"
      ]
     },
     "execution_count": 8,
     "metadata": {},
     "output_type": "execute_result"
    }
   ],
   "execution_count": 8
  },
  {
   "metadata": {
    "ExecuteTime": {
     "end_time": "2025-01-01T12:59:36.402057Z",
     "start_time": "2025-01-01T12:59:35.723611Z"
    }
   },
   "cell_type": "code",
   "source": [
    "import matplotlib.pyplot as plt\n",
    "import numpy as np\n",
    "from scipy.stats import pearsonr\n",
    "from sklearn.metrics import mean_squared_error\n",
    "\n",
    "smse = mean_squared_error(pdf[\"prediction\"], pdf[\"target\"])\n",
    "print(f\"MSE is: {smse:.2f}\")\n",
    "pr = pearsonr(pdf[\"prediction\"], pdf[\"target\"])[0]\n",
    "print(f\"The Pearson Correlation Coefficient is:{pr:.2f}\")\n",
    "plt.scatter(pdf[\"prediction\"], pdf[\"target\"])\n",
    "plt.show()"
   ],
   "id": "8d2f100c3f294954",
   "outputs": [
    {
     "name": "stdout",
     "output_type": "stream",
     "text": [
      "MSE is: 11.13\n",
      "The Pearson Correlation Coefficient is:nan\n"
     ]
    },
    {
     "data": {
      "text/plain": [
       "<Figure size 640x480 with 1 Axes>"
      ],
      "image/png": "[encoded data removed]"
     },
     "metadata": {},
     "output_type": "display_data"
    }
   ],
   "execution_count": 5
  },
  {
   "metadata": {
    "ExecuteTime": {
     "end_time": "2025-01-02T05:49:19.347004Z",
     "start_time": "2025-01-02T05:49:19.212237Z"
    }
   },
   "cell_type": "code",
   "source": [
    "import matplotlib.pyplot as plt\n",
    "plt.hist(pdf[\"prediction\"], bins=50)\n",
    "plt.show()"
   ],
   "id": "a6d3e0e1894ba49c",
   "outputs": [
    {
     "data": {
      "text/plain": [
       "<Figure size 640x480 with 1 Axes>"
      ],
      "image/png": "[encoded data removed]"
     },
     "metadata": {},
     "output_type": "display_data"
    }
   ],
   "execution_count": 5
  },
  {
   "metadata": {},
   "cell_type": "code",
   "outputs": [],
   "execution_count": null,
   "source": "",
   "id": "be52f34155bed79b"
  }
 ],
 "metadata": {
  "kernelspec": {
   "name": "python3",
   "language": "python",
   "display_name": "Python 3 (ipykernel)"
  }
 },
 "nbformat": 5,
 "nbformat_minor": 9
}
