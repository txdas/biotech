{
 "cells": [
  {
   "metadata": {
    "ExecuteTime": {
     "end_time": "2024-12-30T05:21:08.008165Z",
     "start_time": "2024-12-30T05:19:16.536172Z"
    }
   },
   "cell_type": "code",
   "source": [
    "from stock.transformer import StdNormalize, AmountVocab\n",
    "\n",
    "import pandas as pd\n",
    "import numpy as np\n",
    "import tqdm\n",
    "\n",
    "\n",
    "df = pd.read_csv(\"./daily/stock_2024-12-27.csv\")\n",
    "cdf = pd.read_csv(\"stock_today.csv\")\n",
    "fdf = pd.read_csv(\"./daily/stock_fund_2024-12-27.csv\")\n",
    "cfdf = pd.read_csv(\"stock_fund_today.csv\")\n",
    "fdf = pd.concat([fdf,cfdf])\n",
    "df = pd.concat([df,cdf])\n",
    "df = df.merge(fdf)\n",
    "df.dropna(inplace=True)\n",
    "vnor, snor, mnor= StdNormalize(gap=5.0),StdNormalize(gap=10.0),StdNormalize(gap=25.0)\n",
    "avocab = AmountVocab(df[\"amount\"].values)\n",
    "mvocab = AmountVocab(df[\"main_amount\"].values)\n",
    "\n",
    "def nor_feature(r,p,pg):\n",
    "    amount, price  = pg[\"amount\"].mean(), pg[\"close\"].mean()\n",
    "    price_max, price_min = pg[\"close\"].max(), pg[\"close\"].min()\n",
    "    amount_max, amount_min = pg[\"amount\"].max(), pg[\"amount\"].min()\n",
    "    close = snor((r.close - p.close)*100/p.close)\n",
    "    _open = snor((r.open - p.close)*100/p.close)\n",
    "    high = snor((r.high - p.close)*100/p.close)\n",
    "    low = snor((r.low - p.close)*100/p.close)\n",
    "    plow =snor((r.low - price_min)*100/price)\n",
    "    phigh =snor((r.high - price_max)*100/price)\n",
    "    pclose =snor((r.close - price)*100/price)\n",
    "    volume = vnor(np.log2(r.amount/amount))\n",
    "    vhigh = vnor(np.log2(r.amount/amount_max))\n",
    "    vlow = vnor(np.log2(r.amount/amount_max))\n",
    "    amount = avocab(r.amount)/10\n",
    "    mamount = mvocab(r.main_amount)/10\n",
    "    mpercent =mnor(r.main_percent)\n",
    "    # [close,_open,high,low,volume,amount,plow,phigh, pclose,vhigh,vlow]\n",
    "\n",
    "    return [close,_open,high,low,volume,amount,mamount, mpercent]\n",
    "\n",
    "def make_data(df, cdate, cnum):\n",
    "    codes, names, targets, features = [], [], [],[]\n",
    "    for k,g in tqdm.tqdm(df.sort_values(by=\"date\", ascending=False).groupby(\"code\"),\n",
    "                         desc=f\"processing date[{cdate}]\"):\n",
    "        cur = g[g.date==cdate]\n",
    "        g = g[g.date<cdate]\n",
    "        cg, pg = g[:cnum],g[cnum:]\n",
    "        row = np.zeros((cnum,8),dtype=float)\n",
    "        if cg.shape[0]==cnum and pg.shape[0]>0 and cur.shape[0]>0:\n",
    "            cr,pr = cur.iloc[0],cg.iloc[0]\n",
    "            codes.append(cr[\"code\"])\n",
    "            names.append(cr[\"name\"])\n",
    "            change = (cr.close-pr.close)*100/pr.close\n",
    "            if change>10:\n",
    "                change = 10\n",
    "            elif change<-10:\n",
    "                change = -10\n",
    "            targets.append(change/10.0)\n",
    "            for i in range(cg.shape[0]):\n",
    "                r, p= g.iloc[i],g.iloc[i+1]\n",
    "                row[i,:] = nor_feature(r,p,pg)\n",
    "            features.append(row)\n",
    "        # break\n",
    "    return pd.DataFrame({\"date\":cdate, \"code\":codes,\"name\":names,\"feature\":features, \"target\": targets})\n",
    "\n",
    "pdf = make_data(df, \"2024-12-27\", 10)\n",
    "cdf = make_data(df, \"2024-12-30\", 10)\n",
    "pdf.head()"
   ],
   "id": "417c43d7a621a751",
   "outputs": [
    {
     "name": "stderr",
     "output_type": "stream",
     "text": [
      "processing date[2024-12-27]: 100%|██████████| 4411/4411 [01:02<00:00, 70.25it/s] \n",
      "processing date[2024-12-30]: 100%|██████████| 4411/4411 [00:43<00:00, 101.93it/s]\n"
     ]
    },
    {
     "data": {
      "text/plain": [
       "         date      code  name  \\\n",
       "0  2024-12-27  sh600000  浦发银行   \n",
       "1  2024-12-27  sh600004  白云机场   \n",
       "2  2024-12-27  sh600006  东风股份   \n",
       "3  2024-12-27  sh600007  中国国贸   \n",
       "4  2024-12-27  sh600008  首创环保   \n",
       "\n",
       "                                             feature    target  \n",
       "0  [[-0.009661835748792065, 0.0, 0.03864734299516...  0.019342  \n",
       "1  [[-0.07164790174002077, 0.02047082906857684, 0...  0.164948  \n",
       "2  [[0.997191011235955, -0.028089887640450083, 0.... -0.127714  \n",
       "3  [[-0.13815522145469317, -0.04469727752945934, ...  0.065925  \n",
       "4  [[-0.11940298507462696, 0.0, 0.029850746268656...  0.120846  "
      ],
      "text/html": [
       "<div>\n",
       "<style scoped>\n",
       "    .dataframe tbody tr th:only-of-type {\n",
       "        vertical-align: middle;\n",
       "    }\n",
       "\n",
       "    .dataframe tbody tr th {\n",
       "        vertical-align: top;\n",
       "    }\n",
       "\n",
       "    .dataframe thead th {\n",
       "        text-align: right;\n",
       "    }\n",
       "</style>\n",
       "<table border=\"1\" class=\"dataframe\">\n",
       "  <thead>\n",
       "    <tr style=\"text-align: right;\">\n",
       "      <th></th>\n",
       "      <th>date</th>\n",
       "      <th>code</th>\n",
       "      <th>name</th>\n",
       "      <th>feature</th>\n",
       "      <th>target</th>\n",
       "    </tr>\n",
       "  </thead>\n",
       "  <tbody>\n",
       "    <tr>\n",
       "      <th>0</th>\n",
       "      <td>2024-12-27</td>\n",
       "      <td>sh600000</td>\n",
       "      <td>浦发银行</td>\n",
       "      <td>[[-0.009661835748792065, 0.0, 0.03864734299516...</td>\n",
       "      <td>0.019342</td>\n",
       "    </tr>\n",
       "    <tr>\n",
       "      <th>1</th>\n",
       "      <td>2024-12-27</td>\n",
       "      <td>sh600004</td>\n",
       "      <td>白云机场</td>\n",
       "      <td>[[-0.07164790174002077, 0.02047082906857684, 0...</td>\n",
       "      <td>0.164948</td>\n",
       "    </tr>\n",
       "    <tr>\n",
       "      <th>2</th>\n",
       "      <td>2024-12-27</td>\n",
       "      <td>sh600006</td>\n",
       "      <td>东风股份</td>\n",
       "      <td>[[0.997191011235955, -0.028089887640450083, 0....</td>\n",
       "      <td>-0.127714</td>\n",
       "    </tr>\n",
       "    <tr>\n",
       "      <th>3</th>\n",
       "      <td>2024-12-27</td>\n",
       "      <td>sh600007</td>\n",
       "      <td>中国国贸</td>\n",
       "      <td>[[-0.13815522145469317, -0.04469727752945934, ...</td>\n",
       "      <td>0.065925</td>\n",
       "    </tr>\n",
       "    <tr>\n",
       "      <th>4</th>\n",
       "      <td>2024-12-27</td>\n",
       "      <td>sh600008</td>\n",
       "      <td>首创环保</td>\n",
       "      <td>[[-0.11940298507462696, 0.0, 0.029850746268656...</td>\n",
       "      <td>0.120846</td>\n",
       "    </tr>\n",
       "  </tbody>\n",
       "</table>\n",
       "</div>"
      ]
     },
     "execution_count": 1,
     "metadata": {},
     "output_type": "execute_result"
    }
   ],
   "execution_count": 1
  },
  {
   "metadata": {
    "ExecuteTime": {
     "end_time": "2024-12-30T05:21:48.132647Z",
     "start_time": "2024-12-30T05:21:15.417124Z"
    }
   },
   "cell_type": "code",
   "source": [
    "import warnings\n",
    "warnings.filterwarnings(\"ignore\")\n",
    "import torch\n",
    "from torch import nn\n",
    "from torch.nn import functional as F\n",
    "import lightning as L\n",
    "from lightning.pytorch.callbacks.early_stopping import EarlyStopping\n",
    "from torch.utils.data import DataLoader, random_split, Dataset\n",
    "from lightning.pytorch.loggers import CSVLogger\n",
    "logger = CSVLogger(\"logs\", name=\"my_exp_name\")\n",
    "\n",
    "\n",
    "\n",
    "class StockDataset(Dataset):\n",
    "    def __init__(self, df):\n",
    "        self.df = df\n",
    "    def __len__(self):\n",
    "        return self.df.shape[0]\n",
    "    def __getitem__(self, idx):\n",
    "        row = self.df.iloc[idx]\n",
    "        return (torch.tensor(row[\"feature\"], dtype=torch.float32),\n",
    "                torch.tensor([row[\"target\"]],dtype=torch.float32))\n",
    "\n",
    "class DailyGRU(L.LightningModule):\n",
    "    def __init__(self):\n",
    "        super().__init__()\n",
    "        self.rnn = nn.GRU(8, 64,num_layers=2, batch_first=True, bidirectional=False)\n",
    "        self.linear = nn.Linear(2*64, 1)\n",
    "\n",
    "    def forward(self, x):\n",
    "        bs,length  = x.shape[0], x.shape[1]\n",
    "        x = x.view((bs,length,-1))\n",
    "        output, hn= self.rnn(x)\n",
    "        y = hn.view((bs,-1))\n",
    "        y = torch.relu(y)\n",
    "        ouputs = self.linear(y)\n",
    "        ouputs = torch.tanh(ouputs)\n",
    "        return ouputs\n",
    "\n",
    "    def predict_step(self, batch, batch_idx, dataloader_idx=0):\n",
    "        x, y = batch\n",
    "        return self.forward(x)\n",
    "\n",
    "    def training_step(self, batch, batch_idx):\n",
    "        x, y = batch\n",
    "        x_hat = self.forward(x)\n",
    "        # print(x_hat.shape,y.shape)\n",
    "        loss = F.mse_loss(x_hat, y)\n",
    "        self.log(\"train_loss\", loss)\n",
    "\n",
    "    def validation_step(self, batch, batch_idx):\n",
    "        x, y = batch\n",
    "        x_hat = self.forward(x)\n",
    "        loss = F.mse_loss(x_hat, y)\n",
    "        self.log(\"val_loss\", loss,prog_bar=True)\n",
    "        return loss\n",
    "\n",
    "    def test_step(self, batch, batch_idx):\n",
    "        x, y = batch\n",
    "        x_hat = self.forward(x)\n",
    "        loss = F.mse_loss(x_hat, y)\n",
    "        self.log(\"test_loss\", loss)\n",
    "\n",
    "    def configure_optimizers(self):\n",
    "        optimizer = torch.optim.Adam(self.parameters(), lr=1e-3)\n",
    "        return optimizer\n",
    "\n",
    "model = DailyGRU()\n",
    "valid_len = int(pdf.shape[0]*0.1)\n",
    "train_dataset, valid_dataset = random_split(StockDataset(pdf), [len(pdf)-valid_len,valid_len])\n",
    "train_loader = DataLoader(train_dataset,batch_size=32,shuffle=True)\n",
    "valid_loader = DataLoader(valid_dataset,batch_size=32,shuffle=False)\n",
    "test_loader = DataLoader(StockDataset(cdf),batch_size=32,shuffle=False)\n",
    "callbacks=[EarlyStopping(monitor=\"val_loss\", mode=\"min\",patience=3)]\n",
    "trainer = L.Trainer(limit_train_batches=100, max_epochs=5, callbacks=callbacks, logger=logger)\n",
    "trainer.fit(model=model, train_dataloaders=train_loader, val_dataloaders=valid_loader)\n",
    "trainer.test(model=model, dataloaders = test_loader)"
   ],
   "id": "82a170876fa9ee0d",
   "outputs": [
    {
     "name": "stderr",
     "output_type": "stream",
     "text": [
      "GPU available: False, used: False\n",
      "TPU available: False, using: 0 TPU cores\n",
      "HPU available: False, using: 0 HPUs\n",
      "\n",
      "  | Name   | Type   | Params | Mode \n",
      "------------------------------------------\n",
      "0 | rnn    | GRU    | 39.2 K | train\n",
      "1 | linear | Linear | 129    | train\n",
      "------------------------------------------\n",
      "39.3 K    Trainable params\n",
      "0         Non-trainable params\n",
      "39.3 K    Total params\n",
      "0.157     Total estimated model params size (MB)\n",
      "2         Modules in train mode\n",
      "0         Modules in eval mode\n"
     ]
    },
    {
     "data": {
      "text/plain": [
       "Sanity Checking: |          | 0/? [00:00<?, ?it/s]"
      ],
      "application/vnd.jupyter.widget-view+json": {
       "version_major": 2,
       "version_minor": 0,
       "model_id": "0a75dd9ce1934d28ac572c21555da88d"
      }
     },
     "metadata": {},
     "output_type": "display_data"
    },
    {
     "data": {
      "text/plain": [
       "Training: |          | 0/? [00:00<?, ?it/s]"
      ],
      "application/vnd.jupyter.widget-view+json": {
       "version_major": 2,
       "version_minor": 0,
       "model_id": "4b359a4d12b04b78b24de58e10638876"
      }
     },
     "metadata": {},
     "output_type": "display_data"
    },
    {
     "data": {
      "text/plain": [
       "Validation: |          | 0/? [00:00<?, ?it/s]"
      ],
      "application/vnd.jupyter.widget-view+json": {
       "version_major": 2,
       "version_minor": 0,
       "model_id": "50f212f5cd25434cbe811aeff774fcab"
      }
     },
     "metadata": {},
     "output_type": "display_data"
    },
    {
     "data": {
      "text/plain": [
       "Validation: |          | 0/? [00:00<?, ?it/s]"
      ],
      "application/vnd.jupyter.widget-view+json": {
       "version_major": 2,
       "version_minor": 0,
       "model_id": "5a36428f98524cab83fdcd982d904468"
      }
     },
     "metadata": {},
     "output_type": "display_data"
    },
    {
     "data": {
      "text/plain": [
       "Validation: |          | 0/? [00:00<?, ?it/s]"
      ],
      "application/vnd.jupyter.widget-view+json": {
       "version_major": 2,
       "version_minor": 0,
       "model_id": "895a6b26430e4bd48890f8a0a7af9fc3"
      }
     },
     "metadata": {},
     "output_type": "display_data"
    },
    {
     "data": {
      "text/plain": [
       "Validation: |          | 0/? [00:00<?, ?it/s]"
      ],
      "application/vnd.jupyter.widget-view+json": {
       "version_major": 2,
       "version_minor": 0,
       "model_id": "3a00fa016f6e4508a79c83527b0d0882"
      }
     },
     "metadata": {},
     "output_type": "display_data"
    },
    {
     "data": {
      "text/plain": [
       "Testing: |          | 0/? [00:00<?, ?it/s]"
      ],
      "application/vnd.jupyter.widget-view+json": {
       "version_major": 2,
       "version_minor": 0,
       "model_id": "8494cfca388e4221abc9bb6b2db4d810"
      }
     },
     "metadata": {},
     "output_type": "display_data"
    },
    {
     "data": {
      "text/plain": [
       "┏━━━━━━━━━━━━━━━━━━━━━━━━━━━┳━━━━━━━━━━━━━━━━━━━━━━━━━━━┓\n",
       "┃\u001B[1m \u001B[0m\u001B[1m       Test metric       \u001B[0m\u001B[1m \u001B[0m┃\u001B[1m \u001B[0m\u001B[1m      DataLoader 0       \u001B[0m\u001B[1m \u001B[0m┃\n",
       "┡━━━━━━━━━━━━━━━━━━━━━━━━━━━╇━━━━━━━━━━━━━━━━━━━━━━━━━━━┩\n",
       "│\u001B[36m \u001B[0m\u001B[36m        test_loss        \u001B[0m\u001B[36m \u001B[0m│\u001B[35m \u001B[0m\u001B[35m   0.08676766604185104   \u001B[0m\u001B[35m \u001B[0m│\n",
       "└───────────────────────────┴───────────────────────────┘\n"
      ],
      "text/html": [
       "<pre style=\"white-space:pre;overflow-x:auto;line-height:normal;font-family:Menlo,'DejaVu Sans Mono',consolas,'Courier New',monospace\">┏━━━━━━━━━━━━━━━━━━━━━━━━━━━┳━━━━━━━━━━━━━━━━━━━━━━━━━━━┓\n",
       "┃<span style=\"font-weight: bold\">        Test metric        </span>┃<span style=\"font-weight: bold\">       DataLoader 0        </span>┃\n",
       "┡━━━━━━━━━━━━━━━━━━━━━━━━━━━╇━━━━━━━━━━━━━━━━━━━━━━━━━━━┩\n",
       "│<span style=\"color: #008080; text-decoration-color: #008080\">         test_loss         </span>│<span style=\"color: #800080; text-decoration-color: #800080\">    0.08676766604185104    </span>│\n",
       "└───────────────────────────┴───────────────────────────┘\n",
       "</pre>\n"
      ]
     },
     "metadata": {},
     "output_type": "display_data"
    },
    {
     "data": {
      "text/plain": [
       "[{'test_loss': 0.08676766604185104}]"
      ]
     },
     "execution_count": 2,
     "metadata": {},
     "output_type": "execute_result"
    }
   ],
   "execution_count": 2
  },
  {
   "metadata": {
    "ExecuteTime": {
     "end_time": "2024-12-30T05:38:26.826175Z",
     "start_time": "2024-12-30T05:38:18.241723Z"
    }
   },
   "cell_type": "code",
   "source": [
    "predictions = trainer.predict(model, test_loader)\n",
    "cdf[\"prediction\"] = torch.concat(predictions)*10\n",
    "cdf.sort_values(by=\"prediction\",ascending=False)[:200]"
   ],
   "id": "3fed9981c09c0c7c",
   "outputs": [
    {
     "data": {
      "text/plain": [
       "Predicting: |          | 0/? [00:00<?, ?it/s]"
      ],
      "application/vnd.jupyter.widget-view+json": {
       "version_major": 2,
       "version_minor": 0,
       "model_id": "d1d358faf4664079b43a82196be266e0"
      }
     },
     "metadata": {},
     "output_type": "display_data"
    },
    {
     "data": {
      "text/plain": [
       "            date      code   name  \\\n",
       "3535  2024-12-30  sz300531    优博讯   \n",
       "713   2024-12-30  sh600975    新五丰   \n",
       "527   2024-12-30  sh600721   百花医药   \n",
       "2286  2024-12-30  sz002165  红 宝 丽   \n",
       "2117  2024-12-30  sz001336   楚环科技   \n",
       "...          ...       ...    ...   \n",
       "2477  2024-12-30  sz002377   国创高新   \n",
       "2158  2024-12-30  sz002023   海特高新   \n",
       "547   2024-12-30  sh600742   一汽富维   \n",
       "2114  2024-12-30  sz001331   胜通能源   \n",
       "417   2024-12-30  sh600581   八一钢铁   \n",
       "\n",
       "                                                feature    target  prediction  \n",
       "3535  [[-0.05460750853242326, -0.01365187713310551, ...  0.027454    1.264004  \n",
       "713   [[0.3074433656957935, -0.03236245954692488, 0.... -0.172684    1.254852  \n",
       "527   [[0.159883720930233, 0.05813953488372098, 0.24... -0.200286    1.246599  \n",
       "2286  [[0.021645021645021183, 0.0, 0.259740259740259... -0.280778    1.240141  \n",
       "2117  [[0.2819237147595365, 0.05527915975677248, 0.3... -0.247312    1.225896  \n",
       "...                                                 ...       ...         ...  \n",
       "2477  [[0.11940298507462696, -0.05970149253731348, 0...  0.589971    1.060535  \n",
       "2158  [[0.18339768339768464, 0.20270270270270352, 0....  0.075829    1.060319  \n",
       "547   [[0.14460511679643936, -0.011123470522802877, ... -0.142544    1.059642  \n",
       "2114  [[0.23765996343692852, 0.0, 0.2559414990859242... -0.178571    1.059492  \n",
       "417   [[0.09433962264150882, -0.03144654088050387, 0... -0.311526    1.058843  \n",
       "\n",
       "[200 rows x 6 columns]"
      ],
      "text/html": [
       "<div>\n",
       "<style scoped>\n",
       "    .dataframe tbody tr th:only-of-type {\n",
       "        vertical-align: middle;\n",
       "    }\n",
       "\n",
       "    .dataframe tbody tr th {\n",
       "        vertical-align: top;\n",
       "    }\n",
       "\n",
       "    .dataframe thead th {\n",
       "        text-align: right;\n",
       "    }\n",
       "</style>\n",
       "<table border=\"1\" class=\"dataframe\">\n",
       "  <thead>\n",
       "    <tr style=\"text-align: right;\">\n",
       "      <th></th>\n",
       "      <th>date</th>\n",
       "      <th>code</th>\n",
       "      <th>name</th>\n",
       "      <th>feature</th>\n",
       "      <th>target</th>\n",
       "      <th>prediction</th>\n",
       "    </tr>\n",
       "  </thead>\n",
       "  <tbody>\n",
       "    <tr>\n",
       "      <th>3535</th>\n",
       "      <td>2024-12-30</td>\n",
       "      <td>sz300531</td>\n",
       "      <td>优博讯</td>\n",
       "      <td>[[-0.05460750853242326, -0.01365187713310551, ...</td>\n",
       "      <td>0.027454</td>\n",
       "      <td>1.264004</td>\n",
       "    </tr>\n",
       "    <tr>\n",
       "      <th>713</th>\n",
       "      <td>2024-12-30</td>\n",
       "      <td>sh600975</td>\n",
       "      <td>新五丰</td>\n",
       "      <td>[[0.3074433656957935, -0.03236245954692488, 0....</td>\n",
       "      <td>-0.172684</td>\n",
       "      <td>1.254852</td>\n",
       "    </tr>\n",
       "    <tr>\n",
       "      <th>527</th>\n",
       "      <td>2024-12-30</td>\n",
       "      <td>sh600721</td>\n",
       "      <td>百花医药</td>\n",
       "      <td>[[0.159883720930233, 0.05813953488372098, 0.24...</td>\n",
       "      <td>-0.200286</td>\n",
       "      <td>1.246599</td>\n",
       "    </tr>\n",
       "    <tr>\n",
       "      <th>2286</th>\n",
       "      <td>2024-12-30</td>\n",
       "      <td>sz002165</td>\n",
       "      <td>红 宝 丽</td>\n",
       "      <td>[[0.021645021645021183, 0.0, 0.259740259740259...</td>\n",
       "      <td>-0.280778</td>\n",
       "      <td>1.240141</td>\n",
       "    </tr>\n",
       "    <tr>\n",
       "      <th>2117</th>\n",
       "      <td>2024-12-30</td>\n",
       "      <td>sz001336</td>\n",
       "      <td>楚环科技</td>\n",
       "      <td>[[0.2819237147595365, 0.05527915975677248, 0.3...</td>\n",
       "      <td>-0.247312</td>\n",
       "      <td>1.225896</td>\n",
       "    </tr>\n",
       "    <tr>\n",
       "      <th>...</th>\n",
       "      <td>...</td>\n",
       "      <td>...</td>\n",
       "      <td>...</td>\n",
       "      <td>...</td>\n",
       "      <td>...</td>\n",
       "      <td>...</td>\n",
       "    </tr>\n",
       "    <tr>\n",
       "      <th>2477</th>\n",
       "      <td>2024-12-30</td>\n",
       "      <td>sz002377</td>\n",
       "      <td>国创高新</td>\n",
       "      <td>[[0.11940298507462696, -0.05970149253731348, 0...</td>\n",
       "      <td>0.589971</td>\n",
       "      <td>1.060535</td>\n",
       "    </tr>\n",
       "    <tr>\n",
       "      <th>2158</th>\n",
       "      <td>2024-12-30</td>\n",
       "      <td>sz002023</td>\n",
       "      <td>海特高新</td>\n",
       "      <td>[[0.18339768339768464, 0.20270270270270352, 0....</td>\n",
       "      <td>0.075829</td>\n",
       "      <td>1.060319</td>\n",
       "    </tr>\n",
       "    <tr>\n",
       "      <th>547</th>\n",
       "      <td>2024-12-30</td>\n",
       "      <td>sh600742</td>\n",
       "      <td>一汽富维</td>\n",
       "      <td>[[0.14460511679643936, -0.011123470522802877, ...</td>\n",
       "      <td>-0.142544</td>\n",
       "      <td>1.059642</td>\n",
       "    </tr>\n",
       "    <tr>\n",
       "      <th>2114</th>\n",
       "      <td>2024-12-30</td>\n",
       "      <td>sz001331</td>\n",
       "      <td>胜通能源</td>\n",
       "      <td>[[0.23765996343692852, 0.0, 0.2559414990859242...</td>\n",
       "      <td>-0.178571</td>\n",
       "      <td>1.059492</td>\n",
       "    </tr>\n",
       "    <tr>\n",
       "      <th>417</th>\n",
       "      <td>2024-12-30</td>\n",
       "      <td>sh600581</td>\n",
       "      <td>八一钢铁</td>\n",
       "      <td>[[0.09433962264150882, -0.03144654088050387, 0...</td>\n",
       "      <td>-0.311526</td>\n",
       "      <td>1.058843</td>\n",
       "    </tr>\n",
       "  </tbody>\n",
       "</table>\n",
       "<p>200 rows × 6 columns</p>\n",
       "</div>"
      ]
     },
     "execution_count": 7,
     "metadata": {},
     "output_type": "execute_result"
    }
   ],
   "execution_count": 7
  },
  {
   "metadata": {
    "ExecuteTime": {
     "end_time": "2024-12-30T05:25:46.753194Z",
     "start_time": "2024-12-30T05:25:45.623832Z"
    }
   },
   "cell_type": "code",
   "source": [
    "import matplotlib.pyplot as plt\n",
    "import numpy as np\n",
    "from scipy.stats import pearsonr\n",
    "from sklearn.metrics import mean_squared_error\n",
    "\n",
    "smse = mean_squared_error(cdf[\"prediction\"], cdf[\"target\"]*10)\n",
    "print(f\"MSE is: {smse:.2f}\")\n",
    "pr = pearsonr(cdf[\"prediction\"], cdf[\"target\"]*10)[0]\n",
    "print(f\"The Pearson Correlation Coefficient is:{pr:.2f}\")\n",
    "plt.scatter(cdf[\"prediction\"], cdf[\"target\"]*10)\n",
    "plt.show()"
   ],
   "id": "8d2f100c3f294954",
   "outputs": [
    {
     "name": "stdout",
     "output_type": "stream",
     "text": [
      "MSE is: 8.68\n",
      "The Pearson Correlation Coefficient is:0.03\n"
     ]
    },
    {
     "data": {
      "text/plain": [
       "<Figure size 640x480 with 1 Axes>"
      ],
      "image/png": "[encoded data removed]"
     },
     "metadata": {},
     "output_type": "display_data"
    }
   ],
   "execution_count": 5
  },
  {
   "metadata": {
    "ExecuteTime": {
     "end_time": "2024-12-28T10:17:26.487396Z",
     "start_time": "2024-12-28T10:17:26.451649Z"
    }
   },
   "cell_type": "code",
   "source": "L.__version__",
   "id": "7bde72a8037c61d8",
   "outputs": [
    {
     "data": {
      "text/plain": [
       "'2.1.3'"
      ]
     },
     "execution_count": 24,
     "metadata": {},
     "output_type": "execute_result"
    }
   ],
   "execution_count": 24
  },
  {
   "metadata": {},
   "cell_type": "code",
   "outputs": [],
   "execution_count": null,
   "source": "",
   "id": "b0bbaa201eefe754"
  }
 ],
 "metadata": {
  "kernelspec": {
   "name": "python3",
   "language": "python",
   "display_name": "Python 3 (ipykernel)"
  }
 },
 "nbformat": 5,
 "nbformat_minor": 9
}
