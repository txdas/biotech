{
 "cells": [
  {
   "metadata": {
    "ExecuteTime": {
     "end_time": "2025-01-01T12:47:52.057310Z",
     "start_time": "2025-01-01T12:42:28.141903Z"
    }
   },
   "cell_type": "code",
   "source": [
    "from stock.transformer import StdNormalize, AmountVocab\n",
    "import datetime\n",
    "import pandas as pd\n",
    "import numpy as np\n",
    "import tqdm\n",
    "\n",
    "\n",
    "df = pd.read_csv(\"./daily/stock_2024-12-30.csv\")\n",
    "cdf = pd.read_csv(\"stock_today.csv\")\n",
    "fdf = pd.read_csv(\"./daily/stock_fund_2024-12-30.csv\")\n",
    "cfdf = pd.read_csv(\"stock_fund_today.csv\")\n",
    "fdf = pd.concat([fdf,cfdf])\n",
    "df = pd.concat([df,cdf])\n",
    "df = df.merge(fdf)\n",
    "df.dropna(inplace=True)\n",
    "vnor, snor, mnor= StdNormalize(gap=5.0),StdNormalize(gap=10.0),StdNormalize(gap=25.0)\n",
    "avocab = AmountVocab(df[\"amount\"].values)\n",
    "mvocab = AmountVocab(df[\"main_amount\"].values)\n",
    "\n",
    "def nor_feature(r,p,pg):\n",
    "    amount, price  = pg[\"amount\"].mean(), pg[\"close\"].mean()\n",
    "    price_max, price_min = pg[\"close\"].max(), pg[\"close\"].min()\n",
    "    amount_max, amount_min = pg[\"amount\"].max(), pg[\"amount\"].min()\n",
    "    close = snor((r.close - p.close)*100/p.close)\n",
    "    _open = snor((r.open - p.close)*100/p.close)\n",
    "    high = snor((r.high - p.close)*100/p.close)\n",
    "    low = snor((r.low - p.close)*100/p.close)\n",
    "    plow =snor((r.low - price_min)*100/price)\n",
    "    phigh =snor((r.high - price_max)*100/price)\n",
    "    pclose =snor((r.close - price)*100/price)\n",
    "    volume = vnor(np.log2(r.amount/amount))\n",
    "    vhigh = vnor(np.log2(r.amount/amount_max))\n",
    "    vlow = vnor(np.log2(r.amount/amount_max))\n",
    "    amount = avocab(r.amount)/10\n",
    "    mamount = mvocab(r.main_amount)/10\n",
    "    mpercent =mnor(r.main_percent)\n",
    "    # [close,_open,high,low,volume,amount,plow,phigh, pclose,vhigh,vlow]\n",
    "\n",
    "    return [close,_open,high,low,volume,amount,mamount, mpercent]\n",
    "\n",
    "def make_data(df, cdate, cnum):\n",
    "    codes, names, targets, features = [], [], [],[]\n",
    "    for k,g in tqdm.tqdm(df.sort_values(by=\"date\", ascending=False).groupby(\"code\"),\n",
    "                         desc=f\"processing date[{cdate}]\"):\n",
    "        cur = g[g.date==cdate]\n",
    "        g = g[g.date<cdate]\n",
    "        cg, pg = g[:cnum],g[cnum:]\n",
    "        row = np.zeros((cnum,8),dtype=float)\n",
    "        if cg.shape[0]==cnum and pg.shape[0]>0:\n",
    "            pr = cg.iloc[0]\n",
    "            codes.append(pr[\"code\"])\n",
    "            names.append(pr[\"name\"])\n",
    "            if cur.shape[0]>0:\n",
    "                cr = cur.iloc[0]\n",
    "                change = snor((cr.close-pr.close)*100/pr.close)\n",
    "            else:\n",
    "                change = 0\n",
    "            targets.append(change)\n",
    "            for i in range(cg.shape[0]):\n",
    "                r, p= g.iloc[i],g.iloc[i+1]\n",
    "                row[i,:] = nor_feature(r,p,pg)\n",
    "            features.append(row)\n",
    "        # break\n",
    "    return pd.DataFrame({\"date\":cdate, \"code\":codes,\"name\":names,\"feature\":features, \"target\": targets})\n",
    "\n",
    "def get_dates(cdt, days=3):\n",
    "    ctm = datetime.datetime.strptime(cdt,\"%Y-%m-%d\")\n",
    "    holidays = set([\"2025-01-01\"])\n",
    "    dts = []\n",
    "    for i in range(1, days+3):\n",
    "        delta = datetime.timedelta(days=-i)\n",
    "        ttm = ctm+delta\n",
    "        if ttm.weekday() <5 and ttm.strftime(\"%Y-%m-%d\") not in holidays:\n",
    "            dts.append(ttm.strftime(\"%Y-%m-%d\"))\n",
    "    return dts[:days]\n",
    "cdate, lst,hdays = \"2025-01-02\", [], 10\n",
    "for dt in get_dates(cdate,5):\n",
    "    lst.append(make_data(df,dt, hdays))\n",
    "pdf = pd.concat(lst)\n",
    "cdf = make_data(df, cdate, hdays)\n",
    "pdf.head()"
   ],
   "id": "417c43d7a621a751",
   "outputs": [
    {
     "name": "stderr",
     "output_type": "stream",
     "text": [
      "processing date[2024-12-31]: 100%|██████████| 4411/4411 [01:13<00:00, 60.13it/s] \n",
      "processing date[2024-12-30]: 100%|██████████| 4411/4411 [01:19<00:00, 55.35it/s] \n",
      "processing date[2024-12-27]: 100%|██████████| 4411/4411 [01:17<00:00, 56.92it/s] \n",
      "processing date[2024-12-26]: 100%|██████████| 4411/4411 [00:43<00:00, 102.53it/s]\n",
      "processing date[2025-01-02]: 100%|██████████| 4411/4411 [00:45<00:00, 96.59it/s] \n"
     ]
    },
    {
     "data": {
      "text/plain": [
       "         date      code  name  \\\n",
       "0  2024-12-31  sh600000  浦发银行   \n",
       "1  2024-12-31  sh600004  白云机场   \n",
       "2  2024-12-31  sh600006  东风股份   \n",
       "3  2024-12-31  sh600007  中国国贸   \n",
       "4  2024-12-31  sh600008  首创环保   \n",
       "\n",
       "                                             feature    target  \n",
       "0  [[0.10617760617760734, -0.019305019305018895, ... -0.171920  \n",
       "1  [[-0.0912778904665313, -0.04056795131845756, 0... -0.174002  \n",
       "2  [[0.07761966364812369, -0.09055627425614525, 0... -0.539153  \n",
       "3  [[-0.09005321326238185, -0.05730659025787989, ...  0.103263  \n",
       "4  [[0.0, 0.0, 0.05970149253731348, -0.0597014925... -0.208955  "
      ],
      "text/html": [
       "<div>\n",
       "<style scoped>\n",
       "    .dataframe tbody tr th:only-of-type {\n",
       "        vertical-align: middle;\n",
       "    }\n",
       "\n",
       "    .dataframe tbody tr th {\n",
       "        vertical-align: top;\n",
       "    }\n",
       "\n",
       "    .dataframe thead th {\n",
       "        text-align: right;\n",
       "    }\n",
       "</style>\n",
       "<table border=\"1\" class=\"dataframe\">\n",
       "  <thead>\n",
       "    <tr style=\"text-align: right;\">\n",
       "      <th></th>\n",
       "      <th>date</th>\n",
       "      <th>code</th>\n",
       "      <th>name</th>\n",
       "      <th>feature</th>\n",
       "      <th>target</th>\n",
       "    </tr>\n",
       "  </thead>\n",
       "  <tbody>\n",
       "    <tr>\n",
       "      <th>0</th>\n",
       "      <td>2024-12-31</td>\n",
       "      <td>sh600000</td>\n",
       "      <td>浦发银行</td>\n",
       "      <td>[[0.10617760617760734, -0.019305019305018895, ...</td>\n",
       "      <td>-0.171920</td>\n",
       "    </tr>\n",
       "    <tr>\n",
       "      <th>1</th>\n",
       "      <td>2024-12-31</td>\n",
       "      <td>sh600004</td>\n",
       "      <td>白云机场</td>\n",
       "      <td>[[-0.0912778904665313, -0.04056795131845756, 0...</td>\n",
       "      <td>-0.174002</td>\n",
       "    </tr>\n",
       "    <tr>\n",
       "      <th>2</th>\n",
       "      <td>2024-12-31</td>\n",
       "      <td>sh600006</td>\n",
       "      <td>东风股份</td>\n",
       "      <td>[[0.07761966364812369, -0.09055627425614525, 0...</td>\n",
       "      <td>-0.539153</td>\n",
       "    </tr>\n",
       "    <tr>\n",
       "      <th>3</th>\n",
       "      <td>2024-12-31</td>\n",
       "      <td>sh600007</td>\n",
       "      <td>中国国贸</td>\n",
       "      <td>[[-0.09005321326238185, -0.05730659025787989, ...</td>\n",
       "      <td>0.103263</td>\n",
       "    </tr>\n",
       "    <tr>\n",
       "      <th>4</th>\n",
       "      <td>2024-12-31</td>\n",
       "      <td>sh600008</td>\n",
       "      <td>首创环保</td>\n",
       "      <td>[[0.0, 0.0, 0.05970149253731348, -0.0597014925...</td>\n",
       "      <td>-0.208955</td>\n",
       "    </tr>\n",
       "  </tbody>\n",
       "</table>\n",
       "</div>"
      ]
     },
     "execution_count": 2,
     "metadata": {},
     "output_type": "execute_result"
    }
   ],
   "execution_count": 2
  },
  {
   "metadata": {
    "ExecuteTime": {
     "end_time": "2025-01-01T12:51:18.229028Z",
     "start_time": "2025-01-01T12:49:38.762726Z"
    }
   },
   "cell_type": "code",
   "source": [
    "import warnings\n",
    "warnings.filterwarnings(\"ignore\")\n",
    "import torch\n",
    "from stock.base import BaseModel\n",
    "from stock.models import ConvBERT\n",
    "from torch import nn\n",
    "import lightning as L\n",
    "from lightning.pytorch.callbacks.early_stopping import EarlyStopping\n",
    "from torch.utils.data import DataLoader, random_split, Dataset\n",
    "from lightning.pytorch.loggers import CSVLogger\n",
    "logger = CSVLogger(\"logs\", name=\"my_exp_name\")\n",
    "\n",
    "\n",
    "class StockDataset(Dataset):\n",
    "    def __init__(self, df):\n",
    "        self.df = df\n",
    "    def __len__(self):\n",
    "        return self.df.shape[0]\n",
    "    def __getitem__(self, idx):\n",
    "        row = self.df.iloc[idx]\n",
    "        return (torch.tensor(row[\"feature\"], dtype=torch.float32),\n",
    "                torch.tensor([row[\"target\"]],dtype=torch.float32))\n",
    "\n",
    "\n",
    "class DailyGRU(BaseModel):\n",
    "    def __init__(self):\n",
    "        super().__init__()\n",
    "        self.rnn = nn.GRU(8, 64,num_layers=2, batch_first=True, bidirectional=False)\n",
    "        self.linear = nn.Linear(2*64, 1)\n",
    "    def forward(self, x):\n",
    "        bs,length  = x.shape[0], x.shape[1]\n",
    "        x = x.view((bs,length,-1))\n",
    "        output, hn= self.rnn(x)\n",
    "        y = hn.view((bs,-1))\n",
    "        ouputs = self.linear(torch.relu(y))\n",
    "        return torch.tanh(ouputs)\n",
    "\n",
    "class TranConv(BaseModel):\n",
    "    def __init__(self):\n",
    "        super().__init__()\n",
    "        self.model = ConvBERT(32,8,0.2,hdays)\n",
    "\n",
    "    def forward(self, x):\n",
    "        bs,length = x.shape[0], x.shape[1]\n",
    "        x = x.view((bs,length,-1))\n",
    "        x = self.model(x)\n",
    "        ouputs = torch.tanh(x)\n",
    "        return ouputs\n",
    "\n",
    "\n",
    "model = TranConv()\n",
    "valid_len = int(pdf.shape[0]*0.1)\n",
    "train_dataset, valid_dataset = random_split(StockDataset(pdf), [len(pdf)-valid_len,valid_len])\n",
    "train_loader = DataLoader(train_dataset,batch_size=32,shuffle=True)\n",
    "valid_loader = DataLoader(valid_dataset,batch_size=32,shuffle=False)\n",
    "test_loader = DataLoader(StockDataset(cdf),batch_size=32,shuffle=False)\n",
    "callbacks=[EarlyStopping(monitor=\"val_loss\", mode=\"min\",patience=3)]\n",
    "trainer = L.Trainer(limit_train_batches=100, max_epochs=10, callbacks=callbacks, logger=logger)\n",
    "trainer.fit(model=model, train_dataloaders=train_loader, val_dataloaders=valid_loader)\n",
    "trainer.test(model=model, dataloaders = test_loader)"
   ],
   "id": "82a170876fa9ee0d",
   "outputs": [
    {
     "name": "stderr",
     "output_type": "stream",
     "text": [
      "GPU available: False, used: False\n",
      "TPU available: False, using: 0 TPU cores\n",
      "HPU available: False, using: 0 HPUs\n",
      "\n",
      "  | Name  | Type     | Params | Mode \n",
      "-------------------------------------------\n",
      "0 | model | ConvBERT | 51.7 K | train\n",
      "-------------------------------------------\n",
      "51.7 K    Trainable params\n",
      "0         Non-trainable params\n",
      "51.7 K    Total params\n",
      "0.207     Total estimated model params size (MB)\n",
      "49        Modules in train mode\n",
      "0         Modules in eval mode\n"
     ]
    },
    {
     "data": {
      "text/plain": [
       "Sanity Checking: |          | 0/? [00:00<?, ?it/s]"
      ],
      "application/vnd.jupyter.widget-view+json": {
       "version_major": 2,
       "version_minor": 0,
       "model_id": "9aa350a1e2bf494bbe62d0cc1decd98e"
      }
     },
     "metadata": {},
     "output_type": "display_data"
    },
    {
     "data": {
      "text/plain": [
       "Training: |          | 0/? [00:00<?, ?it/s]"
      ],
      "application/vnd.jupyter.widget-view+json": {
       "version_major": 2,
       "version_minor": 0,
       "model_id": "d6e553c38dfc4888bc96badbc0c55dcf"
      }
     },
     "metadata": {},
     "output_type": "display_data"
    },
    {
     "data": {
      "text/plain": [
       "Validation: |          | 0/? [00:00<?, ?it/s]"
      ],
      "application/vnd.jupyter.widget-view+json": {
       "version_major": 2,
       "version_minor": 0,
       "model_id": "49f6b523b392453f9fcd7bba9ef3bb7c"
      }
     },
     "metadata": {},
     "output_type": "display_data"
    },
    {
     "data": {
      "text/plain": [
       "Validation: |          | 0/? [00:00<?, ?it/s]"
      ],
      "application/vnd.jupyter.widget-view+json": {
       "version_major": 2,
       "version_minor": 0,
       "model_id": "d9bcd513ac5d499692503007760869c7"
      }
     },
     "metadata": {},
     "output_type": "display_data"
    },
    {
     "data": {
      "text/plain": [
       "Validation: |          | 0/? [00:00<?, ?it/s]"
      ],
      "application/vnd.jupyter.widget-view+json": {
       "version_major": 2,
       "version_minor": 0,
       "model_id": "62f9fba812f64764bf3bfe657320e173"
      }
     },
     "metadata": {},
     "output_type": "display_data"
    },
    {
     "data": {
      "text/plain": [
       "Validation: |          | 0/? [00:00<?, ?it/s]"
      ],
      "application/vnd.jupyter.widget-view+json": {
       "version_major": 2,
       "version_minor": 0,
       "model_id": "8cec7962481b41a4b5d68d988a959fe6"
      }
     },
     "metadata": {},
     "output_type": "display_data"
    },
    {
     "data": {
      "text/plain": [
       "Validation: |          | 0/? [00:00<?, ?it/s]"
      ],
      "application/vnd.jupyter.widget-view+json": {
       "version_major": 2,
       "version_minor": 0,
       "model_id": "c0fcc629b5c94a5ab9bb46f8d96c3b8c"
      }
     },
     "metadata": {},
     "output_type": "display_data"
    },
    {
     "data": {
      "text/plain": [
       "Validation: |          | 0/? [00:00<?, ?it/s]"
      ],
      "application/vnd.jupyter.widget-view+json": {
       "version_major": 2,
       "version_minor": 0,
       "model_id": "b33b9ced11cb4061a11c1e1f18c90744"
      }
     },
     "metadata": {},
     "output_type": "display_data"
    },
    {
     "data": {
      "text/plain": [
       "Validation: |          | 0/? [00:00<?, ?it/s]"
      ],
      "application/vnd.jupyter.widget-view+json": {
       "version_major": 2,
       "version_minor": 0,
       "model_id": "865e5384663c46dca8586f1e43b778ab"
      }
     },
     "metadata": {},
     "output_type": "display_data"
    },
    {
     "data": {
      "text/plain": [
       "Validation: |          | 0/? [00:00<?, ?it/s]"
      ],
      "application/vnd.jupyter.widget-view+json": {
       "version_major": 2,
       "version_minor": 0,
       "model_id": "925a061f05ec45599c30d04075a89ccc"
      }
     },
     "metadata": {},
     "output_type": "display_data"
    },
    {
     "data": {
      "text/plain": [
       "Validation: |          | 0/? [00:00<?, ?it/s]"
      ],
      "application/vnd.jupyter.widget-view+json": {
       "version_major": 2,
       "version_minor": 0,
       "model_id": "6f8067e4e3e84b42a3562eb3c9de778a"
      }
     },
     "metadata": {},
     "output_type": "display_data"
    },
    {
     "data": {
      "text/plain": [
       "Validation: |          | 0/? [00:00<?, ?it/s]"
      ],
      "application/vnd.jupyter.widget-view+json": {
       "version_major": 2,
       "version_minor": 0,
       "model_id": "f55e93484abb4c83b37b1f60f7589536"
      }
     },
     "metadata": {},
     "output_type": "display_data"
    },
    {
     "data": {
      "text/plain": [
       "Validation: |          | 0/? [00:00<?, ?it/s]"
      ],
      "application/vnd.jupyter.widget-view+json": {
       "version_major": 2,
       "version_minor": 0,
       "model_id": "00dd8cb57a8a44298db52025be7f1f26"
      }
     },
     "metadata": {},
     "output_type": "display_data"
    },
    {
     "data": {
      "text/plain": [
       "Testing: |          | 0/? [00:00<?, ?it/s]"
      ],
      "application/vnd.jupyter.widget-view+json": {
       "version_major": 2,
       "version_minor": 0,
       "model_id": "0c6322c17e624db699cea477c59cd3a4"
      }
     },
     "metadata": {},
     "output_type": "display_data"
    },
    {
     "data": {
      "text/plain": [
       "┏━━━━━━━━━━━━━━━━━━━━━━━━━━━┳━━━━━━━━━━━━━━━━━━━━━━━━━━━┓\n",
       "┃\u001B[1m \u001B[0m\u001B[1m       Test metric       \u001B[0m\u001B[1m \u001B[0m┃\u001B[1m \u001B[0m\u001B[1m      DataLoader 0       \u001B[0m\u001B[1m \u001B[0m┃\n",
       "┡━━━━━━━━━━━━━━━━━━━━━━━━━━━╇━━━━━━━━━━━━━━━━━━━━━━━━━━━┩\n",
       "│\u001B[36m \u001B[0m\u001B[36m        test_loss        \u001B[0m\u001B[36m \u001B[0m│\u001B[35m \u001B[0m\u001B[35m   0.11127091944217682   \u001B[0m\u001B[35m \u001B[0m│\n",
       "└───────────────────────────┴───────────────────────────┘\n"
      ],
      "text/html": [
       "<pre style=\"white-space:pre;overflow-x:auto;line-height:normal;font-family:Menlo,'DejaVu Sans Mono',consolas,'Courier New',monospace\">┏━━━━━━━━━━━━━━━━━━━━━━━━━━━┳━━━━━━━━━━━━━━━━━━━━━━━━━━━┓\n",
       "┃<span style=\"font-weight: bold\">        Test metric        </span>┃<span style=\"font-weight: bold\">       DataLoader 0        </span>┃\n",
       "┡━━━━━━━━━━━━━━━━━━━━━━━━━━━╇━━━━━━━━━━━━━━━━━━━━━━━━━━━┩\n",
       "│<span style=\"color: #008080; text-decoration-color: #008080\">         test_loss         </span>│<span style=\"color: #800080; text-decoration-color: #800080\">    0.11127091944217682    </span>│\n",
       "└───────────────────────────┴───────────────────────────┘\n",
       "</pre>\n"
      ]
     },
     "metadata": {},
     "output_type": "display_data"
    },
    {
     "data": {
      "text/plain": [
       "[{'test_loss': 0.11127091944217682}]"
      ]
     },
     "execution_count": 3,
     "metadata": {},
     "output_type": "execute_result"
    }
   ],
   "execution_count": 3
  },
  {
   "metadata": {
    "ExecuteTime": {
     "end_time": "2025-01-01T12:59:20.252984Z",
     "start_time": "2025-01-01T12:59:15.390613Z"
    }
   },
   "cell_type": "code",
   "source": [
    "predictions = trainer.predict(model, test_loader)\n",
    "pdf = cdf.copy()\n",
    "pdf[\"target\"] = pdf[\"target\"]*10\n",
    "pdf[\"prediction\"] = torch.concat(predictions)*10\n",
    "pdf.sort_values(by=\"prediction\",ascending=False)[:200]"
   ],
   "id": "3fed9981c09c0c7c",
   "outputs": [
    {
     "data": {
      "text/plain": [
       "Predicting: |          | 0/? [00:00<?, ?it/s]"
      ],
      "application/vnd.jupyter.widget-view+json": {
       "version_major": 2,
       "version_minor": 0,
       "model_id": "a136dfefbaef4e3185d4d46b6f6181fa"
      }
     },
     "metadata": {},
     "output_type": "display_data"
    },
    {
     "data": {
      "text/plain": [
       "            date      code  name  \\\n",
       "2019  2025-01-02  sz000952  广济药业   \n",
       "896   2025-01-02  sh601766  中国中车   \n",
       "1653  2025-01-02  sz000004  国华网安   \n",
       "512   2025-01-02  sh600698  湖南天雁   \n",
       "2675  2025-01-02  sz002593  日上集团   \n",
       "...          ...       ...   ...   \n",
       "3553  2025-01-02  sz300540  蜀道装备   \n",
       "2606  2025-01-02  sz002518   科士达   \n",
       "3073  2025-01-02  sz300002  神州泰岳   \n",
       "3695  2025-01-02  sz300687  赛意信息   \n",
       "1697  2025-01-02  sz000078  海王生物   \n",
       "\n",
       "                                                feature  target  prediction  \n",
       "2019  [[0.9964412811387893, 0.0, 0.9964412811387893,...       0    6.108227  \n",
       "896   [[0.01194743130227188, 0.0, 0.1553166069295111...       0    5.767341  \n",
       "1653  [[0.06545454545454535, 0.0, 0.5236363636363641...       0    5.222045  \n",
       "512   [[-0.13100436681222816, 0.0, 0.065502183406114...       0    5.193630  \n",
       "2675  [[-0.23121387283237013, 0.15414258188824503, 0...       0    4.840117  \n",
       "...                                                 ...     ...         ...  \n",
       "3553  [[-0.09693053311793295, 0.048465266558965034, ...       0    2.203933  \n",
       "2606  [[-0.6085869112130042, -0.037515631513130414, ...       0    2.194532  \n",
       "3073  [[-0.41356492969396197, 0.04135649296939679, 0...       0    2.191237  \n",
       "3695  [[-0.5306971904266387, 0.08324661810613951, 0....       0    2.181536  \n",
       "1697  [[-0.3041825095057037, 0.0, 0.2281368821292778...       0    2.180300  \n",
       "\n",
       "[200 rows x 6 columns]"
      ],
      "text/html": [
       "<div>\n",
       "<style scoped>\n",
       "    .dataframe tbody tr th:only-of-type {\n",
       "        vertical-align: middle;\n",
       "    }\n",
       "\n",
       "    .dataframe tbody tr th {\n",
       "        vertical-align: top;\n",
       "    }\n",
       "\n",
       "    .dataframe thead th {\n",
       "        text-align: right;\n",
       "    }\n",
       "</style>\n",
       "<table border=\"1\" class=\"dataframe\">\n",
       "  <thead>\n",
       "    <tr style=\"text-align: right;\">\n",
       "      <th></th>\n",
       "      <th>date</th>\n",
       "      <th>code</th>\n",
       "      <th>name</th>\n",
       "      <th>feature</th>\n",
       "      <th>target</th>\n",
       "      <th>prediction</th>\n",
       "    </tr>\n",
       "  </thead>\n",
       "  <tbody>\n",
       "    <tr>\n",
       "      <th>2019</th>\n",
       "      <td>2025-01-02</td>\n",
       "      <td>sz000952</td>\n",
       "      <td>广济药业</td>\n",
       "      <td>[[0.9964412811387893, 0.0, 0.9964412811387893,...</td>\n",
       "      <td>0</td>\n",
       "      <td>6.108227</td>\n",
       "    </tr>\n",
       "    <tr>\n",
       "      <th>896</th>\n",
       "      <td>2025-01-02</td>\n",
       "      <td>sh601766</td>\n",
       "      <td>中国中车</td>\n",
       "      <td>[[0.01194743130227188, 0.0, 0.1553166069295111...</td>\n",
       "      <td>0</td>\n",
       "      <td>5.767341</td>\n",
       "    </tr>\n",
       "    <tr>\n",
       "      <th>1653</th>\n",
       "      <td>2025-01-02</td>\n",
       "      <td>sz000004</td>\n",
       "      <td>国华网安</td>\n",
       "      <td>[[0.06545454545454535, 0.0, 0.5236363636363641...</td>\n",
       "      <td>0</td>\n",
       "      <td>5.222045</td>\n",
       "    </tr>\n",
       "    <tr>\n",
       "      <th>512</th>\n",
       "      <td>2025-01-02</td>\n",
       "      <td>sh600698</td>\n",
       "      <td>湖南天雁</td>\n",
       "      <td>[[-0.13100436681222816, 0.0, 0.065502183406114...</td>\n",
       "      <td>0</td>\n",
       "      <td>5.193630</td>\n",
       "    </tr>\n",
       "    <tr>\n",
       "      <th>2675</th>\n",
       "      <td>2025-01-02</td>\n",
       "      <td>sz002593</td>\n",
       "      <td>日上集团</td>\n",
       "      <td>[[-0.23121387283237013, 0.15414258188824503, 0...</td>\n",
       "      <td>0</td>\n",
       "      <td>4.840117</td>\n",
       "    </tr>\n",
       "    <tr>\n",
       "      <th>...</th>\n",
       "      <td>...</td>\n",
       "      <td>...</td>\n",
       "      <td>...</td>\n",
       "      <td>...</td>\n",
       "      <td>...</td>\n",
       "      <td>...</td>\n",
       "    </tr>\n",
       "    <tr>\n",
       "      <th>3553</th>\n",
       "      <td>2025-01-02</td>\n",
       "      <td>sz300540</td>\n",
       "      <td>蜀道装备</td>\n",
       "      <td>[[-0.09693053311793295, 0.048465266558965034, ...</td>\n",
       "      <td>0</td>\n",
       "      <td>2.203933</td>\n",
       "    </tr>\n",
       "    <tr>\n",
       "      <th>2606</th>\n",
       "      <td>2025-01-02</td>\n",
       "      <td>sz002518</td>\n",
       "      <td>科士达</td>\n",
       "      <td>[[-0.6085869112130042, -0.037515631513130414, ...</td>\n",
       "      <td>0</td>\n",
       "      <td>2.194532</td>\n",
       "    </tr>\n",
       "    <tr>\n",
       "      <th>3073</th>\n",
       "      <td>2025-01-02</td>\n",
       "      <td>sz300002</td>\n",
       "      <td>神州泰岳</td>\n",
       "      <td>[[-0.41356492969396197, 0.04135649296939679, 0...</td>\n",
       "      <td>0</td>\n",
       "      <td>2.191237</td>\n",
       "    </tr>\n",
       "    <tr>\n",
       "      <th>3695</th>\n",
       "      <td>2025-01-02</td>\n",
       "      <td>sz300687</td>\n",
       "      <td>赛意信息</td>\n",
       "      <td>[[-0.5306971904266387, 0.08324661810613951, 0....</td>\n",
       "      <td>0</td>\n",
       "      <td>2.181536</td>\n",
       "    </tr>\n",
       "    <tr>\n",
       "      <th>1697</th>\n",
       "      <td>2025-01-02</td>\n",
       "      <td>sz000078</td>\n",
       "      <td>海王生物</td>\n",
       "      <td>[[-0.3041825095057037, 0.0, 0.2281368821292778...</td>\n",
       "      <td>0</td>\n",
       "      <td>2.180300</td>\n",
       "    </tr>\n",
       "  </tbody>\n",
       "</table>\n",
       "<p>200 rows × 6 columns</p>\n",
       "</div>"
      ]
     },
     "execution_count": 4,
     "metadata": {},
     "output_type": "execute_result"
    }
   ],
   "execution_count": 4
  },
  {
   "metadata": {
    "ExecuteTime": {
     "end_time": "2025-01-01T12:59:36.402057Z",
     "start_time": "2025-01-01T12:59:35.723611Z"
    }
   },
   "cell_type": "code",
   "source": [
    "import matplotlib.pyplot as plt\n",
    "import numpy as np\n",
    "from scipy.stats import pearsonr\n",
    "from sklearn.metrics import mean_squared_error\n",
    "\n",
    "smse = mean_squared_error(pdf[\"prediction\"], pdf[\"target\"])\n",
    "print(f\"MSE is: {smse:.2f}\")\n",
    "pr = pearsonr(pdf[\"prediction\"], pdf[\"target\"])[0]\n",
    "print(f\"The Pearson Correlation Coefficient is:{pr:.2f}\")\n",
    "plt.scatter(pdf[\"prediction\"], pdf[\"target\"])\n",
    "plt.show()"
   ],
   "id": "8d2f100c3f294954",
   "outputs": [
    {
     "name": "stdout",
     "output_type": "stream",
     "text": [
      "MSE is: 11.13\n",
      "The Pearson Correlation Coefficient is:nan\n"
     ]
    },
    {
     "data": {
      "text/plain": [
       "<Figure size 640x480 with 1 Axes>"
      ],
      "image/png": "[encoded data removed]"
     },
     "metadata": {},
     "output_type": "display_data"
    }
   ],
   "execution_count": 5
  },
  {
   "metadata": {
    "ExecuteTime": {
     "end_time": "2025-01-01T12:59:41.684310Z",
     "start_time": "2025-01-01T12:59:40.647450Z"
    }
   },
   "cell_type": "code",
   "source": [
    "plt.hist(pdf[\"prediction\"], bins=50)\n",
    "plt.show()"
   ],
   "id": "b0bbaa201eefe754",
   "outputs": [
    {
     "data": {
      "text/plain": [
       "<Figure size 640x480 with 1 Axes>"
      ],
      "image/png": "[encoded data removed]"
     },
     "metadata": {},
     "output_type": "display_data"
    }
   ],
   "execution_count": 6
  },
  {
   "metadata": {},
   "cell_type": "code",
   "outputs": [],
   "execution_count": null,
   "source": "",
   "id": "66e6e159b3668c03"
  }
 ],
 "metadata": {
  "kernelspec": {
   "name": "python3",
   "language": "python",
   "display_name": "Python 3 (ipykernel)"
  }
 },
 "nbformat": 5,
 "nbformat_minor": 9
}
