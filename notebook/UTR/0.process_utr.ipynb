{
 "cells": [
  {
   "cell_type": "code",
   "execution_count": 9,
   "id": "63e5d839",
   "metadata": {},
   "outputs": [
    {
     "name": "stdout",
     "output_type": "stream",
     "text": [
      "old  ATGGAGA new  CAAGTAA polya  AAAAAAA\n"
     ]
    }
   ],
   "source": [
    "from Bio import SeqIO\n",
    "import tqdm\n",
    "import os\n",
    "import pandas as pd\n",
    "from collections import Counter\n",
    "genome = list(SeqIO.parse(\"../data/VEE_genome.fasta\", format=\"fasta\"))[0]\n",
    "match_seq_len, len_5utr, len3_utr = 7, 44, 118\n",
    "match_5utr=str(genome.seq[44:][:match_seq_len])\n",
    "match_3utr=str(genome.seq[:11305][-match_seq_len:])\n",
    "match_3utr_new='catggtcctgctggagttcgtgaccgccgccgggatcactctcggcatggacgagctgtacaagtaa'.upper()[-match_seq_len:]\n",
    "polya='aaaaaaaaaaaaaaaaaaaaaaaaaa'.upper()[:match_seq_len]\n",
    "print(\"old \", match_5utr, \"new \", match_3utr_new, \"polya \", polya)\n",
    "\n",
    "def merge_3utr(fn1, fn2):\n",
    "    target_seqs = []\n",
    "    for v in tqdm.tqdm(SeqIO.parse(fn1, format=\"fasta\")):\n",
    "        seq = str(v.seq)\n",
    "        idx = seq.find(match_3utr_new)\n",
    "        if idx != -1 and (idx+match_seq_len+len3_utr+match_seq_len)<len(v.seq) and seq[idx+match_seq_len+len3_utr:][:match_seq_len]==polya:\n",
    "            target_seq = seq[idx+match_seq_len:][:len3_utr]\n",
    "            target_seqs.append(target_seq)\n",
    "    d1 = Counter(target_seqs)\n",
    "    target_seqs = []\n",
    "    for v in tqdm.tqdm(SeqIO.parse(fn2, format=\"fasta\")):\n",
    "        seq = str(v.seq)\n",
    "        idx = seq.find(match_3utr_new)\n",
    "        if idx != -1 and (idx+match_seq_len+len3_utr+match_seq_len)<len(v.seq) and seq[idx+match_seq_len+len3_utr:][:match_seq_len]==polya:\n",
    "            target_seq = seq[idx+match_seq_len:][:len3_utr]\n",
    "            target_seqs.append(target_seq)\n",
    "    d2 = Counter(target_seqs)\n",
    "    abundance_count_dict = dict(d1+d2)\n",
    "    abundance_count_df = pd.DataFrame(columns=[\"seq\", \"counts\"])\n",
    "    abundance_count_df.seq = list(abundance_count_dict.keys())\n",
    "    abundance_count_df.counts = list(abundance_count_dict.values())\n",
    "    abundance_count_df = abundance_count_df[abundance_count_df[\"counts\"]>=5]\n",
    "    abundance_count_df[\"length\"] = abundance_count_df.seq.apply(len)\n",
    "    seq_number_sum = abundance_count_df.counts.sum()\n",
    "    abundance_count_df[\"freq\"] = abundance_count_df.counts.apply(\n",
    "        lambda x: x / seq_number_sum\n",
    "    )\n",
    "    print(len(abundance_count_df))\n",
    "    base = os.path.dirname(fn1)\n",
    "    fname = os.path.basename(fn1)\n",
    "    name = fname[:fname.find(\".\")]\n",
    "    abundance_count_df.to_csv(os.path.join(base,\"3UTR-merge.csv\"),index=False)\n",
    "    \n",
    "\n",
    "\n",
    "def gen_abundance_utr(fn=\"../data/VEE_3UTR/Cleandata/3-UTR-library-temDNA/3UTR-temDNA.fastq\",is_3utr=True):\n",
    "    target_seqs = []\n",
    "    for v in tqdm.tqdm(SeqIO.parse(fn, format=\"fasta\")):\n",
    "        seq = str(v.seq)\n",
    "        if is_3utr:\n",
    "            idx = seq.find(match_3utr_new)\n",
    "            if idx != -1 and (idx+match_seq_len+len3_utr+match_seq_len)<len(v.seq) and seq[idx+match_seq_len+len3_utr:][:match_seq_len]==polya:\n",
    "                target_seq = seq[idx+match_seq_len:][:len3_utr]\n",
    "                target_seqs.append(target_seq)\n",
    "        else:\n",
    "            idx = seq.find(match_5utr)\n",
    "            if idx != -1:\n",
    "                target_seq = seq[:idx][-len_5utr:]\n",
    "                target_seqs.append(target_seq)\n",
    "    abundance_count_dict = dict(Counter(target_seqs))\n",
    "    abundance_count_df = pd.DataFrame(columns=[\"seq\", \"counts\"])\n",
    "    abundance_count_df.seq = list(abundance_count_dict.keys())\n",
    "    abundance_count_df.counts = list(abundance_count_dict.values())\n",
    "    abundance_count_df = abundance_count_df[abundance_count_df[\"counts\"]>=5]\n",
    "    abundance_count_df[\"length\"] = abundance_count_df.seq.apply(len)\n",
    "    seq_number_sum = abundance_count_df.counts.sum()\n",
    "    abundance_count_df[\"freq\"] = abundance_count_df.counts.apply(\n",
    "        lambda x: x / seq_number_sum\n",
    "    )\n",
    "    print(len(abundance_count_df))\n",
    "    base = os.path.dirname(fn)\n",
    "    fname = os.path.basename(fn)\n",
    "    name = fname[:fname.find(\".\")]\n",
    "    abundance_count_df.to_csv(os.path.join(base,name+\".csv\"),index=False)\n"
   ]
  },
  {
   "cell_type": "code",
   "execution_count": 10,
   "id": "698400e6",
   "metadata": {},
   "outputs": [
    {
     "name": "stderr",
     "output_type": "stream",
     "text": [
      "15458372it [01:53, 136043.37it/s]\n",
      "17651486it [02:16, 129750.49it/s]\n"
     ]
    },
    {
     "name": "stdout",
     "output_type": "stream",
     "text": [
      "184073\n"
     ]
    }
   ],
   "source": [
    "# gen_abundance_utr(fn=\"../data/VEE_3UTR/Cleandata/3-UTR-library-temDNA/3UTR-temDNA.fastq\")\n",
    "\n",
    "# gen_abundance_utr(fn=\"../data/VEE_3UTR/add/VEEV-3-UTR-library-cDNA/3UTR-cDNA.fastq\")\n",
    "# gen_abundance_utr(fn=\"../data/VEE_3UTR/RNA/VEEV-3-UTR-library-cDNA/3UTR-cDNA.fastq\")\n",
    "# gen_abundance_utr(\"/Users/john/git/UTR/data/VEE_5UTR_0429/1ug-PVL-0412/1ug-PVL-0412.fasta\",is_3utr=False)\n",
    "# gen_abundance_utr(\"/Users/john/git/UTR/data/VEE_5UTR_0429/VL-CDNAKZ-1/VL-CDNAKZ-1.fasta\",is_3utr=False)\n",
    "merge_3utr(\"../data/VEE_3UTR/Cleandata/3-UTR-library-temDNA/3UTR-temDNA.fastq\",\"../data/VEE_3UTR/add/VEEV-3-UTR-library-cDNA/3UTR-cDNA.fastq\")"
   ]
  },
  {
   "cell_type": "code",
   "execution_count": 12,
   "id": "d4bf8483",
   "metadata": {},
   "outputs": [
    {
     "name": "stdout",
     "output_type": "stream",
     "text": [
      "Merging plasmid and RNA sequencing data ...\n",
      "\tRNA\t105959\n",
      "\tPlasmid\t75838\n",
      "\tRNA & Plasmid\t21873\n",
      "Index(['seq', 'counts', 'length', 'freq'], dtype='object')\n",
      "Done.\n",
      "Calculating replication scores ... Done.\n",
      "Sorting data ... Done.\n"
     ]
    }
   ],
   "source": [
    "import Levenshtein\n",
    "import numpy as np\n",
    "plasmid_data=\"../data/VEE_3UTR/Cleandata/3-UTR-library-temDNA/3UTR-temDNA.csv\"\n",
    "# plasmid_data=\"../data/VEE_3UTR/Cleandata/3-UTR-library-temDNA/3UTR-merge.csv\"\n",
    "rna_data=\"../data/VEE_3UTR/RNA/VEEV-3-UTR-library-cDNA/3UTR-cDNA.csv\"\n",
    "# plasmid_data=\"/Users/john/git/UTR/data/VEE_5UTR_0429/1ug-PVL-0412/1ug-PVL-0412.csv\"\n",
    "# rna_data=\"/Users/john/git/UTR/data/VEE_5UTR_0429/VL-CDNAKZ-1/VL-CDNAKZ-1.csv\"\n",
    "columns=[\"seq\",\"counts\",\"length\",\"freq\"]\n",
    "\n",
    "def calculate_replication_score(length=40):\n",
    "\n",
    "    # Load plasmid and RNA counts data\n",
    "    print(\"Merging plasmid and RNA sequencing data ...\")\n",
    "    plasmid_freq_df = pd.read_csv(plasmid_data)[columns]\n",
    "    plasmid_seq_dict = {\n",
    "        seq: count\n",
    "        for seq, count in zip(\n",
    "            plasmid_freq_df.seq.tolist(), plasmid_freq_df.counts.tolist()\n",
    "        )\n",
    "    }\n",
    "    rna_freq_df = pd.read_csv(rna_data)[columns]\n",
    "    rna_seq_dict = {\n",
    "        seq: count\n",
    "        for seq, count in zip(rna_freq_df.seq.tolist(), rna_freq_df.counts.tolist())\n",
    "    }\n",
    "    print(\"\\tRNA\\t%d\" % len(rna_freq_df))\n",
    "    print(\"\\tPlasmid\\t%d\" % len(plasmid_freq_df))\n",
    "\n",
    "    # Find common sequences\n",
    "    common_seqs = list(set(plasmid_freq_df.seq) & set(rna_freq_df.seq))\n",
    "    common_seq_idx = {seq: i for i, seq in enumerate(common_seqs)}\n",
    "\n",
    "    # Filter sequences\n",
    "    for data in (plasmid_freq_df, rna_freq_df):\n",
    "        data[\"seqid\"] = data.seq.map(common_seq_idx)\n",
    "        data.dropna(how=\"any\", inplace=True)\n",
    "        data[\"seq\"] =data[\"seq\"].apply(lambda x:x[:length])\n",
    "        data.seqid = data.seqid.apply(int)\n",
    "        data.set_index(\"seqid\", inplace=True)\n",
    "    print(\"\\tRNA & Plasmid\\t%d\" % (len(common_seqs)))\n",
    "    print(plasmid_freq_df.columns)\n",
    "\n",
    "    # Merge dataset\n",
    "    plasmid_freq_df.columns = [\"seq\", \"plasmid_counts\", \"length\", \"plasmid_freq\"]\n",
    "    rna_freq_df.columns = [\"seq\", \"rna_counts\", \"length\", \"rna_freq\"]\n",
    "    rna_freq_df.drop(columns=[\"seq\", \"length\"], inplace=True)\n",
    "    merged_freq_df = plasmid_freq_df.join(rna_freq_df)\n",
    "\n",
    "    # Calculate replication score and edit distance\n",
    "    print(\"Done.\\nCalculating replication scores ...\", end=\" \")\n",
    "    merged_freq_df[\"score\"] = np.log(\n",
    "        merged_freq_df.rna_freq / merged_freq_df.plasmid_freq\n",
    "    )\n",
    "\n",
    "    # Sorting data according to score.\n",
    "    print(\"Done.\\nSorting data ...\", end=\" \")\n",
    "    merged_freq_df.sort_values(by=\"score\", inplace=True, ascending=False)\n",
    "    print(\"Done.\")\n",
    "    return merged_freq_df\n",
    "        \n",
    "\n",
    "df = calculate_replication_score(length=118)\n",
    "df.to_csv(\"/Users/john/git/UTR/data/VEE_3UTR/VEE_3UTR.csv\")"
   ]
  },
  {
   "cell_type": "code",
   "execution_count": null,
   "id": "635c49e8",
   "metadata": {},
   "outputs": [],
   "source": []
  }
 ],
 "metadata": {
  "kernelspec": {
   "display_name": "Python 3 (ipykernel)",
   "language": "python",
   "name": "python3"
  },
  "language_info": {
   "codemirror_mode": {
    "name": "ipython",
    "version": 3
   },
   "file_extension": ".py",
   "mimetype": "text/x-python",
   "name": "python",
   "nbconvert_exporter": "python",
   "pygments_lexer": "ipython3",
   "version": "3.11.5"
  }
 },
 "nbformat": 4,
 "nbformat_minor": 5
}
