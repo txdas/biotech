{
 "cells": [
  {
   "cell_type": "code",
   "execution_count": 1,
   "id": "dfee9b98",
   "metadata": {},
   "outputs": [],
   "source": [
    "import warnings\n",
    "warnings.filterwarnings(\"ignore\")\n",
    "from torch import nn, optim, utils\n",
    "import torch\n",
    "import os\n",
    "import numpy as np\n",
    "import pandas as pd\n",
    "import random\n",
    "import scipy.stats as stats\n",
    "from sklearn import preprocessing\n",
    "from torch.utils.data import Dataset\n",
    "import torch\n",
    "from torch.utils.data import DataLoader\n",
    "\n",
    "\n",
    "def setup_seed(seed):\n",
    "     torch.manual_seed(seed)\n",
    "     torch.cuda.manual_seed_all(seed)\n",
    "     np.random.seed(seed)\n",
    "     random.seed(seed)\n",
    "\n",
    "def r2(x,y):\n",
    "    slope, intercept, r_value, p_value, std_err = stats.linregress(x,y)\n",
    "    return r_value**2\n",
    "    \n",
    "def one_hot_encode(df, col='seq', seq_len=44):\n",
    "    # Dictionary returning one-hot encoding of nucleotides.\n",
    "    nuc_d = {'a' :[1 ,0 ,0 ,0] ,'c' :[0 ,1 ,0 ,0] ,'g' :[0 ,0 ,1 ,0] ,'t' :[0 ,0 ,0 ,1], 'n' :[0 ,0 ,0 ,0]}\n",
    "    vectors = np.empty([len(df), seq_len, 4])\n",
    "    for i, seq in enumerate(df[col].str[:seq_len]):\n",
    "        seq = seq.lower()\n",
    "        a = np.array([nuc_d[x] for x in seq])\n",
    "        vectors[i] = a\n",
    "    return vectors\n",
    "\n",
    "\n",
    "class VEE5UTRDataset(Dataset):\n",
    "\n",
    "    def __init__(self, X, y):\n",
    "        self.X = torch.tensor(X,dtype=torch.float)\n",
    "        self.y = torch.tensor(y.values,dtype=torch.float).reshape((-1, 1))\n",
    "\n",
    "    def __getitem__(self, item):\n",
    "        return self.X[item], self.y[item]\n",
    "\n",
    "    def __len__(self):\n",
    "        return len(self.y)\n",
    "\n",
    "    \n",
    "def evaluate(df, model, test_seq, obs_col, output_col='pred'):\n",
    "    '''Predict mean ribosome load using model and test set UTRs'''\n",
    "\n",
    "    # Scale the test set mean ribosome load\n",
    "    scaler = preprocessing.StandardScaler()\n",
    "    scaler.fit(df[obs_col].values.reshape(-1, 1))\n",
    "    model.eval()\n",
    "    # Make predictions\n",
    "    test_seq = torch.tensor(test_seq, dtype=torch.float)\n",
    "    predictions = model(test_seq).reshape(-1, 1).detach().numpy()\n",
    "    # Inverse scaled predicted mean ribosome load and return in a column labeled 'pred'\n",
    "    df.loc[:, output_col] = scaler.inverse_transform(predictions)\n",
    "    return df\n",
    "\n",
    "class CNN(nn.Module):\n",
    "\n",
    "    def __init__(self,  input_size=44, layers=3, filters = 120,kernel_size = 8,hidden_size=40):\n",
    "        super(CNN, self).__init__()\n",
    "        self.conv = nn.Sequential()\n",
    "        self.input_size = input_size\n",
    "        for i in range(layers):\n",
    "            input_size = filters if i else 4\n",
    "            self.conv.append(nn.Sequential(\n",
    "                nn.Conv1d(in_channels=input_size, out_channels=filters, kernel_size=(kernel_size,), padding=\"same\"),\n",
    "                nn.LeakyReLU(),\n",
    "                ))\n",
    "        self.dense = nn.Linear(filters*self.input_size, hidden_size)\n",
    "        self.dropout = nn.Dropout(p=0.2)\n",
    "        self.output = nn.Linear(hidden_size, 1)\n",
    "        self.init()\n",
    "\n",
    "    def init(self):\n",
    "        # nn.init.xavier_uniform_(self.dense.weight, gain=nn.init.calculate_gain('relu'))\n",
    "        # nn.init.xavier_uniform_(self.output.weight, gain=nn.init.calculate_gain('relu'))\n",
    "        nn.init.kaiming_uniform_(self.dense.weight)\n",
    "        nn.init.kaiming_uniform_(self.dense.weight)\n",
    "\n",
    "    def forward(self, x):\n",
    "        x = x.permute(0, 2, 1)\n",
    "        x = self.conv(x)\n",
    "        x = torch.flatten(x, 1)\n",
    "        x = self.dense(x)\n",
    "        x = torch.relu(x)\n",
    "        x = self.output(x)\n",
    "        # x = torch.tanh(x)\n",
    "        return x\n",
    "\n",
    "setup_seed(1337)"
   ]
  },
  {
   "cell_type": "code",
   "execution_count": 13,
   "id": "6be03ebb",
   "metadata": {},
   "outputs": [
    {
     "name": "stderr",
     "output_type": "stream",
     "text": [
      "100%|██████████████████████████████████████████████████████████████████████████████████████████████████████████████████████| 56/56 [00:08<00:00,  6.33it/s]\n"
     ]
    },
    {
     "name": "stdout",
     "output_type": "stream",
     "text": [
      "epoch=1/20 of train, lr=[0.00285], valid loss=1.0255835020382489\n"
     ]
    },
    {
     "name": "stderr",
     "output_type": "stream",
     "text": [
      "100%|██████████████████████████████████████████████████████████████████████████████████████████████████████████████████████| 56/56 [00:09<00:00,  6.01it/s]\n"
     ]
    },
    {
     "name": "stdout",
     "output_type": "stream",
     "text": [
      "epoch=2/20 of train, lr=[0.0027075], valid loss=0.5708642941234368\n"
     ]
    },
    {
     "name": "stderr",
     "output_type": "stream",
     "text": [
      "100%|██████████████████████████████████████████████████████████████████████████████████████████████████████████████████████| 56/56 [00:09<00:00,  5.71it/s]\n"
     ]
    },
    {
     "name": "stdout",
     "output_type": "stream",
     "text": [
      "epoch=3/20 of train, lr=[0.0025721249999999998], valid loss=0.5273562456880297\n"
     ]
    },
    {
     "name": "stderr",
     "output_type": "stream",
     "text": [
      "100%|██████████████████████████████████████████████████████████████████████████████████████████████████████████████████████| 56/56 [00:09<00:00,  5.78it/s]\n"
     ]
    },
    {
     "name": "stdout",
     "output_type": "stream",
     "text": [
      "epoch=4/20 of train, lr=[0.0024435187499999996], valid loss=0.34806300486837116\n"
     ]
    },
    {
     "name": "stderr",
     "output_type": "stream",
     "text": [
      "100%|██████████████████████████████████████████████████████████████████████████████████████████████████████████████████████| 56/56 [00:08<00:00,  6.27it/s]\n"
     ]
    },
    {
     "name": "stdout",
     "output_type": "stream",
     "text": [
      "epoch=5/20 of train, lr=[0.0023213428124999997], valid loss=0.3511626249445336\n",
      "INFO: Early stopping counter 1 of 3\n"
     ]
    },
    {
     "name": "stderr",
     "output_type": "stream",
     "text": [
      "100%|██████████████████████████████████████████████████████████████████████████████████████████████████████████████████████| 56/56 [00:08<00:00,  6.36it/s]\n"
     ]
    },
    {
     "name": "stdout",
     "output_type": "stream",
     "text": [
      "epoch=6/20 of train, lr=[0.0022052756718749997], valid loss=0.28734758735767435\n"
     ]
    },
    {
     "name": "stderr",
     "output_type": "stream",
     "text": [
      "100%|██████████████████████████████████████████████████████████████████████████████████████████████████████████████████████| 56/56 [00:09<00:00,  6.08it/s]\n"
     ]
    },
    {
     "name": "stdout",
     "output_type": "stream",
     "text": [
      "epoch=7/20 of train, lr=[0.0020950118882812497], valid loss=0.2868167406746319\n"
     ]
    },
    {
     "name": "stderr",
     "output_type": "stream",
     "text": [
      "100%|██████████████████████████████████████████████████████████████████████████████████████████████████████████████████████| 56/56 [00:08<00:00,  6.36it/s]\n"
     ]
    },
    {
     "name": "stdout",
     "output_type": "stream",
     "text": [
      "epoch=8/20 of train, lr=[0.001990261293867187], valid loss=0.2763197726703116\n"
     ]
    },
    {
     "name": "stderr",
     "output_type": "stream",
     "text": [
      "100%|██████████████████████████████████████████████████████████████████████████████████████████████████████████████████████| 56/56 [00:08<00:00,  6.43it/s]\n"
     ]
    },
    {
     "name": "stdout",
     "output_type": "stream",
     "text": [
      "epoch=9/20 of train, lr=[0.0018907482291738277], valid loss=0.26026640539722784\n"
     ]
    },
    {
     "name": "stderr",
     "output_type": "stream",
     "text": [
      "100%|██████████████████████████████████████████████████████████████████████████████████████████████████████████████████████| 56/56 [00:09<00:00,  6.04it/s]\n"
     ]
    },
    {
     "name": "stdout",
     "output_type": "stream",
     "text": [
      "epoch=10/20 of train, lr=[0.0017962108177151362], valid loss=0.2519482122734189\n"
     ]
    },
    {
     "name": "stderr",
     "output_type": "stream",
     "text": [
      "100%|██████████████████████████████████████████████████████████████████████████████████████████████████████████████████████| 56/56 [00:09<00:00,  5.74it/s]\n"
     ]
    },
    {
     "name": "stdout",
     "output_type": "stream",
     "text": [
      "epoch=11/20 of train, lr=[0.0017064002768293794], valid loss=0.2786997546042715\n",
      "INFO: Early stopping counter 1 of 3\n"
     ]
    },
    {
     "name": "stderr",
     "output_type": "stream",
     "text": [
      "100%|██████████████████████████████████████████████████████████████████████████████████████████████████████████████████████| 56/56 [00:09<00:00,  6.14it/s]\n"
     ]
    },
    {
     "name": "stdout",
     "output_type": "stream",
     "text": [
      "epoch=12/20 of train, lr=[0.0016210802629879103], valid loss=0.2813001922996981\n",
      "INFO: Early stopping counter 2 of 3\n"
     ]
    },
    {
     "name": "stderr",
     "output_type": "stream",
     "text": [
      "100%|██████████████████████████████████████████████████████████████████████████████████████████████████████████████████████| 56/56 [00:09<00:00,  5.67it/s]\n"
     ]
    },
    {
     "name": "stdout",
     "output_type": "stream",
     "text": [
      "epoch=13/20 of train, lr=[0.0015400262498385148], valid loss=0.23484222324831144\n"
     ]
    },
    {
     "name": "stderr",
     "output_type": "stream",
     "text": [
      "100%|██████████████████████████████████████████████████████████████████████████████████████████████████████████████████████| 56/56 [00:11<00:00,  4.96it/s]\n"
     ]
    },
    {
     "name": "stdout",
     "output_type": "stream",
     "text": [
      "epoch=14/20 of train, lr=[0.001463024937346589], valid loss=0.2346043564113123\n"
     ]
    },
    {
     "name": "stderr",
     "output_type": "stream",
     "text": [
      "100%|██████████████████████████████████████████████████████████████████████████████████████████████████████████████████████| 56/56 [00:09<00:00,  5.88it/s]\n"
     ]
    },
    {
     "name": "stdout",
     "output_type": "stream",
     "text": [
      "epoch=15/20 of train, lr=[0.0013898736904792595], valid loss=0.22619502818478004\n"
     ]
    },
    {
     "name": "stderr",
     "output_type": "stream",
     "text": [
      "100%|██████████████████████████████████████████████████████████████████████████████████████████████████████████████████████| 56/56 [00:12<00:00,  4.32it/s]\n"
     ]
    },
    {
     "name": "stdout",
     "output_type": "stream",
     "text": [
      "epoch=16/20 of train, lr=[0.0013203800059552965], valid loss=0.23978041777653353\n",
      "INFO: Early stopping counter 1 of 3\n"
     ]
    },
    {
     "name": "stderr",
     "output_type": "stream",
     "text": [
      "100%|██████████████████████████████████████████████████████████████████████████████████████████████████████████████████████| 56/56 [00:11<00:00,  4.92it/s]\n"
     ]
    },
    {
     "name": "stdout",
     "output_type": "stream",
     "text": [
      "epoch=17/20 of train, lr=[0.0012543610056575316], valid loss=0.24392719620040484\n",
      "INFO: Early stopping counter 2 of 3\n"
     ]
    },
    {
     "name": "stderr",
     "output_type": "stream",
     "text": [
      "100%|██████████████████████████████████████████████████████████████████████████████████████████████████████████████████████| 56/56 [00:10<00:00,  5.17it/s]\n"
     ]
    },
    {
     "name": "stdout",
     "output_type": "stream",
     "text": [
      "epoch=18/20 of train, lr=[0.001191642955374655], valid loss=0.2300632388464042\n",
      "INFO: Early stopping counter 3 of 3\n",
      "INFO: Early stopping\n"
     ]
    },
    {
     "name": "stderr",
     "output_type": "stream",
     "text": [
      "100%|██████████████████████████████████████████████████████████████████████████████████████████████████████████████████████| 56/56 [00:10<00:00,  5.42it/s]\n"
     ]
    },
    {
     "name": "stdout",
     "output_type": "stream",
     "text": [
      "epoch=19/20 of train, lr=[0.001132060807605922], valid loss=0.22884798528892653\n",
      "INFO: Early stopping counter 4 of 3\n",
      "INFO: Early stopping\n"
     ]
    },
    {
     "name": "stderr",
     "output_type": "stream",
     "text": [
      "100%|██████████████████████████████████████████████████████████████████████████████████████████████████████████████████████| 56/56 [00:09<00:00,  6.15it/s]\n"
     ]
    },
    {
     "name": "stdout",
     "output_type": "stream",
     "text": [
      "epoch=20/20 of train, lr=[0.0010754577672256258], valid loss=0.22350695529686554\n",
      "r-squared =  0.7822891762109221\n",
      "pearsonr =  PearsonRResult(statistic=0.8844711279690944, pvalue=6.869314644259046e-297)\n"
     ]
    }
   ],
   "source": [
    "import sys\n",
    "sys.path.append(\"../../\")\n",
    "import tqdm\n",
    "from src.utils import EarlyStopping\n",
    "from scipy.stats import pearsonr\n",
    "\n",
    "df, seq_len, epochs = pd.read_csv(\"../../data/VEE_3UTR/VEE_3UTR.csv\"), 118, 20\n",
    "plasmid_gate, rna_gate = 20, 4\n",
    "# df, seq_len, epochs = pd.read_csv(\"../../data/VEE_3UTR/VEE_3UTR_merge.csv\"), 118, 12\n",
    "# plasmid_gate, rna_gate = 30, 5\n",
    "# df, seq_len, epochs = pd.read_csv(\"../../data/VEE_5UTR_0611/VEE-0611.csv\"), 44, 8\n",
    "# plasmid_gate, rna_gate = 30, 5\n",
    "df = df[(df[\"rna_counts\"] > rna_gate) & (df[\"plasmid_counts\"] > plasmid_gate)]\n",
    "e_train = df.sample(frac=0.80)\n",
    "e_test = df[~df.index.isin(e_train.index)]\n",
    "seq_e_train = one_hot_encode(e_train, seq_len=seq_len)\n",
    "seq_e_test = one_hot_encode(e_test, seq_len=seq_len)\n",
    "\n",
    "# Scale the training mean ribosome load values\n",
    "e_train.loc[:, 'scaled_rl'] = preprocessing.StandardScaler().fit_transform(\n",
    "        e_train.loc[:, 'score'].values.reshape(-1, 1))\n",
    "e_test.loc[:, 'scaled_rl'] = preprocessing.StandardScaler().fit_transform(\n",
    "    e_test.loc[:, 'score'].values.reshape(-1, 1))\n",
    "train_dt = VEE5UTRDataset(seq_e_train, e_train[\"scaled_rl\"])\n",
    "test_dt = VEE5UTRDataset(seq_e_test, e_test[\"scaled_rl\"])\n",
    "# batch_size, filters, kernel_size, lr, hidden_size = 128, 120, 8, 1e-3, 40 \n",
    "#3UTR \n",
    "batch_size, filters, kernel_size, lr, hidden_size = 64, 80, 12, 3e-3, 40 \n",
    "train_loader = DataLoader(train_dt, batch_size=batch_size)\n",
    "test_loader = DataLoader(test_dt, batch_size=batch_size)\n",
    "model = CNN(input_size=seq_len, filters=filters, kernel_size=kernel_size, hidden_size=hidden_size)\n",
    "optimizer = torch.optim.Adam(model.parameters(), lr=lr, betas=(0.9, 0.999), eps=1e-08)\n",
    "criterion = torch.nn.MSELoss()\n",
    "valid_epochs_loss = []\n",
    "lr_scheduler = torch.optim.lr_scheduler.ExponentialLR(optimizer=optimizer, gamma=0.95)\n",
    "# lr_scheduler = torch.optim.lr_scheduler.CosineAnnealingLR(optimizer=optimizer, T_max=epochs, eta_min=lr*0.01)\n",
    "early_stopping = EarlyStopping(patience=3)\n",
    "for epoch in range(epochs):\n",
    "    model.train()\n",
    "    valid_epoch_loss = []\n",
    "    for idx, (data_x, data_y) in tqdm.tqdm(enumerate(train_loader),total=len(train_loader)):\n",
    "        data_x = data_x.to(torch.float32)\n",
    "        data_y = data_y.to(torch.float32)\n",
    "        outputs = model(data_x)\n",
    "        optimizer.zero_grad()\n",
    "        loss = criterion(data_y, outputs)\n",
    "        loss.backward()\n",
    "        optimizer.step()\n",
    "    model.eval()\n",
    "    for idx, (data_x, data_y) in enumerate(test_loader):\n",
    "        data_x = data_x.to(torch.float32)\n",
    "        data_y = data_y.to(torch.float32)\n",
    "        outputs = model(data_x)\n",
    "        loss = criterion(data_y, outputs)\n",
    "        valid_epoch_loss.append(loss.item())\n",
    "    valid_loss = np.average(valid_epoch_loss)\n",
    "    valid_epochs_loss.append(valid_loss)\n",
    "    lr_scheduler.step()\n",
    "    print(\"epoch={}/{} of train, lr={}, valid loss={}\".format(epoch + 1, epochs, lr_scheduler.get_last_lr(),  valid_loss))\n",
    "    early_stopping(valid_loss)\n",
    "#     if early_stopping.early_stop:\n",
    "#         break\n",
    "    model.eval()\n",
    "e_test = evaluate(e_test, model, seq_e_test, 'score', output_col='pred')\n",
    "r = r2(e_test['score'], e_test['pred'])\n",
    "print('r-squared = ', r)\n",
    "\n",
    "r = pearsonr(e_test['pred'], e_test['score'])\n",
    "print('pearsonr = ', r)\n"
   ]
  },
  {
   "cell_type": "code",
   "execution_count": 15,
   "id": "8bc89563",
   "metadata": {},
   "outputs": [
    {
     "data": {
      "image/png": "[encoded data removed]",
      "text/plain": [
       "<Figure size 600x600 with 3 Axes>"
      ]
     },
     "metadata": {},
     "output_type": "display_data"
    }
   ],
   "source": [
    "import matplotlib.pyplot as plt\n",
    "import seaborn as sns\n",
    "%matplotlib inline\n",
    "atg = e_test[e_test['seq'].apply(lambda x: 'ATG' in x)]\n",
    "n_atg = e_test[e_test['seq'].apply(lambda x: 'ATG' not in x)]\n",
    "c1 = (0.3, 0.45, 0.69)\n",
    "c2 = 'r'\n",
    "g = sns.JointGrid(x='score', y=\"pred\", data=atg, space=0, ratio=6)\n",
    "g.plot_joint(plt.scatter,color=c1, linewidth=0.2, alpha=0.1, edgecolor='white')\n",
    "f = g.fig\n",
    "ax = f.gca()\n",
    "ax.set_yticks(np.arange(-5,5.01, 1));\n",
    "# ax.set_yticklabels(range(-5,5),size=10);\n",
    "ax.set_xticks(np.arange(-5,5.01, 1));\n",
    "# ax.set_xticklabels(range(1,5),size=10);\n",
    "ax.set_ylim(-5,5)\n",
    "ax.set_xlim(-5,5)\n",
    "g.plot_marginals(sns.kdeplot,shade=c1, **{'linewidth':2, 'color':c1})\n",
    "g.set_axis_labels('Observed 3UTR', 'Predicted 3UTR', **{'size':22});\n",
    "\n",
    "g.x = n_atg['score'].values\n",
    "g.y = n_atg['pred'].values\n",
    "g.plot_joint(plt.scatter, s=20, linewidth=0.2, alpha=0.2, color=c2, edgecolor='white')\n",
    "g.plot_marginals(sns.kdeplot, shade=c2, **{'linewidth':2, 'color':c2})\n",
    "f = g.fig"
   ]
  },
  {
   "cell_type": "code",
   "execution_count": null,
   "id": "834372b7",
   "metadata": {},
   "outputs": [],
   "source": []
  }
 ],
 "metadata": {
  "kernelspec": {
   "display_name": "Python 3 (ipykernel)",
   "language": "python",
   "name": "python3"
  },
  "language_info": {
   "codemirror_mode": {
    "name": "ipython",
    "version": 3
   },
   "file_extension": ".py",
   "mimetype": "text/x-python",
   "name": "python",
   "nbconvert_exporter": "python",
   "pygments_lexer": "ipython3",
   "version": "3.11.5"
  }
 },
 "nbformat": 4,
 "nbformat_minor": 5
}
